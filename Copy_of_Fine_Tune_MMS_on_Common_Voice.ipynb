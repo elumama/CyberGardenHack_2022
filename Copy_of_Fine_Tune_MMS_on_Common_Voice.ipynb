{
  "nbformat": 4,
  "nbformat_minor": 0,
  "metadata": {
    "accelerator": "GPU",
    "colab": {
      "provenance": [],
      "machine_shape": "hm",
      "gpuType": "A100",
      "include_colab_link": true
    },
    "kernelspec": {
      "display_name": "Python 3",
      "name": "python3"
    },
    "widgets": {
      "application/vnd.jupyter.widget-state+json": {
        "dc1fcf154e644222bbb1f2868d08272c": {
          "model_module": "@jupyter-widgets/controls",
          "model_name": "VBoxModel",
          "model_module_version": "1.5.0",
          "state": {
            "_dom_classes": [],
            "_model_module": "@jupyter-widgets/controls",
            "_model_module_version": "1.5.0",
            "_model_name": "VBoxModel",
            "_view_count": null,
            "_view_module": "@jupyter-widgets/controls",
            "_view_module_version": "1.5.0",
            "_view_name": "VBoxView",
            "box_style": "",
            "children": [
              "IPY_MODEL_86f3a81ec04747f6af24e22cd94c525c",
              "IPY_MODEL_80bc662cbd1548e6ab60d581d66d2ce3",
              "IPY_MODEL_75a0a961aba74754b5826e7d3659fa74",
              "IPY_MODEL_972a4b32a2ea4d6e82c10eaf8ad96c6e",
              "IPY_MODEL_ffceedd4d73f4ab1bcb8d0a07fcd55f5"
            ],
            "layout": "IPY_MODEL_7a736546b5f647e69734209de14c12f3"
          }
        },
        "86f3a81ec04747f6af24e22cd94c525c": {
          "model_module": "@jupyter-widgets/controls",
          "model_name": "HTMLModel",
          "model_module_version": "1.5.0",
          "state": {
            "_dom_classes": [],
            "_model_module": "@jupyter-widgets/controls",
            "_model_module_version": "1.5.0",
            "_model_name": "HTMLModel",
            "_view_count": null,
            "_view_module": "@jupyter-widgets/controls",
            "_view_module_version": "1.5.0",
            "_view_name": "HTMLView",
            "description": "",
            "description_tooltip": null,
            "layout": "IPY_MODEL_00f1f3e91d4047d5becbac73949d7b11",
            "placeholder": "​",
            "style": "IPY_MODEL_d91e490b4de24f1c9d613eec0595b475",
            "value": "<center> <img\nsrc=https://huggingface.co/front/assets/huggingface_logo-noborder.svg\nalt='Hugging Face'> <br> Copy a token from <a\nhref=\"https://huggingface.co/settings/tokens\" target=\"_blank\">your Hugging Face\ntokens page</a> and paste it below. <br> Immediately click login after copying\nyour token or it might be stored in plain text in this notebook file. </center>"
          }
        },
        "80bc662cbd1548e6ab60d581d66d2ce3": {
          "model_module": "@jupyter-widgets/controls",
          "model_name": "PasswordModel",
          "model_module_version": "1.5.0",
          "state": {
            "_dom_classes": [],
            "_model_module": "@jupyter-widgets/controls",
            "_model_module_version": "1.5.0",
            "_model_name": "PasswordModel",
            "_view_count": null,
            "_view_module": "@jupyter-widgets/controls",
            "_view_module_version": "1.5.0",
            "_view_name": "PasswordView",
            "continuous_update": true,
            "description": "Token:",
            "description_tooltip": null,
            "disabled": false,
            "layout": "IPY_MODEL_baafc9e12fe84b7297585eddc790de0b",
            "placeholder": "​",
            "style": "IPY_MODEL_448560e481c74e838ae0e03ea2e44bfa",
            "value": ""
          }
        },
        "75a0a961aba74754b5826e7d3659fa74": {
          "model_module": "@jupyter-widgets/controls",
          "model_name": "CheckboxModel",
          "model_module_version": "1.5.0",
          "state": {
            "_dom_classes": [],
            "_model_module": "@jupyter-widgets/controls",
            "_model_module_version": "1.5.0",
            "_model_name": "CheckboxModel",
            "_view_count": null,
            "_view_module": "@jupyter-widgets/controls",
            "_view_module_version": "1.5.0",
            "_view_name": "CheckboxView",
            "description": "Add token as git credential?",
            "description_tooltip": null,
            "disabled": false,
            "indent": true,
            "layout": "IPY_MODEL_99d297a8de2342209757bc2f9efd67f0",
            "style": "IPY_MODEL_d4e7e0a2985f40b5955471511bff6cd9",
            "value": true
          }
        },
        "972a4b32a2ea4d6e82c10eaf8ad96c6e": {
          "model_module": "@jupyter-widgets/controls",
          "model_name": "ButtonModel",
          "model_module_version": "1.5.0",
          "state": {
            "_dom_classes": [],
            "_model_module": "@jupyter-widgets/controls",
            "_model_module_version": "1.5.0",
            "_model_name": "ButtonModel",
            "_view_count": null,
            "_view_module": "@jupyter-widgets/controls",
            "_view_module_version": "1.5.0",
            "_view_name": "ButtonView",
            "button_style": "",
            "description": "Login",
            "disabled": false,
            "icon": "",
            "layout": "IPY_MODEL_a9381691740c436fa9ed0c5cae8ce3ab",
            "style": "IPY_MODEL_742e31402fa145e7888a89bbc558e6c6",
            "tooltip": ""
          }
        },
        "ffceedd4d73f4ab1bcb8d0a07fcd55f5": {
          "model_module": "@jupyter-widgets/controls",
          "model_name": "HTMLModel",
          "model_module_version": "1.5.0",
          "state": {
            "_dom_classes": [],
            "_model_module": "@jupyter-widgets/controls",
            "_model_module_version": "1.5.0",
            "_model_name": "HTMLModel",
            "_view_count": null,
            "_view_module": "@jupyter-widgets/controls",
            "_view_module_version": "1.5.0",
            "_view_name": "HTMLView",
            "description": "",
            "description_tooltip": null,
            "layout": "IPY_MODEL_d290d079190d4ef39a0c22537f7b7d98",
            "placeholder": "​",
            "style": "IPY_MODEL_4465ddd01211409087923a8431d00529",
            "value": "\n<b>Pro Tip:</b> If you don't already have one, you can create a dedicated\n'notebooks' token with 'write' access, that you can then easily reuse for all\nnotebooks. </center>"
          }
        },
        "7a736546b5f647e69734209de14c12f3": {
          "model_module": "@jupyter-widgets/base",
          "model_name": "LayoutModel",
          "model_module_version": "1.2.0",
          "state": {
            "_model_module": "@jupyter-widgets/base",
            "_model_module_version": "1.2.0",
            "_model_name": "LayoutModel",
            "_view_count": null,
            "_view_module": "@jupyter-widgets/base",
            "_view_module_version": "1.2.0",
            "_view_name": "LayoutView",
            "align_content": null,
            "align_items": "center",
            "align_self": null,
            "border": null,
            "bottom": null,
            "display": "flex",
            "flex": null,
            "flex_flow": "column",
            "grid_area": null,
            "grid_auto_columns": null,
            "grid_auto_flow": null,
            "grid_auto_rows": null,
            "grid_column": null,
            "grid_gap": null,
            "grid_row": null,
            "grid_template_areas": null,
            "grid_template_columns": null,
            "grid_template_rows": null,
            "height": null,
            "justify_content": null,
            "justify_items": null,
            "left": null,
            "margin": null,
            "max_height": null,
            "max_width": null,
            "min_height": null,
            "min_width": null,
            "object_fit": null,
            "object_position": null,
            "order": null,
            "overflow": null,
            "overflow_x": null,
            "overflow_y": null,
            "padding": null,
            "right": null,
            "top": null,
            "visibility": null,
            "width": "50%"
          }
        },
        "00f1f3e91d4047d5becbac73949d7b11": {
          "model_module": "@jupyter-widgets/base",
          "model_name": "LayoutModel",
          "model_module_version": "1.2.0",
          "state": {
            "_model_module": "@jupyter-widgets/base",
            "_model_module_version": "1.2.0",
            "_model_name": "LayoutModel",
            "_view_count": null,
            "_view_module": "@jupyter-widgets/base",
            "_view_module_version": "1.2.0",
            "_view_name": "LayoutView",
            "align_content": null,
            "align_items": null,
            "align_self": null,
            "border": null,
            "bottom": null,
            "display": null,
            "flex": null,
            "flex_flow": null,
            "grid_area": null,
            "grid_auto_columns": null,
            "grid_auto_flow": null,
            "grid_auto_rows": null,
            "grid_column": null,
            "grid_gap": null,
            "grid_row": null,
            "grid_template_areas": null,
            "grid_template_columns": null,
            "grid_template_rows": null,
            "height": null,
            "justify_content": null,
            "justify_items": null,
            "left": null,
            "margin": null,
            "max_height": null,
            "max_width": null,
            "min_height": null,
            "min_width": null,
            "object_fit": null,
            "object_position": null,
            "order": null,
            "overflow": null,
            "overflow_x": null,
            "overflow_y": null,
            "padding": null,
            "right": null,
            "top": null,
            "visibility": null,
            "width": null
          }
        },
        "d91e490b4de24f1c9d613eec0595b475": {
          "model_module": "@jupyter-widgets/controls",
          "model_name": "DescriptionStyleModel",
          "model_module_version": "1.5.0",
          "state": {
            "_model_module": "@jupyter-widgets/controls",
            "_model_module_version": "1.5.0",
            "_model_name": "DescriptionStyleModel",
            "_view_count": null,
            "_view_module": "@jupyter-widgets/base",
            "_view_module_version": "1.2.0",
            "_view_name": "StyleView",
            "description_width": ""
          }
        },
        "baafc9e12fe84b7297585eddc790de0b": {
          "model_module": "@jupyter-widgets/base",
          "model_name": "LayoutModel",
          "model_module_version": "1.2.0",
          "state": {
            "_model_module": "@jupyter-widgets/base",
            "_model_module_version": "1.2.0",
            "_model_name": "LayoutModel",
            "_view_count": null,
            "_view_module": "@jupyter-widgets/base",
            "_view_module_version": "1.2.0",
            "_view_name": "LayoutView",
            "align_content": null,
            "align_items": null,
            "align_self": null,
            "border": null,
            "bottom": null,
            "display": null,
            "flex": null,
            "flex_flow": null,
            "grid_area": null,
            "grid_auto_columns": null,
            "grid_auto_flow": null,
            "grid_auto_rows": null,
            "grid_column": null,
            "grid_gap": null,
            "grid_row": null,
            "grid_template_areas": null,
            "grid_template_columns": null,
            "grid_template_rows": null,
            "height": null,
            "justify_content": null,
            "justify_items": null,
            "left": null,
            "margin": null,
            "max_height": null,
            "max_width": null,
            "min_height": null,
            "min_width": null,
            "object_fit": null,
            "object_position": null,
            "order": null,
            "overflow": null,
            "overflow_x": null,
            "overflow_y": null,
            "padding": null,
            "right": null,
            "top": null,
            "visibility": null,
            "width": null
          }
        },
        "448560e481c74e838ae0e03ea2e44bfa": {
          "model_module": "@jupyter-widgets/controls",
          "model_name": "DescriptionStyleModel",
          "model_module_version": "1.5.0",
          "state": {
            "_model_module": "@jupyter-widgets/controls",
            "_model_module_version": "1.5.0",
            "_model_name": "DescriptionStyleModel",
            "_view_count": null,
            "_view_module": "@jupyter-widgets/base",
            "_view_module_version": "1.2.0",
            "_view_name": "StyleView",
            "description_width": ""
          }
        },
        "99d297a8de2342209757bc2f9efd67f0": {
          "model_module": "@jupyter-widgets/base",
          "model_name": "LayoutModel",
          "model_module_version": "1.2.0",
          "state": {
            "_model_module": "@jupyter-widgets/base",
            "_model_module_version": "1.2.0",
            "_model_name": "LayoutModel",
            "_view_count": null,
            "_view_module": "@jupyter-widgets/base",
            "_view_module_version": "1.2.0",
            "_view_name": "LayoutView",
            "align_content": null,
            "align_items": null,
            "align_self": null,
            "border": null,
            "bottom": null,
            "display": null,
            "flex": null,
            "flex_flow": null,
            "grid_area": null,
            "grid_auto_columns": null,
            "grid_auto_flow": null,
            "grid_auto_rows": null,
            "grid_column": null,
            "grid_gap": null,
            "grid_row": null,
            "grid_template_areas": null,
            "grid_template_columns": null,
            "grid_template_rows": null,
            "height": null,
            "justify_content": null,
            "justify_items": null,
            "left": null,
            "margin": null,
            "max_height": null,
            "max_width": null,
            "min_height": null,
            "min_width": null,
            "object_fit": null,
            "object_position": null,
            "order": null,
            "overflow": null,
            "overflow_x": null,
            "overflow_y": null,
            "padding": null,
            "right": null,
            "top": null,
            "visibility": null,
            "width": null
          }
        },
        "d4e7e0a2985f40b5955471511bff6cd9": {
          "model_module": "@jupyter-widgets/controls",
          "model_name": "DescriptionStyleModel",
          "model_module_version": "1.5.0",
          "state": {
            "_model_module": "@jupyter-widgets/controls",
            "_model_module_version": "1.5.0",
            "_model_name": "DescriptionStyleModel",
            "_view_count": null,
            "_view_module": "@jupyter-widgets/base",
            "_view_module_version": "1.2.0",
            "_view_name": "StyleView",
            "description_width": ""
          }
        },
        "a9381691740c436fa9ed0c5cae8ce3ab": {
          "model_module": "@jupyter-widgets/base",
          "model_name": "LayoutModel",
          "model_module_version": "1.2.0",
          "state": {
            "_model_module": "@jupyter-widgets/base",
            "_model_module_version": "1.2.0",
            "_model_name": "LayoutModel",
            "_view_count": null,
            "_view_module": "@jupyter-widgets/base",
            "_view_module_version": "1.2.0",
            "_view_name": "LayoutView",
            "align_content": null,
            "align_items": null,
            "align_self": null,
            "border": null,
            "bottom": null,
            "display": null,
            "flex": null,
            "flex_flow": null,
            "grid_area": null,
            "grid_auto_columns": null,
            "grid_auto_flow": null,
            "grid_auto_rows": null,
            "grid_column": null,
            "grid_gap": null,
            "grid_row": null,
            "grid_template_areas": null,
            "grid_template_columns": null,
            "grid_template_rows": null,
            "height": null,
            "justify_content": null,
            "justify_items": null,
            "left": null,
            "margin": null,
            "max_height": null,
            "max_width": null,
            "min_height": null,
            "min_width": null,
            "object_fit": null,
            "object_position": null,
            "order": null,
            "overflow": null,
            "overflow_x": null,
            "overflow_y": null,
            "padding": null,
            "right": null,
            "top": null,
            "visibility": null,
            "width": null
          }
        },
        "742e31402fa145e7888a89bbc558e6c6": {
          "model_module": "@jupyter-widgets/controls",
          "model_name": "ButtonStyleModel",
          "model_module_version": "1.5.0",
          "state": {
            "_model_module": "@jupyter-widgets/controls",
            "_model_module_version": "1.5.0",
            "_model_name": "ButtonStyleModel",
            "_view_count": null,
            "_view_module": "@jupyter-widgets/base",
            "_view_module_version": "1.2.0",
            "_view_name": "StyleView",
            "button_color": null,
            "font_weight": ""
          }
        },
        "d290d079190d4ef39a0c22537f7b7d98": {
          "model_module": "@jupyter-widgets/base",
          "model_name": "LayoutModel",
          "model_module_version": "1.2.0",
          "state": {
            "_model_module": "@jupyter-widgets/base",
            "_model_module_version": "1.2.0",
            "_model_name": "LayoutModel",
            "_view_count": null,
            "_view_module": "@jupyter-widgets/base",
            "_view_module_version": "1.2.0",
            "_view_name": "LayoutView",
            "align_content": null,
            "align_items": null,
            "align_self": null,
            "border": null,
            "bottom": null,
            "display": null,
            "flex": null,
            "flex_flow": null,
            "grid_area": null,
            "grid_auto_columns": null,
            "grid_auto_flow": null,
            "grid_auto_rows": null,
            "grid_column": null,
            "grid_gap": null,
            "grid_row": null,
            "grid_template_areas": null,
            "grid_template_columns": null,
            "grid_template_rows": null,
            "height": null,
            "justify_content": null,
            "justify_items": null,
            "left": null,
            "margin": null,
            "max_height": null,
            "max_width": null,
            "min_height": null,
            "min_width": null,
            "object_fit": null,
            "object_position": null,
            "order": null,
            "overflow": null,
            "overflow_x": null,
            "overflow_y": null,
            "padding": null,
            "right": null,
            "top": null,
            "visibility": null,
            "width": null
          }
        },
        "4465ddd01211409087923a8431d00529": {
          "model_module": "@jupyter-widgets/controls",
          "model_name": "DescriptionStyleModel",
          "model_module_version": "1.5.0",
          "state": {
            "_model_module": "@jupyter-widgets/controls",
            "_model_module_version": "1.5.0",
            "_model_name": "DescriptionStyleModel",
            "_view_count": null,
            "_view_module": "@jupyter-widgets/base",
            "_view_module_version": "1.2.0",
            "_view_name": "StyleView",
            "description_width": ""
          }
        },
        "f2437e254bc54bdba99398e39270b585": {
          "model_module": "@jupyter-widgets/controls",
          "model_name": "HBoxModel",
          "model_module_version": "1.5.0",
          "state": {
            "_dom_classes": [],
            "_model_module": "@jupyter-widgets/controls",
            "_model_module_version": "1.5.0",
            "_model_name": "HBoxModel",
            "_view_count": null,
            "_view_module": "@jupyter-widgets/controls",
            "_view_module_version": "1.5.0",
            "_view_name": "HBoxView",
            "box_style": "",
            "children": [
              "IPY_MODEL_490f1214fa9f4b0fb2c64beef8d06873",
              "IPY_MODEL_2057b17679074e6d8a323793d541f19b",
              "IPY_MODEL_694d682671614dcc9512eacd16545a88"
            ],
            "layout": "IPY_MODEL_bf66c808457a4d7e94f8aedfa6f34419"
          }
        },
        "490f1214fa9f4b0fb2c64beef8d06873": {
          "model_module": "@jupyter-widgets/controls",
          "model_name": "HTMLModel",
          "model_module_version": "1.5.0",
          "state": {
            "_dom_classes": [],
            "_model_module": "@jupyter-widgets/controls",
            "_model_module_version": "1.5.0",
            "_model_name": "HTMLModel",
            "_view_count": null,
            "_view_module": "@jupyter-widgets/controls",
            "_view_module_version": "1.5.0",
            "_view_name": "HTMLView",
            "description": "",
            "description_tooltip": null,
            "layout": "IPY_MODEL_d5a55e695a5145b4a3505641185da31f",
            "placeholder": "​",
            "style": "IPY_MODEL_238154bf4ce344f99c4c725f6246021e",
            "value": "Map:   0%"
          }
        },
        "2057b17679074e6d8a323793d541f19b": {
          "model_module": "@jupyter-widgets/controls",
          "model_name": "FloatProgressModel",
          "model_module_version": "1.5.0",
          "state": {
            "_dom_classes": [],
            "_model_module": "@jupyter-widgets/controls",
            "_model_module_version": "1.5.0",
            "_model_name": "FloatProgressModel",
            "_view_count": null,
            "_view_module": "@jupyter-widgets/controls",
            "_view_module_version": "1.5.0",
            "_view_name": "ProgressView",
            "bar_style": "",
            "description": "",
            "description_tooltip": null,
            "layout": "IPY_MODEL_5929a62f57f44d569df7cfc4f4cf336f",
            "max": 3478,
            "min": 0,
            "orientation": "horizontal",
            "style": "IPY_MODEL_129aed3d7c7145a68522c8fac05e7642",
            "value": 3478
          }
        },
        "694d682671614dcc9512eacd16545a88": {
          "model_module": "@jupyter-widgets/controls",
          "model_name": "HTMLModel",
          "model_module_version": "1.5.0",
          "state": {
            "_dom_classes": [],
            "_model_module": "@jupyter-widgets/controls",
            "_model_module_version": "1.5.0",
            "_model_name": "HTMLModel",
            "_view_count": null,
            "_view_module": "@jupyter-widgets/controls",
            "_view_module_version": "1.5.0",
            "_view_name": "HTMLView",
            "description": "",
            "description_tooltip": null,
            "layout": "IPY_MODEL_c1041b33745148e2be6876182006e7a9",
            "placeholder": "​",
            "style": "IPY_MODEL_1cec89b123cf45dd95734b1789e807f3",
            "value": " 0/3478 [00:00&lt;?, ? examples/s]"
          }
        },
        "bf66c808457a4d7e94f8aedfa6f34419": {
          "model_module": "@jupyter-widgets/base",
          "model_name": "LayoutModel",
          "model_module_version": "1.2.0",
          "state": {
            "_model_module": "@jupyter-widgets/base",
            "_model_module_version": "1.2.0",
            "_model_name": "LayoutModel",
            "_view_count": null,
            "_view_module": "@jupyter-widgets/base",
            "_view_module_version": "1.2.0",
            "_view_name": "LayoutView",
            "align_content": null,
            "align_items": null,
            "align_self": null,
            "border": null,
            "bottom": null,
            "display": null,
            "flex": null,
            "flex_flow": null,
            "grid_area": null,
            "grid_auto_columns": null,
            "grid_auto_flow": null,
            "grid_auto_rows": null,
            "grid_column": null,
            "grid_gap": null,
            "grid_row": null,
            "grid_template_areas": null,
            "grid_template_columns": null,
            "grid_template_rows": null,
            "height": null,
            "justify_content": null,
            "justify_items": null,
            "left": null,
            "margin": null,
            "max_height": null,
            "max_width": null,
            "min_height": null,
            "min_width": null,
            "object_fit": null,
            "object_position": null,
            "order": null,
            "overflow": null,
            "overflow_x": null,
            "overflow_y": null,
            "padding": null,
            "right": null,
            "top": null,
            "visibility": "hidden",
            "width": null
          }
        },
        "d5a55e695a5145b4a3505641185da31f": {
          "model_module": "@jupyter-widgets/base",
          "model_name": "LayoutModel",
          "model_module_version": "1.2.0",
          "state": {
            "_model_module": "@jupyter-widgets/base",
            "_model_module_version": "1.2.0",
            "_model_name": "LayoutModel",
            "_view_count": null,
            "_view_module": "@jupyter-widgets/base",
            "_view_module_version": "1.2.0",
            "_view_name": "LayoutView",
            "align_content": null,
            "align_items": null,
            "align_self": null,
            "border": null,
            "bottom": null,
            "display": null,
            "flex": null,
            "flex_flow": null,
            "grid_area": null,
            "grid_auto_columns": null,
            "grid_auto_flow": null,
            "grid_auto_rows": null,
            "grid_column": null,
            "grid_gap": null,
            "grid_row": null,
            "grid_template_areas": null,
            "grid_template_columns": null,
            "grid_template_rows": null,
            "height": null,
            "justify_content": null,
            "justify_items": null,
            "left": null,
            "margin": null,
            "max_height": null,
            "max_width": null,
            "min_height": null,
            "min_width": null,
            "object_fit": null,
            "object_position": null,
            "order": null,
            "overflow": null,
            "overflow_x": null,
            "overflow_y": null,
            "padding": null,
            "right": null,
            "top": null,
            "visibility": null,
            "width": null
          }
        },
        "238154bf4ce344f99c4c725f6246021e": {
          "model_module": "@jupyter-widgets/controls",
          "model_name": "DescriptionStyleModel",
          "model_module_version": "1.5.0",
          "state": {
            "_model_module": "@jupyter-widgets/controls",
            "_model_module_version": "1.5.0",
            "_model_name": "DescriptionStyleModel",
            "_view_count": null,
            "_view_module": "@jupyter-widgets/base",
            "_view_module_version": "1.2.0",
            "_view_name": "StyleView",
            "description_width": ""
          }
        },
        "5929a62f57f44d569df7cfc4f4cf336f": {
          "model_module": "@jupyter-widgets/base",
          "model_name": "LayoutModel",
          "model_module_version": "1.2.0",
          "state": {
            "_model_module": "@jupyter-widgets/base",
            "_model_module_version": "1.2.0",
            "_model_name": "LayoutModel",
            "_view_count": null,
            "_view_module": "@jupyter-widgets/base",
            "_view_module_version": "1.2.0",
            "_view_name": "LayoutView",
            "align_content": null,
            "align_items": null,
            "align_self": null,
            "border": null,
            "bottom": null,
            "display": null,
            "flex": null,
            "flex_flow": null,
            "grid_area": null,
            "grid_auto_columns": null,
            "grid_auto_flow": null,
            "grid_auto_rows": null,
            "grid_column": null,
            "grid_gap": null,
            "grid_row": null,
            "grid_template_areas": null,
            "grid_template_columns": null,
            "grid_template_rows": null,
            "height": null,
            "justify_content": null,
            "justify_items": null,
            "left": null,
            "margin": null,
            "max_height": null,
            "max_width": null,
            "min_height": null,
            "min_width": null,
            "object_fit": null,
            "object_position": null,
            "order": null,
            "overflow": null,
            "overflow_x": null,
            "overflow_y": null,
            "padding": null,
            "right": null,
            "top": null,
            "visibility": null,
            "width": null
          }
        },
        "129aed3d7c7145a68522c8fac05e7642": {
          "model_module": "@jupyter-widgets/controls",
          "model_name": "ProgressStyleModel",
          "model_module_version": "1.5.0",
          "state": {
            "_model_module": "@jupyter-widgets/controls",
            "_model_module_version": "1.5.0",
            "_model_name": "ProgressStyleModel",
            "_view_count": null,
            "_view_module": "@jupyter-widgets/base",
            "_view_module_version": "1.2.0",
            "_view_name": "StyleView",
            "bar_color": null,
            "description_width": ""
          }
        },
        "c1041b33745148e2be6876182006e7a9": {
          "model_module": "@jupyter-widgets/base",
          "model_name": "LayoutModel",
          "model_module_version": "1.2.0",
          "state": {
            "_model_module": "@jupyter-widgets/base",
            "_model_module_version": "1.2.0",
            "_model_name": "LayoutModel",
            "_view_count": null,
            "_view_module": "@jupyter-widgets/base",
            "_view_module_version": "1.2.0",
            "_view_name": "LayoutView",
            "align_content": null,
            "align_items": null,
            "align_self": null,
            "border": null,
            "bottom": null,
            "display": null,
            "flex": null,
            "flex_flow": null,
            "grid_area": null,
            "grid_auto_columns": null,
            "grid_auto_flow": null,
            "grid_auto_rows": null,
            "grid_column": null,
            "grid_gap": null,
            "grid_row": null,
            "grid_template_areas": null,
            "grid_template_columns": null,
            "grid_template_rows": null,
            "height": null,
            "justify_content": null,
            "justify_items": null,
            "left": null,
            "margin": null,
            "max_height": null,
            "max_width": null,
            "min_height": null,
            "min_width": null,
            "object_fit": null,
            "object_position": null,
            "order": null,
            "overflow": null,
            "overflow_x": null,
            "overflow_y": null,
            "padding": null,
            "right": null,
            "top": null,
            "visibility": null,
            "width": null
          }
        },
        "1cec89b123cf45dd95734b1789e807f3": {
          "model_module": "@jupyter-widgets/controls",
          "model_name": "DescriptionStyleModel",
          "model_module_version": "1.5.0",
          "state": {
            "_model_module": "@jupyter-widgets/controls",
            "_model_module_version": "1.5.0",
            "_model_name": "DescriptionStyleModel",
            "_view_count": null,
            "_view_module": "@jupyter-widgets/base",
            "_view_module_version": "1.2.0",
            "_view_name": "StyleView",
            "description_width": ""
          }
        },
        "62a74ea78b6f439f964ee1da7385b8c1": {
          "model_module": "@jupyter-widgets/controls",
          "model_name": "HBoxModel",
          "model_module_version": "1.5.0",
          "state": {
            "_dom_classes": [],
            "_model_module": "@jupyter-widgets/controls",
            "_model_module_version": "1.5.0",
            "_model_name": "HBoxModel",
            "_view_count": null,
            "_view_module": "@jupyter-widgets/controls",
            "_view_module_version": "1.5.0",
            "_view_name": "HBoxView",
            "box_style": "",
            "children": [
              "IPY_MODEL_69022d62f63e411d97495c3661c35a97",
              "IPY_MODEL_449a942ee2564cbc812919c110bde334",
              "IPY_MODEL_942bd2ec5de84e868741f063496370a3"
            ],
            "layout": "IPY_MODEL_afd123eb1bee4bbca7f8fd1501d16319"
          }
        },
        "69022d62f63e411d97495c3661c35a97": {
          "model_module": "@jupyter-widgets/controls",
          "model_name": "HTMLModel",
          "model_module_version": "1.5.0",
          "state": {
            "_dom_classes": [],
            "_model_module": "@jupyter-widgets/controls",
            "_model_module_version": "1.5.0",
            "_model_name": "HTMLModel",
            "_view_count": null,
            "_view_module": "@jupyter-widgets/controls",
            "_view_module_version": "1.5.0",
            "_view_name": "HTMLView",
            "description": "",
            "description_tooltip": null,
            "layout": "IPY_MODEL_660548079daf41e69a18a68652b7bec2",
            "placeholder": "​",
            "style": "IPY_MODEL_af6e3179d038470784b39c52d943665e",
            "value": "Map:   0%"
          }
        },
        "449a942ee2564cbc812919c110bde334": {
          "model_module": "@jupyter-widgets/controls",
          "model_name": "FloatProgressModel",
          "model_module_version": "1.5.0",
          "state": {
            "_dom_classes": [],
            "_model_module": "@jupyter-widgets/controls",
            "_model_module_version": "1.5.0",
            "_model_name": "FloatProgressModel",
            "_view_count": null,
            "_view_module": "@jupyter-widgets/controls",
            "_view_module_version": "1.5.0",
            "_view_name": "ProgressView",
            "bar_style": "",
            "description": "",
            "description_tooltip": null,
            "layout": "IPY_MODEL_f84bab301eb44087817728ff5c4d4935",
            "max": 1647,
            "min": 0,
            "orientation": "horizontal",
            "style": "IPY_MODEL_cdb3e901611c4c559f56cb1845db4a01",
            "value": 1647
          }
        },
        "942bd2ec5de84e868741f063496370a3": {
          "model_module": "@jupyter-widgets/controls",
          "model_name": "HTMLModel",
          "model_module_version": "1.5.0",
          "state": {
            "_dom_classes": [],
            "_model_module": "@jupyter-widgets/controls",
            "_model_module_version": "1.5.0",
            "_model_name": "HTMLModel",
            "_view_count": null,
            "_view_module": "@jupyter-widgets/controls",
            "_view_module_version": "1.5.0",
            "_view_name": "HTMLView",
            "description": "",
            "description_tooltip": null,
            "layout": "IPY_MODEL_397079cb4e7f453b9cd0ed6a036cfc68",
            "placeholder": "​",
            "style": "IPY_MODEL_5b5c663ada5e42a6a1a4238a4c996a89",
            "value": " 0/1647 [00:00&lt;?, ? examples/s]"
          }
        },
        "afd123eb1bee4bbca7f8fd1501d16319": {
          "model_module": "@jupyter-widgets/base",
          "model_name": "LayoutModel",
          "model_module_version": "1.2.0",
          "state": {
            "_model_module": "@jupyter-widgets/base",
            "_model_module_version": "1.2.0",
            "_model_name": "LayoutModel",
            "_view_count": null,
            "_view_module": "@jupyter-widgets/base",
            "_view_module_version": "1.2.0",
            "_view_name": "LayoutView",
            "align_content": null,
            "align_items": null,
            "align_self": null,
            "border": null,
            "bottom": null,
            "display": null,
            "flex": null,
            "flex_flow": null,
            "grid_area": null,
            "grid_auto_columns": null,
            "grid_auto_flow": null,
            "grid_auto_rows": null,
            "grid_column": null,
            "grid_gap": null,
            "grid_row": null,
            "grid_template_areas": null,
            "grid_template_columns": null,
            "grid_template_rows": null,
            "height": null,
            "justify_content": null,
            "justify_items": null,
            "left": null,
            "margin": null,
            "max_height": null,
            "max_width": null,
            "min_height": null,
            "min_width": null,
            "object_fit": null,
            "object_position": null,
            "order": null,
            "overflow": null,
            "overflow_x": null,
            "overflow_y": null,
            "padding": null,
            "right": null,
            "top": null,
            "visibility": "hidden",
            "width": null
          }
        },
        "660548079daf41e69a18a68652b7bec2": {
          "model_module": "@jupyter-widgets/base",
          "model_name": "LayoutModel",
          "model_module_version": "1.2.0",
          "state": {
            "_model_module": "@jupyter-widgets/base",
            "_model_module_version": "1.2.0",
            "_model_name": "LayoutModel",
            "_view_count": null,
            "_view_module": "@jupyter-widgets/base",
            "_view_module_version": "1.2.0",
            "_view_name": "LayoutView",
            "align_content": null,
            "align_items": null,
            "align_self": null,
            "border": null,
            "bottom": null,
            "display": null,
            "flex": null,
            "flex_flow": null,
            "grid_area": null,
            "grid_auto_columns": null,
            "grid_auto_flow": null,
            "grid_auto_rows": null,
            "grid_column": null,
            "grid_gap": null,
            "grid_row": null,
            "grid_template_areas": null,
            "grid_template_columns": null,
            "grid_template_rows": null,
            "height": null,
            "justify_content": null,
            "justify_items": null,
            "left": null,
            "margin": null,
            "max_height": null,
            "max_width": null,
            "min_height": null,
            "min_width": null,
            "object_fit": null,
            "object_position": null,
            "order": null,
            "overflow": null,
            "overflow_x": null,
            "overflow_y": null,
            "padding": null,
            "right": null,
            "top": null,
            "visibility": null,
            "width": null
          }
        },
        "af6e3179d038470784b39c52d943665e": {
          "model_module": "@jupyter-widgets/controls",
          "model_name": "DescriptionStyleModel",
          "model_module_version": "1.5.0",
          "state": {
            "_model_module": "@jupyter-widgets/controls",
            "_model_module_version": "1.5.0",
            "_model_name": "DescriptionStyleModel",
            "_view_count": null,
            "_view_module": "@jupyter-widgets/base",
            "_view_module_version": "1.2.0",
            "_view_name": "StyleView",
            "description_width": ""
          }
        },
        "f84bab301eb44087817728ff5c4d4935": {
          "model_module": "@jupyter-widgets/base",
          "model_name": "LayoutModel",
          "model_module_version": "1.2.0",
          "state": {
            "_model_module": "@jupyter-widgets/base",
            "_model_module_version": "1.2.0",
            "_model_name": "LayoutModel",
            "_view_count": null,
            "_view_module": "@jupyter-widgets/base",
            "_view_module_version": "1.2.0",
            "_view_name": "LayoutView",
            "align_content": null,
            "align_items": null,
            "align_self": null,
            "border": null,
            "bottom": null,
            "display": null,
            "flex": null,
            "flex_flow": null,
            "grid_area": null,
            "grid_auto_columns": null,
            "grid_auto_flow": null,
            "grid_auto_rows": null,
            "grid_column": null,
            "grid_gap": null,
            "grid_row": null,
            "grid_template_areas": null,
            "grid_template_columns": null,
            "grid_template_rows": null,
            "height": null,
            "justify_content": null,
            "justify_items": null,
            "left": null,
            "margin": null,
            "max_height": null,
            "max_width": null,
            "min_height": null,
            "min_width": null,
            "object_fit": null,
            "object_position": null,
            "order": null,
            "overflow": null,
            "overflow_x": null,
            "overflow_y": null,
            "padding": null,
            "right": null,
            "top": null,
            "visibility": null,
            "width": null
          }
        },
        "cdb3e901611c4c559f56cb1845db4a01": {
          "model_module": "@jupyter-widgets/controls",
          "model_name": "ProgressStyleModel",
          "model_module_version": "1.5.0",
          "state": {
            "_model_module": "@jupyter-widgets/controls",
            "_model_module_version": "1.5.0",
            "_model_name": "ProgressStyleModel",
            "_view_count": null,
            "_view_module": "@jupyter-widgets/base",
            "_view_module_version": "1.2.0",
            "_view_name": "StyleView",
            "bar_color": null,
            "description_width": ""
          }
        },
        "397079cb4e7f453b9cd0ed6a036cfc68": {
          "model_module": "@jupyter-widgets/base",
          "model_name": "LayoutModel",
          "model_module_version": "1.2.0",
          "state": {
            "_model_module": "@jupyter-widgets/base",
            "_model_module_version": "1.2.0",
            "_model_name": "LayoutModel",
            "_view_count": null,
            "_view_module": "@jupyter-widgets/base",
            "_view_module_version": "1.2.0",
            "_view_name": "LayoutView",
            "align_content": null,
            "align_items": null,
            "align_self": null,
            "border": null,
            "bottom": null,
            "display": null,
            "flex": null,
            "flex_flow": null,
            "grid_area": null,
            "grid_auto_columns": null,
            "grid_auto_flow": null,
            "grid_auto_rows": null,
            "grid_column": null,
            "grid_gap": null,
            "grid_row": null,
            "grid_template_areas": null,
            "grid_template_columns": null,
            "grid_template_rows": null,
            "height": null,
            "justify_content": null,
            "justify_items": null,
            "left": null,
            "margin": null,
            "max_height": null,
            "max_width": null,
            "min_height": null,
            "min_width": null,
            "object_fit": null,
            "object_position": null,
            "order": null,
            "overflow": null,
            "overflow_x": null,
            "overflow_y": null,
            "padding": null,
            "right": null,
            "top": null,
            "visibility": null,
            "width": null
          }
        },
        "5b5c663ada5e42a6a1a4238a4c996a89": {
          "model_module": "@jupyter-widgets/controls",
          "model_name": "DescriptionStyleModel",
          "model_module_version": "1.5.0",
          "state": {
            "_model_module": "@jupyter-widgets/controls",
            "_model_module_version": "1.5.0",
            "_model_name": "DescriptionStyleModel",
            "_view_count": null,
            "_view_module": "@jupyter-widgets/base",
            "_view_module_version": "1.2.0",
            "_view_name": "StyleView",
            "description_width": ""
          }
        },
        "a63c6bdb005b4ecda20f865e0eacfdf9": {
          "model_module": "@jupyter-widgets/controls",
          "model_name": "HBoxModel",
          "model_module_version": "1.5.0",
          "state": {
            "_dom_classes": [],
            "_model_module": "@jupyter-widgets/controls",
            "_model_module_version": "1.5.0",
            "_model_name": "HBoxModel",
            "_view_count": null,
            "_view_module": "@jupyter-widgets/controls",
            "_view_module_version": "1.5.0",
            "_view_name": "HBoxView",
            "box_style": "",
            "children": [
              "IPY_MODEL_04506028109c4adb8d4aea1d4acc77dd",
              "IPY_MODEL_ad11c6489fcb4677aa434298a36dbd8d",
              "IPY_MODEL_d2968a0d879240a99fa5490a23436a88"
            ],
            "layout": "IPY_MODEL_79cb3df85e764311895076f9c5e454c6"
          }
        },
        "04506028109c4adb8d4aea1d4acc77dd": {
          "model_module": "@jupyter-widgets/controls",
          "model_name": "HTMLModel",
          "model_module_version": "1.5.0",
          "state": {
            "_dom_classes": [],
            "_model_module": "@jupyter-widgets/controls",
            "_model_module_version": "1.5.0",
            "_model_name": "HTMLModel",
            "_view_count": null,
            "_view_module": "@jupyter-widgets/controls",
            "_view_module_version": "1.5.0",
            "_view_name": "HTMLView",
            "description": "",
            "description_tooltip": null,
            "layout": "IPY_MODEL_981e78eb6acc47a6b90a4ae7d15654ce",
            "placeholder": "​",
            "style": "IPY_MODEL_0e2d47edeb8d4d66b037be888ee0ad4b",
            "value": "Upload file pytorch_model.bin: 100%"
          }
        },
        "ad11c6489fcb4677aa434298a36dbd8d": {
          "model_module": "@jupyter-widgets/controls",
          "model_name": "FloatProgressModel",
          "model_module_version": "1.5.0",
          "state": {
            "_dom_classes": [],
            "_model_module": "@jupyter-widgets/controls",
            "_model_module_version": "1.5.0",
            "_model_name": "FloatProgressModel",
            "_view_count": null,
            "_view_module": "@jupyter-widgets/controls",
            "_view_module_version": "1.5.0",
            "_view_name": "ProgressView",
            "bar_style": "success",
            "description": "",
            "description_tooltip": null,
            "layout": "IPY_MODEL_4b6d078c2e6a45bcbca61c9d0234f384",
            "max": 3859175565,
            "min": 0,
            "orientation": "horizontal",
            "style": "IPY_MODEL_eb29399bee424f509e6f7513ab397e1b",
            "value": 3859175565
          }
        },
        "d2968a0d879240a99fa5490a23436a88": {
          "model_module": "@jupyter-widgets/controls",
          "model_name": "HTMLModel",
          "model_module_version": "1.5.0",
          "state": {
            "_dom_classes": [],
            "_model_module": "@jupyter-widgets/controls",
            "_model_module_version": "1.5.0",
            "_model_name": "HTMLModel",
            "_view_count": null,
            "_view_module": "@jupyter-widgets/controls",
            "_view_module_version": "1.5.0",
            "_view_name": "HTMLView",
            "description": "",
            "description_tooltip": null,
            "layout": "IPY_MODEL_d200af835bef4af49994548af692b541",
            "placeholder": "​",
            "style": "IPY_MODEL_8fe5fe7705e64e65b8a3a8d9e49da032",
            "value": " 3.59G/3.59G [05:58&lt;00:00, 23.5MB/s]"
          }
        },
        "79cb3df85e764311895076f9c5e454c6": {
          "model_module": "@jupyter-widgets/base",
          "model_name": "LayoutModel",
          "model_module_version": "1.2.0",
          "state": {
            "_model_module": "@jupyter-widgets/base",
            "_model_module_version": "1.2.0",
            "_model_name": "LayoutModel",
            "_view_count": null,
            "_view_module": "@jupyter-widgets/base",
            "_view_module_version": "1.2.0",
            "_view_name": "LayoutView",
            "align_content": null,
            "align_items": null,
            "align_self": null,
            "border": null,
            "bottom": null,
            "display": null,
            "flex": null,
            "flex_flow": null,
            "grid_area": null,
            "grid_auto_columns": null,
            "grid_auto_flow": null,
            "grid_auto_rows": null,
            "grid_column": null,
            "grid_gap": null,
            "grid_row": null,
            "grid_template_areas": null,
            "grid_template_columns": null,
            "grid_template_rows": null,
            "height": null,
            "justify_content": null,
            "justify_items": null,
            "left": null,
            "margin": null,
            "max_height": null,
            "max_width": null,
            "min_height": null,
            "min_width": null,
            "object_fit": null,
            "object_position": null,
            "order": null,
            "overflow": null,
            "overflow_x": null,
            "overflow_y": null,
            "padding": null,
            "right": null,
            "top": null,
            "visibility": null,
            "width": null
          }
        },
        "981e78eb6acc47a6b90a4ae7d15654ce": {
          "model_module": "@jupyter-widgets/base",
          "model_name": "LayoutModel",
          "model_module_version": "1.2.0",
          "state": {
            "_model_module": "@jupyter-widgets/base",
            "_model_module_version": "1.2.0",
            "_model_name": "LayoutModel",
            "_view_count": null,
            "_view_module": "@jupyter-widgets/base",
            "_view_module_version": "1.2.0",
            "_view_name": "LayoutView",
            "align_content": null,
            "align_items": null,
            "align_self": null,
            "border": null,
            "bottom": null,
            "display": null,
            "flex": null,
            "flex_flow": null,
            "grid_area": null,
            "grid_auto_columns": null,
            "grid_auto_flow": null,
            "grid_auto_rows": null,
            "grid_column": null,
            "grid_gap": null,
            "grid_row": null,
            "grid_template_areas": null,
            "grid_template_columns": null,
            "grid_template_rows": null,
            "height": null,
            "justify_content": null,
            "justify_items": null,
            "left": null,
            "margin": null,
            "max_height": null,
            "max_width": null,
            "min_height": null,
            "min_width": null,
            "object_fit": null,
            "object_position": null,
            "order": null,
            "overflow": null,
            "overflow_x": null,
            "overflow_y": null,
            "padding": null,
            "right": null,
            "top": null,
            "visibility": null,
            "width": null
          }
        },
        "0e2d47edeb8d4d66b037be888ee0ad4b": {
          "model_module": "@jupyter-widgets/controls",
          "model_name": "DescriptionStyleModel",
          "model_module_version": "1.5.0",
          "state": {
            "_model_module": "@jupyter-widgets/controls",
            "_model_module_version": "1.5.0",
            "_model_name": "DescriptionStyleModel",
            "_view_count": null,
            "_view_module": "@jupyter-widgets/base",
            "_view_module_version": "1.2.0",
            "_view_name": "StyleView",
            "description_width": ""
          }
        },
        "4b6d078c2e6a45bcbca61c9d0234f384": {
          "model_module": "@jupyter-widgets/base",
          "model_name": "LayoutModel",
          "model_module_version": "1.2.0",
          "state": {
            "_model_module": "@jupyter-widgets/base",
            "_model_module_version": "1.2.0",
            "_model_name": "LayoutModel",
            "_view_count": null,
            "_view_module": "@jupyter-widgets/base",
            "_view_module_version": "1.2.0",
            "_view_name": "LayoutView",
            "align_content": null,
            "align_items": null,
            "align_self": null,
            "border": null,
            "bottom": null,
            "display": null,
            "flex": null,
            "flex_flow": null,
            "grid_area": null,
            "grid_auto_columns": null,
            "grid_auto_flow": null,
            "grid_auto_rows": null,
            "grid_column": null,
            "grid_gap": null,
            "grid_row": null,
            "grid_template_areas": null,
            "grid_template_columns": null,
            "grid_template_rows": null,
            "height": null,
            "justify_content": null,
            "justify_items": null,
            "left": null,
            "margin": null,
            "max_height": null,
            "max_width": null,
            "min_height": null,
            "min_width": null,
            "object_fit": null,
            "object_position": null,
            "order": null,
            "overflow": null,
            "overflow_x": null,
            "overflow_y": null,
            "padding": null,
            "right": null,
            "top": null,
            "visibility": null,
            "width": null
          }
        },
        "eb29399bee424f509e6f7513ab397e1b": {
          "model_module": "@jupyter-widgets/controls",
          "model_name": "ProgressStyleModel",
          "model_module_version": "1.5.0",
          "state": {
            "_model_module": "@jupyter-widgets/controls",
            "_model_module_version": "1.5.0",
            "_model_name": "ProgressStyleModel",
            "_view_count": null,
            "_view_module": "@jupyter-widgets/base",
            "_view_module_version": "1.2.0",
            "_view_name": "StyleView",
            "bar_color": null,
            "description_width": ""
          }
        },
        "d200af835bef4af49994548af692b541": {
          "model_module": "@jupyter-widgets/base",
          "model_name": "LayoutModel",
          "model_module_version": "1.2.0",
          "state": {
            "_model_module": "@jupyter-widgets/base",
            "_model_module_version": "1.2.0",
            "_model_name": "LayoutModel",
            "_view_count": null,
            "_view_module": "@jupyter-widgets/base",
            "_view_module_version": "1.2.0",
            "_view_name": "LayoutView",
            "align_content": null,
            "align_items": null,
            "align_self": null,
            "border": null,
            "bottom": null,
            "display": null,
            "flex": null,
            "flex_flow": null,
            "grid_area": null,
            "grid_auto_columns": null,
            "grid_auto_flow": null,
            "grid_auto_rows": null,
            "grid_column": null,
            "grid_gap": null,
            "grid_row": null,
            "grid_template_areas": null,
            "grid_template_columns": null,
            "grid_template_rows": null,
            "height": null,
            "justify_content": null,
            "justify_items": null,
            "left": null,
            "margin": null,
            "max_height": null,
            "max_width": null,
            "min_height": null,
            "min_width": null,
            "object_fit": null,
            "object_position": null,
            "order": null,
            "overflow": null,
            "overflow_x": null,
            "overflow_y": null,
            "padding": null,
            "right": null,
            "top": null,
            "visibility": null,
            "width": null
          }
        },
        "8fe5fe7705e64e65b8a3a8d9e49da032": {
          "model_module": "@jupyter-widgets/controls",
          "model_name": "DescriptionStyleModel",
          "model_module_version": "1.5.0",
          "state": {
            "_model_module": "@jupyter-widgets/controls",
            "_model_module_version": "1.5.0",
            "_model_name": "DescriptionStyleModel",
            "_view_count": null,
            "_view_module": "@jupyter-widgets/base",
            "_view_module_version": "1.2.0",
            "_view_name": "StyleView",
            "description_width": ""
          }
        },
        "82662fc18f304e48bbdc1021712c3965": {
          "model_module": "@jupyter-widgets/controls",
          "model_name": "HBoxModel",
          "model_module_version": "1.5.0",
          "state": {
            "_dom_classes": [],
            "_model_module": "@jupyter-widgets/controls",
            "_model_module_version": "1.5.0",
            "_model_name": "HBoxModel",
            "_view_count": null,
            "_view_module": "@jupyter-widgets/controls",
            "_view_module_version": "1.5.0",
            "_view_name": "HBoxView",
            "box_style": "",
            "children": [
              "IPY_MODEL_67399a1143e9438cbacfebc1b32e68b6",
              "IPY_MODEL_e7cd61fd768349bea17e8d039b439e4f",
              "IPY_MODEL_b79567f2aab84840993fbde44b754b95"
            ],
            "layout": "IPY_MODEL_5cdeb21099064c57b884f1d7d0ffedce"
          }
        },
        "67399a1143e9438cbacfebc1b32e68b6": {
          "model_module": "@jupyter-widgets/controls",
          "model_name": "HTMLModel",
          "model_module_version": "1.5.0",
          "state": {
            "_dom_classes": [],
            "_model_module": "@jupyter-widgets/controls",
            "_model_module_version": "1.5.0",
            "_model_name": "HTMLModel",
            "_view_count": null,
            "_view_module": "@jupyter-widgets/controls",
            "_view_module_version": "1.5.0",
            "_view_name": "HTMLView",
            "description": "",
            "description_tooltip": null,
            "layout": "IPY_MODEL_905bdcfaebe94073a976f1a82f130887",
            "placeholder": "​",
            "style": "IPY_MODEL_b73f10eb52364707ac2bd0bc429d4b5c",
            "value": "Upload file runs/Jun20_10-37-59_b48479e2e05c/events.out.tfevents.1687257574.b48479e2e05c.4202.3: 100%"
          }
        },
        "e7cd61fd768349bea17e8d039b439e4f": {
          "model_module": "@jupyter-widgets/controls",
          "model_name": "FloatProgressModel",
          "model_module_version": "1.5.0",
          "state": {
            "_dom_classes": [],
            "_model_module": "@jupyter-widgets/controls",
            "_model_module_version": "1.5.0",
            "_model_name": "FloatProgressModel",
            "_view_count": null,
            "_view_module": "@jupyter-widgets/controls",
            "_view_module_version": "1.5.0",
            "_view_name": "ProgressView",
            "bar_style": "success",
            "description": "",
            "description_tooltip": null,
            "layout": "IPY_MODEL_b69a7d01a42c4df0b57544342a1e3a60",
            "max": 7765,
            "min": 0,
            "orientation": "horizontal",
            "style": "IPY_MODEL_15ea67ff9ee94888b48ed96c225a3f0d",
            "value": 7765
          }
        },
        "b79567f2aab84840993fbde44b754b95": {
          "model_module": "@jupyter-widgets/controls",
          "model_name": "HTMLModel",
          "model_module_version": "1.5.0",
          "state": {
            "_dom_classes": [],
            "_model_module": "@jupyter-widgets/controls",
            "_model_module_version": "1.5.0",
            "_model_name": "HTMLModel",
            "_view_count": null,
            "_view_module": "@jupyter-widgets/controls",
            "_view_module_version": "1.5.0",
            "_view_name": "HTMLView",
            "description": "",
            "description_tooltip": null,
            "layout": "IPY_MODEL_9548b725391e458ba4020bed9bdc2510",
            "placeholder": "​",
            "style": "IPY_MODEL_a7a978cb024049d8adf20810ee68c21f",
            "value": " 7.58k/7.58k [05:58&lt;00:00, 44.6kB/s]"
          }
        },
        "5cdeb21099064c57b884f1d7d0ffedce": {
          "model_module": "@jupyter-widgets/base",
          "model_name": "LayoutModel",
          "model_module_version": "1.2.0",
          "state": {
            "_model_module": "@jupyter-widgets/base",
            "_model_module_version": "1.2.0",
            "_model_name": "LayoutModel",
            "_view_count": null,
            "_view_module": "@jupyter-widgets/base",
            "_view_module_version": "1.2.0",
            "_view_name": "LayoutView",
            "align_content": null,
            "align_items": null,
            "align_self": null,
            "border": null,
            "bottom": null,
            "display": null,
            "flex": null,
            "flex_flow": null,
            "grid_area": null,
            "grid_auto_columns": null,
            "grid_auto_flow": null,
            "grid_auto_rows": null,
            "grid_column": null,
            "grid_gap": null,
            "grid_row": null,
            "grid_template_areas": null,
            "grid_template_columns": null,
            "grid_template_rows": null,
            "height": null,
            "justify_content": null,
            "justify_items": null,
            "left": null,
            "margin": null,
            "max_height": null,
            "max_width": null,
            "min_height": null,
            "min_width": null,
            "object_fit": null,
            "object_position": null,
            "order": null,
            "overflow": null,
            "overflow_x": null,
            "overflow_y": null,
            "padding": null,
            "right": null,
            "top": null,
            "visibility": null,
            "width": null
          }
        },
        "905bdcfaebe94073a976f1a82f130887": {
          "model_module": "@jupyter-widgets/base",
          "model_name": "LayoutModel",
          "model_module_version": "1.2.0",
          "state": {
            "_model_module": "@jupyter-widgets/base",
            "_model_module_version": "1.2.0",
            "_model_name": "LayoutModel",
            "_view_count": null,
            "_view_module": "@jupyter-widgets/base",
            "_view_module_version": "1.2.0",
            "_view_name": "LayoutView",
            "align_content": null,
            "align_items": null,
            "align_self": null,
            "border": null,
            "bottom": null,
            "display": null,
            "flex": null,
            "flex_flow": null,
            "grid_area": null,
            "grid_auto_columns": null,
            "grid_auto_flow": null,
            "grid_auto_rows": null,
            "grid_column": null,
            "grid_gap": null,
            "grid_row": null,
            "grid_template_areas": null,
            "grid_template_columns": null,
            "grid_template_rows": null,
            "height": null,
            "justify_content": null,
            "justify_items": null,
            "left": null,
            "margin": null,
            "max_height": null,
            "max_width": null,
            "min_height": null,
            "min_width": null,
            "object_fit": null,
            "object_position": null,
            "order": null,
            "overflow": null,
            "overflow_x": null,
            "overflow_y": null,
            "padding": null,
            "right": null,
            "top": null,
            "visibility": null,
            "width": null
          }
        },
        "b73f10eb52364707ac2bd0bc429d4b5c": {
          "model_module": "@jupyter-widgets/controls",
          "model_name": "DescriptionStyleModel",
          "model_module_version": "1.5.0",
          "state": {
            "_model_module": "@jupyter-widgets/controls",
            "_model_module_version": "1.5.0",
            "_model_name": "DescriptionStyleModel",
            "_view_count": null,
            "_view_module": "@jupyter-widgets/base",
            "_view_module_version": "1.2.0",
            "_view_name": "StyleView",
            "description_width": ""
          }
        },
        "b69a7d01a42c4df0b57544342a1e3a60": {
          "model_module": "@jupyter-widgets/base",
          "model_name": "LayoutModel",
          "model_module_version": "1.2.0",
          "state": {
            "_model_module": "@jupyter-widgets/base",
            "_model_module_version": "1.2.0",
            "_model_name": "LayoutModel",
            "_view_count": null,
            "_view_module": "@jupyter-widgets/base",
            "_view_module_version": "1.2.0",
            "_view_name": "LayoutView",
            "align_content": null,
            "align_items": null,
            "align_self": null,
            "border": null,
            "bottom": null,
            "display": null,
            "flex": null,
            "flex_flow": null,
            "grid_area": null,
            "grid_auto_columns": null,
            "grid_auto_flow": null,
            "grid_auto_rows": null,
            "grid_column": null,
            "grid_gap": null,
            "grid_row": null,
            "grid_template_areas": null,
            "grid_template_columns": null,
            "grid_template_rows": null,
            "height": null,
            "justify_content": null,
            "justify_items": null,
            "left": null,
            "margin": null,
            "max_height": null,
            "max_width": null,
            "min_height": null,
            "min_width": null,
            "object_fit": null,
            "object_position": null,
            "order": null,
            "overflow": null,
            "overflow_x": null,
            "overflow_y": null,
            "padding": null,
            "right": null,
            "top": null,
            "visibility": null,
            "width": null
          }
        },
        "15ea67ff9ee94888b48ed96c225a3f0d": {
          "model_module": "@jupyter-widgets/controls",
          "model_name": "ProgressStyleModel",
          "model_module_version": "1.5.0",
          "state": {
            "_model_module": "@jupyter-widgets/controls",
            "_model_module_version": "1.5.0",
            "_model_name": "ProgressStyleModel",
            "_view_count": null,
            "_view_module": "@jupyter-widgets/base",
            "_view_module_version": "1.2.0",
            "_view_name": "StyleView",
            "bar_color": null,
            "description_width": ""
          }
        },
        "9548b725391e458ba4020bed9bdc2510": {
          "model_module": "@jupyter-widgets/base",
          "model_name": "LayoutModel",
          "model_module_version": "1.2.0",
          "state": {
            "_model_module": "@jupyter-widgets/base",
            "_model_module_version": "1.2.0",
            "_model_name": "LayoutModel",
            "_view_count": null,
            "_view_module": "@jupyter-widgets/base",
            "_view_module_version": "1.2.0",
            "_view_name": "LayoutView",
            "align_content": null,
            "align_items": null,
            "align_self": null,
            "border": null,
            "bottom": null,
            "display": null,
            "flex": null,
            "flex_flow": null,
            "grid_area": null,
            "grid_auto_columns": null,
            "grid_auto_flow": null,
            "grid_auto_rows": null,
            "grid_column": null,
            "grid_gap": null,
            "grid_row": null,
            "grid_template_areas": null,
            "grid_template_columns": null,
            "grid_template_rows": null,
            "height": null,
            "justify_content": null,
            "justify_items": null,
            "left": null,
            "margin": null,
            "max_height": null,
            "max_width": null,
            "min_height": null,
            "min_width": null,
            "object_fit": null,
            "object_position": null,
            "order": null,
            "overflow": null,
            "overflow_x": null,
            "overflow_y": null,
            "padding": null,
            "right": null,
            "top": null,
            "visibility": null,
            "width": null
          }
        },
        "a7a978cb024049d8adf20810ee68c21f": {
          "model_module": "@jupyter-widgets/controls",
          "model_name": "DescriptionStyleModel",
          "model_module_version": "1.5.0",
          "state": {
            "_model_module": "@jupyter-widgets/controls",
            "_model_module_version": "1.5.0",
            "_model_name": "DescriptionStyleModel",
            "_view_count": null,
            "_view_module": "@jupyter-widgets/base",
            "_view_module_version": "1.2.0",
            "_view_name": "StyleView",
            "description_width": ""
          }
        },
        "fc7007fc48dd456aa2442cba95c7712c": {
          "model_module": "@jupyter-widgets/controls",
          "model_name": "HBoxModel",
          "model_module_version": "1.5.0",
          "state": {
            "_dom_classes": [],
            "_model_module": "@jupyter-widgets/controls",
            "_model_module_version": "1.5.0",
            "_model_name": "HBoxModel",
            "_view_count": null,
            "_view_module": "@jupyter-widgets/controls",
            "_view_module_version": "1.5.0",
            "_view_name": "HBoxView",
            "box_style": "",
            "children": [
              "IPY_MODEL_4da6336005e64defae4f6a03c397f5f6",
              "IPY_MODEL_26eb2429d1ae4cbba60323432acbfeb3",
              "IPY_MODEL_adba957b802148ff813c13edf72bccda"
            ],
            "layout": "IPY_MODEL_a51f6d57477a488597e86bc3f72c5dc9"
          }
        },
        "4da6336005e64defae4f6a03c397f5f6": {
          "model_module": "@jupyter-widgets/controls",
          "model_name": "HTMLModel",
          "model_module_version": "1.5.0",
          "state": {
            "_dom_classes": [],
            "_model_module": "@jupyter-widgets/controls",
            "_model_module_version": "1.5.0",
            "_model_name": "HTMLModel",
            "_view_count": null,
            "_view_module": "@jupyter-widgets/controls",
            "_view_module_version": "1.5.0",
            "_view_name": "HTMLView",
            "description": "",
            "description_tooltip": null,
            "layout": "IPY_MODEL_df659fc73a3e45c581c59cdfccb7ed0e",
            "placeholder": "​",
            "style": "IPY_MODEL_10a00c6579914a4da467cec1ba99897b",
            "value": "Upload file adapter.tur.safetensors: 100%"
          }
        },
        "26eb2429d1ae4cbba60323432acbfeb3": {
          "model_module": "@jupyter-widgets/controls",
          "model_name": "FloatProgressModel",
          "model_module_version": "1.5.0",
          "state": {
            "_dom_classes": [],
            "_model_module": "@jupyter-widgets/controls",
            "_model_module_version": "1.5.0",
            "_model_name": "FloatProgressModel",
            "_view_count": null,
            "_view_module": "@jupyter-widgets/controls",
            "_view_module_version": "1.5.0",
            "_view_name": "ProgressView",
            "bar_style": "success",
            "description": "",
            "description_tooltip": null,
            "layout": "IPY_MODEL_1854f015adeb40458270ca43f1e212d6",
            "max": 8839532,
            "min": 0,
            "orientation": "horizontal",
            "style": "IPY_MODEL_b8ecbfbfdc74475cb9f68b317314c49d",
            "value": 8839532
          }
        },
        "adba957b802148ff813c13edf72bccda": {
          "model_module": "@jupyter-widgets/controls",
          "model_name": "HTMLModel",
          "model_module_version": "1.5.0",
          "state": {
            "_dom_classes": [],
            "_model_module": "@jupyter-widgets/controls",
            "_model_module_version": "1.5.0",
            "_model_name": "HTMLModel",
            "_view_count": null,
            "_view_module": "@jupyter-widgets/controls",
            "_view_module_version": "1.5.0",
            "_view_name": "HTMLView",
            "description": "",
            "description_tooltip": null,
            "layout": "IPY_MODEL_5fb1c87079394be18f84fa2b3e76170f",
            "placeholder": "​",
            "style": "IPY_MODEL_0b85e8ad1bfe41c888d604336e5c87e7",
            "value": " 8.43M/8.43M [05:58&lt;00:00, 5.31MB/s]"
          }
        },
        "a51f6d57477a488597e86bc3f72c5dc9": {
          "model_module": "@jupyter-widgets/base",
          "model_name": "LayoutModel",
          "model_module_version": "1.2.0",
          "state": {
            "_model_module": "@jupyter-widgets/base",
            "_model_module_version": "1.2.0",
            "_model_name": "LayoutModel",
            "_view_count": null,
            "_view_module": "@jupyter-widgets/base",
            "_view_module_version": "1.2.0",
            "_view_name": "LayoutView",
            "align_content": null,
            "align_items": null,
            "align_self": null,
            "border": null,
            "bottom": null,
            "display": null,
            "flex": null,
            "flex_flow": null,
            "grid_area": null,
            "grid_auto_columns": null,
            "grid_auto_flow": null,
            "grid_auto_rows": null,
            "grid_column": null,
            "grid_gap": null,
            "grid_row": null,
            "grid_template_areas": null,
            "grid_template_columns": null,
            "grid_template_rows": null,
            "height": null,
            "justify_content": null,
            "justify_items": null,
            "left": null,
            "margin": null,
            "max_height": null,
            "max_width": null,
            "min_height": null,
            "min_width": null,
            "object_fit": null,
            "object_position": null,
            "order": null,
            "overflow": null,
            "overflow_x": null,
            "overflow_y": null,
            "padding": null,
            "right": null,
            "top": null,
            "visibility": null,
            "width": null
          }
        },
        "df659fc73a3e45c581c59cdfccb7ed0e": {
          "model_module": "@jupyter-widgets/base",
          "model_name": "LayoutModel",
          "model_module_version": "1.2.0",
          "state": {
            "_model_module": "@jupyter-widgets/base",
            "_model_module_version": "1.2.0",
            "_model_name": "LayoutModel",
            "_view_count": null,
            "_view_module": "@jupyter-widgets/base",
            "_view_module_version": "1.2.0",
            "_view_name": "LayoutView",
            "align_content": null,
            "align_items": null,
            "align_self": null,
            "border": null,
            "bottom": null,
            "display": null,
            "flex": null,
            "flex_flow": null,
            "grid_area": null,
            "grid_auto_columns": null,
            "grid_auto_flow": null,
            "grid_auto_rows": null,
            "grid_column": null,
            "grid_gap": null,
            "grid_row": null,
            "grid_template_areas": null,
            "grid_template_columns": null,
            "grid_template_rows": null,
            "height": null,
            "justify_content": null,
            "justify_items": null,
            "left": null,
            "margin": null,
            "max_height": null,
            "max_width": null,
            "min_height": null,
            "min_width": null,
            "object_fit": null,
            "object_position": null,
            "order": null,
            "overflow": null,
            "overflow_x": null,
            "overflow_y": null,
            "padding": null,
            "right": null,
            "top": null,
            "visibility": null,
            "width": null
          }
        },
        "10a00c6579914a4da467cec1ba99897b": {
          "model_module": "@jupyter-widgets/controls",
          "model_name": "DescriptionStyleModel",
          "model_module_version": "1.5.0",
          "state": {
            "_model_module": "@jupyter-widgets/controls",
            "_model_module_version": "1.5.0",
            "_model_name": "DescriptionStyleModel",
            "_view_count": null,
            "_view_module": "@jupyter-widgets/base",
            "_view_module_version": "1.2.0",
            "_view_name": "StyleView",
            "description_width": ""
          }
        },
        "1854f015adeb40458270ca43f1e212d6": {
          "model_module": "@jupyter-widgets/base",
          "model_name": "LayoutModel",
          "model_module_version": "1.2.0",
          "state": {
            "_model_module": "@jupyter-widgets/base",
            "_model_module_version": "1.2.0",
            "_model_name": "LayoutModel",
            "_view_count": null,
            "_view_module": "@jupyter-widgets/base",
            "_view_module_version": "1.2.0",
            "_view_name": "LayoutView",
            "align_content": null,
            "align_items": null,
            "align_self": null,
            "border": null,
            "bottom": null,
            "display": null,
            "flex": null,
            "flex_flow": null,
            "grid_area": null,
            "grid_auto_columns": null,
            "grid_auto_flow": null,
            "grid_auto_rows": null,
            "grid_column": null,
            "grid_gap": null,
            "grid_row": null,
            "grid_template_areas": null,
            "grid_template_columns": null,
            "grid_template_rows": null,
            "height": null,
            "justify_content": null,
            "justify_items": null,
            "left": null,
            "margin": null,
            "max_height": null,
            "max_width": null,
            "min_height": null,
            "min_width": null,
            "object_fit": null,
            "object_position": null,
            "order": null,
            "overflow": null,
            "overflow_x": null,
            "overflow_y": null,
            "padding": null,
            "right": null,
            "top": null,
            "visibility": null,
            "width": null
          }
        },
        "b8ecbfbfdc74475cb9f68b317314c49d": {
          "model_module": "@jupyter-widgets/controls",
          "model_name": "ProgressStyleModel",
          "model_module_version": "1.5.0",
          "state": {
            "_model_module": "@jupyter-widgets/controls",
            "_model_module_version": "1.5.0",
            "_model_name": "ProgressStyleModel",
            "_view_count": null,
            "_view_module": "@jupyter-widgets/base",
            "_view_module_version": "1.2.0",
            "_view_name": "StyleView",
            "bar_color": null,
            "description_width": ""
          }
        },
        "5fb1c87079394be18f84fa2b3e76170f": {
          "model_module": "@jupyter-widgets/base",
          "model_name": "LayoutModel",
          "model_module_version": "1.2.0",
          "state": {
            "_model_module": "@jupyter-widgets/base",
            "_model_module_version": "1.2.0",
            "_model_name": "LayoutModel",
            "_view_count": null,
            "_view_module": "@jupyter-widgets/base",
            "_view_module_version": "1.2.0",
            "_view_name": "LayoutView",
            "align_content": null,
            "align_items": null,
            "align_self": null,
            "border": null,
            "bottom": null,
            "display": null,
            "flex": null,
            "flex_flow": null,
            "grid_area": null,
            "grid_auto_columns": null,
            "grid_auto_flow": null,
            "grid_auto_rows": null,
            "grid_column": null,
            "grid_gap": null,
            "grid_row": null,
            "grid_template_areas": null,
            "grid_template_columns": null,
            "grid_template_rows": null,
            "height": null,
            "justify_content": null,
            "justify_items": null,
            "left": null,
            "margin": null,
            "max_height": null,
            "max_width": null,
            "min_height": null,
            "min_width": null,
            "object_fit": null,
            "object_position": null,
            "order": null,
            "overflow": null,
            "overflow_x": null,
            "overflow_y": null,
            "padding": null,
            "right": null,
            "top": null,
            "visibility": null,
            "width": null
          }
        },
        "0b85e8ad1bfe41c888d604336e5c87e7": {
          "model_module": "@jupyter-widgets/controls",
          "model_name": "DescriptionStyleModel",
          "model_module_version": "1.5.0",
          "state": {
            "_model_module": "@jupyter-widgets/controls",
            "_model_module_version": "1.5.0",
            "_model_name": "DescriptionStyleModel",
            "_view_count": null,
            "_view_module": "@jupyter-widgets/base",
            "_view_module_version": "1.2.0",
            "_view_name": "StyleView",
            "description_width": ""
          }
        },
        "d38842686eef43c5a80a63e19e4f6b53": {
          "model_module": "@jupyter-widgets/controls",
          "model_name": "HBoxModel",
          "model_module_version": "1.5.0",
          "state": {
            "_dom_classes": [],
            "_model_module": "@jupyter-widgets/controls",
            "_model_module_version": "1.5.0",
            "_model_name": "HBoxModel",
            "_view_count": null,
            "_view_module": "@jupyter-widgets/controls",
            "_view_module_version": "1.5.0",
            "_view_name": "HBoxView",
            "box_style": "",
            "children": [
              "IPY_MODEL_2a2e8024b2b148b1af0a0c391f329c7b",
              "IPY_MODEL_3e37daa37b024011882591d40072862e",
              "IPY_MODEL_f93f079a10054058993a0b2c1fd1d5c1"
            ],
            "layout": "IPY_MODEL_998b14776c8743679925f0c730f0a3fe"
          }
        },
        "2a2e8024b2b148b1af0a0c391f329c7b": {
          "model_module": "@jupyter-widgets/controls",
          "model_name": "HTMLModel",
          "model_module_version": "1.5.0",
          "state": {
            "_dom_classes": [],
            "_model_module": "@jupyter-widgets/controls",
            "_model_module_version": "1.5.0",
            "_model_name": "HTMLModel",
            "_view_count": null,
            "_view_module": "@jupyter-widgets/controls",
            "_view_module_version": "1.5.0",
            "_view_name": "HTMLView",
            "description": "",
            "description_tooltip": null,
            "layout": "IPY_MODEL_0c07e3f2b997461c885ae8450aa7f5af",
            "placeholder": "​",
            "style": "IPY_MODEL_06e0374fc57e42c2bf0f527fa08d5222",
            "value": "Downloading (…)lve/main/config.json: 100%"
          }
        },
        "3e37daa37b024011882591d40072862e": {
          "model_module": "@jupyter-widgets/controls",
          "model_name": "FloatProgressModel",
          "model_module_version": "1.5.0",
          "state": {
            "_dom_classes": [],
            "_model_module": "@jupyter-widgets/controls",
            "_model_module_version": "1.5.0",
            "_model_name": "FloatProgressModel",
            "_view_count": null,
            "_view_module": "@jupyter-widgets/controls",
            "_view_module_version": "1.5.0",
            "_view_name": "ProgressView",
            "bar_style": "success",
            "description": "",
            "description_tooltip": null,
            "layout": "IPY_MODEL_60ee3e3de33b41baae523b65331ec141",
            "max": 2053,
            "min": 0,
            "orientation": "horizontal",
            "style": "IPY_MODEL_8983fd0d3faf4947a45e3547a37cb5fe",
            "value": 2053
          }
        },
        "f93f079a10054058993a0b2c1fd1d5c1": {
          "model_module": "@jupyter-widgets/controls",
          "model_name": "HTMLModel",
          "model_module_version": "1.5.0",
          "state": {
            "_dom_classes": [],
            "_model_module": "@jupyter-widgets/controls",
            "_model_module_version": "1.5.0",
            "_model_name": "HTMLModel",
            "_view_count": null,
            "_view_module": "@jupyter-widgets/controls",
            "_view_module_version": "1.5.0",
            "_view_name": "HTMLView",
            "description": "",
            "description_tooltip": null,
            "layout": "IPY_MODEL_85d05224871e4678bcadff8a0db72a14",
            "placeholder": "​",
            "style": "IPY_MODEL_c235c474db1d4200a29dfd6a41a19c6b",
            "value": " 2.05k/2.05k [00:00&lt;00:00, 153kB/s]"
          }
        },
        "998b14776c8743679925f0c730f0a3fe": {
          "model_module": "@jupyter-widgets/base",
          "model_name": "LayoutModel",
          "model_module_version": "1.2.0",
          "state": {
            "_model_module": "@jupyter-widgets/base",
            "_model_module_version": "1.2.0",
            "_model_name": "LayoutModel",
            "_view_count": null,
            "_view_module": "@jupyter-widgets/base",
            "_view_module_version": "1.2.0",
            "_view_name": "LayoutView",
            "align_content": null,
            "align_items": null,
            "align_self": null,
            "border": null,
            "bottom": null,
            "display": null,
            "flex": null,
            "flex_flow": null,
            "grid_area": null,
            "grid_auto_columns": null,
            "grid_auto_flow": null,
            "grid_auto_rows": null,
            "grid_column": null,
            "grid_gap": null,
            "grid_row": null,
            "grid_template_areas": null,
            "grid_template_columns": null,
            "grid_template_rows": null,
            "height": null,
            "justify_content": null,
            "justify_items": null,
            "left": null,
            "margin": null,
            "max_height": null,
            "max_width": null,
            "min_height": null,
            "min_width": null,
            "object_fit": null,
            "object_position": null,
            "order": null,
            "overflow": null,
            "overflow_x": null,
            "overflow_y": null,
            "padding": null,
            "right": null,
            "top": null,
            "visibility": null,
            "width": null
          }
        },
        "0c07e3f2b997461c885ae8450aa7f5af": {
          "model_module": "@jupyter-widgets/base",
          "model_name": "LayoutModel",
          "model_module_version": "1.2.0",
          "state": {
            "_model_module": "@jupyter-widgets/base",
            "_model_module_version": "1.2.0",
            "_model_name": "LayoutModel",
            "_view_count": null,
            "_view_module": "@jupyter-widgets/base",
            "_view_module_version": "1.2.0",
            "_view_name": "LayoutView",
            "align_content": null,
            "align_items": null,
            "align_self": null,
            "border": null,
            "bottom": null,
            "display": null,
            "flex": null,
            "flex_flow": null,
            "grid_area": null,
            "grid_auto_columns": null,
            "grid_auto_flow": null,
            "grid_auto_rows": null,
            "grid_column": null,
            "grid_gap": null,
            "grid_row": null,
            "grid_template_areas": null,
            "grid_template_columns": null,
            "grid_template_rows": null,
            "height": null,
            "justify_content": null,
            "justify_items": null,
            "left": null,
            "margin": null,
            "max_height": null,
            "max_width": null,
            "min_height": null,
            "min_width": null,
            "object_fit": null,
            "object_position": null,
            "order": null,
            "overflow": null,
            "overflow_x": null,
            "overflow_y": null,
            "padding": null,
            "right": null,
            "top": null,
            "visibility": null,
            "width": null
          }
        },
        "06e0374fc57e42c2bf0f527fa08d5222": {
          "model_module": "@jupyter-widgets/controls",
          "model_name": "DescriptionStyleModel",
          "model_module_version": "1.5.0",
          "state": {
            "_model_module": "@jupyter-widgets/controls",
            "_model_module_version": "1.5.0",
            "_model_name": "DescriptionStyleModel",
            "_view_count": null,
            "_view_module": "@jupyter-widgets/base",
            "_view_module_version": "1.2.0",
            "_view_name": "StyleView",
            "description_width": ""
          }
        },
        "60ee3e3de33b41baae523b65331ec141": {
          "model_module": "@jupyter-widgets/base",
          "model_name": "LayoutModel",
          "model_module_version": "1.2.0",
          "state": {
            "_model_module": "@jupyter-widgets/base",
            "_model_module_version": "1.2.0",
            "_model_name": "LayoutModel",
            "_view_count": null,
            "_view_module": "@jupyter-widgets/base",
            "_view_module_version": "1.2.0",
            "_view_name": "LayoutView",
            "align_content": null,
            "align_items": null,
            "align_self": null,
            "border": null,
            "bottom": null,
            "display": null,
            "flex": null,
            "flex_flow": null,
            "grid_area": null,
            "grid_auto_columns": null,
            "grid_auto_flow": null,
            "grid_auto_rows": null,
            "grid_column": null,
            "grid_gap": null,
            "grid_row": null,
            "grid_template_areas": null,
            "grid_template_columns": null,
            "grid_template_rows": null,
            "height": null,
            "justify_content": null,
            "justify_items": null,
            "left": null,
            "margin": null,
            "max_height": null,
            "max_width": null,
            "min_height": null,
            "min_width": null,
            "object_fit": null,
            "object_position": null,
            "order": null,
            "overflow": null,
            "overflow_x": null,
            "overflow_y": null,
            "padding": null,
            "right": null,
            "top": null,
            "visibility": null,
            "width": null
          }
        },
        "8983fd0d3faf4947a45e3547a37cb5fe": {
          "model_module": "@jupyter-widgets/controls",
          "model_name": "ProgressStyleModel",
          "model_module_version": "1.5.0",
          "state": {
            "_model_module": "@jupyter-widgets/controls",
            "_model_module_version": "1.5.0",
            "_model_name": "ProgressStyleModel",
            "_view_count": null,
            "_view_module": "@jupyter-widgets/base",
            "_view_module_version": "1.2.0",
            "_view_name": "StyleView",
            "bar_color": null,
            "description_width": ""
          }
        },
        "85d05224871e4678bcadff8a0db72a14": {
          "model_module": "@jupyter-widgets/base",
          "model_name": "LayoutModel",
          "model_module_version": "1.2.0",
          "state": {
            "_model_module": "@jupyter-widgets/base",
            "_model_module_version": "1.2.0",
            "_model_name": "LayoutModel",
            "_view_count": null,
            "_view_module": "@jupyter-widgets/base",
            "_view_module_version": "1.2.0",
            "_view_name": "LayoutView",
            "align_content": null,
            "align_items": null,
            "align_self": null,
            "border": null,
            "bottom": null,
            "display": null,
            "flex": null,
            "flex_flow": null,
            "grid_area": null,
            "grid_auto_columns": null,
            "grid_auto_flow": null,
            "grid_auto_rows": null,
            "grid_column": null,
            "grid_gap": null,
            "grid_row": null,
            "grid_template_areas": null,
            "grid_template_columns": null,
            "grid_template_rows": null,
            "height": null,
            "justify_content": null,
            "justify_items": null,
            "left": null,
            "margin": null,
            "max_height": null,
            "max_width": null,
            "min_height": null,
            "min_width": null,
            "object_fit": null,
            "object_position": null,
            "order": null,
            "overflow": null,
            "overflow_x": null,
            "overflow_y": null,
            "padding": null,
            "right": null,
            "top": null,
            "visibility": null,
            "width": null
          }
        },
        "c235c474db1d4200a29dfd6a41a19c6b": {
          "model_module": "@jupyter-widgets/controls",
          "model_name": "DescriptionStyleModel",
          "model_module_version": "1.5.0",
          "state": {
            "_model_module": "@jupyter-widgets/controls",
            "_model_module_version": "1.5.0",
            "_model_name": "DescriptionStyleModel",
            "_view_count": null,
            "_view_module": "@jupyter-widgets/base",
            "_view_module_version": "1.2.0",
            "_view_name": "StyleView",
            "description_width": ""
          }
        },
        "acf6b1de3eac409bbeae38841ec2d243": {
          "model_module": "@jupyter-widgets/controls",
          "model_name": "HBoxModel",
          "model_module_version": "1.5.0",
          "state": {
            "_dom_classes": [],
            "_model_module": "@jupyter-widgets/controls",
            "_model_module_version": "1.5.0",
            "_model_name": "HBoxModel",
            "_view_count": null,
            "_view_module": "@jupyter-widgets/controls",
            "_view_module_version": "1.5.0",
            "_view_name": "HBoxView",
            "box_style": "",
            "children": [
              "IPY_MODEL_c3eb6c0dc7f9450db28ea841c6e51c2b",
              "IPY_MODEL_41fce02b63614fed98ee6b71c5b274ff",
              "IPY_MODEL_8e3944ece7944eb59d06ebeeae9b56ee"
            ],
            "layout": "IPY_MODEL_028dc099b86d42cb83e0f8f9683a6c4e"
          }
        },
        "c3eb6c0dc7f9450db28ea841c6e51c2b": {
          "model_module": "@jupyter-widgets/controls",
          "model_name": "HTMLModel",
          "model_module_version": "1.5.0",
          "state": {
            "_dom_classes": [],
            "_model_module": "@jupyter-widgets/controls",
            "_model_module_version": "1.5.0",
            "_model_name": "HTMLModel",
            "_view_count": null,
            "_view_module": "@jupyter-widgets/controls",
            "_view_module_version": "1.5.0",
            "_view_name": "HTMLView",
            "description": "",
            "description_tooltip": null,
            "layout": "IPY_MODEL_a038781f661343ec9aed0f61706e4955",
            "placeholder": "​",
            "style": "IPY_MODEL_9dd5fcc275da489f80a50ec0dbf1fdae",
            "value": "Downloading pytorch_model.bin: 100%"
          }
        },
        "41fce02b63614fed98ee6b71c5b274ff": {
          "model_module": "@jupyter-widgets/controls",
          "model_name": "FloatProgressModel",
          "model_module_version": "1.5.0",
          "state": {
            "_dom_classes": [],
            "_model_module": "@jupyter-widgets/controls",
            "_model_module_version": "1.5.0",
            "_model_name": "FloatProgressModel",
            "_view_count": null,
            "_view_module": "@jupyter-widgets/controls",
            "_view_module_version": "1.5.0",
            "_view_name": "ProgressView",
            "bar_style": "success",
            "description": "",
            "description_tooltip": null,
            "layout": "IPY_MODEL_80920707ff4047dd9a215cd4b862e16c",
            "max": 3859175565,
            "min": 0,
            "orientation": "horizontal",
            "style": "IPY_MODEL_e6b10dcb9aeb485989570470041bdd82",
            "value": 3859175565
          }
        },
        "8e3944ece7944eb59d06ebeeae9b56ee": {
          "model_module": "@jupyter-widgets/controls",
          "model_name": "HTMLModel",
          "model_module_version": "1.5.0",
          "state": {
            "_dom_classes": [],
            "_model_module": "@jupyter-widgets/controls",
            "_model_module_version": "1.5.0",
            "_model_name": "HTMLModel",
            "_view_count": null,
            "_view_module": "@jupyter-widgets/controls",
            "_view_module_version": "1.5.0",
            "_view_name": "HTMLView",
            "description": "",
            "description_tooltip": null,
            "layout": "IPY_MODEL_90015c877f954389998441b54bd20e58",
            "placeholder": "​",
            "style": "IPY_MODEL_99ba230e28c34ebf9f0f7a3f4f1d089e",
            "value": " 3.86G/3.86G [03:40&lt;00:00, 18.7MB/s]"
          }
        },
        "028dc099b86d42cb83e0f8f9683a6c4e": {
          "model_module": "@jupyter-widgets/base",
          "model_name": "LayoutModel",
          "model_module_version": "1.2.0",
          "state": {
            "_model_module": "@jupyter-widgets/base",
            "_model_module_version": "1.2.0",
            "_model_name": "LayoutModel",
            "_view_count": null,
            "_view_module": "@jupyter-widgets/base",
            "_view_module_version": "1.2.0",
            "_view_name": "LayoutView",
            "align_content": null,
            "align_items": null,
            "align_self": null,
            "border": null,
            "bottom": null,
            "display": null,
            "flex": null,
            "flex_flow": null,
            "grid_area": null,
            "grid_auto_columns": null,
            "grid_auto_flow": null,
            "grid_auto_rows": null,
            "grid_column": null,
            "grid_gap": null,
            "grid_row": null,
            "grid_template_areas": null,
            "grid_template_columns": null,
            "grid_template_rows": null,
            "height": null,
            "justify_content": null,
            "justify_items": null,
            "left": null,
            "margin": null,
            "max_height": null,
            "max_width": null,
            "min_height": null,
            "min_width": null,
            "object_fit": null,
            "object_position": null,
            "order": null,
            "overflow": null,
            "overflow_x": null,
            "overflow_y": null,
            "padding": null,
            "right": null,
            "top": null,
            "visibility": null,
            "width": null
          }
        },
        "a038781f661343ec9aed0f61706e4955": {
          "model_module": "@jupyter-widgets/base",
          "model_name": "LayoutModel",
          "model_module_version": "1.2.0",
          "state": {
            "_model_module": "@jupyter-widgets/base",
            "_model_module_version": "1.2.0",
            "_model_name": "LayoutModel",
            "_view_count": null,
            "_view_module": "@jupyter-widgets/base",
            "_view_module_version": "1.2.0",
            "_view_name": "LayoutView",
            "align_content": null,
            "align_items": null,
            "align_self": null,
            "border": null,
            "bottom": null,
            "display": null,
            "flex": null,
            "flex_flow": null,
            "grid_area": null,
            "grid_auto_columns": null,
            "grid_auto_flow": null,
            "grid_auto_rows": null,
            "grid_column": null,
            "grid_gap": null,
            "grid_row": null,
            "grid_template_areas": null,
            "grid_template_columns": null,
            "grid_template_rows": null,
            "height": null,
            "justify_content": null,
            "justify_items": null,
            "left": null,
            "margin": null,
            "max_height": null,
            "max_width": null,
            "min_height": null,
            "min_width": null,
            "object_fit": null,
            "object_position": null,
            "order": null,
            "overflow": null,
            "overflow_x": null,
            "overflow_y": null,
            "padding": null,
            "right": null,
            "top": null,
            "visibility": null,
            "width": null
          }
        },
        "9dd5fcc275da489f80a50ec0dbf1fdae": {
          "model_module": "@jupyter-widgets/controls",
          "model_name": "DescriptionStyleModel",
          "model_module_version": "1.5.0",
          "state": {
            "_model_module": "@jupyter-widgets/controls",
            "_model_module_version": "1.5.0",
            "_model_name": "DescriptionStyleModel",
            "_view_count": null,
            "_view_module": "@jupyter-widgets/base",
            "_view_module_version": "1.2.0",
            "_view_name": "StyleView",
            "description_width": ""
          }
        },
        "80920707ff4047dd9a215cd4b862e16c": {
          "model_module": "@jupyter-widgets/base",
          "model_name": "LayoutModel",
          "model_module_version": "1.2.0",
          "state": {
            "_model_module": "@jupyter-widgets/base",
            "_model_module_version": "1.2.0",
            "_model_name": "LayoutModel",
            "_view_count": null,
            "_view_module": "@jupyter-widgets/base",
            "_view_module_version": "1.2.0",
            "_view_name": "LayoutView",
            "align_content": null,
            "align_items": null,
            "align_self": null,
            "border": null,
            "bottom": null,
            "display": null,
            "flex": null,
            "flex_flow": null,
            "grid_area": null,
            "grid_auto_columns": null,
            "grid_auto_flow": null,
            "grid_auto_rows": null,
            "grid_column": null,
            "grid_gap": null,
            "grid_row": null,
            "grid_template_areas": null,
            "grid_template_columns": null,
            "grid_template_rows": null,
            "height": null,
            "justify_content": null,
            "justify_items": null,
            "left": null,
            "margin": null,
            "max_height": null,
            "max_width": null,
            "min_height": null,
            "min_width": null,
            "object_fit": null,
            "object_position": null,
            "order": null,
            "overflow": null,
            "overflow_x": null,
            "overflow_y": null,
            "padding": null,
            "right": null,
            "top": null,
            "visibility": null,
            "width": null
          }
        },
        "e6b10dcb9aeb485989570470041bdd82": {
          "model_module": "@jupyter-widgets/controls",
          "model_name": "ProgressStyleModel",
          "model_module_version": "1.5.0",
          "state": {
            "_model_module": "@jupyter-widgets/controls",
            "_model_module_version": "1.5.0",
            "_model_name": "ProgressStyleModel",
            "_view_count": null,
            "_view_module": "@jupyter-widgets/base",
            "_view_module_version": "1.2.0",
            "_view_name": "StyleView",
            "bar_color": null,
            "description_width": ""
          }
        },
        "90015c877f954389998441b54bd20e58": {
          "model_module": "@jupyter-widgets/base",
          "model_name": "LayoutModel",
          "model_module_version": "1.2.0",
          "state": {
            "_model_module": "@jupyter-widgets/base",
            "_model_module_version": "1.2.0",
            "_model_name": "LayoutModel",
            "_view_count": null,
            "_view_module": "@jupyter-widgets/base",
            "_view_module_version": "1.2.0",
            "_view_name": "LayoutView",
            "align_content": null,
            "align_items": null,
            "align_self": null,
            "border": null,
            "bottom": null,
            "display": null,
            "flex": null,
            "flex_flow": null,
            "grid_area": null,
            "grid_auto_columns": null,
            "grid_auto_flow": null,
            "grid_auto_rows": null,
            "grid_column": null,
            "grid_gap": null,
            "grid_row": null,
            "grid_template_areas": null,
            "grid_template_columns": null,
            "grid_template_rows": null,
            "height": null,
            "justify_content": null,
            "justify_items": null,
            "left": null,
            "margin": null,
            "max_height": null,
            "max_width": null,
            "min_height": null,
            "min_width": null,
            "object_fit": null,
            "object_position": null,
            "order": null,
            "overflow": null,
            "overflow_x": null,
            "overflow_y": null,
            "padding": null,
            "right": null,
            "top": null,
            "visibility": null,
            "width": null
          }
        },
        "99ba230e28c34ebf9f0f7a3f4f1d089e": {
          "model_module": "@jupyter-widgets/controls",
          "model_name": "DescriptionStyleModel",
          "model_module_version": "1.5.0",
          "state": {
            "_model_module": "@jupyter-widgets/controls",
            "_model_module_version": "1.5.0",
            "_model_name": "DescriptionStyleModel",
            "_view_count": null,
            "_view_module": "@jupyter-widgets/base",
            "_view_module_version": "1.2.0",
            "_view_name": "StyleView",
            "description_width": ""
          }
        },
        "1cfd672b91b849f6bd1426287a7cb319": {
          "model_module": "@jupyter-widgets/controls",
          "model_name": "HBoxModel",
          "model_module_version": "1.5.0",
          "state": {
            "_dom_classes": [],
            "_model_module": "@jupyter-widgets/controls",
            "_model_module_version": "1.5.0",
            "_model_name": "HBoxModel",
            "_view_count": null,
            "_view_module": "@jupyter-widgets/controls",
            "_view_module_version": "1.5.0",
            "_view_name": "HBoxView",
            "box_style": "",
            "children": [
              "IPY_MODEL_7ab60aa001d14e12a89f5f9c122fb88d",
              "IPY_MODEL_ba89b77ea8f24dd1ae408e9a9e2e1a8d",
              "IPY_MODEL_044b79115ea341b0af88f12501ec6138"
            ],
            "layout": "IPY_MODEL_f78a920a2ce74ee184bb1b441cf4b3b6"
          }
        },
        "7ab60aa001d14e12a89f5f9c122fb88d": {
          "model_module": "@jupyter-widgets/controls",
          "model_name": "HTMLModel",
          "model_module_version": "1.5.0",
          "state": {
            "_dom_classes": [],
            "_model_module": "@jupyter-widgets/controls",
            "_model_module_version": "1.5.0",
            "_model_name": "HTMLModel",
            "_view_count": null,
            "_view_module": "@jupyter-widgets/controls",
            "_view_module_version": "1.5.0",
            "_view_name": "HTMLView",
            "description": "",
            "description_tooltip": null,
            "layout": "IPY_MODEL_6bbfa21e7144456ba898279688736fde",
            "placeholder": "​",
            "style": "IPY_MODEL_8e04cce84f7447ec8d8caf9b2552427c",
            "value": "Downloading (…)pter.tur.safetensors: 100%"
          }
        },
        "ba89b77ea8f24dd1ae408e9a9e2e1a8d": {
          "model_module": "@jupyter-widgets/controls",
          "model_name": "FloatProgressModel",
          "model_module_version": "1.5.0",
          "state": {
            "_dom_classes": [],
            "_model_module": "@jupyter-widgets/controls",
            "_model_module_version": "1.5.0",
            "_model_name": "FloatProgressModel",
            "_view_count": null,
            "_view_module": "@jupyter-widgets/controls",
            "_view_module_version": "1.5.0",
            "_view_name": "ProgressView",
            "bar_style": "success",
            "description": "",
            "description_tooltip": null,
            "layout": "IPY_MODEL_bef8bb793bd34b588df850243cfdc95a",
            "max": 8839532,
            "min": 0,
            "orientation": "horizontal",
            "style": "IPY_MODEL_0eadce6d4c914aa18ab5e043ff94da34",
            "value": 8839532
          }
        },
        "044b79115ea341b0af88f12501ec6138": {
          "model_module": "@jupyter-widgets/controls",
          "model_name": "HTMLModel",
          "model_module_version": "1.5.0",
          "state": {
            "_dom_classes": [],
            "_model_module": "@jupyter-widgets/controls",
            "_model_module_version": "1.5.0",
            "_model_name": "HTMLModel",
            "_view_count": null,
            "_view_module": "@jupyter-widgets/controls",
            "_view_module_version": "1.5.0",
            "_view_name": "HTMLView",
            "description": "",
            "description_tooltip": null,
            "layout": "IPY_MODEL_9b69ee2632af45eba4f200ca06159601",
            "placeholder": "​",
            "style": "IPY_MODEL_c157f607adfb4f25907d211fc11200d4",
            "value": " 8.84M/8.84M [00:01&lt;00:00, 5.24MB/s]"
          }
        },
        "f78a920a2ce74ee184bb1b441cf4b3b6": {
          "model_module": "@jupyter-widgets/base",
          "model_name": "LayoutModel",
          "model_module_version": "1.2.0",
          "state": {
            "_model_module": "@jupyter-widgets/base",
            "_model_module_version": "1.2.0",
            "_model_name": "LayoutModel",
            "_view_count": null,
            "_view_module": "@jupyter-widgets/base",
            "_view_module_version": "1.2.0",
            "_view_name": "LayoutView",
            "align_content": null,
            "align_items": null,
            "align_self": null,
            "border": null,
            "bottom": null,
            "display": null,
            "flex": null,
            "flex_flow": null,
            "grid_area": null,
            "grid_auto_columns": null,
            "grid_auto_flow": null,
            "grid_auto_rows": null,
            "grid_column": null,
            "grid_gap": null,
            "grid_row": null,
            "grid_template_areas": null,
            "grid_template_columns": null,
            "grid_template_rows": null,
            "height": null,
            "justify_content": null,
            "justify_items": null,
            "left": null,
            "margin": null,
            "max_height": null,
            "max_width": null,
            "min_height": null,
            "min_width": null,
            "object_fit": null,
            "object_position": null,
            "order": null,
            "overflow": null,
            "overflow_x": null,
            "overflow_y": null,
            "padding": null,
            "right": null,
            "top": null,
            "visibility": null,
            "width": null
          }
        },
        "6bbfa21e7144456ba898279688736fde": {
          "model_module": "@jupyter-widgets/base",
          "model_name": "LayoutModel",
          "model_module_version": "1.2.0",
          "state": {
            "_model_module": "@jupyter-widgets/base",
            "_model_module_version": "1.2.0",
            "_model_name": "LayoutModel",
            "_view_count": null,
            "_view_module": "@jupyter-widgets/base",
            "_view_module_version": "1.2.0",
            "_view_name": "LayoutView",
            "align_content": null,
            "align_items": null,
            "align_self": null,
            "border": null,
            "bottom": null,
            "display": null,
            "flex": null,
            "flex_flow": null,
            "grid_area": null,
            "grid_auto_columns": null,
            "grid_auto_flow": null,
            "grid_auto_rows": null,
            "grid_column": null,
            "grid_gap": null,
            "grid_row": null,
            "grid_template_areas": null,
            "grid_template_columns": null,
            "grid_template_rows": null,
            "height": null,
            "justify_content": null,
            "justify_items": null,
            "left": null,
            "margin": null,
            "max_height": null,
            "max_width": null,
            "min_height": null,
            "min_width": null,
            "object_fit": null,
            "object_position": null,
            "order": null,
            "overflow": null,
            "overflow_x": null,
            "overflow_y": null,
            "padding": null,
            "right": null,
            "top": null,
            "visibility": null,
            "width": null
          }
        },
        "8e04cce84f7447ec8d8caf9b2552427c": {
          "model_module": "@jupyter-widgets/controls",
          "model_name": "DescriptionStyleModel",
          "model_module_version": "1.5.0",
          "state": {
            "_model_module": "@jupyter-widgets/controls",
            "_model_module_version": "1.5.0",
            "_model_name": "DescriptionStyleModel",
            "_view_count": null,
            "_view_module": "@jupyter-widgets/base",
            "_view_module_version": "1.2.0",
            "_view_name": "StyleView",
            "description_width": ""
          }
        },
        "bef8bb793bd34b588df850243cfdc95a": {
          "model_module": "@jupyter-widgets/base",
          "model_name": "LayoutModel",
          "model_module_version": "1.2.0",
          "state": {
            "_model_module": "@jupyter-widgets/base",
            "_model_module_version": "1.2.0",
            "_model_name": "LayoutModel",
            "_view_count": null,
            "_view_module": "@jupyter-widgets/base",
            "_view_module_version": "1.2.0",
            "_view_name": "LayoutView",
            "align_content": null,
            "align_items": null,
            "align_self": null,
            "border": null,
            "bottom": null,
            "display": null,
            "flex": null,
            "flex_flow": null,
            "grid_area": null,
            "grid_auto_columns": null,
            "grid_auto_flow": null,
            "grid_auto_rows": null,
            "grid_column": null,
            "grid_gap": null,
            "grid_row": null,
            "grid_template_areas": null,
            "grid_template_columns": null,
            "grid_template_rows": null,
            "height": null,
            "justify_content": null,
            "justify_items": null,
            "left": null,
            "margin": null,
            "max_height": null,
            "max_width": null,
            "min_height": null,
            "min_width": null,
            "object_fit": null,
            "object_position": null,
            "order": null,
            "overflow": null,
            "overflow_x": null,
            "overflow_y": null,
            "padding": null,
            "right": null,
            "top": null,
            "visibility": null,
            "width": null
          }
        },
        "0eadce6d4c914aa18ab5e043ff94da34": {
          "model_module": "@jupyter-widgets/controls",
          "model_name": "ProgressStyleModel",
          "model_module_version": "1.5.0",
          "state": {
            "_model_module": "@jupyter-widgets/controls",
            "_model_module_version": "1.5.0",
            "_model_name": "ProgressStyleModel",
            "_view_count": null,
            "_view_module": "@jupyter-widgets/base",
            "_view_module_version": "1.2.0",
            "_view_name": "StyleView",
            "bar_color": null,
            "description_width": ""
          }
        },
        "9b69ee2632af45eba4f200ca06159601": {
          "model_module": "@jupyter-widgets/base",
          "model_name": "LayoutModel",
          "model_module_version": "1.2.0",
          "state": {
            "_model_module": "@jupyter-widgets/base",
            "_model_module_version": "1.2.0",
            "_model_name": "LayoutModel",
            "_view_count": null,
            "_view_module": "@jupyter-widgets/base",
            "_view_module_version": "1.2.0",
            "_view_name": "LayoutView",
            "align_content": null,
            "align_items": null,
            "align_self": null,
            "border": null,
            "bottom": null,
            "display": null,
            "flex": null,
            "flex_flow": null,
            "grid_area": null,
            "grid_auto_columns": null,
            "grid_auto_flow": null,
            "grid_auto_rows": null,
            "grid_column": null,
            "grid_gap": null,
            "grid_row": null,
            "grid_template_areas": null,
            "grid_template_columns": null,
            "grid_template_rows": null,
            "height": null,
            "justify_content": null,
            "justify_items": null,
            "left": null,
            "margin": null,
            "max_height": null,
            "max_width": null,
            "min_height": null,
            "min_width": null,
            "object_fit": null,
            "object_position": null,
            "order": null,
            "overflow": null,
            "overflow_x": null,
            "overflow_y": null,
            "padding": null,
            "right": null,
            "top": null,
            "visibility": null,
            "width": null
          }
        },
        "c157f607adfb4f25907d211fc11200d4": {
          "model_module": "@jupyter-widgets/controls",
          "model_name": "DescriptionStyleModel",
          "model_module_version": "1.5.0",
          "state": {
            "_model_module": "@jupyter-widgets/controls",
            "_model_module_version": "1.5.0",
            "_model_name": "DescriptionStyleModel",
            "_view_count": null,
            "_view_module": "@jupyter-widgets/base",
            "_view_module_version": "1.2.0",
            "_view_name": "StyleView",
            "description_width": ""
          }
        },
        "bc00e1e8309443b193ffd95079d0ea6e": {
          "model_module": "@jupyter-widgets/controls",
          "model_name": "HBoxModel",
          "model_module_version": "1.5.0",
          "state": {
            "_dom_classes": [],
            "_model_module": "@jupyter-widgets/controls",
            "_model_module_version": "1.5.0",
            "_model_name": "HBoxModel",
            "_view_count": null,
            "_view_module": "@jupyter-widgets/controls",
            "_view_module_version": "1.5.0",
            "_view_name": "HBoxView",
            "box_style": "",
            "children": [
              "IPY_MODEL_d699efb6dddb4ee4aeb349c0c4aa237f",
              "IPY_MODEL_ae2ac08d635e4e2782165d5f7b32f183",
              "IPY_MODEL_003af1b2b04544459f1951fd0488370b"
            ],
            "layout": "IPY_MODEL_7e2a4e01fcd641cea9b9d93470ec8282"
          }
        },
        "d699efb6dddb4ee4aeb349c0c4aa237f": {
          "model_module": "@jupyter-widgets/controls",
          "model_name": "HTMLModel",
          "model_module_version": "1.5.0",
          "state": {
            "_dom_classes": [],
            "_model_module": "@jupyter-widgets/controls",
            "_model_module_version": "1.5.0",
            "_model_name": "HTMLModel",
            "_view_count": null,
            "_view_module": "@jupyter-widgets/controls",
            "_view_module_version": "1.5.0",
            "_view_name": "HTMLView",
            "description": "",
            "description_tooltip": null,
            "layout": "IPY_MODEL_00d2b3836e7949b4ad3b050c32eb0738",
            "placeholder": "​",
            "style": "IPY_MODEL_8e6807a19d6446f2828ebc662629eb21",
            "value": "Downloading (…)rocessor_config.json: 100%"
          }
        },
        "ae2ac08d635e4e2782165d5f7b32f183": {
          "model_module": "@jupyter-widgets/controls",
          "model_name": "FloatProgressModel",
          "model_module_version": "1.5.0",
          "state": {
            "_dom_classes": [],
            "_model_module": "@jupyter-widgets/controls",
            "_model_module_version": "1.5.0",
            "_model_name": "FloatProgressModel",
            "_view_count": null,
            "_view_module": "@jupyter-widgets/controls",
            "_view_module_version": "1.5.0",
            "_view_name": "ProgressView",
            "bar_style": "success",
            "description": "",
            "description_tooltip": null,
            "layout": "IPY_MODEL_177bb65e35044b4582cc2fcdf3bca19d",
            "max": 214,
            "min": 0,
            "orientation": "horizontal",
            "style": "IPY_MODEL_e0ec81e0aa134c85a40c2232792dc617",
            "value": 214
          }
        },
        "003af1b2b04544459f1951fd0488370b": {
          "model_module": "@jupyter-widgets/controls",
          "model_name": "HTMLModel",
          "model_module_version": "1.5.0",
          "state": {
            "_dom_classes": [],
            "_model_module": "@jupyter-widgets/controls",
            "_model_module_version": "1.5.0",
            "_model_name": "HTMLModel",
            "_view_count": null,
            "_view_module": "@jupyter-widgets/controls",
            "_view_module_version": "1.5.0",
            "_view_name": "HTMLView",
            "description": "",
            "description_tooltip": null,
            "layout": "IPY_MODEL_0ce87145e3524feeacd3de83c66eb38f",
            "placeholder": "​",
            "style": "IPY_MODEL_e33a9da1b85b47bb9be4d25ad65e6ab9",
            "value": " 214/214 [00:00&lt;00:00, 17.2kB/s]"
          }
        },
        "7e2a4e01fcd641cea9b9d93470ec8282": {
          "model_module": "@jupyter-widgets/base",
          "model_name": "LayoutModel",
          "model_module_version": "1.2.0",
          "state": {
            "_model_module": "@jupyter-widgets/base",
            "_model_module_version": "1.2.0",
            "_model_name": "LayoutModel",
            "_view_count": null,
            "_view_module": "@jupyter-widgets/base",
            "_view_module_version": "1.2.0",
            "_view_name": "LayoutView",
            "align_content": null,
            "align_items": null,
            "align_self": null,
            "border": null,
            "bottom": null,
            "display": null,
            "flex": null,
            "flex_flow": null,
            "grid_area": null,
            "grid_auto_columns": null,
            "grid_auto_flow": null,
            "grid_auto_rows": null,
            "grid_column": null,
            "grid_gap": null,
            "grid_row": null,
            "grid_template_areas": null,
            "grid_template_columns": null,
            "grid_template_rows": null,
            "height": null,
            "justify_content": null,
            "justify_items": null,
            "left": null,
            "margin": null,
            "max_height": null,
            "max_width": null,
            "min_height": null,
            "min_width": null,
            "object_fit": null,
            "object_position": null,
            "order": null,
            "overflow": null,
            "overflow_x": null,
            "overflow_y": null,
            "padding": null,
            "right": null,
            "top": null,
            "visibility": null,
            "width": null
          }
        },
        "00d2b3836e7949b4ad3b050c32eb0738": {
          "model_module": "@jupyter-widgets/base",
          "model_name": "LayoutModel",
          "model_module_version": "1.2.0",
          "state": {
            "_model_module": "@jupyter-widgets/base",
            "_model_module_version": "1.2.0",
            "_model_name": "LayoutModel",
            "_view_count": null,
            "_view_module": "@jupyter-widgets/base",
            "_view_module_version": "1.2.0",
            "_view_name": "LayoutView",
            "align_content": null,
            "align_items": null,
            "align_self": null,
            "border": null,
            "bottom": null,
            "display": null,
            "flex": null,
            "flex_flow": null,
            "grid_area": null,
            "grid_auto_columns": null,
            "grid_auto_flow": null,
            "grid_auto_rows": null,
            "grid_column": null,
            "grid_gap": null,
            "grid_row": null,
            "grid_template_areas": null,
            "grid_template_columns": null,
            "grid_template_rows": null,
            "height": null,
            "justify_content": null,
            "justify_items": null,
            "left": null,
            "margin": null,
            "max_height": null,
            "max_width": null,
            "min_height": null,
            "min_width": null,
            "object_fit": null,
            "object_position": null,
            "order": null,
            "overflow": null,
            "overflow_x": null,
            "overflow_y": null,
            "padding": null,
            "right": null,
            "top": null,
            "visibility": null,
            "width": null
          }
        },
        "8e6807a19d6446f2828ebc662629eb21": {
          "model_module": "@jupyter-widgets/controls",
          "model_name": "DescriptionStyleModel",
          "model_module_version": "1.5.0",
          "state": {
            "_model_module": "@jupyter-widgets/controls",
            "_model_module_version": "1.5.0",
            "_model_name": "DescriptionStyleModel",
            "_view_count": null,
            "_view_module": "@jupyter-widgets/base",
            "_view_module_version": "1.2.0",
            "_view_name": "StyleView",
            "description_width": ""
          }
        },
        "177bb65e35044b4582cc2fcdf3bca19d": {
          "model_module": "@jupyter-widgets/base",
          "model_name": "LayoutModel",
          "model_module_version": "1.2.0",
          "state": {
            "_model_module": "@jupyter-widgets/base",
            "_model_module_version": "1.2.0",
            "_model_name": "LayoutModel",
            "_view_count": null,
            "_view_module": "@jupyter-widgets/base",
            "_view_module_version": "1.2.0",
            "_view_name": "LayoutView",
            "align_content": null,
            "align_items": null,
            "align_self": null,
            "border": null,
            "bottom": null,
            "display": null,
            "flex": null,
            "flex_flow": null,
            "grid_area": null,
            "grid_auto_columns": null,
            "grid_auto_flow": null,
            "grid_auto_rows": null,
            "grid_column": null,
            "grid_gap": null,
            "grid_row": null,
            "grid_template_areas": null,
            "grid_template_columns": null,
            "grid_template_rows": null,
            "height": null,
            "justify_content": null,
            "justify_items": null,
            "left": null,
            "margin": null,
            "max_height": null,
            "max_width": null,
            "min_height": null,
            "min_width": null,
            "object_fit": null,
            "object_position": null,
            "order": null,
            "overflow": null,
            "overflow_x": null,
            "overflow_y": null,
            "padding": null,
            "right": null,
            "top": null,
            "visibility": null,
            "width": null
          }
        },
        "e0ec81e0aa134c85a40c2232792dc617": {
          "model_module": "@jupyter-widgets/controls",
          "model_name": "ProgressStyleModel",
          "model_module_version": "1.5.0",
          "state": {
            "_model_module": "@jupyter-widgets/controls",
            "_model_module_version": "1.5.0",
            "_model_name": "ProgressStyleModel",
            "_view_count": null,
            "_view_module": "@jupyter-widgets/base",
            "_view_module_version": "1.2.0",
            "_view_name": "StyleView",
            "bar_color": null,
            "description_width": ""
          }
        },
        "0ce87145e3524feeacd3de83c66eb38f": {
          "model_module": "@jupyter-widgets/base",
          "model_name": "LayoutModel",
          "model_module_version": "1.2.0",
          "state": {
            "_model_module": "@jupyter-widgets/base",
            "_model_module_version": "1.2.0",
            "_model_name": "LayoutModel",
            "_view_count": null,
            "_view_module": "@jupyter-widgets/base",
            "_view_module_version": "1.2.0",
            "_view_name": "LayoutView",
            "align_content": null,
            "align_items": null,
            "align_self": null,
            "border": null,
            "bottom": null,
            "display": null,
            "flex": null,
            "flex_flow": null,
            "grid_area": null,
            "grid_auto_columns": null,
            "grid_auto_flow": null,
            "grid_auto_rows": null,
            "grid_column": null,
            "grid_gap": null,
            "grid_row": null,
            "grid_template_areas": null,
            "grid_template_columns": null,
            "grid_template_rows": null,
            "height": null,
            "justify_content": null,
            "justify_items": null,
            "left": null,
            "margin": null,
            "max_height": null,
            "max_width": null,
            "min_height": null,
            "min_width": null,
            "object_fit": null,
            "object_position": null,
            "order": null,
            "overflow": null,
            "overflow_x": null,
            "overflow_y": null,
            "padding": null,
            "right": null,
            "top": null,
            "visibility": null,
            "width": null
          }
        },
        "e33a9da1b85b47bb9be4d25ad65e6ab9": {
          "model_module": "@jupyter-widgets/controls",
          "model_name": "DescriptionStyleModel",
          "model_module_version": "1.5.0",
          "state": {
            "_model_module": "@jupyter-widgets/controls",
            "_model_module_version": "1.5.0",
            "_model_name": "DescriptionStyleModel",
            "_view_count": null,
            "_view_module": "@jupyter-widgets/base",
            "_view_module_version": "1.2.0",
            "_view_name": "StyleView",
            "description_width": ""
          }
        },
        "db4d2ddf4489467394d3b131be703b5d": {
          "model_module": "@jupyter-widgets/controls",
          "model_name": "HBoxModel",
          "model_module_version": "1.5.0",
          "state": {
            "_dom_classes": [],
            "_model_module": "@jupyter-widgets/controls",
            "_model_module_version": "1.5.0",
            "_model_name": "HBoxModel",
            "_view_count": null,
            "_view_module": "@jupyter-widgets/controls",
            "_view_module_version": "1.5.0",
            "_view_name": "HBoxView",
            "box_style": "",
            "children": [
              "IPY_MODEL_a3d2f6838cef457d94854bb1e18ab571",
              "IPY_MODEL_a606ed39f8584ad381a584cb65f9f8f9",
              "IPY_MODEL_858ac62413584449a9ff35cbc3f3d8b4"
            ],
            "layout": "IPY_MODEL_dff7935debc14087a740e0833558c8c2"
          }
        },
        "a3d2f6838cef457d94854bb1e18ab571": {
          "model_module": "@jupyter-widgets/controls",
          "model_name": "HTMLModel",
          "model_module_version": "1.5.0",
          "state": {
            "_dom_classes": [],
            "_model_module": "@jupyter-widgets/controls",
            "_model_module_version": "1.5.0",
            "_model_name": "HTMLModel",
            "_view_count": null,
            "_view_module": "@jupyter-widgets/controls",
            "_view_module_version": "1.5.0",
            "_view_name": "HTMLView",
            "description": "",
            "description_tooltip": null,
            "layout": "IPY_MODEL_2853b574bbeb40a39e74aeb56d8f9f27",
            "placeholder": "​",
            "style": "IPY_MODEL_30c880fc4ab7455a9384203cecab0fb6",
            "value": "Downloading (…)okenizer_config.json: 100%"
          }
        },
        "a606ed39f8584ad381a584cb65f9f8f9": {
          "model_module": "@jupyter-widgets/controls",
          "model_name": "FloatProgressModel",
          "model_module_version": "1.5.0",
          "state": {
            "_dom_classes": [],
            "_model_module": "@jupyter-widgets/controls",
            "_model_module_version": "1.5.0",
            "_model_name": "FloatProgressModel",
            "_view_count": null,
            "_view_module": "@jupyter-widgets/controls",
            "_view_module_version": "1.5.0",
            "_view_name": "ProgressView",
            "bar_style": "success",
            "description": "",
            "description_tooltip": null,
            "layout": "IPY_MODEL_6cab7ade3d0548ffa03c36c6fe4a2d5f",
            "max": 355,
            "min": 0,
            "orientation": "horizontal",
            "style": "IPY_MODEL_01d896fc1d244aafb129e68e014e7762",
            "value": 355
          }
        },
        "858ac62413584449a9ff35cbc3f3d8b4": {
          "model_module": "@jupyter-widgets/controls",
          "model_name": "HTMLModel",
          "model_module_version": "1.5.0",
          "state": {
            "_dom_classes": [],
            "_model_module": "@jupyter-widgets/controls",
            "_model_module_version": "1.5.0",
            "_model_name": "HTMLModel",
            "_view_count": null,
            "_view_module": "@jupyter-widgets/controls",
            "_view_module_version": "1.5.0",
            "_view_name": "HTMLView",
            "description": "",
            "description_tooltip": null,
            "layout": "IPY_MODEL_059a69eb08924256a42cc372f4497213",
            "placeholder": "​",
            "style": "IPY_MODEL_cd5724a6ad584baba16b94679156fbd1",
            "value": " 355/355 [00:00&lt;00:00, 31.4kB/s]"
          }
        },
        "dff7935debc14087a740e0833558c8c2": {
          "model_module": "@jupyter-widgets/base",
          "model_name": "LayoutModel",
          "model_module_version": "1.2.0",
          "state": {
            "_model_module": "@jupyter-widgets/base",
            "_model_module_version": "1.2.0",
            "_model_name": "LayoutModel",
            "_view_count": null,
            "_view_module": "@jupyter-widgets/base",
            "_view_module_version": "1.2.0",
            "_view_name": "LayoutView",
            "align_content": null,
            "align_items": null,
            "align_self": null,
            "border": null,
            "bottom": null,
            "display": null,
            "flex": null,
            "flex_flow": null,
            "grid_area": null,
            "grid_auto_columns": null,
            "grid_auto_flow": null,
            "grid_auto_rows": null,
            "grid_column": null,
            "grid_gap": null,
            "grid_row": null,
            "grid_template_areas": null,
            "grid_template_columns": null,
            "grid_template_rows": null,
            "height": null,
            "justify_content": null,
            "justify_items": null,
            "left": null,
            "margin": null,
            "max_height": null,
            "max_width": null,
            "min_height": null,
            "min_width": null,
            "object_fit": null,
            "object_position": null,
            "order": null,
            "overflow": null,
            "overflow_x": null,
            "overflow_y": null,
            "padding": null,
            "right": null,
            "top": null,
            "visibility": null,
            "width": null
          }
        },
        "2853b574bbeb40a39e74aeb56d8f9f27": {
          "model_module": "@jupyter-widgets/base",
          "model_name": "LayoutModel",
          "model_module_version": "1.2.0",
          "state": {
            "_model_module": "@jupyter-widgets/base",
            "_model_module_version": "1.2.0",
            "_model_name": "LayoutModel",
            "_view_count": null,
            "_view_module": "@jupyter-widgets/base",
            "_view_module_version": "1.2.0",
            "_view_name": "LayoutView",
            "align_content": null,
            "align_items": null,
            "align_self": null,
            "border": null,
            "bottom": null,
            "display": null,
            "flex": null,
            "flex_flow": null,
            "grid_area": null,
            "grid_auto_columns": null,
            "grid_auto_flow": null,
            "grid_auto_rows": null,
            "grid_column": null,
            "grid_gap": null,
            "grid_row": null,
            "grid_template_areas": null,
            "grid_template_columns": null,
            "grid_template_rows": null,
            "height": null,
            "justify_content": null,
            "justify_items": null,
            "left": null,
            "margin": null,
            "max_height": null,
            "max_width": null,
            "min_height": null,
            "min_width": null,
            "object_fit": null,
            "object_position": null,
            "order": null,
            "overflow": null,
            "overflow_x": null,
            "overflow_y": null,
            "padding": null,
            "right": null,
            "top": null,
            "visibility": null,
            "width": null
          }
        },
        "30c880fc4ab7455a9384203cecab0fb6": {
          "model_module": "@jupyter-widgets/controls",
          "model_name": "DescriptionStyleModel",
          "model_module_version": "1.5.0",
          "state": {
            "_model_module": "@jupyter-widgets/controls",
            "_model_module_version": "1.5.0",
            "_model_name": "DescriptionStyleModel",
            "_view_count": null,
            "_view_module": "@jupyter-widgets/base",
            "_view_module_version": "1.2.0",
            "_view_name": "StyleView",
            "description_width": ""
          }
        },
        "6cab7ade3d0548ffa03c36c6fe4a2d5f": {
          "model_module": "@jupyter-widgets/base",
          "model_name": "LayoutModel",
          "model_module_version": "1.2.0",
          "state": {
            "_model_module": "@jupyter-widgets/base",
            "_model_module_version": "1.2.0",
            "_model_name": "LayoutModel",
            "_view_count": null,
            "_view_module": "@jupyter-widgets/base",
            "_view_module_version": "1.2.0",
            "_view_name": "LayoutView",
            "align_content": null,
            "align_items": null,
            "align_self": null,
            "border": null,
            "bottom": null,
            "display": null,
            "flex": null,
            "flex_flow": null,
            "grid_area": null,
            "grid_auto_columns": null,
            "grid_auto_flow": null,
            "grid_auto_rows": null,
            "grid_column": null,
            "grid_gap": null,
            "grid_row": null,
            "grid_template_areas": null,
            "grid_template_columns": null,
            "grid_template_rows": null,
            "height": null,
            "justify_content": null,
            "justify_items": null,
            "left": null,
            "margin": null,
            "max_height": null,
            "max_width": null,
            "min_height": null,
            "min_width": null,
            "object_fit": null,
            "object_position": null,
            "order": null,
            "overflow": null,
            "overflow_x": null,
            "overflow_y": null,
            "padding": null,
            "right": null,
            "top": null,
            "visibility": null,
            "width": null
          }
        },
        "01d896fc1d244aafb129e68e014e7762": {
          "model_module": "@jupyter-widgets/controls",
          "model_name": "ProgressStyleModel",
          "model_module_version": "1.5.0",
          "state": {
            "_model_module": "@jupyter-widgets/controls",
            "_model_module_version": "1.5.0",
            "_model_name": "ProgressStyleModel",
            "_view_count": null,
            "_view_module": "@jupyter-widgets/base",
            "_view_module_version": "1.2.0",
            "_view_name": "StyleView",
            "bar_color": null,
            "description_width": ""
          }
        },
        "059a69eb08924256a42cc372f4497213": {
          "model_module": "@jupyter-widgets/base",
          "model_name": "LayoutModel",
          "model_module_version": "1.2.0",
          "state": {
            "_model_module": "@jupyter-widgets/base",
            "_model_module_version": "1.2.0",
            "_model_name": "LayoutModel",
            "_view_count": null,
            "_view_module": "@jupyter-widgets/base",
            "_view_module_version": "1.2.0",
            "_view_name": "LayoutView",
            "align_content": null,
            "align_items": null,
            "align_self": null,
            "border": null,
            "bottom": null,
            "display": null,
            "flex": null,
            "flex_flow": null,
            "grid_area": null,
            "grid_auto_columns": null,
            "grid_auto_flow": null,
            "grid_auto_rows": null,
            "grid_column": null,
            "grid_gap": null,
            "grid_row": null,
            "grid_template_areas": null,
            "grid_template_columns": null,
            "grid_template_rows": null,
            "height": null,
            "justify_content": null,
            "justify_items": null,
            "left": null,
            "margin": null,
            "max_height": null,
            "max_width": null,
            "min_height": null,
            "min_width": null,
            "object_fit": null,
            "object_position": null,
            "order": null,
            "overflow": null,
            "overflow_x": null,
            "overflow_y": null,
            "padding": null,
            "right": null,
            "top": null,
            "visibility": null,
            "width": null
          }
        },
        "cd5724a6ad584baba16b94679156fbd1": {
          "model_module": "@jupyter-widgets/controls",
          "model_name": "DescriptionStyleModel",
          "model_module_version": "1.5.0",
          "state": {
            "_model_module": "@jupyter-widgets/controls",
            "_model_module_version": "1.5.0",
            "_model_name": "DescriptionStyleModel",
            "_view_count": null,
            "_view_module": "@jupyter-widgets/base",
            "_view_module_version": "1.2.0",
            "_view_name": "StyleView",
            "description_width": ""
          }
        },
        "c3b3756e14e447a18dbb0528374ebc96": {
          "model_module": "@jupyter-widgets/controls",
          "model_name": "HBoxModel",
          "model_module_version": "1.5.0",
          "state": {
            "_dom_classes": [],
            "_model_module": "@jupyter-widgets/controls",
            "_model_module_version": "1.5.0",
            "_model_name": "HBoxModel",
            "_view_count": null,
            "_view_module": "@jupyter-widgets/controls",
            "_view_module_version": "1.5.0",
            "_view_name": "HBoxView",
            "box_style": "",
            "children": [
              "IPY_MODEL_48e4fb0952ec43bd9337a6057805767e",
              "IPY_MODEL_46465720f427494889eebd413f8f4fc7",
              "IPY_MODEL_2fb38ddfc0b24b0a98391c21efa9036e"
            ],
            "layout": "IPY_MODEL_e81854bdbb0f4d8998285b218cccd87f"
          }
        },
        "48e4fb0952ec43bd9337a6057805767e": {
          "model_module": "@jupyter-widgets/controls",
          "model_name": "HTMLModel",
          "model_module_version": "1.5.0",
          "state": {
            "_dom_classes": [],
            "_model_module": "@jupyter-widgets/controls",
            "_model_module_version": "1.5.0",
            "_model_name": "HTMLModel",
            "_view_count": null,
            "_view_module": "@jupyter-widgets/controls",
            "_view_module_version": "1.5.0",
            "_view_name": "HTMLView",
            "description": "",
            "description_tooltip": null,
            "layout": "IPY_MODEL_0d57ad2ae83a40a9a1ddac461b2775ee",
            "placeholder": "​",
            "style": "IPY_MODEL_67d809cfc2454d0e9309bf7e5ac10a81",
            "value": "Downloading (…)olve/main/vocab.json: 100%"
          }
        },
        "46465720f427494889eebd413f8f4fc7": {
          "model_module": "@jupyter-widgets/controls",
          "model_name": "FloatProgressModel",
          "model_module_version": "1.5.0",
          "state": {
            "_dom_classes": [],
            "_model_module": "@jupyter-widgets/controls",
            "_model_module_version": "1.5.0",
            "_model_name": "FloatProgressModel",
            "_view_count": null,
            "_view_module": "@jupyter-widgets/controls",
            "_view_module_version": "1.5.0",
            "_view_name": "ProgressView",
            "bar_style": "success",
            "description": "",
            "description_tooltip": null,
            "layout": "IPY_MODEL_f4edaa65746c40a194163185efa466c7",
            "max": 1571,
            "min": 0,
            "orientation": "horizontal",
            "style": "IPY_MODEL_940f163cf1e04e6a974aaa4c6ed43603",
            "value": 1571
          }
        },
        "2fb38ddfc0b24b0a98391c21efa9036e": {
          "model_module": "@jupyter-widgets/controls",
          "model_name": "HTMLModel",
          "model_module_version": "1.5.0",
          "state": {
            "_dom_classes": [],
            "_model_module": "@jupyter-widgets/controls",
            "_model_module_version": "1.5.0",
            "_model_name": "HTMLModel",
            "_view_count": null,
            "_view_module": "@jupyter-widgets/controls",
            "_view_module_version": "1.5.0",
            "_view_name": "HTMLView",
            "description": "",
            "description_tooltip": null,
            "layout": "IPY_MODEL_8ea872d0b08e467ebe80086b5cb2c8de",
            "placeholder": "​",
            "style": "IPY_MODEL_067c06ceb69a4bc8b72bc7a0b2395053",
            "value": " 1.57k/1.57k [00:00&lt;00:00, 136kB/s]"
          }
        },
        "e81854bdbb0f4d8998285b218cccd87f": {
          "model_module": "@jupyter-widgets/base",
          "model_name": "LayoutModel",
          "model_module_version": "1.2.0",
          "state": {
            "_model_module": "@jupyter-widgets/base",
            "_model_module_version": "1.2.0",
            "_model_name": "LayoutModel",
            "_view_count": null,
            "_view_module": "@jupyter-widgets/base",
            "_view_module_version": "1.2.0",
            "_view_name": "LayoutView",
            "align_content": null,
            "align_items": null,
            "align_self": null,
            "border": null,
            "bottom": null,
            "display": null,
            "flex": null,
            "flex_flow": null,
            "grid_area": null,
            "grid_auto_columns": null,
            "grid_auto_flow": null,
            "grid_auto_rows": null,
            "grid_column": null,
            "grid_gap": null,
            "grid_row": null,
            "grid_template_areas": null,
            "grid_template_columns": null,
            "grid_template_rows": null,
            "height": null,
            "justify_content": null,
            "justify_items": null,
            "left": null,
            "margin": null,
            "max_height": null,
            "max_width": null,
            "min_height": null,
            "min_width": null,
            "object_fit": null,
            "object_position": null,
            "order": null,
            "overflow": null,
            "overflow_x": null,
            "overflow_y": null,
            "padding": null,
            "right": null,
            "top": null,
            "visibility": null,
            "width": null
          }
        },
        "0d57ad2ae83a40a9a1ddac461b2775ee": {
          "model_module": "@jupyter-widgets/base",
          "model_name": "LayoutModel",
          "model_module_version": "1.2.0",
          "state": {
            "_model_module": "@jupyter-widgets/base",
            "_model_module_version": "1.2.0",
            "_model_name": "LayoutModel",
            "_view_count": null,
            "_view_module": "@jupyter-widgets/base",
            "_view_module_version": "1.2.0",
            "_view_name": "LayoutView",
            "align_content": null,
            "align_items": null,
            "align_self": null,
            "border": null,
            "bottom": null,
            "display": null,
            "flex": null,
            "flex_flow": null,
            "grid_area": null,
            "grid_auto_columns": null,
            "grid_auto_flow": null,
            "grid_auto_rows": null,
            "grid_column": null,
            "grid_gap": null,
            "grid_row": null,
            "grid_template_areas": null,
            "grid_template_columns": null,
            "grid_template_rows": null,
            "height": null,
            "justify_content": null,
            "justify_items": null,
            "left": null,
            "margin": null,
            "max_height": null,
            "max_width": null,
            "min_height": null,
            "min_width": null,
            "object_fit": null,
            "object_position": null,
            "order": null,
            "overflow": null,
            "overflow_x": null,
            "overflow_y": null,
            "padding": null,
            "right": null,
            "top": null,
            "visibility": null,
            "width": null
          }
        },
        "67d809cfc2454d0e9309bf7e5ac10a81": {
          "model_module": "@jupyter-widgets/controls",
          "model_name": "DescriptionStyleModel",
          "model_module_version": "1.5.0",
          "state": {
            "_model_module": "@jupyter-widgets/controls",
            "_model_module_version": "1.5.0",
            "_model_name": "DescriptionStyleModel",
            "_view_count": null,
            "_view_module": "@jupyter-widgets/base",
            "_view_module_version": "1.2.0",
            "_view_name": "StyleView",
            "description_width": ""
          }
        },
        "f4edaa65746c40a194163185efa466c7": {
          "model_module": "@jupyter-widgets/base",
          "model_name": "LayoutModel",
          "model_module_version": "1.2.0",
          "state": {
            "_model_module": "@jupyter-widgets/base",
            "_model_module_version": "1.2.0",
            "_model_name": "LayoutModel",
            "_view_count": null,
            "_view_module": "@jupyter-widgets/base",
            "_view_module_version": "1.2.0",
            "_view_name": "LayoutView",
            "align_content": null,
            "align_items": null,
            "align_self": null,
            "border": null,
            "bottom": null,
            "display": null,
            "flex": null,
            "flex_flow": null,
            "grid_area": null,
            "grid_auto_columns": null,
            "grid_auto_flow": null,
            "grid_auto_rows": null,
            "grid_column": null,
            "grid_gap": null,
            "grid_row": null,
            "grid_template_areas": null,
            "grid_template_columns": null,
            "grid_template_rows": null,
            "height": null,
            "justify_content": null,
            "justify_items": null,
            "left": null,
            "margin": null,
            "max_height": null,
            "max_width": null,
            "min_height": null,
            "min_width": null,
            "object_fit": null,
            "object_position": null,
            "order": null,
            "overflow": null,
            "overflow_x": null,
            "overflow_y": null,
            "padding": null,
            "right": null,
            "top": null,
            "visibility": null,
            "width": null
          }
        },
        "940f163cf1e04e6a974aaa4c6ed43603": {
          "model_module": "@jupyter-widgets/controls",
          "model_name": "ProgressStyleModel",
          "model_module_version": "1.5.0",
          "state": {
            "_model_module": "@jupyter-widgets/controls",
            "_model_module_version": "1.5.0",
            "_model_name": "ProgressStyleModel",
            "_view_count": null,
            "_view_module": "@jupyter-widgets/base",
            "_view_module_version": "1.2.0",
            "_view_name": "StyleView",
            "bar_color": null,
            "description_width": ""
          }
        },
        "8ea872d0b08e467ebe80086b5cb2c8de": {
          "model_module": "@jupyter-widgets/base",
          "model_name": "LayoutModel",
          "model_module_version": "1.2.0",
          "state": {
            "_model_module": "@jupyter-widgets/base",
            "_model_module_version": "1.2.0",
            "_model_name": "LayoutModel",
            "_view_count": null,
            "_view_module": "@jupyter-widgets/base",
            "_view_module_version": "1.2.0",
            "_view_name": "LayoutView",
            "align_content": null,
            "align_items": null,
            "align_self": null,
            "border": null,
            "bottom": null,
            "display": null,
            "flex": null,
            "flex_flow": null,
            "grid_area": null,
            "grid_auto_columns": null,
            "grid_auto_flow": null,
            "grid_auto_rows": null,
            "grid_column": null,
            "grid_gap": null,
            "grid_row": null,
            "grid_template_areas": null,
            "grid_template_columns": null,
            "grid_template_rows": null,
            "height": null,
            "justify_content": null,
            "justify_items": null,
            "left": null,
            "margin": null,
            "max_height": null,
            "max_width": null,
            "min_height": null,
            "min_width": null,
            "object_fit": null,
            "object_position": null,
            "order": null,
            "overflow": null,
            "overflow_x": null,
            "overflow_y": null,
            "padding": null,
            "right": null,
            "top": null,
            "visibility": null,
            "width": null
          }
        },
        "067c06ceb69a4bc8b72bc7a0b2395053": {
          "model_module": "@jupyter-widgets/controls",
          "model_name": "DescriptionStyleModel",
          "model_module_version": "1.5.0",
          "state": {
            "_model_module": "@jupyter-widgets/controls",
            "_model_module_version": "1.5.0",
            "_model_name": "DescriptionStyleModel",
            "_view_count": null,
            "_view_module": "@jupyter-widgets/base",
            "_view_module_version": "1.2.0",
            "_view_name": "StyleView",
            "description_width": ""
          }
        },
        "186dadf9246c4dc3aa452d5db33bef41": {
          "model_module": "@jupyter-widgets/controls",
          "model_name": "HBoxModel",
          "model_module_version": "1.5.0",
          "state": {
            "_dom_classes": [],
            "_model_module": "@jupyter-widgets/controls",
            "_model_module_version": "1.5.0",
            "_model_name": "HBoxModel",
            "_view_count": null,
            "_view_module": "@jupyter-widgets/controls",
            "_view_module_version": "1.5.0",
            "_view_name": "HBoxView",
            "box_style": "",
            "children": [
              "IPY_MODEL_2551934919ba4db78604b3685254eb54",
              "IPY_MODEL_37944cb373524bda98bb8cc263d26309",
              "IPY_MODEL_b1305a9a78204f88b151c5ea2ace1abb"
            ],
            "layout": "IPY_MODEL_3dca929e8c7b4a71b1402ad854d2c1ff"
          }
        },
        "2551934919ba4db78604b3685254eb54": {
          "model_module": "@jupyter-widgets/controls",
          "model_name": "HTMLModel",
          "model_module_version": "1.5.0",
          "state": {
            "_dom_classes": [],
            "_model_module": "@jupyter-widgets/controls",
            "_model_module_version": "1.5.0",
            "_model_name": "HTMLModel",
            "_view_count": null,
            "_view_module": "@jupyter-widgets/controls",
            "_view_module_version": "1.5.0",
            "_view_name": "HTMLView",
            "description": "",
            "description_tooltip": null,
            "layout": "IPY_MODEL_f167790ce2834c0db5d3ee8b39172f42",
            "placeholder": "​",
            "style": "IPY_MODEL_0d9b8d5711674635a5327f432c75aefe",
            "value": "Downloading (…)in/added_tokens.json: 100%"
          }
        },
        "37944cb373524bda98bb8cc263d26309": {
          "model_module": "@jupyter-widgets/controls",
          "model_name": "FloatProgressModel",
          "model_module_version": "1.5.0",
          "state": {
            "_dom_classes": [],
            "_model_module": "@jupyter-widgets/controls",
            "_model_module_version": "1.5.0",
            "_model_name": "FloatProgressModel",
            "_view_count": null,
            "_view_module": "@jupyter-widgets/controls",
            "_view_module_version": "1.5.0",
            "_view_name": "ProgressView",
            "bar_style": "success",
            "description": "",
            "description_tooltip": null,
            "layout": "IPY_MODEL_f3be09e9ac5646828c5a9dff827546f4",
            "max": 30,
            "min": 0,
            "orientation": "horizontal",
            "style": "IPY_MODEL_f4e002cfce574fea83e73e4d8f88605f",
            "value": 30
          }
        },
        "b1305a9a78204f88b151c5ea2ace1abb": {
          "model_module": "@jupyter-widgets/controls",
          "model_name": "HTMLModel",
          "model_module_version": "1.5.0",
          "state": {
            "_dom_classes": [],
            "_model_module": "@jupyter-widgets/controls",
            "_model_module_version": "1.5.0",
            "_model_name": "HTMLModel",
            "_view_count": null,
            "_view_module": "@jupyter-widgets/controls",
            "_view_module_version": "1.5.0",
            "_view_name": "HTMLView",
            "description": "",
            "description_tooltip": null,
            "layout": "IPY_MODEL_79e1afd0f7e54a8c89850714f3f13983",
            "placeholder": "​",
            "style": "IPY_MODEL_9a5b0f01442048f4b18eb69246db3016",
            "value": " 30.0/30.0 [00:00&lt;00:00, 2.64kB/s]"
          }
        },
        "3dca929e8c7b4a71b1402ad854d2c1ff": {
          "model_module": "@jupyter-widgets/base",
          "model_name": "LayoutModel",
          "model_module_version": "1.2.0",
          "state": {
            "_model_module": "@jupyter-widgets/base",
            "_model_module_version": "1.2.0",
            "_model_name": "LayoutModel",
            "_view_count": null,
            "_view_module": "@jupyter-widgets/base",
            "_view_module_version": "1.2.0",
            "_view_name": "LayoutView",
            "align_content": null,
            "align_items": null,
            "align_self": null,
            "border": null,
            "bottom": null,
            "display": null,
            "flex": null,
            "flex_flow": null,
            "grid_area": null,
            "grid_auto_columns": null,
            "grid_auto_flow": null,
            "grid_auto_rows": null,
            "grid_column": null,
            "grid_gap": null,
            "grid_row": null,
            "grid_template_areas": null,
            "grid_template_columns": null,
            "grid_template_rows": null,
            "height": null,
            "justify_content": null,
            "justify_items": null,
            "left": null,
            "margin": null,
            "max_height": null,
            "max_width": null,
            "min_height": null,
            "min_width": null,
            "object_fit": null,
            "object_position": null,
            "order": null,
            "overflow": null,
            "overflow_x": null,
            "overflow_y": null,
            "padding": null,
            "right": null,
            "top": null,
            "visibility": null,
            "width": null
          }
        },
        "f167790ce2834c0db5d3ee8b39172f42": {
          "model_module": "@jupyter-widgets/base",
          "model_name": "LayoutModel",
          "model_module_version": "1.2.0",
          "state": {
            "_model_module": "@jupyter-widgets/base",
            "_model_module_version": "1.2.0",
            "_model_name": "LayoutModel",
            "_view_count": null,
            "_view_module": "@jupyter-widgets/base",
            "_view_module_version": "1.2.0",
            "_view_name": "LayoutView",
            "align_content": null,
            "align_items": null,
            "align_self": null,
            "border": null,
            "bottom": null,
            "display": null,
            "flex": null,
            "flex_flow": null,
            "grid_area": null,
            "grid_auto_columns": null,
            "grid_auto_flow": null,
            "grid_auto_rows": null,
            "grid_column": null,
            "grid_gap": null,
            "grid_row": null,
            "grid_template_areas": null,
            "grid_template_columns": null,
            "grid_template_rows": null,
            "height": null,
            "justify_content": null,
            "justify_items": null,
            "left": null,
            "margin": null,
            "max_height": null,
            "max_width": null,
            "min_height": null,
            "min_width": null,
            "object_fit": null,
            "object_position": null,
            "order": null,
            "overflow": null,
            "overflow_x": null,
            "overflow_y": null,
            "padding": null,
            "right": null,
            "top": null,
            "visibility": null,
            "width": null
          }
        },
        "0d9b8d5711674635a5327f432c75aefe": {
          "model_module": "@jupyter-widgets/controls",
          "model_name": "DescriptionStyleModel",
          "model_module_version": "1.5.0",
          "state": {
            "_model_module": "@jupyter-widgets/controls",
            "_model_module_version": "1.5.0",
            "_model_name": "DescriptionStyleModel",
            "_view_count": null,
            "_view_module": "@jupyter-widgets/base",
            "_view_module_version": "1.2.0",
            "_view_name": "StyleView",
            "description_width": ""
          }
        },
        "f3be09e9ac5646828c5a9dff827546f4": {
          "model_module": "@jupyter-widgets/base",
          "model_name": "LayoutModel",
          "model_module_version": "1.2.0",
          "state": {
            "_model_module": "@jupyter-widgets/base",
            "_model_module_version": "1.2.0",
            "_model_name": "LayoutModel",
            "_view_count": null,
            "_view_module": "@jupyter-widgets/base",
            "_view_module_version": "1.2.0",
            "_view_name": "LayoutView",
            "align_content": null,
            "align_items": null,
            "align_self": null,
            "border": null,
            "bottom": null,
            "display": null,
            "flex": null,
            "flex_flow": null,
            "grid_area": null,
            "grid_auto_columns": null,
            "grid_auto_flow": null,
            "grid_auto_rows": null,
            "grid_column": null,
            "grid_gap": null,
            "grid_row": null,
            "grid_template_areas": null,
            "grid_template_columns": null,
            "grid_template_rows": null,
            "height": null,
            "justify_content": null,
            "justify_items": null,
            "left": null,
            "margin": null,
            "max_height": null,
            "max_width": null,
            "min_height": null,
            "min_width": null,
            "object_fit": null,
            "object_position": null,
            "order": null,
            "overflow": null,
            "overflow_x": null,
            "overflow_y": null,
            "padding": null,
            "right": null,
            "top": null,
            "visibility": null,
            "width": null
          }
        },
        "f4e002cfce574fea83e73e4d8f88605f": {
          "model_module": "@jupyter-widgets/controls",
          "model_name": "ProgressStyleModel",
          "model_module_version": "1.5.0",
          "state": {
            "_model_module": "@jupyter-widgets/controls",
            "_model_module_version": "1.5.0",
            "_model_name": "ProgressStyleModel",
            "_view_count": null,
            "_view_module": "@jupyter-widgets/base",
            "_view_module_version": "1.2.0",
            "_view_name": "StyleView",
            "bar_color": null,
            "description_width": ""
          }
        },
        "79e1afd0f7e54a8c89850714f3f13983": {
          "model_module": "@jupyter-widgets/base",
          "model_name": "LayoutModel",
          "model_module_version": "1.2.0",
          "state": {
            "_model_module": "@jupyter-widgets/base",
            "_model_module_version": "1.2.0",
            "_model_name": "LayoutModel",
            "_view_count": null,
            "_view_module": "@jupyter-widgets/base",
            "_view_module_version": "1.2.0",
            "_view_name": "LayoutView",
            "align_content": null,
            "align_items": null,
            "align_self": null,
            "border": null,
            "bottom": null,
            "display": null,
            "flex": null,
            "flex_flow": null,
            "grid_area": null,
            "grid_auto_columns": null,
            "grid_auto_flow": null,
            "grid_auto_rows": null,
            "grid_column": null,
            "grid_gap": null,
            "grid_row": null,
            "grid_template_areas": null,
            "grid_template_columns": null,
            "grid_template_rows": null,
            "height": null,
            "justify_content": null,
            "justify_items": null,
            "left": null,
            "margin": null,
            "max_height": null,
            "max_width": null,
            "min_height": null,
            "min_width": null,
            "object_fit": null,
            "object_position": null,
            "order": null,
            "overflow": null,
            "overflow_x": null,
            "overflow_y": null,
            "padding": null,
            "right": null,
            "top": null,
            "visibility": null,
            "width": null
          }
        },
        "9a5b0f01442048f4b18eb69246db3016": {
          "model_module": "@jupyter-widgets/controls",
          "model_name": "DescriptionStyleModel",
          "model_module_version": "1.5.0",
          "state": {
            "_model_module": "@jupyter-widgets/controls",
            "_model_module_version": "1.5.0",
            "_model_name": "DescriptionStyleModel",
            "_view_count": null,
            "_view_module": "@jupyter-widgets/base",
            "_view_module_version": "1.2.0",
            "_view_name": "StyleView",
            "description_width": ""
          }
        },
        "994831202c704932bf4acf8694735fa1": {
          "model_module": "@jupyter-widgets/controls",
          "model_name": "HBoxModel",
          "model_module_version": "1.5.0",
          "state": {
            "_dom_classes": [],
            "_model_module": "@jupyter-widgets/controls",
            "_model_module_version": "1.5.0",
            "_model_name": "HBoxModel",
            "_view_count": null,
            "_view_module": "@jupyter-widgets/controls",
            "_view_module_version": "1.5.0",
            "_view_name": "HBoxView",
            "box_style": "",
            "children": [
              "IPY_MODEL_1600987291d54e4889ff88d28475868e",
              "IPY_MODEL_d0404bcc64614ba19944fac983dd508e",
              "IPY_MODEL_3312bec6dec34542b9a0ba1c535328a8"
            ],
            "layout": "IPY_MODEL_af7c658e987d498f84f9f5c95dcccbe9"
          }
        },
        "1600987291d54e4889ff88d28475868e": {
          "model_module": "@jupyter-widgets/controls",
          "model_name": "HTMLModel",
          "model_module_version": "1.5.0",
          "state": {
            "_dom_classes": [],
            "_model_module": "@jupyter-widgets/controls",
            "_model_module_version": "1.5.0",
            "_model_name": "HTMLModel",
            "_view_count": null,
            "_view_module": "@jupyter-widgets/controls",
            "_view_module_version": "1.5.0",
            "_view_name": "HTMLView",
            "description": "",
            "description_tooltip": null,
            "layout": "IPY_MODEL_0a613ebc2bdb42d9a0df3ff1911923cd",
            "placeholder": "​",
            "style": "IPY_MODEL_51b2d45c1b34454dbbaf03cda807cd2f",
            "value": "Downloading (…)cial_tokens_map.json: 100%"
          }
        },
        "d0404bcc64614ba19944fac983dd508e": {
          "model_module": "@jupyter-widgets/controls",
          "model_name": "FloatProgressModel",
          "model_module_version": "1.5.0",
          "state": {
            "_dom_classes": [],
            "_model_module": "@jupyter-widgets/controls",
            "_model_module_version": "1.5.0",
            "_model_name": "FloatProgressModel",
            "_view_count": null,
            "_view_module": "@jupyter-widgets/controls",
            "_view_module_version": "1.5.0",
            "_view_name": "ProgressView",
            "bar_style": "success",
            "description": "",
            "description_tooltip": null,
            "layout": "IPY_MODEL_19c845278b0d40d4b843a872dcbef351",
            "max": 406,
            "min": 0,
            "orientation": "horizontal",
            "style": "IPY_MODEL_09436b852a324e8887c33d749e053bef",
            "value": 406
          }
        },
        "3312bec6dec34542b9a0ba1c535328a8": {
          "model_module": "@jupyter-widgets/controls",
          "model_name": "HTMLModel",
          "model_module_version": "1.5.0",
          "state": {
            "_dom_classes": [],
            "_model_module": "@jupyter-widgets/controls",
            "_model_module_version": "1.5.0",
            "_model_name": "HTMLModel",
            "_view_count": null,
            "_view_module": "@jupyter-widgets/controls",
            "_view_module_version": "1.5.0",
            "_view_name": "HTMLView",
            "description": "",
            "description_tooltip": null,
            "layout": "IPY_MODEL_2975db4983b64361922693b9a79db800",
            "placeholder": "​",
            "style": "IPY_MODEL_134cbeb172d2436a97509466ba2f5dfc",
            "value": " 406/406 [00:00&lt;00:00, 35.0kB/s]"
          }
        },
        "af7c658e987d498f84f9f5c95dcccbe9": {
          "model_module": "@jupyter-widgets/base",
          "model_name": "LayoutModel",
          "model_module_version": "1.2.0",
          "state": {
            "_model_module": "@jupyter-widgets/base",
            "_model_module_version": "1.2.0",
            "_model_name": "LayoutModel",
            "_view_count": null,
            "_view_module": "@jupyter-widgets/base",
            "_view_module_version": "1.2.0",
            "_view_name": "LayoutView",
            "align_content": null,
            "align_items": null,
            "align_self": null,
            "border": null,
            "bottom": null,
            "display": null,
            "flex": null,
            "flex_flow": null,
            "grid_area": null,
            "grid_auto_columns": null,
            "grid_auto_flow": null,
            "grid_auto_rows": null,
            "grid_column": null,
            "grid_gap": null,
            "grid_row": null,
            "grid_template_areas": null,
            "grid_template_columns": null,
            "grid_template_rows": null,
            "height": null,
            "justify_content": null,
            "justify_items": null,
            "left": null,
            "margin": null,
            "max_height": null,
            "max_width": null,
            "min_height": null,
            "min_width": null,
            "object_fit": null,
            "object_position": null,
            "order": null,
            "overflow": null,
            "overflow_x": null,
            "overflow_y": null,
            "padding": null,
            "right": null,
            "top": null,
            "visibility": null,
            "width": null
          }
        },
        "0a613ebc2bdb42d9a0df3ff1911923cd": {
          "model_module": "@jupyter-widgets/base",
          "model_name": "LayoutModel",
          "model_module_version": "1.2.0",
          "state": {
            "_model_module": "@jupyter-widgets/base",
            "_model_module_version": "1.2.0",
            "_model_name": "LayoutModel",
            "_view_count": null,
            "_view_module": "@jupyter-widgets/base",
            "_view_module_version": "1.2.0",
            "_view_name": "LayoutView",
            "align_content": null,
            "align_items": null,
            "align_self": null,
            "border": null,
            "bottom": null,
            "display": null,
            "flex": null,
            "flex_flow": null,
            "grid_area": null,
            "grid_auto_columns": null,
            "grid_auto_flow": null,
            "grid_auto_rows": null,
            "grid_column": null,
            "grid_gap": null,
            "grid_row": null,
            "grid_template_areas": null,
            "grid_template_columns": null,
            "grid_template_rows": null,
            "height": null,
            "justify_content": null,
            "justify_items": null,
            "left": null,
            "margin": null,
            "max_height": null,
            "max_width": null,
            "min_height": null,
            "min_width": null,
            "object_fit": null,
            "object_position": null,
            "order": null,
            "overflow": null,
            "overflow_x": null,
            "overflow_y": null,
            "padding": null,
            "right": null,
            "top": null,
            "visibility": null,
            "width": null
          }
        },
        "51b2d45c1b34454dbbaf03cda807cd2f": {
          "model_module": "@jupyter-widgets/controls",
          "model_name": "DescriptionStyleModel",
          "model_module_version": "1.5.0",
          "state": {
            "_model_module": "@jupyter-widgets/controls",
            "_model_module_version": "1.5.0",
            "_model_name": "DescriptionStyleModel",
            "_view_count": null,
            "_view_module": "@jupyter-widgets/base",
            "_view_module_version": "1.2.0",
            "_view_name": "StyleView",
            "description_width": ""
          }
        },
        "19c845278b0d40d4b843a872dcbef351": {
          "model_module": "@jupyter-widgets/base",
          "model_name": "LayoutModel",
          "model_module_version": "1.2.0",
          "state": {
            "_model_module": "@jupyter-widgets/base",
            "_model_module_version": "1.2.0",
            "_model_name": "LayoutModel",
            "_view_count": null,
            "_view_module": "@jupyter-widgets/base",
            "_view_module_version": "1.2.0",
            "_view_name": "LayoutView",
            "align_content": null,
            "align_items": null,
            "align_self": null,
            "border": null,
            "bottom": null,
            "display": null,
            "flex": null,
            "flex_flow": null,
            "grid_area": null,
            "grid_auto_columns": null,
            "grid_auto_flow": null,
            "grid_auto_rows": null,
            "grid_column": null,
            "grid_gap": null,
            "grid_row": null,
            "grid_template_areas": null,
            "grid_template_columns": null,
            "grid_template_rows": null,
            "height": null,
            "justify_content": null,
            "justify_items": null,
            "left": null,
            "margin": null,
            "max_height": null,
            "max_width": null,
            "min_height": null,
            "min_width": null,
            "object_fit": null,
            "object_position": null,
            "order": null,
            "overflow": null,
            "overflow_x": null,
            "overflow_y": null,
            "padding": null,
            "right": null,
            "top": null,
            "visibility": null,
            "width": null
          }
        },
        "09436b852a324e8887c33d749e053bef": {
          "model_module": "@jupyter-widgets/controls",
          "model_name": "ProgressStyleModel",
          "model_module_version": "1.5.0",
          "state": {
            "_model_module": "@jupyter-widgets/controls",
            "_model_module_version": "1.5.0",
            "_model_name": "ProgressStyleModel",
            "_view_count": null,
            "_view_module": "@jupyter-widgets/base",
            "_view_module_version": "1.2.0",
            "_view_name": "StyleView",
            "bar_color": null,
            "description_width": ""
          }
        },
        "2975db4983b64361922693b9a79db800": {
          "model_module": "@jupyter-widgets/base",
          "model_name": "LayoutModel",
          "model_module_version": "1.2.0",
          "state": {
            "_model_module": "@jupyter-widgets/base",
            "_model_module_version": "1.2.0",
            "_model_name": "LayoutModel",
            "_view_count": null,
            "_view_module": "@jupyter-widgets/base",
            "_view_module_version": "1.2.0",
            "_view_name": "LayoutView",
            "align_content": null,
            "align_items": null,
            "align_self": null,
            "border": null,
            "bottom": null,
            "display": null,
            "flex": null,
            "flex_flow": null,
            "grid_area": null,
            "grid_auto_columns": null,
            "grid_auto_flow": null,
            "grid_auto_rows": null,
            "grid_column": null,
            "grid_gap": null,
            "grid_row": null,
            "grid_template_areas": null,
            "grid_template_columns": null,
            "grid_template_rows": null,
            "height": null,
            "justify_content": null,
            "justify_items": null,
            "left": null,
            "margin": null,
            "max_height": null,
            "max_width": null,
            "min_height": null,
            "min_width": null,
            "object_fit": null,
            "object_position": null,
            "order": null,
            "overflow": null,
            "overflow_x": null,
            "overflow_y": null,
            "padding": null,
            "right": null,
            "top": null,
            "visibility": null,
            "width": null
          }
        },
        "134cbeb172d2436a97509466ba2f5dfc": {
          "model_module": "@jupyter-widgets/controls",
          "model_name": "DescriptionStyleModel",
          "model_module_version": "1.5.0",
          "state": {
            "_model_module": "@jupyter-widgets/controls",
            "_model_module_version": "1.5.0",
            "_model_name": "DescriptionStyleModel",
            "_view_count": null,
            "_view_module": "@jupyter-widgets/base",
            "_view_module_version": "1.2.0",
            "_view_name": "StyleView",
            "description_width": ""
          }
        },
        "5699a5c1f6ff4858a41c53f0bf260718": {
          "model_module": "@jupyter-widgets/controls",
          "model_name": "HBoxModel",
          "model_module_version": "1.5.0",
          "state": {
            "_dom_classes": [],
            "_model_module": "@jupyter-widgets/controls",
            "_model_module_version": "1.5.0",
            "_model_name": "HBoxModel",
            "_view_count": null,
            "_view_module": "@jupyter-widgets/controls",
            "_view_module_version": "1.5.0",
            "_view_name": "HBoxView",
            "box_style": "",
            "children": [
              "IPY_MODEL_dfe92054ad23415eaf47626908384d05",
              "IPY_MODEL_5d1db3778a344a859ba48c43c8c2d45a",
              "IPY_MODEL_3e5e9e5964a3485384254c9f84017124"
            ],
            "layout": "IPY_MODEL_a2e4dbb71a814765963131415057eecf"
          }
        },
        "dfe92054ad23415eaf47626908384d05": {
          "model_module": "@jupyter-widgets/controls",
          "model_name": "HTMLModel",
          "model_module_version": "1.5.0",
          "state": {
            "_dom_classes": [],
            "_model_module": "@jupyter-widgets/controls",
            "_model_module_version": "1.5.0",
            "_model_name": "HTMLModel",
            "_view_count": null,
            "_view_module": "@jupyter-widgets/controls",
            "_view_module_version": "1.5.0",
            "_view_name": "HTMLView",
            "description": "",
            "description_tooltip": null,
            "layout": "IPY_MODEL_4bceeafcbc3d4ac58ce7f5587071a70f",
            "placeholder": "​",
            "style": "IPY_MODEL_31d57934cd2d41d0953c1a3c5b312e13",
            "value": "Generating train split: "
          }
        },
        "5d1db3778a344a859ba48c43c8c2d45a": {
          "model_module": "@jupyter-widgets/controls",
          "model_name": "FloatProgressModel",
          "model_module_version": "1.5.0",
          "state": {
            "_dom_classes": [],
            "_model_module": "@jupyter-widgets/controls",
            "_model_module_version": "1.5.0",
            "_model_name": "FloatProgressModel",
            "_view_count": null,
            "_view_module": "@jupyter-widgets/controls",
            "_view_module_version": "1.5.0",
            "_view_name": "ProgressView",
            "bar_style": "info",
            "description": "",
            "description_tooltip": null,
            "layout": "IPY_MODEL_7a7777a5eb024222aa20bc4885ff339a",
            "max": 1,
            "min": 0,
            "orientation": "horizontal",
            "style": "IPY_MODEL_e4dea0b8d9a04dd0b9869fd8c9561dca",
            "value": 1
          }
        },
        "3e5e9e5964a3485384254c9f84017124": {
          "model_module": "@jupyter-widgets/controls",
          "model_name": "HTMLModel",
          "model_module_version": "1.5.0",
          "state": {
            "_dom_classes": [],
            "_model_module": "@jupyter-widgets/controls",
            "_model_module_version": "1.5.0",
            "_model_name": "HTMLModel",
            "_view_count": null,
            "_view_module": "@jupyter-widgets/controls",
            "_view_module_version": "1.5.0",
            "_view_name": "HTMLView",
            "description": "",
            "description_tooltip": null,
            "layout": "IPY_MODEL_49d0530e8d9f4638bbbb776fa9299567",
            "placeholder": "​",
            "style": "IPY_MODEL_ac19246e4b4f447a8cd3569c0ec237ff",
            "value": " 1831/0 [00:05&lt;00:00, 254.22 examples/s]"
          }
        },
        "a2e4dbb71a814765963131415057eecf": {
          "model_module": "@jupyter-widgets/base",
          "model_name": "LayoutModel",
          "model_module_version": "1.2.0",
          "state": {
            "_model_module": "@jupyter-widgets/base",
            "_model_module_version": "1.2.0",
            "_model_name": "LayoutModel",
            "_view_count": null,
            "_view_module": "@jupyter-widgets/base",
            "_view_module_version": "1.2.0",
            "_view_name": "LayoutView",
            "align_content": null,
            "align_items": null,
            "align_self": null,
            "border": null,
            "bottom": null,
            "display": null,
            "flex": null,
            "flex_flow": null,
            "grid_area": null,
            "grid_auto_columns": null,
            "grid_auto_flow": null,
            "grid_auto_rows": null,
            "grid_column": null,
            "grid_gap": null,
            "grid_row": null,
            "grid_template_areas": null,
            "grid_template_columns": null,
            "grid_template_rows": null,
            "height": null,
            "justify_content": null,
            "justify_items": null,
            "left": null,
            "margin": null,
            "max_height": null,
            "max_width": null,
            "min_height": null,
            "min_width": null,
            "object_fit": null,
            "object_position": null,
            "order": null,
            "overflow": null,
            "overflow_x": null,
            "overflow_y": null,
            "padding": null,
            "right": null,
            "top": null,
            "visibility": "hidden",
            "width": null
          }
        },
        "4bceeafcbc3d4ac58ce7f5587071a70f": {
          "model_module": "@jupyter-widgets/base",
          "model_name": "LayoutModel",
          "model_module_version": "1.2.0",
          "state": {
            "_model_module": "@jupyter-widgets/base",
            "_model_module_version": "1.2.0",
            "_model_name": "LayoutModel",
            "_view_count": null,
            "_view_module": "@jupyter-widgets/base",
            "_view_module_version": "1.2.0",
            "_view_name": "LayoutView",
            "align_content": null,
            "align_items": null,
            "align_self": null,
            "border": null,
            "bottom": null,
            "display": null,
            "flex": null,
            "flex_flow": null,
            "grid_area": null,
            "grid_auto_columns": null,
            "grid_auto_flow": null,
            "grid_auto_rows": null,
            "grid_column": null,
            "grid_gap": null,
            "grid_row": null,
            "grid_template_areas": null,
            "grid_template_columns": null,
            "grid_template_rows": null,
            "height": null,
            "justify_content": null,
            "justify_items": null,
            "left": null,
            "margin": null,
            "max_height": null,
            "max_width": null,
            "min_height": null,
            "min_width": null,
            "object_fit": null,
            "object_position": null,
            "order": null,
            "overflow": null,
            "overflow_x": null,
            "overflow_y": null,
            "padding": null,
            "right": null,
            "top": null,
            "visibility": null,
            "width": null
          }
        },
        "31d57934cd2d41d0953c1a3c5b312e13": {
          "model_module": "@jupyter-widgets/controls",
          "model_name": "DescriptionStyleModel",
          "model_module_version": "1.5.0",
          "state": {
            "_model_module": "@jupyter-widgets/controls",
            "_model_module_version": "1.5.0",
            "_model_name": "DescriptionStyleModel",
            "_view_count": null,
            "_view_module": "@jupyter-widgets/base",
            "_view_module_version": "1.2.0",
            "_view_name": "StyleView",
            "description_width": ""
          }
        },
        "7a7777a5eb024222aa20bc4885ff339a": {
          "model_module": "@jupyter-widgets/base",
          "model_name": "LayoutModel",
          "model_module_version": "1.2.0",
          "state": {
            "_model_module": "@jupyter-widgets/base",
            "_model_module_version": "1.2.0",
            "_model_name": "LayoutModel",
            "_view_count": null,
            "_view_module": "@jupyter-widgets/base",
            "_view_module_version": "1.2.0",
            "_view_name": "LayoutView",
            "align_content": null,
            "align_items": null,
            "align_self": null,
            "border": null,
            "bottom": null,
            "display": null,
            "flex": null,
            "flex_flow": null,
            "grid_area": null,
            "grid_auto_columns": null,
            "grid_auto_flow": null,
            "grid_auto_rows": null,
            "grid_column": null,
            "grid_gap": null,
            "grid_row": null,
            "grid_template_areas": null,
            "grid_template_columns": null,
            "grid_template_rows": null,
            "height": null,
            "justify_content": null,
            "justify_items": null,
            "left": null,
            "margin": null,
            "max_height": null,
            "max_width": null,
            "min_height": null,
            "min_width": null,
            "object_fit": null,
            "object_position": null,
            "order": null,
            "overflow": null,
            "overflow_x": null,
            "overflow_y": null,
            "padding": null,
            "right": null,
            "top": null,
            "visibility": null,
            "width": "20px"
          }
        },
        "e4dea0b8d9a04dd0b9869fd8c9561dca": {
          "model_module": "@jupyter-widgets/controls",
          "model_name": "ProgressStyleModel",
          "model_module_version": "1.5.0",
          "state": {
            "_model_module": "@jupyter-widgets/controls",
            "_model_module_version": "1.5.0",
            "_model_name": "ProgressStyleModel",
            "_view_count": null,
            "_view_module": "@jupyter-widgets/base",
            "_view_module_version": "1.2.0",
            "_view_name": "StyleView",
            "bar_color": null,
            "description_width": ""
          }
        },
        "49d0530e8d9f4638bbbb776fa9299567": {
          "model_module": "@jupyter-widgets/base",
          "model_name": "LayoutModel",
          "model_module_version": "1.2.0",
          "state": {
            "_model_module": "@jupyter-widgets/base",
            "_model_module_version": "1.2.0",
            "_model_name": "LayoutModel",
            "_view_count": null,
            "_view_module": "@jupyter-widgets/base",
            "_view_module_version": "1.2.0",
            "_view_name": "LayoutView",
            "align_content": null,
            "align_items": null,
            "align_self": null,
            "border": null,
            "bottom": null,
            "display": null,
            "flex": null,
            "flex_flow": null,
            "grid_area": null,
            "grid_auto_columns": null,
            "grid_auto_flow": null,
            "grid_auto_rows": null,
            "grid_column": null,
            "grid_gap": null,
            "grid_row": null,
            "grid_template_areas": null,
            "grid_template_columns": null,
            "grid_template_rows": null,
            "height": null,
            "justify_content": null,
            "justify_items": null,
            "left": null,
            "margin": null,
            "max_height": null,
            "max_width": null,
            "min_height": null,
            "min_width": null,
            "object_fit": null,
            "object_position": null,
            "order": null,
            "overflow": null,
            "overflow_x": null,
            "overflow_y": null,
            "padding": null,
            "right": null,
            "top": null,
            "visibility": null,
            "width": null
          }
        },
        "ac19246e4b4f447a8cd3569c0ec237ff": {
          "model_module": "@jupyter-widgets/controls",
          "model_name": "DescriptionStyleModel",
          "model_module_version": "1.5.0",
          "state": {
            "_model_module": "@jupyter-widgets/controls",
            "_model_module_version": "1.5.0",
            "_model_name": "DescriptionStyleModel",
            "_view_count": null,
            "_view_module": "@jupyter-widgets/base",
            "_view_module_version": "1.2.0",
            "_view_name": "StyleView",
            "description_width": ""
          }
        },
        "210e8e6370184c8ba73944d968852877": {
          "model_module": "@jupyter-widgets/controls",
          "model_name": "HBoxModel",
          "model_module_version": "1.5.0",
          "state": {
            "_dom_classes": [],
            "_model_module": "@jupyter-widgets/controls",
            "_model_module_version": "1.5.0",
            "_model_name": "HBoxModel",
            "_view_count": null,
            "_view_module": "@jupyter-widgets/controls",
            "_view_module_version": "1.5.0",
            "_view_name": "HBoxView",
            "box_style": "",
            "children": [
              "IPY_MODEL_49c59a943d38432ead4fd69753f7a0dd",
              "IPY_MODEL_dfb8d347e92a463f904d67a5af13fe99",
              "IPY_MODEL_6a599fcaaad44fc0a58b6ee6663b6aac"
            ],
            "layout": "IPY_MODEL_7407f9294aee41dba0e8afbbb30d0e44"
          }
        },
        "49c59a943d38432ead4fd69753f7a0dd": {
          "model_module": "@jupyter-widgets/controls",
          "model_name": "HTMLModel",
          "model_module_version": "1.5.0",
          "state": {
            "_dom_classes": [],
            "_model_module": "@jupyter-widgets/controls",
            "_model_module_version": "1.5.0",
            "_model_name": "HTMLModel",
            "_view_count": null,
            "_view_module": "@jupyter-widgets/controls",
            "_view_module_version": "1.5.0",
            "_view_name": "HTMLView",
            "description": "",
            "description_tooltip": null,
            "layout": "IPY_MODEL_b837913267ad437b9e145a07b27b090d",
            "placeholder": "​",
            "style": "IPY_MODEL_45cd495c90294468b945795f7804c934",
            "value": "Generating test split: "
          }
        },
        "dfb8d347e92a463f904d67a5af13fe99": {
          "model_module": "@jupyter-widgets/controls",
          "model_name": "FloatProgressModel",
          "model_module_version": "1.5.0",
          "state": {
            "_dom_classes": [],
            "_model_module": "@jupyter-widgets/controls",
            "_model_module_version": "1.5.0",
            "_model_name": "FloatProgressModel",
            "_view_count": null,
            "_view_module": "@jupyter-widgets/controls",
            "_view_module_version": "1.5.0",
            "_view_name": "ProgressView",
            "bar_style": "info",
            "description": "",
            "description_tooltip": null,
            "layout": "IPY_MODEL_2fdda7edde5a4bae8b054170a7582f9f",
            "max": 1,
            "min": 0,
            "orientation": "horizontal",
            "style": "IPY_MODEL_e7b889a153174c76b07a26a576d7f6b1",
            "value": 1
          }
        },
        "6a599fcaaad44fc0a58b6ee6663b6aac": {
          "model_module": "@jupyter-widgets/controls",
          "model_name": "HTMLModel",
          "model_module_version": "1.5.0",
          "state": {
            "_dom_classes": [],
            "_model_module": "@jupyter-widgets/controls",
            "_model_module_version": "1.5.0",
            "_model_name": "HTMLModel",
            "_view_count": null,
            "_view_module": "@jupyter-widgets/controls",
            "_view_module_version": "1.5.0",
            "_view_name": "HTMLView",
            "description": "",
            "description_tooltip": null,
            "layout": "IPY_MODEL_4d4a8f8eacc64dc4add0ba23c90340fa",
            "placeholder": "​",
            "style": "IPY_MODEL_edce0154202640d392a84523bd80ef80",
            "value": " 1609/0 [00:04&lt;00:00, 227.10 examples/s]"
          }
        },
        "7407f9294aee41dba0e8afbbb30d0e44": {
          "model_module": "@jupyter-widgets/base",
          "model_name": "LayoutModel",
          "model_module_version": "1.2.0",
          "state": {
            "_model_module": "@jupyter-widgets/base",
            "_model_module_version": "1.2.0",
            "_model_name": "LayoutModel",
            "_view_count": null,
            "_view_module": "@jupyter-widgets/base",
            "_view_module_version": "1.2.0",
            "_view_name": "LayoutView",
            "align_content": null,
            "align_items": null,
            "align_self": null,
            "border": null,
            "bottom": null,
            "display": null,
            "flex": null,
            "flex_flow": null,
            "grid_area": null,
            "grid_auto_columns": null,
            "grid_auto_flow": null,
            "grid_auto_rows": null,
            "grid_column": null,
            "grid_gap": null,
            "grid_row": null,
            "grid_template_areas": null,
            "grid_template_columns": null,
            "grid_template_rows": null,
            "height": null,
            "justify_content": null,
            "justify_items": null,
            "left": null,
            "margin": null,
            "max_height": null,
            "max_width": null,
            "min_height": null,
            "min_width": null,
            "object_fit": null,
            "object_position": null,
            "order": null,
            "overflow": null,
            "overflow_x": null,
            "overflow_y": null,
            "padding": null,
            "right": null,
            "top": null,
            "visibility": "hidden",
            "width": null
          }
        },
        "b837913267ad437b9e145a07b27b090d": {
          "model_module": "@jupyter-widgets/base",
          "model_name": "LayoutModel",
          "model_module_version": "1.2.0",
          "state": {
            "_model_module": "@jupyter-widgets/base",
            "_model_module_version": "1.2.0",
            "_model_name": "LayoutModel",
            "_view_count": null,
            "_view_module": "@jupyter-widgets/base",
            "_view_module_version": "1.2.0",
            "_view_name": "LayoutView",
            "align_content": null,
            "align_items": null,
            "align_self": null,
            "border": null,
            "bottom": null,
            "display": null,
            "flex": null,
            "flex_flow": null,
            "grid_area": null,
            "grid_auto_columns": null,
            "grid_auto_flow": null,
            "grid_auto_rows": null,
            "grid_column": null,
            "grid_gap": null,
            "grid_row": null,
            "grid_template_areas": null,
            "grid_template_columns": null,
            "grid_template_rows": null,
            "height": null,
            "justify_content": null,
            "justify_items": null,
            "left": null,
            "margin": null,
            "max_height": null,
            "max_width": null,
            "min_height": null,
            "min_width": null,
            "object_fit": null,
            "object_position": null,
            "order": null,
            "overflow": null,
            "overflow_x": null,
            "overflow_y": null,
            "padding": null,
            "right": null,
            "top": null,
            "visibility": null,
            "width": null
          }
        },
        "45cd495c90294468b945795f7804c934": {
          "model_module": "@jupyter-widgets/controls",
          "model_name": "DescriptionStyleModel",
          "model_module_version": "1.5.0",
          "state": {
            "_model_module": "@jupyter-widgets/controls",
            "_model_module_version": "1.5.0",
            "_model_name": "DescriptionStyleModel",
            "_view_count": null,
            "_view_module": "@jupyter-widgets/base",
            "_view_module_version": "1.2.0",
            "_view_name": "StyleView",
            "description_width": ""
          }
        },
        "2fdda7edde5a4bae8b054170a7582f9f": {
          "model_module": "@jupyter-widgets/base",
          "model_name": "LayoutModel",
          "model_module_version": "1.2.0",
          "state": {
            "_model_module": "@jupyter-widgets/base",
            "_model_module_version": "1.2.0",
            "_model_name": "LayoutModel",
            "_view_count": null,
            "_view_module": "@jupyter-widgets/base",
            "_view_module_version": "1.2.0",
            "_view_name": "LayoutView",
            "align_content": null,
            "align_items": null,
            "align_self": null,
            "border": null,
            "bottom": null,
            "display": null,
            "flex": null,
            "flex_flow": null,
            "grid_area": null,
            "grid_auto_columns": null,
            "grid_auto_flow": null,
            "grid_auto_rows": null,
            "grid_column": null,
            "grid_gap": null,
            "grid_row": null,
            "grid_template_areas": null,
            "grid_template_columns": null,
            "grid_template_rows": null,
            "height": null,
            "justify_content": null,
            "justify_items": null,
            "left": null,
            "margin": null,
            "max_height": null,
            "max_width": null,
            "min_height": null,
            "min_width": null,
            "object_fit": null,
            "object_position": null,
            "order": null,
            "overflow": null,
            "overflow_x": null,
            "overflow_y": null,
            "padding": null,
            "right": null,
            "top": null,
            "visibility": null,
            "width": "20px"
          }
        },
        "e7b889a153174c76b07a26a576d7f6b1": {
          "model_module": "@jupyter-widgets/controls",
          "model_name": "ProgressStyleModel",
          "model_module_version": "1.5.0",
          "state": {
            "_model_module": "@jupyter-widgets/controls",
            "_model_module_version": "1.5.0",
            "_model_name": "ProgressStyleModel",
            "_view_count": null,
            "_view_module": "@jupyter-widgets/base",
            "_view_module_version": "1.2.0",
            "_view_name": "StyleView",
            "bar_color": null,
            "description_width": ""
          }
        },
        "4d4a8f8eacc64dc4add0ba23c90340fa": {
          "model_module": "@jupyter-widgets/base",
          "model_name": "LayoutModel",
          "model_module_version": "1.2.0",
          "state": {
            "_model_module": "@jupyter-widgets/base",
            "_model_module_version": "1.2.0",
            "_model_name": "LayoutModel",
            "_view_count": null,
            "_view_module": "@jupyter-widgets/base",
            "_view_module_version": "1.2.0",
            "_view_name": "LayoutView",
            "align_content": null,
            "align_items": null,
            "align_self": null,
            "border": null,
            "bottom": null,
            "display": null,
            "flex": null,
            "flex_flow": null,
            "grid_area": null,
            "grid_auto_columns": null,
            "grid_auto_flow": null,
            "grid_auto_rows": null,
            "grid_column": null,
            "grid_gap": null,
            "grid_row": null,
            "grid_template_areas": null,
            "grid_template_columns": null,
            "grid_template_rows": null,
            "height": null,
            "justify_content": null,
            "justify_items": null,
            "left": null,
            "margin": null,
            "max_height": null,
            "max_width": null,
            "min_height": null,
            "min_width": null,
            "object_fit": null,
            "object_position": null,
            "order": null,
            "overflow": null,
            "overflow_x": null,
            "overflow_y": null,
            "padding": null,
            "right": null,
            "top": null,
            "visibility": null,
            "width": null
          }
        },
        "edce0154202640d392a84523bd80ef80": {
          "model_module": "@jupyter-widgets/controls",
          "model_name": "DescriptionStyleModel",
          "model_module_version": "1.5.0",
          "state": {
            "_model_module": "@jupyter-widgets/controls",
            "_model_module_version": "1.5.0",
            "_model_name": "DescriptionStyleModel",
            "_view_count": null,
            "_view_module": "@jupyter-widgets/base",
            "_view_module_version": "1.2.0",
            "_view_name": "StyleView",
            "description_width": ""
          }
        },
        "bfd8d8f08dfa4422bcdd6adae630392c": {
          "model_module": "@jupyter-widgets/controls",
          "model_name": "HBoxModel",
          "model_module_version": "1.5.0",
          "state": {
            "_dom_classes": [],
            "_model_module": "@jupyter-widgets/controls",
            "_model_module_version": "1.5.0",
            "_model_name": "HBoxModel",
            "_view_count": null,
            "_view_module": "@jupyter-widgets/controls",
            "_view_module_version": "1.5.0",
            "_view_name": "HBoxView",
            "box_style": "",
            "children": [
              "IPY_MODEL_91998e8f11b7495693797c8f9ae658a1",
              "IPY_MODEL_c64d9318eee94520b98e7db004a4f7cd",
              "IPY_MODEL_003129971d85429fa5ee11bf3e91b448"
            ],
            "layout": "IPY_MODEL_a063e6c235c14a08993f42db5db62325"
          }
        },
        "91998e8f11b7495693797c8f9ae658a1": {
          "model_module": "@jupyter-widgets/controls",
          "model_name": "HTMLModel",
          "model_module_version": "1.5.0",
          "state": {
            "_dom_classes": [],
            "_model_module": "@jupyter-widgets/controls",
            "_model_module_version": "1.5.0",
            "_model_name": "HTMLModel",
            "_view_count": null,
            "_view_module": "@jupyter-widgets/controls",
            "_view_module_version": "1.5.0",
            "_view_name": "HTMLView",
            "description": "",
            "description_tooltip": null,
            "layout": "IPY_MODEL_69a78929a4734daeb8494e455da99730",
            "placeholder": "​",
            "style": "IPY_MODEL_cde2109d9abe4f22a6a4fa932d6948d5",
            "value": "Generating validation split: "
          }
        },
        "c64d9318eee94520b98e7db004a4f7cd": {
          "model_module": "@jupyter-widgets/controls",
          "model_name": "FloatProgressModel",
          "model_module_version": "1.5.0",
          "state": {
            "_dom_classes": [],
            "_model_module": "@jupyter-widgets/controls",
            "_model_module_version": "1.5.0",
            "_model_name": "FloatProgressModel",
            "_view_count": null,
            "_view_module": "@jupyter-widgets/controls",
            "_view_module_version": "1.5.0",
            "_view_name": "ProgressView",
            "bar_style": "info",
            "description": "",
            "description_tooltip": null,
            "layout": "IPY_MODEL_d140f840dec04d59bb32aa9bab2b8741",
            "max": 1,
            "min": 0,
            "orientation": "horizontal",
            "style": "IPY_MODEL_24f8543be6ee4af9b9ab519d1bdb8d37",
            "value": 1
          }
        },
        "003129971d85429fa5ee11bf3e91b448": {
          "model_module": "@jupyter-widgets/controls",
          "model_name": "HTMLModel",
          "model_module_version": "1.5.0",
          "state": {
            "_dom_classes": [],
            "_model_module": "@jupyter-widgets/controls",
            "_model_module_version": "1.5.0",
            "_model_name": "HTMLModel",
            "_view_count": null,
            "_view_module": "@jupyter-widgets/controls",
            "_view_module_version": "1.5.0",
            "_view_name": "HTMLView",
            "description": "",
            "description_tooltip": null,
            "layout": "IPY_MODEL_01d0ff04abf14ca59316a54ebf1e6873",
            "placeholder": "​",
            "style": "IPY_MODEL_30009bf550524ec68ba1aa0c76a02216",
            "value": " 1623/0 [00:04&lt;00:00, 230.52 examples/s]"
          }
        },
        "a063e6c235c14a08993f42db5db62325": {
          "model_module": "@jupyter-widgets/base",
          "model_name": "LayoutModel",
          "model_module_version": "1.2.0",
          "state": {
            "_model_module": "@jupyter-widgets/base",
            "_model_module_version": "1.2.0",
            "_model_name": "LayoutModel",
            "_view_count": null,
            "_view_module": "@jupyter-widgets/base",
            "_view_module_version": "1.2.0",
            "_view_name": "LayoutView",
            "align_content": null,
            "align_items": null,
            "align_self": null,
            "border": null,
            "bottom": null,
            "display": null,
            "flex": null,
            "flex_flow": null,
            "grid_area": null,
            "grid_auto_columns": null,
            "grid_auto_flow": null,
            "grid_auto_rows": null,
            "grid_column": null,
            "grid_gap": null,
            "grid_row": null,
            "grid_template_areas": null,
            "grid_template_columns": null,
            "grid_template_rows": null,
            "height": null,
            "justify_content": null,
            "justify_items": null,
            "left": null,
            "margin": null,
            "max_height": null,
            "max_width": null,
            "min_height": null,
            "min_width": null,
            "object_fit": null,
            "object_position": null,
            "order": null,
            "overflow": null,
            "overflow_x": null,
            "overflow_y": null,
            "padding": null,
            "right": null,
            "top": null,
            "visibility": "hidden",
            "width": null
          }
        },
        "69a78929a4734daeb8494e455da99730": {
          "model_module": "@jupyter-widgets/base",
          "model_name": "LayoutModel",
          "model_module_version": "1.2.0",
          "state": {
            "_model_module": "@jupyter-widgets/base",
            "_model_module_version": "1.2.0",
            "_model_name": "LayoutModel",
            "_view_count": null,
            "_view_module": "@jupyter-widgets/base",
            "_view_module_version": "1.2.0",
            "_view_name": "LayoutView",
            "align_content": null,
            "align_items": null,
            "align_self": null,
            "border": null,
            "bottom": null,
            "display": null,
            "flex": null,
            "flex_flow": null,
            "grid_area": null,
            "grid_auto_columns": null,
            "grid_auto_flow": null,
            "grid_auto_rows": null,
            "grid_column": null,
            "grid_gap": null,
            "grid_row": null,
            "grid_template_areas": null,
            "grid_template_columns": null,
            "grid_template_rows": null,
            "height": null,
            "justify_content": null,
            "justify_items": null,
            "left": null,
            "margin": null,
            "max_height": null,
            "max_width": null,
            "min_height": null,
            "min_width": null,
            "object_fit": null,
            "object_position": null,
            "order": null,
            "overflow": null,
            "overflow_x": null,
            "overflow_y": null,
            "padding": null,
            "right": null,
            "top": null,
            "visibility": null,
            "width": null
          }
        },
        "cde2109d9abe4f22a6a4fa932d6948d5": {
          "model_module": "@jupyter-widgets/controls",
          "model_name": "DescriptionStyleModel",
          "model_module_version": "1.5.0",
          "state": {
            "_model_module": "@jupyter-widgets/controls",
            "_model_module_version": "1.5.0",
            "_model_name": "DescriptionStyleModel",
            "_view_count": null,
            "_view_module": "@jupyter-widgets/base",
            "_view_module_version": "1.2.0",
            "_view_name": "StyleView",
            "description_width": ""
          }
        },
        "d140f840dec04d59bb32aa9bab2b8741": {
          "model_module": "@jupyter-widgets/base",
          "model_name": "LayoutModel",
          "model_module_version": "1.2.0",
          "state": {
            "_model_module": "@jupyter-widgets/base",
            "_model_module_version": "1.2.0",
            "_model_name": "LayoutModel",
            "_view_count": null,
            "_view_module": "@jupyter-widgets/base",
            "_view_module_version": "1.2.0",
            "_view_name": "LayoutView",
            "align_content": null,
            "align_items": null,
            "align_self": null,
            "border": null,
            "bottom": null,
            "display": null,
            "flex": null,
            "flex_flow": null,
            "grid_area": null,
            "grid_auto_columns": null,
            "grid_auto_flow": null,
            "grid_auto_rows": null,
            "grid_column": null,
            "grid_gap": null,
            "grid_row": null,
            "grid_template_areas": null,
            "grid_template_columns": null,
            "grid_template_rows": null,
            "height": null,
            "justify_content": null,
            "justify_items": null,
            "left": null,
            "margin": null,
            "max_height": null,
            "max_width": null,
            "min_height": null,
            "min_width": null,
            "object_fit": null,
            "object_position": null,
            "order": null,
            "overflow": null,
            "overflow_x": null,
            "overflow_y": null,
            "padding": null,
            "right": null,
            "top": null,
            "visibility": null,
            "width": "20px"
          }
        },
        "24f8543be6ee4af9b9ab519d1bdb8d37": {
          "model_module": "@jupyter-widgets/controls",
          "model_name": "ProgressStyleModel",
          "model_module_version": "1.5.0",
          "state": {
            "_model_module": "@jupyter-widgets/controls",
            "_model_module_version": "1.5.0",
            "_model_name": "ProgressStyleModel",
            "_view_count": null,
            "_view_module": "@jupyter-widgets/base",
            "_view_module_version": "1.2.0",
            "_view_name": "StyleView",
            "bar_color": null,
            "description_width": ""
          }
        },
        "01d0ff04abf14ca59316a54ebf1e6873": {
          "model_module": "@jupyter-widgets/base",
          "model_name": "LayoutModel",
          "model_module_version": "1.2.0",
          "state": {
            "_model_module": "@jupyter-widgets/base",
            "_model_module_version": "1.2.0",
            "_model_name": "LayoutModel",
            "_view_count": null,
            "_view_module": "@jupyter-widgets/base",
            "_view_module_version": "1.2.0",
            "_view_name": "LayoutView",
            "align_content": null,
            "align_items": null,
            "align_self": null,
            "border": null,
            "bottom": null,
            "display": null,
            "flex": null,
            "flex_flow": null,
            "grid_area": null,
            "grid_auto_columns": null,
            "grid_auto_flow": null,
            "grid_auto_rows": null,
            "grid_column": null,
            "grid_gap": null,
            "grid_row": null,
            "grid_template_areas": null,
            "grid_template_columns": null,
            "grid_template_rows": null,
            "height": null,
            "justify_content": null,
            "justify_items": null,
            "left": null,
            "margin": null,
            "max_height": null,
            "max_width": null,
            "min_height": null,
            "min_width": null,
            "object_fit": null,
            "object_position": null,
            "order": null,
            "overflow": null,
            "overflow_x": null,
            "overflow_y": null,
            "padding": null,
            "right": null,
            "top": null,
            "visibility": null,
            "width": null
          }
        },
        "30009bf550524ec68ba1aa0c76a02216": {
          "model_module": "@jupyter-widgets/controls",
          "model_name": "DescriptionStyleModel",
          "model_module_version": "1.5.0",
          "state": {
            "_model_module": "@jupyter-widgets/controls",
            "_model_module_version": "1.5.0",
            "_model_name": "DescriptionStyleModel",
            "_view_count": null,
            "_view_module": "@jupyter-widgets/base",
            "_view_module_version": "1.2.0",
            "_view_name": "StyleView",
            "description_width": ""
          }
        },
        "b9ae154d85fe4f92a9820753f890dd9a": {
          "model_module": "@jupyter-widgets/controls",
          "model_name": "HBoxModel",
          "model_module_version": "1.5.0",
          "state": {
            "_dom_classes": [],
            "_model_module": "@jupyter-widgets/controls",
            "_model_module_version": "1.5.0",
            "_model_name": "HBoxModel",
            "_view_count": null,
            "_view_module": "@jupyter-widgets/controls",
            "_view_module_version": "1.5.0",
            "_view_name": "HBoxView",
            "box_style": "",
            "children": [
              "IPY_MODEL_6170add118684e869599d0ca9fd0c9e4",
              "IPY_MODEL_66a9fdd118c74d289b7a572bc2312aff",
              "IPY_MODEL_71ca15c68a684023894f8b2e2eefd9b4"
            ],
            "layout": "IPY_MODEL_504a6ce7bdc64d0ca7fafb3d22ec31b1"
          }
        },
        "6170add118684e869599d0ca9fd0c9e4": {
          "model_module": "@jupyter-widgets/controls",
          "model_name": "HTMLModel",
          "model_module_version": "1.5.0",
          "state": {
            "_dom_classes": [],
            "_model_module": "@jupyter-widgets/controls",
            "_model_module_version": "1.5.0",
            "_model_name": "HTMLModel",
            "_view_count": null,
            "_view_module": "@jupyter-widgets/controls",
            "_view_module_version": "1.5.0",
            "_view_name": "HTMLView",
            "description": "",
            "description_tooltip": null,
            "layout": "IPY_MODEL_c74bd5ed3e7647ddb132dc3fd66692af",
            "placeholder": "​",
            "style": "IPY_MODEL_6c14e0248fbe41f29be934fe60d1774e",
            "value": "Generating other split: "
          }
        },
        "66a9fdd118c74d289b7a572bc2312aff": {
          "model_module": "@jupyter-widgets/controls",
          "model_name": "FloatProgressModel",
          "model_module_version": "1.5.0",
          "state": {
            "_dom_classes": [],
            "_model_module": "@jupyter-widgets/controls",
            "_model_module_version": "1.5.0",
            "_model_name": "FloatProgressModel",
            "_view_count": null,
            "_view_module": "@jupyter-widgets/controls",
            "_view_module_version": "1.5.0",
            "_view_name": "ProgressView",
            "bar_style": "info",
            "description": "",
            "description_tooltip": null,
            "layout": "IPY_MODEL_e40cb5103ea845cfae2c77c6e70b0748",
            "max": 1,
            "min": 0,
            "orientation": "horizontal",
            "style": "IPY_MODEL_20edfa913d1d4ca59b9aa31ee12348ef",
            "value": 1
          }
        },
        "71ca15c68a684023894f8b2e2eefd9b4": {
          "model_module": "@jupyter-widgets/controls",
          "model_name": "HTMLModel",
          "model_module_version": "1.5.0",
          "state": {
            "_dom_classes": [],
            "_model_module": "@jupyter-widgets/controls",
            "_model_module_version": "1.5.0",
            "_model_name": "HTMLModel",
            "_view_count": null,
            "_view_module": "@jupyter-widgets/controls",
            "_view_module_version": "1.5.0",
            "_view_name": "HTMLView",
            "description": "",
            "description_tooltip": null,
            "layout": "IPY_MODEL_1274b9712e5840bba5189b5ba9c06911",
            "placeholder": "​",
            "style": "IPY_MODEL_5af693144e9e4a709e7c18ddddc48268",
            "value": " 259/0 [00:04&lt;00:00, 116.40 examples/s]"
          }
        },
        "504a6ce7bdc64d0ca7fafb3d22ec31b1": {
          "model_module": "@jupyter-widgets/base",
          "model_name": "LayoutModel",
          "model_module_version": "1.2.0",
          "state": {
            "_model_module": "@jupyter-widgets/base",
            "_model_module_version": "1.2.0",
            "_model_name": "LayoutModel",
            "_view_count": null,
            "_view_module": "@jupyter-widgets/base",
            "_view_module_version": "1.2.0",
            "_view_name": "LayoutView",
            "align_content": null,
            "align_items": null,
            "align_self": null,
            "border": null,
            "bottom": null,
            "display": null,
            "flex": null,
            "flex_flow": null,
            "grid_area": null,
            "grid_auto_columns": null,
            "grid_auto_flow": null,
            "grid_auto_rows": null,
            "grid_column": null,
            "grid_gap": null,
            "grid_row": null,
            "grid_template_areas": null,
            "grid_template_columns": null,
            "grid_template_rows": null,
            "height": null,
            "justify_content": null,
            "justify_items": null,
            "left": null,
            "margin": null,
            "max_height": null,
            "max_width": null,
            "min_height": null,
            "min_width": null,
            "object_fit": null,
            "object_position": null,
            "order": null,
            "overflow": null,
            "overflow_x": null,
            "overflow_y": null,
            "padding": null,
            "right": null,
            "top": null,
            "visibility": "hidden",
            "width": null
          }
        },
        "c74bd5ed3e7647ddb132dc3fd66692af": {
          "model_module": "@jupyter-widgets/base",
          "model_name": "LayoutModel",
          "model_module_version": "1.2.0",
          "state": {
            "_model_module": "@jupyter-widgets/base",
            "_model_module_version": "1.2.0",
            "_model_name": "LayoutModel",
            "_view_count": null,
            "_view_module": "@jupyter-widgets/base",
            "_view_module_version": "1.2.0",
            "_view_name": "LayoutView",
            "align_content": null,
            "align_items": null,
            "align_self": null,
            "border": null,
            "bottom": null,
            "display": null,
            "flex": null,
            "flex_flow": null,
            "grid_area": null,
            "grid_auto_columns": null,
            "grid_auto_flow": null,
            "grid_auto_rows": null,
            "grid_column": null,
            "grid_gap": null,
            "grid_row": null,
            "grid_template_areas": null,
            "grid_template_columns": null,
            "grid_template_rows": null,
            "height": null,
            "justify_content": null,
            "justify_items": null,
            "left": null,
            "margin": null,
            "max_height": null,
            "max_width": null,
            "min_height": null,
            "min_width": null,
            "object_fit": null,
            "object_position": null,
            "order": null,
            "overflow": null,
            "overflow_x": null,
            "overflow_y": null,
            "padding": null,
            "right": null,
            "top": null,
            "visibility": null,
            "width": null
          }
        },
        "6c14e0248fbe41f29be934fe60d1774e": {
          "model_module": "@jupyter-widgets/controls",
          "model_name": "DescriptionStyleModel",
          "model_module_version": "1.5.0",
          "state": {
            "_model_module": "@jupyter-widgets/controls",
            "_model_module_version": "1.5.0",
            "_model_name": "DescriptionStyleModel",
            "_view_count": null,
            "_view_module": "@jupyter-widgets/base",
            "_view_module_version": "1.2.0",
            "_view_name": "StyleView",
            "description_width": ""
          }
        },
        "e40cb5103ea845cfae2c77c6e70b0748": {
          "model_module": "@jupyter-widgets/base",
          "model_name": "LayoutModel",
          "model_module_version": "1.2.0",
          "state": {
            "_model_module": "@jupyter-widgets/base",
            "_model_module_version": "1.2.0",
            "_model_name": "LayoutModel",
            "_view_count": null,
            "_view_module": "@jupyter-widgets/base",
            "_view_module_version": "1.2.0",
            "_view_name": "LayoutView",
            "align_content": null,
            "align_items": null,
            "align_self": null,
            "border": null,
            "bottom": null,
            "display": null,
            "flex": null,
            "flex_flow": null,
            "grid_area": null,
            "grid_auto_columns": null,
            "grid_auto_flow": null,
            "grid_auto_rows": null,
            "grid_column": null,
            "grid_gap": null,
            "grid_row": null,
            "grid_template_areas": null,
            "grid_template_columns": null,
            "grid_template_rows": null,
            "height": null,
            "justify_content": null,
            "justify_items": null,
            "left": null,
            "margin": null,
            "max_height": null,
            "max_width": null,
            "min_height": null,
            "min_width": null,
            "object_fit": null,
            "object_position": null,
            "order": null,
            "overflow": null,
            "overflow_x": null,
            "overflow_y": null,
            "padding": null,
            "right": null,
            "top": null,
            "visibility": null,
            "width": "20px"
          }
        },
        "20edfa913d1d4ca59b9aa31ee12348ef": {
          "model_module": "@jupyter-widgets/controls",
          "model_name": "ProgressStyleModel",
          "model_module_version": "1.5.0",
          "state": {
            "_model_module": "@jupyter-widgets/controls",
            "_model_module_version": "1.5.0",
            "_model_name": "ProgressStyleModel",
            "_view_count": null,
            "_view_module": "@jupyter-widgets/base",
            "_view_module_version": "1.2.0",
            "_view_name": "StyleView",
            "bar_color": null,
            "description_width": ""
          }
        },
        "1274b9712e5840bba5189b5ba9c06911": {
          "model_module": "@jupyter-widgets/base",
          "model_name": "LayoutModel",
          "model_module_version": "1.2.0",
          "state": {
            "_model_module": "@jupyter-widgets/base",
            "_model_module_version": "1.2.0",
            "_model_name": "LayoutModel",
            "_view_count": null,
            "_view_module": "@jupyter-widgets/base",
            "_view_module_version": "1.2.0",
            "_view_name": "LayoutView",
            "align_content": null,
            "align_items": null,
            "align_self": null,
            "border": null,
            "bottom": null,
            "display": null,
            "flex": null,
            "flex_flow": null,
            "grid_area": null,
            "grid_auto_columns": null,
            "grid_auto_flow": null,
            "grid_auto_rows": null,
            "grid_column": null,
            "grid_gap": null,
            "grid_row": null,
            "grid_template_areas": null,
            "grid_template_columns": null,
            "grid_template_rows": null,
            "height": null,
            "justify_content": null,
            "justify_items": null,
            "left": null,
            "margin": null,
            "max_height": null,
            "max_width": null,
            "min_height": null,
            "min_width": null,
            "object_fit": null,
            "object_position": null,
            "order": null,
            "overflow": null,
            "overflow_x": null,
            "overflow_y": null,
            "padding": null,
            "right": null,
            "top": null,
            "visibility": null,
            "width": null
          }
        },
        "5af693144e9e4a709e7c18ddddc48268": {
          "model_module": "@jupyter-widgets/controls",
          "model_name": "DescriptionStyleModel",
          "model_module_version": "1.5.0",
          "state": {
            "_model_module": "@jupyter-widgets/controls",
            "_model_module_version": "1.5.0",
            "_model_name": "DescriptionStyleModel",
            "_view_count": null,
            "_view_module": "@jupyter-widgets/base",
            "_view_module_version": "1.2.0",
            "_view_name": "StyleView",
            "description_width": ""
          }
        },
        "7da0f949d1fa43ceba5bf1fb8ecbccc1": {
          "model_module": "@jupyter-widgets/controls",
          "model_name": "HBoxModel",
          "model_module_version": "1.5.0",
          "state": {
            "_dom_classes": [],
            "_model_module": "@jupyter-widgets/controls",
            "_model_module_version": "1.5.0",
            "_model_name": "HBoxModel",
            "_view_count": null,
            "_view_module": "@jupyter-widgets/controls",
            "_view_module_version": "1.5.0",
            "_view_name": "HBoxView",
            "box_style": "",
            "children": [
              "IPY_MODEL_bf0abd569e0a4ffbb6f81b0d857a7332",
              "IPY_MODEL_ead501cbe78042e8ba1c72c02868c87b",
              "IPY_MODEL_066e4a1dc5e34108b553fb54b5027b36"
            ],
            "layout": "IPY_MODEL_265510d1ed16421195e5baf7f2f07bc5"
          }
        },
        "bf0abd569e0a4ffbb6f81b0d857a7332": {
          "model_module": "@jupyter-widgets/controls",
          "model_name": "HTMLModel",
          "model_module_version": "1.5.0",
          "state": {
            "_dom_classes": [],
            "_model_module": "@jupyter-widgets/controls",
            "_model_module_version": "1.5.0",
            "_model_name": "HTMLModel",
            "_view_count": null,
            "_view_module": "@jupyter-widgets/controls",
            "_view_module_version": "1.5.0",
            "_view_name": "HTMLView",
            "description": "",
            "description_tooltip": null,
            "layout": "IPY_MODEL_5ceccb059a3d45c2a0db7ad52d2bd2c2",
            "placeholder": "​",
            "style": "IPY_MODEL_343bef4dc50f48b7ab84384483baaa8c",
            "value": "Generating invalidated split: "
          }
        },
        "ead501cbe78042e8ba1c72c02868c87b": {
          "model_module": "@jupyter-widgets/controls",
          "model_name": "FloatProgressModel",
          "model_module_version": "1.5.0",
          "state": {
            "_dom_classes": [],
            "_model_module": "@jupyter-widgets/controls",
            "_model_module_version": "1.5.0",
            "_model_name": "FloatProgressModel",
            "_view_count": null,
            "_view_module": "@jupyter-widgets/controls",
            "_view_module_version": "1.5.0",
            "_view_name": "ProgressView",
            "bar_style": "info",
            "description": "",
            "description_tooltip": null,
            "layout": "IPY_MODEL_2c3e436a6b6341c4b69bbb456a9a92a8",
            "max": 1,
            "min": 0,
            "orientation": "horizontal",
            "style": "IPY_MODEL_1afa346ace4d44199b22d64fe11b83e7",
            "value": 1
          }
        },
        "066e4a1dc5e34108b553fb54b5027b36": {
          "model_module": "@jupyter-widgets/controls",
          "model_name": "HTMLModel",
          "model_module_version": "1.5.0",
          "state": {
            "_dom_classes": [],
            "_model_module": "@jupyter-widgets/controls",
            "_model_module_version": "1.5.0",
            "_model_name": "HTMLModel",
            "_view_count": null,
            "_view_module": "@jupyter-widgets/controls",
            "_view_module_version": "1.5.0",
            "_view_name": "HTMLView",
            "description": "",
            "description_tooltip": null,
            "layout": "IPY_MODEL_cd59557b486c4baeaf705a182fd13c35",
            "placeholder": "​",
            "style": "IPY_MODEL_806a66b8a24e4ff5974f52f03f70ed52",
            "value": " 1726/0 [00:05&lt;00:00, 243.41 examples/s]"
          }
        },
        "265510d1ed16421195e5baf7f2f07bc5": {
          "model_module": "@jupyter-widgets/base",
          "model_name": "LayoutModel",
          "model_module_version": "1.2.0",
          "state": {
            "_model_module": "@jupyter-widgets/base",
            "_model_module_version": "1.2.0",
            "_model_name": "LayoutModel",
            "_view_count": null,
            "_view_module": "@jupyter-widgets/base",
            "_view_module_version": "1.2.0",
            "_view_name": "LayoutView",
            "align_content": null,
            "align_items": null,
            "align_self": null,
            "border": null,
            "bottom": null,
            "display": null,
            "flex": null,
            "flex_flow": null,
            "grid_area": null,
            "grid_auto_columns": null,
            "grid_auto_flow": null,
            "grid_auto_rows": null,
            "grid_column": null,
            "grid_gap": null,
            "grid_row": null,
            "grid_template_areas": null,
            "grid_template_columns": null,
            "grid_template_rows": null,
            "height": null,
            "justify_content": null,
            "justify_items": null,
            "left": null,
            "margin": null,
            "max_height": null,
            "max_width": null,
            "min_height": null,
            "min_width": null,
            "object_fit": null,
            "object_position": null,
            "order": null,
            "overflow": null,
            "overflow_x": null,
            "overflow_y": null,
            "padding": null,
            "right": null,
            "top": null,
            "visibility": "hidden",
            "width": null
          }
        },
        "5ceccb059a3d45c2a0db7ad52d2bd2c2": {
          "model_module": "@jupyter-widgets/base",
          "model_name": "LayoutModel",
          "model_module_version": "1.2.0",
          "state": {
            "_model_module": "@jupyter-widgets/base",
            "_model_module_version": "1.2.0",
            "_model_name": "LayoutModel",
            "_view_count": null,
            "_view_module": "@jupyter-widgets/base",
            "_view_module_version": "1.2.0",
            "_view_name": "LayoutView",
            "align_content": null,
            "align_items": null,
            "align_self": null,
            "border": null,
            "bottom": null,
            "display": null,
            "flex": null,
            "flex_flow": null,
            "grid_area": null,
            "grid_auto_columns": null,
            "grid_auto_flow": null,
            "grid_auto_rows": null,
            "grid_column": null,
            "grid_gap": null,
            "grid_row": null,
            "grid_template_areas": null,
            "grid_template_columns": null,
            "grid_template_rows": null,
            "height": null,
            "justify_content": null,
            "justify_items": null,
            "left": null,
            "margin": null,
            "max_height": null,
            "max_width": null,
            "min_height": null,
            "min_width": null,
            "object_fit": null,
            "object_position": null,
            "order": null,
            "overflow": null,
            "overflow_x": null,
            "overflow_y": null,
            "padding": null,
            "right": null,
            "top": null,
            "visibility": null,
            "width": null
          }
        },
        "343bef4dc50f48b7ab84384483baaa8c": {
          "model_module": "@jupyter-widgets/controls",
          "model_name": "DescriptionStyleModel",
          "model_module_version": "1.5.0",
          "state": {
            "_model_module": "@jupyter-widgets/controls",
            "_model_module_version": "1.5.0",
            "_model_name": "DescriptionStyleModel",
            "_view_count": null,
            "_view_module": "@jupyter-widgets/base",
            "_view_module_version": "1.2.0",
            "_view_name": "StyleView",
            "description_width": ""
          }
        },
        "2c3e436a6b6341c4b69bbb456a9a92a8": {
          "model_module": "@jupyter-widgets/base",
          "model_name": "LayoutModel",
          "model_module_version": "1.2.0",
          "state": {
            "_model_module": "@jupyter-widgets/base",
            "_model_module_version": "1.2.0",
            "_model_name": "LayoutModel",
            "_view_count": null,
            "_view_module": "@jupyter-widgets/base",
            "_view_module_version": "1.2.0",
            "_view_name": "LayoutView",
            "align_content": null,
            "align_items": null,
            "align_self": null,
            "border": null,
            "bottom": null,
            "display": null,
            "flex": null,
            "flex_flow": null,
            "grid_area": null,
            "grid_auto_columns": null,
            "grid_auto_flow": null,
            "grid_auto_rows": null,
            "grid_column": null,
            "grid_gap": null,
            "grid_row": null,
            "grid_template_areas": null,
            "grid_template_columns": null,
            "grid_template_rows": null,
            "height": null,
            "justify_content": null,
            "justify_items": null,
            "left": null,
            "margin": null,
            "max_height": null,
            "max_width": null,
            "min_height": null,
            "min_width": null,
            "object_fit": null,
            "object_position": null,
            "order": null,
            "overflow": null,
            "overflow_x": null,
            "overflow_y": null,
            "padding": null,
            "right": null,
            "top": null,
            "visibility": null,
            "width": "20px"
          }
        },
        "1afa346ace4d44199b22d64fe11b83e7": {
          "model_module": "@jupyter-widgets/controls",
          "model_name": "ProgressStyleModel",
          "model_module_version": "1.5.0",
          "state": {
            "_model_module": "@jupyter-widgets/controls",
            "_model_module_version": "1.5.0",
            "_model_name": "ProgressStyleModel",
            "_view_count": null,
            "_view_module": "@jupyter-widgets/base",
            "_view_module_version": "1.2.0",
            "_view_name": "StyleView",
            "bar_color": null,
            "description_width": ""
          }
        },
        "cd59557b486c4baeaf705a182fd13c35": {
          "model_module": "@jupyter-widgets/base",
          "model_name": "LayoutModel",
          "model_module_version": "1.2.0",
          "state": {
            "_model_module": "@jupyter-widgets/base",
            "_model_module_version": "1.2.0",
            "_model_name": "LayoutModel",
            "_view_count": null,
            "_view_module": "@jupyter-widgets/base",
            "_view_module_version": "1.2.0",
            "_view_name": "LayoutView",
            "align_content": null,
            "align_items": null,
            "align_self": null,
            "border": null,
            "bottom": null,
            "display": null,
            "flex": null,
            "flex_flow": null,
            "grid_area": null,
            "grid_auto_columns": null,
            "grid_auto_flow": null,
            "grid_auto_rows": null,
            "grid_column": null,
            "grid_gap": null,
            "grid_row": null,
            "grid_template_areas": null,
            "grid_template_columns": null,
            "grid_template_rows": null,
            "height": null,
            "justify_content": null,
            "justify_items": null,
            "left": null,
            "margin": null,
            "max_height": null,
            "max_width": null,
            "min_height": null,
            "min_width": null,
            "object_fit": null,
            "object_position": null,
            "order": null,
            "overflow": null,
            "overflow_x": null,
            "overflow_y": null,
            "padding": null,
            "right": null,
            "top": null,
            "visibility": null,
            "width": null
          }
        },
        "806a66b8a24e4ff5974f52f03f70ed52": {
          "model_module": "@jupyter-widgets/controls",
          "model_name": "DescriptionStyleModel",
          "model_module_version": "1.5.0",
          "state": {
            "_model_module": "@jupyter-widgets/controls",
            "_model_module_version": "1.5.0",
            "_model_name": "DescriptionStyleModel",
            "_view_count": null,
            "_view_module": "@jupyter-widgets/base",
            "_view_module_version": "1.2.0",
            "_view_name": "StyleView",
            "description_width": ""
          }
        },
        "1b225e8ecd2e4228b29136664b1e528b": {
          "model_module": "@jupyter-widgets/controls",
          "model_name": "HBoxModel",
          "model_module_version": "1.5.0",
          "state": {
            "_dom_classes": [],
            "_model_module": "@jupyter-widgets/controls",
            "_model_module_version": "1.5.0",
            "_model_name": "HBoxModel",
            "_view_count": null,
            "_view_module": "@jupyter-widgets/controls",
            "_view_module_version": "1.5.0",
            "_view_name": "HBoxView",
            "box_style": "",
            "children": [
              "IPY_MODEL_4a20b1b8aa3d4040bc5a38a7ea4e9b33",
              "IPY_MODEL_5f479c390a9c49f3b273fbdc58249253",
              "IPY_MODEL_5cabee2642124939a5d944760fff5dd3"
            ],
            "layout": "IPY_MODEL_2c625b3899c248418ed89e40931d5e1f"
          }
        },
        "4a20b1b8aa3d4040bc5a38a7ea4e9b33": {
          "model_module": "@jupyter-widgets/controls",
          "model_name": "HTMLModel",
          "model_module_version": "1.5.0",
          "state": {
            "_dom_classes": [],
            "_model_module": "@jupyter-widgets/controls",
            "_model_module_version": "1.5.0",
            "_model_name": "HTMLModel",
            "_view_count": null,
            "_view_module": "@jupyter-widgets/controls",
            "_view_module_version": "1.5.0",
            "_view_name": "HTMLView",
            "description": "",
            "description_tooltip": null,
            "layout": "IPY_MODEL_e3248eac9bf248ebb0dd6f6742fa5cc3",
            "placeholder": "​",
            "style": "IPY_MODEL_581cfd26e44843ee8764de1fe4758567",
            "value": "Downloading (…)pter.swe.safetensors: 100%"
          }
        },
        "5f479c390a9c49f3b273fbdc58249253": {
          "model_module": "@jupyter-widgets/controls",
          "model_name": "FloatProgressModel",
          "model_module_version": "1.5.0",
          "state": {
            "_dom_classes": [],
            "_model_module": "@jupyter-widgets/controls",
            "_model_module_version": "1.5.0",
            "_model_name": "FloatProgressModel",
            "_view_count": null,
            "_view_module": "@jupyter-widgets/controls",
            "_view_module_version": "1.5.0",
            "_view_name": "ProgressView",
            "bar_style": "success",
            "description": "",
            "description_tooltip": null,
            "layout": "IPY_MODEL_09e2a96b05274ccc8a68bd50052c6b06",
            "max": 9018880,
            "min": 0,
            "orientation": "horizontal",
            "style": "IPY_MODEL_70ba5e69e77c42df8b63d2a244c6ef6b",
            "value": 9018880
          }
        },
        "5cabee2642124939a5d944760fff5dd3": {
          "model_module": "@jupyter-widgets/controls",
          "model_name": "HTMLModel",
          "model_module_version": "1.5.0",
          "state": {
            "_dom_classes": [],
            "_model_module": "@jupyter-widgets/controls",
            "_model_module_version": "1.5.0",
            "_model_name": "HTMLModel",
            "_view_count": null,
            "_view_module": "@jupyter-widgets/controls",
            "_view_module_version": "1.5.0",
            "_view_name": "HTMLView",
            "description": "",
            "description_tooltip": null,
            "layout": "IPY_MODEL_b112527cd9564cc5983982e3df8b7bdc",
            "placeholder": "​",
            "style": "IPY_MODEL_336a3bfe1e4c4b87a2d099314c7ad240",
            "value": " 9.02M/9.02M [00:01&lt;00:00, 5.28MB/s]"
          }
        },
        "2c625b3899c248418ed89e40931d5e1f": {
          "model_module": "@jupyter-widgets/base",
          "model_name": "LayoutModel",
          "model_module_version": "1.2.0",
          "state": {
            "_model_module": "@jupyter-widgets/base",
            "_model_module_version": "1.2.0",
            "_model_name": "LayoutModel",
            "_view_count": null,
            "_view_module": "@jupyter-widgets/base",
            "_view_module_version": "1.2.0",
            "_view_name": "LayoutView",
            "align_content": null,
            "align_items": null,
            "align_self": null,
            "border": null,
            "bottom": null,
            "display": null,
            "flex": null,
            "flex_flow": null,
            "grid_area": null,
            "grid_auto_columns": null,
            "grid_auto_flow": null,
            "grid_auto_rows": null,
            "grid_column": null,
            "grid_gap": null,
            "grid_row": null,
            "grid_template_areas": null,
            "grid_template_columns": null,
            "grid_template_rows": null,
            "height": null,
            "justify_content": null,
            "justify_items": null,
            "left": null,
            "margin": null,
            "max_height": null,
            "max_width": null,
            "min_height": null,
            "min_width": null,
            "object_fit": null,
            "object_position": null,
            "order": null,
            "overflow": null,
            "overflow_x": null,
            "overflow_y": null,
            "padding": null,
            "right": null,
            "top": null,
            "visibility": null,
            "width": null
          }
        },
        "e3248eac9bf248ebb0dd6f6742fa5cc3": {
          "model_module": "@jupyter-widgets/base",
          "model_name": "LayoutModel",
          "model_module_version": "1.2.0",
          "state": {
            "_model_module": "@jupyter-widgets/base",
            "_model_module_version": "1.2.0",
            "_model_name": "LayoutModel",
            "_view_count": null,
            "_view_module": "@jupyter-widgets/base",
            "_view_module_version": "1.2.0",
            "_view_name": "LayoutView",
            "align_content": null,
            "align_items": null,
            "align_self": null,
            "border": null,
            "bottom": null,
            "display": null,
            "flex": null,
            "flex_flow": null,
            "grid_area": null,
            "grid_auto_columns": null,
            "grid_auto_flow": null,
            "grid_auto_rows": null,
            "grid_column": null,
            "grid_gap": null,
            "grid_row": null,
            "grid_template_areas": null,
            "grid_template_columns": null,
            "grid_template_rows": null,
            "height": null,
            "justify_content": null,
            "justify_items": null,
            "left": null,
            "margin": null,
            "max_height": null,
            "max_width": null,
            "min_height": null,
            "min_width": null,
            "object_fit": null,
            "object_position": null,
            "order": null,
            "overflow": null,
            "overflow_x": null,
            "overflow_y": null,
            "padding": null,
            "right": null,
            "top": null,
            "visibility": null,
            "width": null
          }
        },
        "581cfd26e44843ee8764de1fe4758567": {
          "model_module": "@jupyter-widgets/controls",
          "model_name": "DescriptionStyleModel",
          "model_module_version": "1.5.0",
          "state": {
            "_model_module": "@jupyter-widgets/controls",
            "_model_module_version": "1.5.0",
            "_model_name": "DescriptionStyleModel",
            "_view_count": null,
            "_view_module": "@jupyter-widgets/base",
            "_view_module_version": "1.2.0",
            "_view_name": "StyleView",
            "description_width": ""
          }
        },
        "09e2a96b05274ccc8a68bd50052c6b06": {
          "model_module": "@jupyter-widgets/base",
          "model_name": "LayoutModel",
          "model_module_version": "1.2.0",
          "state": {
            "_model_module": "@jupyter-widgets/base",
            "_model_module_version": "1.2.0",
            "_model_name": "LayoutModel",
            "_view_count": null,
            "_view_module": "@jupyter-widgets/base",
            "_view_module_version": "1.2.0",
            "_view_name": "LayoutView",
            "align_content": null,
            "align_items": null,
            "align_self": null,
            "border": null,
            "bottom": null,
            "display": null,
            "flex": null,
            "flex_flow": null,
            "grid_area": null,
            "grid_auto_columns": null,
            "grid_auto_flow": null,
            "grid_auto_rows": null,
            "grid_column": null,
            "grid_gap": null,
            "grid_row": null,
            "grid_template_areas": null,
            "grid_template_columns": null,
            "grid_template_rows": null,
            "height": null,
            "justify_content": null,
            "justify_items": null,
            "left": null,
            "margin": null,
            "max_height": null,
            "max_width": null,
            "min_height": null,
            "min_width": null,
            "object_fit": null,
            "object_position": null,
            "order": null,
            "overflow": null,
            "overflow_x": null,
            "overflow_y": null,
            "padding": null,
            "right": null,
            "top": null,
            "visibility": null,
            "width": null
          }
        },
        "70ba5e69e77c42df8b63d2a244c6ef6b": {
          "model_module": "@jupyter-widgets/controls",
          "model_name": "ProgressStyleModel",
          "model_module_version": "1.5.0",
          "state": {
            "_model_module": "@jupyter-widgets/controls",
            "_model_module_version": "1.5.0",
            "_model_name": "ProgressStyleModel",
            "_view_count": null,
            "_view_module": "@jupyter-widgets/base",
            "_view_module_version": "1.2.0",
            "_view_name": "StyleView",
            "bar_color": null,
            "description_width": ""
          }
        },
        "b112527cd9564cc5983982e3df8b7bdc": {
          "model_module": "@jupyter-widgets/base",
          "model_name": "LayoutModel",
          "model_module_version": "1.2.0",
          "state": {
            "_model_module": "@jupyter-widgets/base",
            "_model_module_version": "1.2.0",
            "_model_name": "LayoutModel",
            "_view_count": null,
            "_view_module": "@jupyter-widgets/base",
            "_view_module_version": "1.2.0",
            "_view_name": "LayoutView",
            "align_content": null,
            "align_items": null,
            "align_self": null,
            "border": null,
            "bottom": null,
            "display": null,
            "flex": null,
            "flex_flow": null,
            "grid_area": null,
            "grid_auto_columns": null,
            "grid_auto_flow": null,
            "grid_auto_rows": null,
            "grid_column": null,
            "grid_gap": null,
            "grid_row": null,
            "grid_template_areas": null,
            "grid_template_columns": null,
            "grid_template_rows": null,
            "height": null,
            "justify_content": null,
            "justify_items": null,
            "left": null,
            "margin": null,
            "max_height": null,
            "max_width": null,
            "min_height": null,
            "min_width": null,
            "object_fit": null,
            "object_position": null,
            "order": null,
            "overflow": null,
            "overflow_x": null,
            "overflow_y": null,
            "padding": null,
            "right": null,
            "top": null,
            "visibility": null,
            "width": null
          }
        },
        "336a3bfe1e4c4b87a2d099314c7ad240": {
          "model_module": "@jupyter-widgets/controls",
          "model_name": "DescriptionStyleModel",
          "model_module_version": "1.5.0",
          "state": {
            "_model_module": "@jupyter-widgets/controls",
            "_model_module_version": "1.5.0",
            "_model_name": "DescriptionStyleModel",
            "_view_count": null,
            "_view_module": "@jupyter-widgets/base",
            "_view_module_version": "1.2.0",
            "_view_name": "StyleView",
            "description_width": ""
          }
        },
        "2fc1765686e9479e94cf2fdab4f70181": {
          "model_module": "@jupyter-widgets/controls",
          "model_name": "HBoxModel",
          "model_module_version": "1.5.0",
          "state": {
            "_dom_classes": [],
            "_model_module": "@jupyter-widgets/controls",
            "_model_module_version": "1.5.0",
            "_model_name": "HBoxModel",
            "_view_count": null,
            "_view_module": "@jupyter-widgets/controls",
            "_view_module_version": "1.5.0",
            "_view_name": "HBoxView",
            "box_style": "",
            "children": [
              "IPY_MODEL_e1d369bc3dc54733b07fd84200a692ee",
              "IPY_MODEL_a580b848d0704138aa90c8c88ec5c7fb",
              "IPY_MODEL_6b2da9a2dd4847a98ae6eb2d8f464193"
            ],
            "layout": "IPY_MODEL_00400c97b20e468ca7b9da6eb7bfbdd2"
          }
        },
        "e1d369bc3dc54733b07fd84200a692ee": {
          "model_module": "@jupyter-widgets/controls",
          "model_name": "HTMLModel",
          "model_module_version": "1.5.0",
          "state": {
            "_dom_classes": [],
            "_model_module": "@jupyter-widgets/controls",
            "_model_module_version": "1.5.0",
            "_model_name": "HTMLModel",
            "_view_count": null,
            "_view_module": "@jupyter-widgets/controls",
            "_view_module_version": "1.5.0",
            "_view_name": "HTMLView",
            "description": "",
            "description_tooltip": null,
            "layout": "IPY_MODEL_da5c6e1f2be44c2c9cb1cf649f213bb4",
            "placeholder": "​",
            "style": "IPY_MODEL_3add61f2638e4a88aa798e67078e9481",
            "value": "Downloading data: 100%"
          }
        },
        "a580b848d0704138aa90c8c88ec5c7fb": {
          "model_module": "@jupyter-widgets/controls",
          "model_name": "FloatProgressModel",
          "model_module_version": "1.5.0",
          "state": {
            "_dom_classes": [],
            "_model_module": "@jupyter-widgets/controls",
            "_model_module_version": "1.5.0",
            "_model_name": "FloatProgressModel",
            "_view_count": null,
            "_view_module": "@jupyter-widgets/controls",
            "_view_module_version": "1.5.0",
            "_view_name": "ProgressView",
            "bar_style": "success",
            "description": "",
            "description_tooltip": null,
            "layout": "IPY_MODEL_2ca440f8a9354d769aea432f95fcb9ee",
            "max": 421434184,
            "min": 0,
            "orientation": "horizontal",
            "style": "IPY_MODEL_e52b2f3ec2794083a091bf6ca6f590c9",
            "value": 421434184
          }
        },
        "6b2da9a2dd4847a98ae6eb2d8f464193": {
          "model_module": "@jupyter-widgets/controls",
          "model_name": "HTMLModel",
          "model_module_version": "1.5.0",
          "state": {
            "_dom_classes": [],
            "_model_module": "@jupyter-widgets/controls",
            "_model_module_version": "1.5.0",
            "_model_name": "HTMLModel",
            "_view_count": null,
            "_view_module": "@jupyter-widgets/controls",
            "_view_module_version": "1.5.0",
            "_view_name": "HTMLView",
            "description": "",
            "description_tooltip": null,
            "layout": "IPY_MODEL_610f86e1c8a648678f577b1061e6aeb0",
            "placeholder": "​",
            "style": "IPY_MODEL_4d593175e4da4de6a39015a81a9ccc8d",
            "value": " 421M/421M [00:26&lt;00:00, 17.4MB/s]"
          }
        },
        "00400c97b20e468ca7b9da6eb7bfbdd2": {
          "model_module": "@jupyter-widgets/base",
          "model_name": "LayoutModel",
          "model_module_version": "1.2.0",
          "state": {
            "_model_module": "@jupyter-widgets/base",
            "_model_module_version": "1.2.0",
            "_model_name": "LayoutModel",
            "_view_count": null,
            "_view_module": "@jupyter-widgets/base",
            "_view_module_version": "1.2.0",
            "_view_name": "LayoutView",
            "align_content": null,
            "align_items": null,
            "align_self": null,
            "border": null,
            "bottom": null,
            "display": null,
            "flex": null,
            "flex_flow": null,
            "grid_area": null,
            "grid_auto_columns": null,
            "grid_auto_flow": null,
            "grid_auto_rows": null,
            "grid_column": null,
            "grid_gap": null,
            "grid_row": null,
            "grid_template_areas": null,
            "grid_template_columns": null,
            "grid_template_rows": null,
            "height": null,
            "justify_content": null,
            "justify_items": null,
            "left": null,
            "margin": null,
            "max_height": null,
            "max_width": null,
            "min_height": null,
            "min_width": null,
            "object_fit": null,
            "object_position": null,
            "order": null,
            "overflow": null,
            "overflow_x": null,
            "overflow_y": null,
            "padding": null,
            "right": null,
            "top": null,
            "visibility": null,
            "width": null
          }
        },
        "da5c6e1f2be44c2c9cb1cf649f213bb4": {
          "model_module": "@jupyter-widgets/base",
          "model_name": "LayoutModel",
          "model_module_version": "1.2.0",
          "state": {
            "_model_module": "@jupyter-widgets/base",
            "_model_module_version": "1.2.0",
            "_model_name": "LayoutModel",
            "_view_count": null,
            "_view_module": "@jupyter-widgets/base",
            "_view_module_version": "1.2.0",
            "_view_name": "LayoutView",
            "align_content": null,
            "align_items": null,
            "align_self": null,
            "border": null,
            "bottom": null,
            "display": null,
            "flex": null,
            "flex_flow": null,
            "grid_area": null,
            "grid_auto_columns": null,
            "grid_auto_flow": null,
            "grid_auto_rows": null,
            "grid_column": null,
            "grid_gap": null,
            "grid_row": null,
            "grid_template_areas": null,
            "grid_template_columns": null,
            "grid_template_rows": null,
            "height": null,
            "justify_content": null,
            "justify_items": null,
            "left": null,
            "margin": null,
            "max_height": null,
            "max_width": null,
            "min_height": null,
            "min_width": null,
            "object_fit": null,
            "object_position": null,
            "order": null,
            "overflow": null,
            "overflow_x": null,
            "overflow_y": null,
            "padding": null,
            "right": null,
            "top": null,
            "visibility": null,
            "width": null
          }
        },
        "3add61f2638e4a88aa798e67078e9481": {
          "model_module": "@jupyter-widgets/controls",
          "model_name": "DescriptionStyleModel",
          "model_module_version": "1.5.0",
          "state": {
            "_model_module": "@jupyter-widgets/controls",
            "_model_module_version": "1.5.0",
            "_model_name": "DescriptionStyleModel",
            "_view_count": null,
            "_view_module": "@jupyter-widgets/base",
            "_view_module_version": "1.2.0",
            "_view_name": "StyleView",
            "description_width": ""
          }
        },
        "2ca440f8a9354d769aea432f95fcb9ee": {
          "model_module": "@jupyter-widgets/base",
          "model_name": "LayoutModel",
          "model_module_version": "1.2.0",
          "state": {
            "_model_module": "@jupyter-widgets/base",
            "_model_module_version": "1.2.0",
            "_model_name": "LayoutModel",
            "_view_count": null,
            "_view_module": "@jupyter-widgets/base",
            "_view_module_version": "1.2.0",
            "_view_name": "LayoutView",
            "align_content": null,
            "align_items": null,
            "align_self": null,
            "border": null,
            "bottom": null,
            "display": null,
            "flex": null,
            "flex_flow": null,
            "grid_area": null,
            "grid_auto_columns": null,
            "grid_auto_flow": null,
            "grid_auto_rows": null,
            "grid_column": null,
            "grid_gap": null,
            "grid_row": null,
            "grid_template_areas": null,
            "grid_template_columns": null,
            "grid_template_rows": null,
            "height": null,
            "justify_content": null,
            "justify_items": null,
            "left": null,
            "margin": null,
            "max_height": null,
            "max_width": null,
            "min_height": null,
            "min_width": null,
            "object_fit": null,
            "object_position": null,
            "order": null,
            "overflow": null,
            "overflow_x": null,
            "overflow_y": null,
            "padding": null,
            "right": null,
            "top": null,
            "visibility": null,
            "width": null
          }
        },
        "e52b2f3ec2794083a091bf6ca6f590c9": {
          "model_module": "@jupyter-widgets/controls",
          "model_name": "ProgressStyleModel",
          "model_module_version": "1.5.0",
          "state": {
            "_model_module": "@jupyter-widgets/controls",
            "_model_module_version": "1.5.0",
            "_model_name": "ProgressStyleModel",
            "_view_count": null,
            "_view_module": "@jupyter-widgets/base",
            "_view_module_version": "1.2.0",
            "_view_name": "StyleView",
            "bar_color": null,
            "description_width": ""
          }
        },
        "610f86e1c8a648678f577b1061e6aeb0": {
          "model_module": "@jupyter-widgets/base",
          "model_name": "LayoutModel",
          "model_module_version": "1.2.0",
          "state": {
            "_model_module": "@jupyter-widgets/base",
            "_model_module_version": "1.2.0",
            "_model_name": "LayoutModel",
            "_view_count": null,
            "_view_module": "@jupyter-widgets/base",
            "_view_module_version": "1.2.0",
            "_view_name": "LayoutView",
            "align_content": null,
            "align_items": null,
            "align_self": null,
            "border": null,
            "bottom": null,
            "display": null,
            "flex": null,
            "flex_flow": null,
            "grid_area": null,
            "grid_auto_columns": null,
            "grid_auto_flow": null,
            "grid_auto_rows": null,
            "grid_column": null,
            "grid_gap": null,
            "grid_row": null,
            "grid_template_areas": null,
            "grid_template_columns": null,
            "grid_template_rows": null,
            "height": null,
            "justify_content": null,
            "justify_items": null,
            "left": null,
            "margin": null,
            "max_height": null,
            "max_width": null,
            "min_height": null,
            "min_width": null,
            "object_fit": null,
            "object_position": null,
            "order": null,
            "overflow": null,
            "overflow_x": null,
            "overflow_y": null,
            "padding": null,
            "right": null,
            "top": null,
            "visibility": null,
            "width": null
          }
        },
        "4d593175e4da4de6a39015a81a9ccc8d": {
          "model_module": "@jupyter-widgets/controls",
          "model_name": "DescriptionStyleModel",
          "model_module_version": "1.5.0",
          "state": {
            "_model_module": "@jupyter-widgets/controls",
            "_model_module_version": "1.5.0",
            "_model_name": "DescriptionStyleModel",
            "_view_count": null,
            "_view_module": "@jupyter-widgets/base",
            "_view_module_version": "1.2.0",
            "_view_name": "StyleView",
            "description_width": ""
          }
        },
        "281e186e09684bc8baff78ba6972ad9a": {
          "model_module": "@jupyter-widgets/controls",
          "model_name": "HBoxModel",
          "model_module_version": "1.5.0",
          "state": {
            "_dom_classes": [],
            "_model_module": "@jupyter-widgets/controls",
            "_model_module_version": "1.5.0",
            "_model_name": "HBoxModel",
            "_view_count": null,
            "_view_module": "@jupyter-widgets/controls",
            "_view_module_version": "1.5.0",
            "_view_name": "HBoxView",
            "box_style": "",
            "children": [
              "IPY_MODEL_b6ee312ebb4245d4abd202a8adce0402",
              "IPY_MODEL_d99fb98a602847a797e6a4d1bc457a6d",
              "IPY_MODEL_ac3475e5e1ff4a65a20624f1403df463"
            ],
            "layout": "IPY_MODEL_02dc8e863be1483fb94fb519414e9b5d"
          }
        },
        "b6ee312ebb4245d4abd202a8adce0402": {
          "model_module": "@jupyter-widgets/controls",
          "model_name": "HTMLModel",
          "model_module_version": "1.5.0",
          "state": {
            "_dom_classes": [],
            "_model_module": "@jupyter-widgets/controls",
            "_model_module_version": "1.5.0",
            "_model_name": "HTMLModel",
            "_view_count": null,
            "_view_module": "@jupyter-widgets/controls",
            "_view_module_version": "1.5.0",
            "_view_name": "HTMLView",
            "description": "",
            "description_tooltip": null,
            "layout": "IPY_MODEL_0b01911c699e46e3a92f8db8ffaa3b31",
            "placeholder": "​",
            "style": "IPY_MODEL_21e20cd816034799b78855dca0a27864",
            "value": "Generating train split: "
          }
        },
        "d99fb98a602847a797e6a4d1bc457a6d": {
          "model_module": "@jupyter-widgets/controls",
          "model_name": "FloatProgressModel",
          "model_module_version": "1.5.0",
          "state": {
            "_dom_classes": [],
            "_model_module": "@jupyter-widgets/controls",
            "_model_module_version": "1.5.0",
            "_model_name": "FloatProgressModel",
            "_view_count": null,
            "_view_module": "@jupyter-widgets/controls",
            "_view_module_version": "1.5.0",
            "_view_name": "ProgressView",
            "bar_style": "info",
            "description": "",
            "description_tooltip": null,
            "layout": "IPY_MODEL_6285c4897ca340b88e70a41ca35f84c5",
            "max": 1,
            "min": 0,
            "orientation": "horizontal",
            "style": "IPY_MODEL_8c06785f7b784e888bd0648599169502",
            "value": 1
          }
        },
        "ac3475e5e1ff4a65a20624f1403df463": {
          "model_module": "@jupyter-widgets/controls",
          "model_name": "HTMLModel",
          "model_module_version": "1.5.0",
          "state": {
            "_dom_classes": [],
            "_model_module": "@jupyter-widgets/controls",
            "_model_module_version": "1.5.0",
            "_model_name": "HTMLModel",
            "_view_count": null,
            "_view_module": "@jupyter-widgets/controls",
            "_view_module_version": "1.5.0",
            "_view_name": "HTMLView",
            "description": "",
            "description_tooltip": null,
            "layout": "IPY_MODEL_bad214ad527a48798da608d5fbe60264",
            "placeholder": "​",
            "style": "IPY_MODEL_2e9af1bb9eae48f0a28c282e62935c70",
            "value": " 2327/0 [00:03&lt;00:00, 682.06 examples/s]"
          }
        },
        "02dc8e863be1483fb94fb519414e9b5d": {
          "model_module": "@jupyter-widgets/base",
          "model_name": "LayoutModel",
          "model_module_version": "1.2.0",
          "state": {
            "_model_module": "@jupyter-widgets/base",
            "_model_module_version": "1.2.0",
            "_model_name": "LayoutModel",
            "_view_count": null,
            "_view_module": "@jupyter-widgets/base",
            "_view_module_version": "1.2.0",
            "_view_name": "LayoutView",
            "align_content": null,
            "align_items": null,
            "align_self": null,
            "border": null,
            "bottom": null,
            "display": null,
            "flex": null,
            "flex_flow": null,
            "grid_area": null,
            "grid_auto_columns": null,
            "grid_auto_flow": null,
            "grid_auto_rows": null,
            "grid_column": null,
            "grid_gap": null,
            "grid_row": null,
            "grid_template_areas": null,
            "grid_template_columns": null,
            "grid_template_rows": null,
            "height": null,
            "justify_content": null,
            "justify_items": null,
            "left": null,
            "margin": null,
            "max_height": null,
            "max_width": null,
            "min_height": null,
            "min_width": null,
            "object_fit": null,
            "object_position": null,
            "order": null,
            "overflow": null,
            "overflow_x": null,
            "overflow_y": null,
            "padding": null,
            "right": null,
            "top": null,
            "visibility": "hidden",
            "width": null
          }
        },
        "0b01911c699e46e3a92f8db8ffaa3b31": {
          "model_module": "@jupyter-widgets/base",
          "model_name": "LayoutModel",
          "model_module_version": "1.2.0",
          "state": {
            "_model_module": "@jupyter-widgets/base",
            "_model_module_version": "1.2.0",
            "_model_name": "LayoutModel",
            "_view_count": null,
            "_view_module": "@jupyter-widgets/base",
            "_view_module_version": "1.2.0",
            "_view_name": "LayoutView",
            "align_content": null,
            "align_items": null,
            "align_self": null,
            "border": null,
            "bottom": null,
            "display": null,
            "flex": null,
            "flex_flow": null,
            "grid_area": null,
            "grid_auto_columns": null,
            "grid_auto_flow": null,
            "grid_auto_rows": null,
            "grid_column": null,
            "grid_gap": null,
            "grid_row": null,
            "grid_template_areas": null,
            "grid_template_columns": null,
            "grid_template_rows": null,
            "height": null,
            "justify_content": null,
            "justify_items": null,
            "left": null,
            "margin": null,
            "max_height": null,
            "max_width": null,
            "min_height": null,
            "min_width": null,
            "object_fit": null,
            "object_position": null,
            "order": null,
            "overflow": null,
            "overflow_x": null,
            "overflow_y": null,
            "padding": null,
            "right": null,
            "top": null,
            "visibility": null,
            "width": null
          }
        },
        "21e20cd816034799b78855dca0a27864": {
          "model_module": "@jupyter-widgets/controls",
          "model_name": "DescriptionStyleModel",
          "model_module_version": "1.5.0",
          "state": {
            "_model_module": "@jupyter-widgets/controls",
            "_model_module_version": "1.5.0",
            "_model_name": "DescriptionStyleModel",
            "_view_count": null,
            "_view_module": "@jupyter-widgets/base",
            "_view_module_version": "1.2.0",
            "_view_name": "StyleView",
            "description_width": ""
          }
        },
        "6285c4897ca340b88e70a41ca35f84c5": {
          "model_module": "@jupyter-widgets/base",
          "model_name": "LayoutModel",
          "model_module_version": "1.2.0",
          "state": {
            "_model_module": "@jupyter-widgets/base",
            "_model_module_version": "1.2.0",
            "_model_name": "LayoutModel",
            "_view_count": null,
            "_view_module": "@jupyter-widgets/base",
            "_view_module_version": "1.2.0",
            "_view_name": "LayoutView",
            "align_content": null,
            "align_items": null,
            "align_self": null,
            "border": null,
            "bottom": null,
            "display": null,
            "flex": null,
            "flex_flow": null,
            "grid_area": null,
            "grid_auto_columns": null,
            "grid_auto_flow": null,
            "grid_auto_rows": null,
            "grid_column": null,
            "grid_gap": null,
            "grid_row": null,
            "grid_template_areas": null,
            "grid_template_columns": null,
            "grid_template_rows": null,
            "height": null,
            "justify_content": null,
            "justify_items": null,
            "left": null,
            "margin": null,
            "max_height": null,
            "max_width": null,
            "min_height": null,
            "min_width": null,
            "object_fit": null,
            "object_position": null,
            "order": null,
            "overflow": null,
            "overflow_x": null,
            "overflow_y": null,
            "padding": null,
            "right": null,
            "top": null,
            "visibility": null,
            "width": "20px"
          }
        },
        "8c06785f7b784e888bd0648599169502": {
          "model_module": "@jupyter-widgets/controls",
          "model_name": "ProgressStyleModel",
          "model_module_version": "1.5.0",
          "state": {
            "_model_module": "@jupyter-widgets/controls",
            "_model_module_version": "1.5.0",
            "_model_name": "ProgressStyleModel",
            "_view_count": null,
            "_view_module": "@jupyter-widgets/base",
            "_view_module_version": "1.2.0",
            "_view_name": "StyleView",
            "bar_color": null,
            "description_width": ""
          }
        },
        "bad214ad527a48798da608d5fbe60264": {
          "model_module": "@jupyter-widgets/base",
          "model_name": "LayoutModel",
          "model_module_version": "1.2.0",
          "state": {
            "_model_module": "@jupyter-widgets/base",
            "_model_module_version": "1.2.0",
            "_model_name": "LayoutModel",
            "_view_count": null,
            "_view_module": "@jupyter-widgets/base",
            "_view_module_version": "1.2.0",
            "_view_name": "LayoutView",
            "align_content": null,
            "align_items": null,
            "align_self": null,
            "border": null,
            "bottom": null,
            "display": null,
            "flex": null,
            "flex_flow": null,
            "grid_area": null,
            "grid_auto_columns": null,
            "grid_auto_flow": null,
            "grid_auto_rows": null,
            "grid_column": null,
            "grid_gap": null,
            "grid_row": null,
            "grid_template_areas": null,
            "grid_template_columns": null,
            "grid_template_rows": null,
            "height": null,
            "justify_content": null,
            "justify_items": null,
            "left": null,
            "margin": null,
            "max_height": null,
            "max_width": null,
            "min_height": null,
            "min_width": null,
            "object_fit": null,
            "object_position": null,
            "order": null,
            "overflow": null,
            "overflow_x": null,
            "overflow_y": null,
            "padding": null,
            "right": null,
            "top": null,
            "visibility": null,
            "width": null
          }
        },
        "2e9af1bb9eae48f0a28c282e62935c70": {
          "model_module": "@jupyter-widgets/controls",
          "model_name": "DescriptionStyleModel",
          "model_module_version": "1.5.0",
          "state": {
            "_model_module": "@jupyter-widgets/controls",
            "_model_module_version": "1.5.0",
            "_model_name": "DescriptionStyleModel",
            "_view_count": null,
            "_view_module": "@jupyter-widgets/base",
            "_view_module_version": "1.2.0",
            "_view_name": "StyleView",
            "description_width": ""
          }
        },
        "24710d6bd97f4713aa0b2284fad4b103": {
          "model_module": "@jupyter-widgets/controls",
          "model_name": "HBoxModel",
          "model_module_version": "1.5.0",
          "state": {
            "_dom_classes": [],
            "_model_module": "@jupyter-widgets/controls",
            "_model_module_version": "1.5.0",
            "_model_name": "HBoxModel",
            "_view_count": null,
            "_view_module": "@jupyter-widgets/controls",
            "_view_module_version": "1.5.0",
            "_view_name": "HBoxView",
            "box_style": "",
            "children": [
              "IPY_MODEL_e371af8f465a42a59dc023ab9243d1f5",
              "IPY_MODEL_18d6a4f68ab647deb910666fdc1eed94",
              "IPY_MODEL_8a067b68f240415aa8a3ca362cf1e562"
            ],
            "layout": "IPY_MODEL_c7b805bb6b9d4e8f9a98e58fe72d0db1"
          }
        },
        "e371af8f465a42a59dc023ab9243d1f5": {
          "model_module": "@jupyter-widgets/controls",
          "model_name": "HTMLModel",
          "model_module_version": "1.5.0",
          "state": {
            "_dom_classes": [],
            "_model_module": "@jupyter-widgets/controls",
            "_model_module_version": "1.5.0",
            "_model_name": "HTMLModel",
            "_view_count": null,
            "_view_module": "@jupyter-widgets/controls",
            "_view_module_version": "1.5.0",
            "_view_name": "HTMLView",
            "description": "",
            "description_tooltip": null,
            "layout": "IPY_MODEL_0454b74b43a8403690b9c087ead3eacf",
            "placeholder": "​",
            "style": "IPY_MODEL_64734369305542b393f4d001bf3d2d26",
            "value": "Generating test split: "
          }
        },
        "18d6a4f68ab647deb910666fdc1eed94": {
          "model_module": "@jupyter-widgets/controls",
          "model_name": "FloatProgressModel",
          "model_module_version": "1.5.0",
          "state": {
            "_dom_classes": [],
            "_model_module": "@jupyter-widgets/controls",
            "_model_module_version": "1.5.0",
            "_model_name": "FloatProgressModel",
            "_view_count": null,
            "_view_module": "@jupyter-widgets/controls",
            "_view_module_version": "1.5.0",
            "_view_name": "ProgressView",
            "bar_style": "info",
            "description": "",
            "description_tooltip": null,
            "layout": "IPY_MODEL_fecd57e617c34521913212504e8f494b",
            "max": 1,
            "min": 0,
            "orientation": "horizontal",
            "style": "IPY_MODEL_e6cda61bc8f944ed8367d931de03a8d8",
            "value": 1
          }
        },
        "8a067b68f240415aa8a3ca362cf1e562": {
          "model_module": "@jupyter-widgets/controls",
          "model_name": "HTMLModel",
          "model_module_version": "1.5.0",
          "state": {
            "_dom_classes": [],
            "_model_module": "@jupyter-widgets/controls",
            "_model_module_version": "1.5.0",
            "_model_name": "HTMLModel",
            "_view_count": null,
            "_view_module": "@jupyter-widgets/controls",
            "_view_module_version": "1.5.0",
            "_view_name": "HTMLView",
            "description": "",
            "description_tooltip": null,
            "layout": "IPY_MODEL_d1a210756c0d4511835a231678600d5b",
            "placeholder": "​",
            "style": "IPY_MODEL_5c29759c357e4db38455666b7ba5630c",
            "value": " 1935/0 [00:02&lt;00:00, 1012.85 examples/s]"
          }
        },
        "c7b805bb6b9d4e8f9a98e58fe72d0db1": {
          "model_module": "@jupyter-widgets/base",
          "model_name": "LayoutModel",
          "model_module_version": "1.2.0",
          "state": {
            "_model_module": "@jupyter-widgets/base",
            "_model_module_version": "1.2.0",
            "_model_name": "LayoutModel",
            "_view_count": null,
            "_view_module": "@jupyter-widgets/base",
            "_view_module_version": "1.2.0",
            "_view_name": "LayoutView",
            "align_content": null,
            "align_items": null,
            "align_self": null,
            "border": null,
            "bottom": null,
            "display": null,
            "flex": null,
            "flex_flow": null,
            "grid_area": null,
            "grid_auto_columns": null,
            "grid_auto_flow": null,
            "grid_auto_rows": null,
            "grid_column": null,
            "grid_gap": null,
            "grid_row": null,
            "grid_template_areas": null,
            "grid_template_columns": null,
            "grid_template_rows": null,
            "height": null,
            "justify_content": null,
            "justify_items": null,
            "left": null,
            "margin": null,
            "max_height": null,
            "max_width": null,
            "min_height": null,
            "min_width": null,
            "object_fit": null,
            "object_position": null,
            "order": null,
            "overflow": null,
            "overflow_x": null,
            "overflow_y": null,
            "padding": null,
            "right": null,
            "top": null,
            "visibility": "hidden",
            "width": null
          }
        },
        "0454b74b43a8403690b9c087ead3eacf": {
          "model_module": "@jupyter-widgets/base",
          "model_name": "LayoutModel",
          "model_module_version": "1.2.0",
          "state": {
            "_model_module": "@jupyter-widgets/base",
            "_model_module_version": "1.2.0",
            "_model_name": "LayoutModel",
            "_view_count": null,
            "_view_module": "@jupyter-widgets/base",
            "_view_module_version": "1.2.0",
            "_view_name": "LayoutView",
            "align_content": null,
            "align_items": null,
            "align_self": null,
            "border": null,
            "bottom": null,
            "display": null,
            "flex": null,
            "flex_flow": null,
            "grid_area": null,
            "grid_auto_columns": null,
            "grid_auto_flow": null,
            "grid_auto_rows": null,
            "grid_column": null,
            "grid_gap": null,
            "grid_row": null,
            "grid_template_areas": null,
            "grid_template_columns": null,
            "grid_template_rows": null,
            "height": null,
            "justify_content": null,
            "justify_items": null,
            "left": null,
            "margin": null,
            "max_height": null,
            "max_width": null,
            "min_height": null,
            "min_width": null,
            "object_fit": null,
            "object_position": null,
            "order": null,
            "overflow": null,
            "overflow_x": null,
            "overflow_y": null,
            "padding": null,
            "right": null,
            "top": null,
            "visibility": null,
            "width": null
          }
        },
        "64734369305542b393f4d001bf3d2d26": {
          "model_module": "@jupyter-widgets/controls",
          "model_name": "DescriptionStyleModel",
          "model_module_version": "1.5.0",
          "state": {
            "_model_module": "@jupyter-widgets/controls",
            "_model_module_version": "1.5.0",
            "_model_name": "DescriptionStyleModel",
            "_view_count": null,
            "_view_module": "@jupyter-widgets/base",
            "_view_module_version": "1.2.0",
            "_view_name": "StyleView",
            "description_width": ""
          }
        },
        "fecd57e617c34521913212504e8f494b": {
          "model_module": "@jupyter-widgets/base",
          "model_name": "LayoutModel",
          "model_module_version": "1.2.0",
          "state": {
            "_model_module": "@jupyter-widgets/base",
            "_model_module_version": "1.2.0",
            "_model_name": "LayoutModel",
            "_view_count": null,
            "_view_module": "@jupyter-widgets/base",
            "_view_module_version": "1.2.0",
            "_view_name": "LayoutView",
            "align_content": null,
            "align_items": null,
            "align_self": null,
            "border": null,
            "bottom": null,
            "display": null,
            "flex": null,
            "flex_flow": null,
            "grid_area": null,
            "grid_auto_columns": null,
            "grid_auto_flow": null,
            "grid_auto_rows": null,
            "grid_column": null,
            "grid_gap": null,
            "grid_row": null,
            "grid_template_areas": null,
            "grid_template_columns": null,
            "grid_template_rows": null,
            "height": null,
            "justify_content": null,
            "justify_items": null,
            "left": null,
            "margin": null,
            "max_height": null,
            "max_width": null,
            "min_height": null,
            "min_width": null,
            "object_fit": null,
            "object_position": null,
            "order": null,
            "overflow": null,
            "overflow_x": null,
            "overflow_y": null,
            "padding": null,
            "right": null,
            "top": null,
            "visibility": null,
            "width": "20px"
          }
        },
        "e6cda61bc8f944ed8367d931de03a8d8": {
          "model_module": "@jupyter-widgets/controls",
          "model_name": "ProgressStyleModel",
          "model_module_version": "1.5.0",
          "state": {
            "_model_module": "@jupyter-widgets/controls",
            "_model_module_version": "1.5.0",
            "_model_name": "ProgressStyleModel",
            "_view_count": null,
            "_view_module": "@jupyter-widgets/base",
            "_view_module_version": "1.2.0",
            "_view_name": "StyleView",
            "bar_color": null,
            "description_width": ""
          }
        },
        "d1a210756c0d4511835a231678600d5b": {
          "model_module": "@jupyter-widgets/base",
          "model_name": "LayoutModel",
          "model_module_version": "1.2.0",
          "state": {
            "_model_module": "@jupyter-widgets/base",
            "_model_module_version": "1.2.0",
            "_model_name": "LayoutModel",
            "_view_count": null,
            "_view_module": "@jupyter-widgets/base",
            "_view_module_version": "1.2.0",
            "_view_name": "LayoutView",
            "align_content": null,
            "align_items": null,
            "align_self": null,
            "border": null,
            "bottom": null,
            "display": null,
            "flex": null,
            "flex_flow": null,
            "grid_area": null,
            "grid_auto_columns": null,
            "grid_auto_flow": null,
            "grid_auto_rows": null,
            "grid_column": null,
            "grid_gap": null,
            "grid_row": null,
            "grid_template_areas": null,
            "grid_template_columns": null,
            "grid_template_rows": null,
            "height": null,
            "justify_content": null,
            "justify_items": null,
            "left": null,
            "margin": null,
            "max_height": null,
            "max_width": null,
            "min_height": null,
            "min_width": null,
            "object_fit": null,
            "object_position": null,
            "order": null,
            "overflow": null,
            "overflow_x": null,
            "overflow_y": null,
            "padding": null,
            "right": null,
            "top": null,
            "visibility": null,
            "width": null
          }
        },
        "5c29759c357e4db38455666b7ba5630c": {
          "model_module": "@jupyter-widgets/controls",
          "model_name": "DescriptionStyleModel",
          "model_module_version": "1.5.0",
          "state": {
            "_model_module": "@jupyter-widgets/controls",
            "_model_module_version": "1.5.0",
            "_model_name": "DescriptionStyleModel",
            "_view_count": null,
            "_view_module": "@jupyter-widgets/base",
            "_view_module_version": "1.2.0",
            "_view_name": "StyleView",
            "description_width": ""
          }
        },
        "e9679459c00b41b6b6991ace3a4d2e2e": {
          "model_module": "@jupyter-widgets/controls",
          "model_name": "HBoxModel",
          "model_module_version": "1.5.0",
          "state": {
            "_dom_classes": [],
            "_model_module": "@jupyter-widgets/controls",
            "_model_module_version": "1.5.0",
            "_model_name": "HBoxModel",
            "_view_count": null,
            "_view_module": "@jupyter-widgets/controls",
            "_view_module_version": "1.5.0",
            "_view_name": "HBoxView",
            "box_style": "",
            "children": [
              "IPY_MODEL_af74c9a1f366455e97809880e3f96979",
              "IPY_MODEL_4ff9864f2b204044951fd50ffc0b6958",
              "IPY_MODEL_05ea159a223942b39c5b390ea13a62fd"
            ],
            "layout": "IPY_MODEL_e2426d63a7b44e0ea8baf33380948744"
          }
        },
        "af74c9a1f366455e97809880e3f96979": {
          "model_module": "@jupyter-widgets/controls",
          "model_name": "HTMLModel",
          "model_module_version": "1.5.0",
          "state": {
            "_dom_classes": [],
            "_model_module": "@jupyter-widgets/controls",
            "_model_module_version": "1.5.0",
            "_model_name": "HTMLModel",
            "_view_count": null,
            "_view_module": "@jupyter-widgets/controls",
            "_view_module_version": "1.5.0",
            "_view_name": "HTMLView",
            "description": "",
            "description_tooltip": null,
            "layout": "IPY_MODEL_dd370faae70346d8ad5e9049748245cb",
            "placeholder": "​",
            "style": "IPY_MODEL_38dd305e058c49a2b3fca6be1d377c66",
            "value": "Generating validation split: "
          }
        },
        "4ff9864f2b204044951fd50ffc0b6958": {
          "model_module": "@jupyter-widgets/controls",
          "model_name": "FloatProgressModel",
          "model_module_version": "1.5.0",
          "state": {
            "_dom_classes": [],
            "_model_module": "@jupyter-widgets/controls",
            "_model_module_version": "1.5.0",
            "_model_name": "FloatProgressModel",
            "_view_count": null,
            "_view_module": "@jupyter-widgets/controls",
            "_view_module_version": "1.5.0",
            "_view_name": "ProgressView",
            "bar_style": "info",
            "description": "",
            "description_tooltip": null,
            "layout": "IPY_MODEL_c41431044041427b873e6f4414cb06ef",
            "max": 1,
            "min": 0,
            "orientation": "horizontal",
            "style": "IPY_MODEL_ed407db1c59a4ec7a5a1eed10f296dd9",
            "value": 1
          }
        },
        "05ea159a223942b39c5b390ea13a62fd": {
          "model_module": "@jupyter-widgets/controls",
          "model_name": "HTMLModel",
          "model_module_version": "1.5.0",
          "state": {
            "_dom_classes": [],
            "_model_module": "@jupyter-widgets/controls",
            "_model_module_version": "1.5.0",
            "_model_name": "HTMLModel",
            "_view_count": null,
            "_view_module": "@jupyter-widgets/controls",
            "_view_module_version": "1.5.0",
            "_view_name": "HTMLView",
            "description": "",
            "description_tooltip": null,
            "layout": "IPY_MODEL_5315c26606ec4580804e4a409d222946",
            "placeholder": "​",
            "style": "IPY_MODEL_688438362589493bb04dcd625d58a515",
            "value": " 1981/0 [00:02&lt;00:00, 1200.81 examples/s]"
          }
        },
        "e2426d63a7b44e0ea8baf33380948744": {
          "model_module": "@jupyter-widgets/base",
          "model_name": "LayoutModel",
          "model_module_version": "1.2.0",
          "state": {
            "_model_module": "@jupyter-widgets/base",
            "_model_module_version": "1.2.0",
            "_model_name": "LayoutModel",
            "_view_count": null,
            "_view_module": "@jupyter-widgets/base",
            "_view_module_version": "1.2.0",
            "_view_name": "LayoutView",
            "align_content": null,
            "align_items": null,
            "align_self": null,
            "border": null,
            "bottom": null,
            "display": null,
            "flex": null,
            "flex_flow": null,
            "grid_area": null,
            "grid_auto_columns": null,
            "grid_auto_flow": null,
            "grid_auto_rows": null,
            "grid_column": null,
            "grid_gap": null,
            "grid_row": null,
            "grid_template_areas": null,
            "grid_template_columns": null,
            "grid_template_rows": null,
            "height": null,
            "justify_content": null,
            "justify_items": null,
            "left": null,
            "margin": null,
            "max_height": null,
            "max_width": null,
            "min_height": null,
            "min_width": null,
            "object_fit": null,
            "object_position": null,
            "order": null,
            "overflow": null,
            "overflow_x": null,
            "overflow_y": null,
            "padding": null,
            "right": null,
            "top": null,
            "visibility": "hidden",
            "width": null
          }
        },
        "dd370faae70346d8ad5e9049748245cb": {
          "model_module": "@jupyter-widgets/base",
          "model_name": "LayoutModel",
          "model_module_version": "1.2.0",
          "state": {
            "_model_module": "@jupyter-widgets/base",
            "_model_module_version": "1.2.0",
            "_model_name": "LayoutModel",
            "_view_count": null,
            "_view_module": "@jupyter-widgets/base",
            "_view_module_version": "1.2.0",
            "_view_name": "LayoutView",
            "align_content": null,
            "align_items": null,
            "align_self": null,
            "border": null,
            "bottom": null,
            "display": null,
            "flex": null,
            "flex_flow": null,
            "grid_area": null,
            "grid_auto_columns": null,
            "grid_auto_flow": null,
            "grid_auto_rows": null,
            "grid_column": null,
            "grid_gap": null,
            "grid_row": null,
            "grid_template_areas": null,
            "grid_template_columns": null,
            "grid_template_rows": null,
            "height": null,
            "justify_content": null,
            "justify_items": null,
            "left": null,
            "margin": null,
            "max_height": null,
            "max_width": null,
            "min_height": null,
            "min_width": null,
            "object_fit": null,
            "object_position": null,
            "order": null,
            "overflow": null,
            "overflow_x": null,
            "overflow_y": null,
            "padding": null,
            "right": null,
            "top": null,
            "visibility": null,
            "width": null
          }
        },
        "38dd305e058c49a2b3fca6be1d377c66": {
          "model_module": "@jupyter-widgets/controls",
          "model_name": "DescriptionStyleModel",
          "model_module_version": "1.5.0",
          "state": {
            "_model_module": "@jupyter-widgets/controls",
            "_model_module_version": "1.5.0",
            "_model_name": "DescriptionStyleModel",
            "_view_count": null,
            "_view_module": "@jupyter-widgets/base",
            "_view_module_version": "1.2.0",
            "_view_name": "StyleView",
            "description_width": ""
          }
        },
        "c41431044041427b873e6f4414cb06ef": {
          "model_module": "@jupyter-widgets/base",
          "model_name": "LayoutModel",
          "model_module_version": "1.2.0",
          "state": {
            "_model_module": "@jupyter-widgets/base",
            "_model_module_version": "1.2.0",
            "_model_name": "LayoutModel",
            "_view_count": null,
            "_view_module": "@jupyter-widgets/base",
            "_view_module_version": "1.2.0",
            "_view_name": "LayoutView",
            "align_content": null,
            "align_items": null,
            "align_self": null,
            "border": null,
            "bottom": null,
            "display": null,
            "flex": null,
            "flex_flow": null,
            "grid_area": null,
            "grid_auto_columns": null,
            "grid_auto_flow": null,
            "grid_auto_rows": null,
            "grid_column": null,
            "grid_gap": null,
            "grid_row": null,
            "grid_template_areas": null,
            "grid_template_columns": null,
            "grid_template_rows": null,
            "height": null,
            "justify_content": null,
            "justify_items": null,
            "left": null,
            "margin": null,
            "max_height": null,
            "max_width": null,
            "min_height": null,
            "min_width": null,
            "object_fit": null,
            "object_position": null,
            "order": null,
            "overflow": null,
            "overflow_x": null,
            "overflow_y": null,
            "padding": null,
            "right": null,
            "top": null,
            "visibility": null,
            "width": "20px"
          }
        },
        "ed407db1c59a4ec7a5a1eed10f296dd9": {
          "model_module": "@jupyter-widgets/controls",
          "model_name": "ProgressStyleModel",
          "model_module_version": "1.5.0",
          "state": {
            "_model_module": "@jupyter-widgets/controls",
            "_model_module_version": "1.5.0",
            "_model_name": "ProgressStyleModel",
            "_view_count": null,
            "_view_module": "@jupyter-widgets/base",
            "_view_module_version": "1.2.0",
            "_view_name": "StyleView",
            "bar_color": null,
            "description_width": ""
          }
        },
        "5315c26606ec4580804e4a409d222946": {
          "model_module": "@jupyter-widgets/base",
          "model_name": "LayoutModel",
          "model_module_version": "1.2.0",
          "state": {
            "_model_module": "@jupyter-widgets/base",
            "_model_module_version": "1.2.0",
            "_model_name": "LayoutModel",
            "_view_count": null,
            "_view_module": "@jupyter-widgets/base",
            "_view_module_version": "1.2.0",
            "_view_name": "LayoutView",
            "align_content": null,
            "align_items": null,
            "align_self": null,
            "border": null,
            "bottom": null,
            "display": null,
            "flex": null,
            "flex_flow": null,
            "grid_area": null,
            "grid_auto_columns": null,
            "grid_auto_flow": null,
            "grid_auto_rows": null,
            "grid_column": null,
            "grid_gap": null,
            "grid_row": null,
            "grid_template_areas": null,
            "grid_template_columns": null,
            "grid_template_rows": null,
            "height": null,
            "justify_content": null,
            "justify_items": null,
            "left": null,
            "margin": null,
            "max_height": null,
            "max_width": null,
            "min_height": null,
            "min_width": null,
            "object_fit": null,
            "object_position": null,
            "order": null,
            "overflow": null,
            "overflow_x": null,
            "overflow_y": null,
            "padding": null,
            "right": null,
            "top": null,
            "visibility": null,
            "width": null
          }
        },
        "688438362589493bb04dcd625d58a515": {
          "model_module": "@jupyter-widgets/controls",
          "model_name": "DescriptionStyleModel",
          "model_module_version": "1.5.0",
          "state": {
            "_model_module": "@jupyter-widgets/controls",
            "_model_module_version": "1.5.0",
            "_model_name": "DescriptionStyleModel",
            "_view_count": null,
            "_view_module": "@jupyter-widgets/base",
            "_view_module_version": "1.2.0",
            "_view_name": "StyleView",
            "description_width": ""
          }
        },
        "e741c2bc9d544730b6c56fbb9d02447c": {
          "model_module": "@jupyter-widgets/controls",
          "model_name": "HBoxModel",
          "model_module_version": "1.5.0",
          "state": {
            "_dom_classes": [],
            "_model_module": "@jupyter-widgets/controls",
            "_model_module_version": "1.5.0",
            "_model_name": "HBoxModel",
            "_view_count": null,
            "_view_module": "@jupyter-widgets/controls",
            "_view_module_version": "1.5.0",
            "_view_name": "HBoxView",
            "box_style": "",
            "children": [
              "IPY_MODEL_3ca85c8abf144130812e54982e412d74",
              "IPY_MODEL_356a731bd1504b338d39a6f32cf2f554",
              "IPY_MODEL_76a6132b14db474bb5b8dffa376c2ed6"
            ],
            "layout": "IPY_MODEL_2bd74a0b8e71420cabb54311a2549da4"
          }
        },
        "3ca85c8abf144130812e54982e412d74": {
          "model_module": "@jupyter-widgets/controls",
          "model_name": "HTMLModel",
          "model_module_version": "1.5.0",
          "state": {
            "_dom_classes": [],
            "_model_module": "@jupyter-widgets/controls",
            "_model_module_version": "1.5.0",
            "_model_name": "HTMLModel",
            "_view_count": null,
            "_view_module": "@jupyter-widgets/controls",
            "_view_module_version": "1.5.0",
            "_view_name": "HTMLView",
            "description": "",
            "description_tooltip": null,
            "layout": "IPY_MODEL_b62e5ecf84e843abaf00cceaf63b3c71",
            "placeholder": "​",
            "style": "IPY_MODEL_0e08bdf41f054e3e993646bd4acda296",
            "value": "Generating other split: "
          }
        },
        "356a731bd1504b338d39a6f32cf2f554": {
          "model_module": "@jupyter-widgets/controls",
          "model_name": "FloatProgressModel",
          "model_module_version": "1.5.0",
          "state": {
            "_dom_classes": [],
            "_model_module": "@jupyter-widgets/controls",
            "_model_module_version": "1.5.0",
            "_model_name": "FloatProgressModel",
            "_view_count": null,
            "_view_module": "@jupyter-widgets/controls",
            "_view_module_version": "1.5.0",
            "_view_name": "ProgressView",
            "bar_style": "info",
            "description": "",
            "description_tooltip": null,
            "layout": "IPY_MODEL_58579550519f4f3cb5b6f64b5f72e868",
            "max": 1,
            "min": 0,
            "orientation": "horizontal",
            "style": "IPY_MODEL_33653ab1305349279ebb60a3b40e5591",
            "value": 1
          }
        },
        "76a6132b14db474bb5b8dffa376c2ed6": {
          "model_module": "@jupyter-widgets/controls",
          "model_name": "HTMLModel",
          "model_module_version": "1.5.0",
          "state": {
            "_dom_classes": [],
            "_model_module": "@jupyter-widgets/controls",
            "_model_module_version": "1.5.0",
            "_model_name": "HTMLModel",
            "_view_count": null,
            "_view_module": "@jupyter-widgets/controls",
            "_view_module_version": "1.5.0",
            "_view_name": "HTMLView",
            "description": "",
            "description_tooltip": null,
            "layout": "IPY_MODEL_5b14bc0283bf4e9f91af6337950ccf5e",
            "placeholder": "​",
            "style": "IPY_MODEL_4275ade6ad154725a5060100febbd7fd",
            "value": " 2858/0 [00:03&lt;00:00, 2155.34 examples/s]"
          }
        },
        "2bd74a0b8e71420cabb54311a2549da4": {
          "model_module": "@jupyter-widgets/base",
          "model_name": "LayoutModel",
          "model_module_version": "1.2.0",
          "state": {
            "_model_module": "@jupyter-widgets/base",
            "_model_module_version": "1.2.0",
            "_model_name": "LayoutModel",
            "_view_count": null,
            "_view_module": "@jupyter-widgets/base",
            "_view_module_version": "1.2.0",
            "_view_name": "LayoutView",
            "align_content": null,
            "align_items": null,
            "align_self": null,
            "border": null,
            "bottom": null,
            "display": null,
            "flex": null,
            "flex_flow": null,
            "grid_area": null,
            "grid_auto_columns": null,
            "grid_auto_flow": null,
            "grid_auto_rows": null,
            "grid_column": null,
            "grid_gap": null,
            "grid_row": null,
            "grid_template_areas": null,
            "grid_template_columns": null,
            "grid_template_rows": null,
            "height": null,
            "justify_content": null,
            "justify_items": null,
            "left": null,
            "margin": null,
            "max_height": null,
            "max_width": null,
            "min_height": null,
            "min_width": null,
            "object_fit": null,
            "object_position": null,
            "order": null,
            "overflow": null,
            "overflow_x": null,
            "overflow_y": null,
            "padding": null,
            "right": null,
            "top": null,
            "visibility": "hidden",
            "width": null
          }
        },
        "b62e5ecf84e843abaf00cceaf63b3c71": {
          "model_module": "@jupyter-widgets/base",
          "model_name": "LayoutModel",
          "model_module_version": "1.2.0",
          "state": {
            "_model_module": "@jupyter-widgets/base",
            "_model_module_version": "1.2.0",
            "_model_name": "LayoutModel",
            "_view_count": null,
            "_view_module": "@jupyter-widgets/base",
            "_view_module_version": "1.2.0",
            "_view_name": "LayoutView",
            "align_content": null,
            "align_items": null,
            "align_self": null,
            "border": null,
            "bottom": null,
            "display": null,
            "flex": null,
            "flex_flow": null,
            "grid_area": null,
            "grid_auto_columns": null,
            "grid_auto_flow": null,
            "grid_auto_rows": null,
            "grid_column": null,
            "grid_gap": null,
            "grid_row": null,
            "grid_template_areas": null,
            "grid_template_columns": null,
            "grid_template_rows": null,
            "height": null,
            "justify_content": null,
            "justify_items": null,
            "left": null,
            "margin": null,
            "max_height": null,
            "max_width": null,
            "min_height": null,
            "min_width": null,
            "object_fit": null,
            "object_position": null,
            "order": null,
            "overflow": null,
            "overflow_x": null,
            "overflow_y": null,
            "padding": null,
            "right": null,
            "top": null,
            "visibility": null,
            "width": null
          }
        },
        "0e08bdf41f054e3e993646bd4acda296": {
          "model_module": "@jupyter-widgets/controls",
          "model_name": "DescriptionStyleModel",
          "model_module_version": "1.5.0",
          "state": {
            "_model_module": "@jupyter-widgets/controls",
            "_model_module_version": "1.5.0",
            "_model_name": "DescriptionStyleModel",
            "_view_count": null,
            "_view_module": "@jupyter-widgets/base",
            "_view_module_version": "1.2.0",
            "_view_name": "StyleView",
            "description_width": ""
          }
        },
        "58579550519f4f3cb5b6f64b5f72e868": {
          "model_module": "@jupyter-widgets/base",
          "model_name": "LayoutModel",
          "model_module_version": "1.2.0",
          "state": {
            "_model_module": "@jupyter-widgets/base",
            "_model_module_version": "1.2.0",
            "_model_name": "LayoutModel",
            "_view_count": null,
            "_view_module": "@jupyter-widgets/base",
            "_view_module_version": "1.2.0",
            "_view_name": "LayoutView",
            "align_content": null,
            "align_items": null,
            "align_self": null,
            "border": null,
            "bottom": null,
            "display": null,
            "flex": null,
            "flex_flow": null,
            "grid_area": null,
            "grid_auto_columns": null,
            "grid_auto_flow": null,
            "grid_auto_rows": null,
            "grid_column": null,
            "grid_gap": null,
            "grid_row": null,
            "grid_template_areas": null,
            "grid_template_columns": null,
            "grid_template_rows": null,
            "height": null,
            "justify_content": null,
            "justify_items": null,
            "left": null,
            "margin": null,
            "max_height": null,
            "max_width": null,
            "min_height": null,
            "min_width": null,
            "object_fit": null,
            "object_position": null,
            "order": null,
            "overflow": null,
            "overflow_x": null,
            "overflow_y": null,
            "padding": null,
            "right": null,
            "top": null,
            "visibility": null,
            "width": "20px"
          }
        },
        "33653ab1305349279ebb60a3b40e5591": {
          "model_module": "@jupyter-widgets/controls",
          "model_name": "ProgressStyleModel",
          "model_module_version": "1.5.0",
          "state": {
            "_model_module": "@jupyter-widgets/controls",
            "_model_module_version": "1.5.0",
            "_model_name": "ProgressStyleModel",
            "_view_count": null,
            "_view_module": "@jupyter-widgets/base",
            "_view_module_version": "1.2.0",
            "_view_name": "StyleView",
            "bar_color": null,
            "description_width": ""
          }
        },
        "5b14bc0283bf4e9f91af6337950ccf5e": {
          "model_module": "@jupyter-widgets/base",
          "model_name": "LayoutModel",
          "model_module_version": "1.2.0",
          "state": {
            "_model_module": "@jupyter-widgets/base",
            "_model_module_version": "1.2.0",
            "_model_name": "LayoutModel",
            "_view_count": null,
            "_view_module": "@jupyter-widgets/base",
            "_view_module_version": "1.2.0",
            "_view_name": "LayoutView",
            "align_content": null,
            "align_items": null,
            "align_self": null,
            "border": null,
            "bottom": null,
            "display": null,
            "flex": null,
            "flex_flow": null,
            "grid_area": null,
            "grid_auto_columns": null,
            "grid_auto_flow": null,
            "grid_auto_rows": null,
            "grid_column": null,
            "grid_gap": null,
            "grid_row": null,
            "grid_template_areas": null,
            "grid_template_columns": null,
            "grid_template_rows": null,
            "height": null,
            "justify_content": null,
            "justify_items": null,
            "left": null,
            "margin": null,
            "max_height": null,
            "max_width": null,
            "min_height": null,
            "min_width": null,
            "object_fit": null,
            "object_position": null,
            "order": null,
            "overflow": null,
            "overflow_x": null,
            "overflow_y": null,
            "padding": null,
            "right": null,
            "top": null,
            "visibility": null,
            "width": null
          }
        },
        "4275ade6ad154725a5060100febbd7fd": {
          "model_module": "@jupyter-widgets/controls",
          "model_name": "DescriptionStyleModel",
          "model_module_version": "1.5.0",
          "state": {
            "_model_module": "@jupyter-widgets/controls",
            "_model_module_version": "1.5.0",
            "_model_name": "DescriptionStyleModel",
            "_view_count": null,
            "_view_module": "@jupyter-widgets/base",
            "_view_module_version": "1.2.0",
            "_view_name": "StyleView",
            "description_width": ""
          }
        },
        "e768161dee5f438f8d1d4f2f9a94e740": {
          "model_module": "@jupyter-widgets/controls",
          "model_name": "HBoxModel",
          "model_module_version": "1.5.0",
          "state": {
            "_dom_classes": [],
            "_model_module": "@jupyter-widgets/controls",
            "_model_module_version": "1.5.0",
            "_model_name": "HBoxModel",
            "_view_count": null,
            "_view_module": "@jupyter-widgets/controls",
            "_view_module_version": "1.5.0",
            "_view_name": "HBoxView",
            "box_style": "",
            "children": [
              "IPY_MODEL_28bd9c6e3ee94255831404ea8f61b064",
              "IPY_MODEL_cbbb3d9545f84a8caafa076c3ed6a4d9",
              "IPY_MODEL_ab8dc4758af54e3cbdc8e064109250be"
            ],
            "layout": "IPY_MODEL_a5b398454d414bf59922a5870f3897b7"
          }
        },
        "28bd9c6e3ee94255831404ea8f61b064": {
          "model_module": "@jupyter-widgets/controls",
          "model_name": "HTMLModel",
          "model_module_version": "1.5.0",
          "state": {
            "_dom_classes": [],
            "_model_module": "@jupyter-widgets/controls",
            "_model_module_version": "1.5.0",
            "_model_name": "HTMLModel",
            "_view_count": null,
            "_view_module": "@jupyter-widgets/controls",
            "_view_module_version": "1.5.0",
            "_view_name": "HTMLView",
            "description": "",
            "description_tooltip": null,
            "layout": "IPY_MODEL_461a76cb4c25450f94c3afa90388e9c4",
            "placeholder": "​",
            "style": "IPY_MODEL_60dd7f6074794bda97b8e47e826fc4f2",
            "value": "Generating invalidated split: "
          }
        },
        "cbbb3d9545f84a8caafa076c3ed6a4d9": {
          "model_module": "@jupyter-widgets/controls",
          "model_name": "FloatProgressModel",
          "model_module_version": "1.5.0",
          "state": {
            "_dom_classes": [],
            "_model_module": "@jupyter-widgets/controls",
            "_model_module_version": "1.5.0",
            "_model_name": "FloatProgressModel",
            "_view_count": null,
            "_view_module": "@jupyter-widgets/controls",
            "_view_module_version": "1.5.0",
            "_view_name": "ProgressView",
            "bar_style": "info",
            "description": "",
            "description_tooltip": null,
            "layout": "IPY_MODEL_7948d1d23fc449b19220e9230ecb5902",
            "max": 1,
            "min": 0,
            "orientation": "horizontal",
            "style": "IPY_MODEL_d05ff7381228445d868b4c54356ce5a3",
            "value": 1
          }
        },
        "ab8dc4758af54e3cbdc8e064109250be": {
          "model_module": "@jupyter-widgets/controls",
          "model_name": "HTMLModel",
          "model_module_version": "1.5.0",
          "state": {
            "_dom_classes": [],
            "_model_module": "@jupyter-widgets/controls",
            "_model_module_version": "1.5.0",
            "_model_name": "HTMLModel",
            "_view_count": null,
            "_view_module": "@jupyter-widgets/controls",
            "_view_module_version": "1.5.0",
            "_view_name": "HTMLView",
            "description": "",
            "description_tooltip": null,
            "layout": "IPY_MODEL_38d43a9a4f654b59a6f572972381d136",
            "placeholder": "​",
            "style": "IPY_MODEL_41972c2358c742259f98a97f99a7e98a",
            "value": " 437/0 [00:02&lt;00:00, 206.76 examples/s]"
          }
        },
        "a5b398454d414bf59922a5870f3897b7": {
          "model_module": "@jupyter-widgets/base",
          "model_name": "LayoutModel",
          "model_module_version": "1.2.0",
          "state": {
            "_model_module": "@jupyter-widgets/base",
            "_model_module_version": "1.2.0",
            "_model_name": "LayoutModel",
            "_view_count": null,
            "_view_module": "@jupyter-widgets/base",
            "_view_module_version": "1.2.0",
            "_view_name": "LayoutView",
            "align_content": null,
            "align_items": null,
            "align_self": null,
            "border": null,
            "bottom": null,
            "display": null,
            "flex": null,
            "flex_flow": null,
            "grid_area": null,
            "grid_auto_columns": null,
            "grid_auto_flow": null,
            "grid_auto_rows": null,
            "grid_column": null,
            "grid_gap": null,
            "grid_row": null,
            "grid_template_areas": null,
            "grid_template_columns": null,
            "grid_template_rows": null,
            "height": null,
            "justify_content": null,
            "justify_items": null,
            "left": null,
            "margin": null,
            "max_height": null,
            "max_width": null,
            "min_height": null,
            "min_width": null,
            "object_fit": null,
            "object_position": null,
            "order": null,
            "overflow": null,
            "overflow_x": null,
            "overflow_y": null,
            "padding": null,
            "right": null,
            "top": null,
            "visibility": "hidden",
            "width": null
          }
        },
        "461a76cb4c25450f94c3afa90388e9c4": {
          "model_module": "@jupyter-widgets/base",
          "model_name": "LayoutModel",
          "model_module_version": "1.2.0",
          "state": {
            "_model_module": "@jupyter-widgets/base",
            "_model_module_version": "1.2.0",
            "_model_name": "LayoutModel",
            "_view_count": null,
            "_view_module": "@jupyter-widgets/base",
            "_view_module_version": "1.2.0",
            "_view_name": "LayoutView",
            "align_content": null,
            "align_items": null,
            "align_self": null,
            "border": null,
            "bottom": null,
            "display": null,
            "flex": null,
            "flex_flow": null,
            "grid_area": null,
            "grid_auto_columns": null,
            "grid_auto_flow": null,
            "grid_auto_rows": null,
            "grid_column": null,
            "grid_gap": null,
            "grid_row": null,
            "grid_template_areas": null,
            "grid_template_columns": null,
            "grid_template_rows": null,
            "height": null,
            "justify_content": null,
            "justify_items": null,
            "left": null,
            "margin": null,
            "max_height": null,
            "max_width": null,
            "min_height": null,
            "min_width": null,
            "object_fit": null,
            "object_position": null,
            "order": null,
            "overflow": null,
            "overflow_x": null,
            "overflow_y": null,
            "padding": null,
            "right": null,
            "top": null,
            "visibility": null,
            "width": null
          }
        },
        "60dd7f6074794bda97b8e47e826fc4f2": {
          "model_module": "@jupyter-widgets/controls",
          "model_name": "DescriptionStyleModel",
          "model_module_version": "1.5.0",
          "state": {
            "_model_module": "@jupyter-widgets/controls",
            "_model_module_version": "1.5.0",
            "_model_name": "DescriptionStyleModel",
            "_view_count": null,
            "_view_module": "@jupyter-widgets/base",
            "_view_module_version": "1.2.0",
            "_view_name": "StyleView",
            "description_width": ""
          }
        },
        "7948d1d23fc449b19220e9230ecb5902": {
          "model_module": "@jupyter-widgets/base",
          "model_name": "LayoutModel",
          "model_module_version": "1.2.0",
          "state": {
            "_model_module": "@jupyter-widgets/base",
            "_model_module_version": "1.2.0",
            "_model_name": "LayoutModel",
            "_view_count": null,
            "_view_module": "@jupyter-widgets/base",
            "_view_module_version": "1.2.0",
            "_view_name": "LayoutView",
            "align_content": null,
            "align_items": null,
            "align_self": null,
            "border": null,
            "bottom": null,
            "display": null,
            "flex": null,
            "flex_flow": null,
            "grid_area": null,
            "grid_auto_columns": null,
            "grid_auto_flow": null,
            "grid_auto_rows": null,
            "grid_column": null,
            "grid_gap": null,
            "grid_row": null,
            "grid_template_areas": null,
            "grid_template_columns": null,
            "grid_template_rows": null,
            "height": null,
            "justify_content": null,
            "justify_items": null,
            "left": null,
            "margin": null,
            "max_height": null,
            "max_width": null,
            "min_height": null,
            "min_width": null,
            "object_fit": null,
            "object_position": null,
            "order": null,
            "overflow": null,
            "overflow_x": null,
            "overflow_y": null,
            "padding": null,
            "right": null,
            "top": null,
            "visibility": null,
            "width": "20px"
          }
        },
        "d05ff7381228445d868b4c54356ce5a3": {
          "model_module": "@jupyter-widgets/controls",
          "model_name": "ProgressStyleModel",
          "model_module_version": "1.5.0",
          "state": {
            "_model_module": "@jupyter-widgets/controls",
            "_model_module_version": "1.5.0",
            "_model_name": "ProgressStyleModel",
            "_view_count": null,
            "_view_module": "@jupyter-widgets/base",
            "_view_module_version": "1.2.0",
            "_view_name": "StyleView",
            "bar_color": null,
            "description_width": ""
          }
        },
        "38d43a9a4f654b59a6f572972381d136": {
          "model_module": "@jupyter-widgets/base",
          "model_name": "LayoutModel",
          "model_module_version": "1.2.0",
          "state": {
            "_model_module": "@jupyter-widgets/base",
            "_model_module_version": "1.2.0",
            "_model_name": "LayoutModel",
            "_view_count": null,
            "_view_module": "@jupyter-widgets/base",
            "_view_module_version": "1.2.0",
            "_view_name": "LayoutView",
            "align_content": null,
            "align_items": null,
            "align_self": null,
            "border": null,
            "bottom": null,
            "display": null,
            "flex": null,
            "flex_flow": null,
            "grid_area": null,
            "grid_auto_columns": null,
            "grid_auto_flow": null,
            "grid_auto_rows": null,
            "grid_column": null,
            "grid_gap": null,
            "grid_row": null,
            "grid_template_areas": null,
            "grid_template_columns": null,
            "grid_template_rows": null,
            "height": null,
            "justify_content": null,
            "justify_items": null,
            "left": null,
            "margin": null,
            "max_height": null,
            "max_width": null,
            "min_height": null,
            "min_width": null,
            "object_fit": null,
            "object_position": null,
            "order": null,
            "overflow": null,
            "overflow_x": null,
            "overflow_y": null,
            "padding": null,
            "right": null,
            "top": null,
            "visibility": null,
            "width": null
          }
        },
        "41972c2358c742259f98a97f99a7e98a": {
          "model_module": "@jupyter-widgets/controls",
          "model_name": "DescriptionStyleModel",
          "model_module_version": "1.5.0",
          "state": {
            "_model_module": "@jupyter-widgets/controls",
            "_model_module_version": "1.5.0",
            "_model_name": "DescriptionStyleModel",
            "_view_count": null,
            "_view_module": "@jupyter-widgets/base",
            "_view_module_version": "1.2.0",
            "_view_name": "StyleView",
            "description_width": ""
          }
        }
      }
    }
  },
  "cells": [
    {
      "cell_type": "markdown",
      "metadata": {
        "id": "view-in-github",
        "colab_type": "text"
      },
      "source": [
        "<a href=\"https://colab.research.google.com/github/elumama/CyberGardenHack_2022/blob/main/Copy_of_Fine_Tune_MMS_on_Common_Voice.ipynb\" target=\"_parent\"><img src=\"https://colab.research.google.com/assets/colab-badge.svg\" alt=\"Open In Colab\"/></a>"
      ]
    },
    {
      "cell_type": "markdown",
      "metadata": {
        "id": "LBSYoWbi-45k"
      },
      "source": [
        "# **Fine-tuning MMS Adapter Models for Multi-Lingual ASR**\n",
        "\n",
        "***New (06/2023)***: *This blog post is strongly inspired by \"Fine-tuning XLS-R on Multi-Lingual ASR\" https://huggingface.co/blog/fine-tune-xlsr-wav2vec2* and can be seen as an improved version of it."
      ]
    },
    {
      "cell_type": "markdown",
      "metadata": {
        "id": "V7YOT2mnUiea"
      },
      "source": [
        "**Wav2Vec2** is a pretrained model for Automatic Speech Recognition (ASR) and was released in [September 2020](https://ai.facebook.com/blog/wav2vec-20-learning-the-structure-of-speech-from-raw-audio/) by *Alexei Baevski, Michael Auli, and Alex Conneau*.  Soon after the superior performance of Wav2Vec2 was demonstrated on one of the most popular English datasets for ASR, called [LibriSpeech](https://huggingface.co/datasets/librispeech_asr), *Facebook AI* presented a multi-lingual version of Wav2Vec2, called [XLSR](https://arxiv.org/abs/2006.13979) and [XLS-R](https://ai.facebook.com/blog/-xlm-r-state-of-the-art-cross-lingual-understanding-through-self-supervision/). XLSR stands for *cross-lingual speech representations* and refers to model's ability to learn speech representations that are useful across multiple languages.\n",
        "\n",
        "MetaAI's most recent release, the [**Massive Multilingual Speech (MMS)**](https://ai.facebook.com/blog/multilingual-model-speech-recognition/) by *Vineel Pratap, Andros Tjandra, Bowen Shi, et al.* takes multi-lingual speech representations to a new level. Over 1000 spoken languages can be identified, transcribed and generated with the [ASR, LID and TTS checkpoints that were released](https://huggingface.co/models?other=mms).\n",
        "\n",
        "In this blog post, we show how MMS's Adapter training achieves astonishingly low word error rates after just 10-20 minutes of fine-tuning.\n",
        "\n",
        "For low-resource languages, we **strongly** recommend using MMS' Adapter training as opposed to fine-tuning the whole model as is done in [\"Fine-tuning XLS-R on Multi-Lingual ASR\"](https://huggingface.co/blog/fine-tune-xlsr-wav2vec2).\n",
        "\n",
        "In our experiments, MMS' Adapter training is both more memory efficient, more robust and yields better performance for low-resource languages. For medium to high resource languages it can still be advantegous to fine-tune the whole checkpoint instead of using Adapter layers though.\n",
        "\n",
        "![wav2vec2_structure](https://raw.githubusercontent.com/patrickvonplaten/scientific_images/master/mms_map.png)\n"
      ]
    },
    {
      "cell_type": "markdown",
      "source": [
        "## **Preserving the world's language diversity**\n",
        "\n",
        "According to https://www.ethnologue.com/ around 3000, or 40% of all \"living\" languages, are endangered due to fewer and fewer native speakers.\n",
        "This trend will only continue in an increasingly globalized world.\n",
        "\n",
        "**MMS** is capable of transcribing many languages which are endangered, such as *Ari* or *Kaivi*. In the future, MMS can play a vital role in keeping languages alive by helping the remaining speakers to create written records and communicating in their native tongue.\n",
        "\n",
        "To adapt to 1000+ different vocabularies, **MMS** uses of Adapters - a training method where only a small fraction of model weights are trained.\n",
        "\n",
        "Adapter layers act like linguistic bridges, enabling the model to leverage knowledge from one language when deciphering another.\n",
        "\n",
        "## **Fine-tuning MMS**\n",
        "\n",
        "**MMS** unsupervised checkpoints were pre-trained on more than **half a million** hour of audio in over **1400** languages ranging from 300 million to one billion parameters.\n",
        "\n",
        "You can find the pretrained-only checkpoints on the 🤗 Hub:\n",
        "\n",
        "- [**`mms-300m`**](https://huggingface.co/facebook/mms-300m)\n",
        "- [**`mms-1b`**](https://huggingface.co/facebook/mms-1b)\n",
        "\n",
        "Similar to [BERT's masked language modeling objective](http://jalammar.github.io/illustrated-bert/), MMS learns contextualized speech representations by randomly masking feature vectors before passing them to a transformer network during self-supervised pre-training (*i.e.* diagram on the left below).\n",
        "\n",
        "For Automatic Speech Recognitino (ASR), the pretrained `MMS-1B` checkpoint was further fine-tuned in supervised fasion on 1000+ languages with a joint vocabulary output layer. As a final step, the joint vocabulary output layer was then thrown away and **only** ca. 2.5M adapter weights are trained on specific languages. The adapter weights hereby include small linear projection layers for each attention block as well as a language-specific vocabulary output layer.\n",
        "\n",
        "**MMS**'s released three checkpoints fine-tuned for speech recognition (ASR) that have 102, 1107, and 1162 adapter weights respectively (one for each language):\n",
        "\n",
        "- [**`mms-1b-fl102`**](https://huggingface.co/facebook/mms-1b-fl102)\n",
        "- [**`mms-1b-l1107`**](https://huggingface.co/facebook/mms-1b-1107)\n",
        "- [**`mms-1b-all`**](https://huggingface.co/facebook/mms-1b-all)\n",
        "\n",
        "You can see that the base models are saved (as usual) as a [`model.safetensors` file](https://huggingface.co/facebook/mms-1b-all/blob/main/model.safetensors), but in addition these repositories have many adapter weights stored in the repository, *e.g.* under the name [`adapter.fra.safetensors`](https://huggingface.co/facebook/mms-1b-all/blob/main/adapter.fra.safetensors) for French.\n",
        "\n",
        "The Hugging Face docs explain very well how such checkpoints can be used for inference [here](https://huggingface.co/docs/transformers/main/en/model_doc/mms#loading), so in this blog post we will instead focus on learning how we can efficiently train highly performant adapter models based on any of the released ASR checkpoints."
      ],
      "metadata": {
        "id": "VWe4pIR8lRrg"
      }
    },
    {
      "cell_type": "markdown",
      "source": [
        "## Training adaptive weights\n",
        "\n",
        "In machine learning, [adapters](https://arxiv.org/pdf/1902.00751.pdf) are a method used to fine-tune pre-trained models while keeping the original model parameters unchanged. They do this by inserting small, trainable modules, called adapter layers, between the pre-existing layers of the model, which then adapt the model to a specific task without requiring extensive retraining.\n",
        "\n",
        "Adapters have a long history in speech recognition and especially **speaker recognition**. In speaker recognition, adapters have been effectively used to tweak pre-existing models to recognize individual speaker idiosyncrasies, as highlighted in [Gales and Woodland's (1996)](https://www.isca-speech.org/archive_v0/archive_papers/icslp_1996/i96_1832.pdf) and [Miao et al.'s (2014)](https://www.cs.cmu.edu/~ymiao/pub/tasl_sat.pdf) work. This approach not only greatly reduces computational requirements compared to full model, but also allows for better and more flexible speaker-specific adjustments.\n",
        "\n",
        "The work done in **MMS** leverages this idea of adapters for speech recognition across different languages. Adapter weights a fine-tuned to grasp unique phonetic and grammatical traits of each target language. Thereby, MMS enables a single large base model (*e.g.*, the [**`mms-1b-all`**](https://huggingface.co/facebook/mms-1b-all) checkpoint) and 1000+ small adapter layers (2.5M weights each for **`mms-1b-all`**) to comprehend and transcribe multiple languages. This dramatically reduces the computational demand of developing distinct models for each language.\n",
        "\n",
        "Great! Now that we understood the motivation and theory, let's look into fine-tuning a couple adapter weights for **`mms-1b-all`** 🔥"
      ],
      "metadata": {
        "id": "miNvI1EdCbtf"
      }
    },
    {
      "cell_type": "markdown",
      "metadata": {
        "id": "nT_QrfWtsxIz"
      },
      "source": [
        "## Notebook Setup"
      ]
    },
    {
      "cell_type": "markdown",
      "metadata": {
        "id": "kruqixOYHaIo"
      },
      "source": [
        "As done previously in the [\"Fine-tuning XLS-R on Multi-Lingual ASR\"](https://huggingface.co/blog/fine-tune-xlsr-wav2vec2) blog post, we fine-tune the model on the low resource ASR dataset of [Common Voice](https://huggingface.co/datasets/common_voice) that contains only *ca.* 4h of validated training data."
      ]
    },
    {
      "cell_type": "markdown",
      "metadata": {
        "id": "Gx9OdDYrCtQ1"
      },
      "source": [
        "Just like Wav2Vec2 or XLS-R, MMS is fine-tuned using Connectionist Temporal Classification (CTC), which is an algorithm that is used to train neural networks for sequence-to-sequence problems, such as ASR and handwriting recognition.\n",
        "\n",
        "I highly recommend reading the well-written blog post [*Sequence Modeling with CTC (2017)*](https://distill.pub/2017/ctc/) by Awni Hannun."
      ]
    },
    {
      "cell_type": "markdown",
      "metadata": {
        "id": "wcHuXIaWyHZU"
      },
      "source": [
        "First, let's try to get a good GPU in our colab! With Google Colab's free version it's sadly becoming much harder to get access to a good GPU. With Google Colab Pro, however, one should easily get either a V100 or P100 GPU."
      ]
    },
    {
      "cell_type": "code",
      "metadata": {
        "colab": {
          "base_uri": "https://localhost:8080/"
        },
        "id": "YELVqGxMxnbG",
        "outputId": "6889c80f-dddc-41d6-fcb2-10526bb2ef09"
      },
      "source": [
        "gpu_info = !nvidia-smi\n",
        "gpu_info = '\\n'.join(gpu_info)\n",
        "if gpu_info.find('failed') >= 0:\n",
        "  print('Not connected to a GPU')\n",
        "else:\n",
        "  print(gpu_info)"
      ],
      "execution_count": null,
      "outputs": [
        {
          "output_type": "stream",
          "name": "stdout",
          "text": [
            "Tue Jun 20 10:37:02 2023       \n",
            "+-----------------------------------------------------------------------------+\n",
            "| NVIDIA-SMI 525.85.12    Driver Version: 525.85.12    CUDA Version: 12.0     |\n",
            "|-------------------------------+----------------------+----------------------+\n",
            "| GPU  Name        Persistence-M| Bus-Id        Disp.A | Volatile Uncorr. ECC |\n",
            "| Fan  Temp  Perf  Pwr:Usage/Cap|         Memory-Usage | GPU-Util  Compute M. |\n",
            "|                               |                      |               MIG M. |\n",
            "|===============================+======================+======================|\n",
            "|   0  NVIDIA A100-SXM...  Off  | 00000000:00:04.0 Off |                    0 |\n",
            "| N/A   35C    P0    50W / 400W |   9375MiB / 40960MiB |      0%      Default |\n",
            "|                               |                      |             Disabled |\n",
            "+-------------------------------+----------------------+----------------------+\n",
            "                                                                               \n",
            "+-----------------------------------------------------------------------------+\n",
            "| Processes:                                                                  |\n",
            "|  GPU   GI   CI        PID   Type   Process name                  GPU Memory |\n",
            "|        ID   ID                                                   Usage      |\n",
            "|=============================================================================|\n",
            "+-----------------------------------------------------------------------------+\n"
          ]
        }
      ]
    },
    {
      "cell_type": "markdown",
      "metadata": {
        "id": "e335hPmdtASZ"
      },
      "source": [
        "Before we start, let's install `datasets` and `transformers`. Also, we need the `torchaudio` to load audio files and `jiwer` to evaluate our fine-tuned model using the [word error rate (WER)](https://huggingface.co/metrics/wer) metric ${}^1$."
      ]
    },
    {
      "cell_type": "code",
      "metadata": {
        "id": "c8eh87Hoee5d"
      },
      "source": [
        "%%capture\n",
        "!pip install datasets[audio]\n",
        "!pip install evaluate\n",
        "!pip install git+https://github.com/huggingface/transformers.git\n",
        "!pip install jiwer\n",
        "!pip install accelerate"
      ],
      "execution_count": null,
      "outputs": []
    },
    {
      "cell_type": "markdown",
      "metadata": {
        "id": "0xxt_LwxDQlO"
      },
      "source": [
        "We strongly suggest to upload your training checkpoints directly to the [🤗 Hub](https://huggingface.co/) while training. The [🤗 Hub](https://huggingface.co/) has integrated version control so you can be sure that no model checkpoint is getting lost during training.\n",
        "\n",
        "To do so you have to store your authentication token from the Hugging Face website (sign up [here](https://huggingface.co/join) if you haven't already!)"
      ]
    },
    {
      "cell_type": "code",
      "metadata": {
        "colab": {
          "base_uri": "https://localhost:8080/",
          "height": 303,
          "referenced_widgets": [
            "dc1fcf154e644222bbb1f2868d08272c",
            "86f3a81ec04747f6af24e22cd94c525c",
            "80bc662cbd1548e6ab60d581d66d2ce3",
            "75a0a961aba74754b5826e7d3659fa74",
            "972a4b32a2ea4d6e82c10eaf8ad96c6e",
            "ffceedd4d73f4ab1bcb8d0a07fcd55f5",
            "7a736546b5f647e69734209de14c12f3",
            "00f1f3e91d4047d5becbac73949d7b11",
            "d91e490b4de24f1c9d613eec0595b475",
            "baafc9e12fe84b7297585eddc790de0b",
            "448560e481c74e838ae0e03ea2e44bfa",
            "99d297a8de2342209757bc2f9efd67f0",
            "d4e7e0a2985f40b5955471511bff6cd9",
            "a9381691740c436fa9ed0c5cae8ce3ab",
            "742e31402fa145e7888a89bbc558e6c6",
            "d290d079190d4ef39a0c22537f7b7d98",
            "4465ddd01211409087923a8431d00529"
          ]
        },
        "id": "mlMSH3T3EazV",
        "outputId": "37cc045f-4235-4dfc-c0c9-6d7b650909cd"
      },
      "source": [
        "from huggingface_hub import notebook_login\n",
        "\n",
        "notebook_login()"
      ],
      "execution_count": null,
      "outputs": [
        {
          "output_type": "display_data",
          "data": {
            "text/plain": [
              "VBox(children=(HTML(value='<center> <img\\nsrc=https://huggingface.co/front/assets/huggingface_logo-noborder.sv…"
            ],
            "application/vnd.jupyter.widget-view+json": {
              "version_major": 2,
              "version_minor": 0,
              "model_id": "dc1fcf154e644222bbb1f2868d08272c"
            }
          },
          "metadata": {}
        }
      ]
    },
    {
      "cell_type": "markdown",
      "metadata": {
        "id": "0mW-C1Nt-j7k"
      },
      "source": [
        "## Prepare Data, Tokenizer, Feature Extractor"
      ]
    },
    {
      "cell_type": "markdown",
      "metadata": {
        "id": "BeBosnY9BH3e"
      },
      "source": [
        "ASR models transcribe speech to text, which means that we both need a feature extractor that processes the speech signal to the model's input format, *e.g.* a feature vector, and a tokenizer that processes the model's output format to text.\n",
        "\n",
        "In 🤗 Transformers, the MMS model is thus accompanied by both a tokenizer, called [Wav2Vec2CTCTokenizer](https://huggingface.co/transformers/master/model_doc/wav2vec2.html#wav2vec2ctctokenizer), and a feature extractor, called [Wav2Vec2FeatureExtractor](https://huggingface.co/transformers/master/model_doc/wav2vec2.html#wav2vec2featureextractor).\n",
        "\n",
        "Let's start by creating the tokenizer to decode the predicted output classes to the output transcription."
      ]
    },
    {
      "cell_type": "markdown",
      "metadata": {
        "id": "sEXEWEJGQPqD"
      },
      "source": [
        "### Create `Wav2Vec2CTCTokenizer`"
      ]
    },
    {
      "cell_type": "markdown",
      "metadata": {
        "id": "tWmMikuNEKl_"
      },
      "source": [
        "Fine-tuned MMS models, such as [**`mms-1b-all`**](https://huggingface.co/facebook/mms-1b-all) already have a [tokenizer](https://huggingface.co/facebook/mms-1b-all/blob/main/tokenizer_config.json) accompanying the model checkpoint. However since we want to fine-tune the model on specific low-resource data of a certain language, it is recommended to fully remove the tokenizer, and vocabulary output layer and simply create a new ones based on the training data itself.\n",
        "\n",
        "Remember that Wav2Vec2-like models fine-tuned on CTC transcribe an audio file with a single forward pass by first processing the audio input into a secquence of processed context representations and then using the final vocabulary output layer to classify each context representation to a character that reperesents the transcription."
      ]
    },
    {
      "cell_type": "markdown",
      "metadata": {
        "id": "v5oRE8XjIUH3"
      },
      "source": [
        "The output size of this layer corresponds to the number of tokens in the vocabulary, and therefore only on the labeled dataset used for fine-tuning. So in the first step, we will take a look at the chosen dataset of Common Voice and define a vocabulary based on the transcriptions."
      ]
    },
    {
      "cell_type": "markdown",
      "metadata": {
        "id": "idBczw8mWzgt"
      },
      "source": [
        "For this notebook, we will use [Common Voice's 6.1 dataset](https://huggingface.co/datasets/mozilla-foundation/common_voice_6_1) for Turkish. Turkish corresponds to the language code `\"tr\"`.\n",
        "\n",
        "Now we can use 🤗 Datasets' simple API to download the data. The dataset name is `\"mozilla-foundation/common_voice_6_1\"`, the configuration name corresponds to the language code, which is `\"tr\"` in our case.\n",
        "\n",
        "**Note**: Before being able to download the dataset, you have to access it by logging into your Hugging Face account, going on the [dataset repo page](https://huggingface.co/datasets/mozilla-foundation/common_voice_6_1) and clicking on:"
      ]
    },
    {
      "cell_type": "markdown",
      "source": [
        "![Screenshot from 2023-06-19 12-19-11.png](data:image/png;base64,iVBORw0KGgoAAAANSUhEUgAAA4sAAAEGCAYAAADMogBMAAAABHNCSVQICAgIfAhkiAAAABl0RVh0U29mdHdhcmUAZ25vbWUtc2NyZWVuc2hvdO8Dvz4AAAAudEVYdENyZWF0aW9uIFRpbWUATW9uIDE5IEp1biAyMDIzIDEyOjE5OjExIFBNIENFU1QaxjoVAAAgAElEQVR4nOzddXQUVxsG8Gc3sjEixANBgxQIFqxIcXcJ7sWhBHeKW3EN7gWKF7dSJLj2w92CJIGEkITIJnu/P5YdslmFAqHw/M7pKZmZnbk6u+/eO3dlQggBM7w/TGbO4eb7xKcjIiIiIiL6JpgVqX34CWUy84Iwmalg8bMEiQwQiYiIiIiIzPdJA0fzgkaDweInCxLTITA0c7CUiIiIiIjokzB3tO6T+tdhj/GgUSdY/CRB4mcoJ3MDQBmHLYmIiIiIKB0IM6O3zxJY/qvAUX/QqBUsmhMopqSkICExCYmJSVAmp0ClUv2bVBEREREREdFnIJfLYWVpAYXCGjYKa1hYWBg5WjdglAk1zZ8GX6pSCcTExSEhIRG2NjZQKKxgbWUJuVz+CbJBREREREREn5JKpUKSMhmJiUrEJyTAxkaBDPb2kMuNjWy+DxplKpVKmJo3mpikRPSbWNjaWCODg136zMclIiIiIiKijyKEQEzsW8QnJMHJ0QEKaytTr4BMpTL+MGBikhKRUdHI6OwIGxvrT5hcIiIiIiIi+pISEpIQ+foNMro4mQwYjc4hVakEot/EMlAkIiIiIiL6BtjYWCOjsyOi38RCpTK+Ko7RYDEmLg62NtYMFImIiIiIiL4RNjbWsLWxRkxcnNHjDAaLKSkpSEhIRAYHu0+eOCIiIiIiIko/GRzskJCQiJSUFIPH6A8WZUB8QhJsbWy4mA0REREREdE3RiaTwdbGBvEJSQbXO9UNFt8dmJSUBIXC1Ao5RERERERE9F+kUFghKSlJ/YeegFE7WEx1gDI5BdZWlp8xaURERERERJRerK0soUxONQ01TcBoqW8joP4BR7nc6Po3RERERERE9B8ll8uhUqm0N2piQwHIDc1PJSIiIiIiou+UzMRPZxAREREREdH3SW+wKITxH2ckIiIiIiKib4Oh+E8nWGSgSERERERE9H3RFwdapj1AxocYiYiIiIiIvhuaGFAIAZnsfTwojSwyUCQiIiIiIvp+ySDTGmGUAwwUiYiIiIiISDtglDNQJCIiIiIiIg1NwChnoEhERERERESpySDj7ywSERERERGRLgaLREREREREpENvsMjfWiQiIiIiIvo+GIr/dIJFBopERERERETfF31xoFz/AVz0hoiIiIiI6Pugjv/SBox6pqEyUCQiIiIiIvq+6MaBUrCojiJlho4jIiIiIiKib5Hs/T9Sjy7KAQaKRERERERE3zU9AaNca17qVxYoXritxKW7yvROBhERERER0bcvVTwohIClztZ0MGBhDCwsgCmdM0jb9pxJxM5TiQCA+mVUqFFcIe2b8HscomJVmNY1g865iIiIiIiI6N+QARCQ65t++qV/PkNhLcOD5ym4+TgZAHDwQhL+PJmIsR0cMKa9A7aHJOKvS0kAgNuhybh8Twlry69sGJSIiIiIiOg/SP9sU9m7BW7SMVAEgAkdHTC0pT0mrY/Dhr8TsOVYAsZ3dIC7kxweznKM7eCAzUcTsPFIAib8Hochze0x8WeHL57Or13z5s0hk8lw/vz59E7Kd6FPnz6QyWTYtWtXeieFvpBRo0bB0dERBw8e/KDXhYWFoU6dOnB0dETGjBlx8eLFz5TCT69SpUrw9fVFeHh4eieF9ChcuDBkMhliY2MNHvMp63DhwoWQyWSYNm3avz4XERF9XfQFjF/N7ywW8bNChULWOHwpCWM7qANFDQ9nOca0d8Chi0moWNgaAbmtzDqn5sN8cHCw1vZy5cpBLpfj6tWrnzQPX7tSpUqhQIEC6Z2ML+Z7y+/3ZN++fZDJZNi8efMnO2dCQgJkMhl69epl8JjIyEjExsYa/WCuz7hx47B7925UrVoVPXr0QJ48ef5tcj85Q/mPiIjA69evkZSUlE4pY18GzGufhqR3HQ4ZMgQymQwvX778YtdkmyEi+lCGfmdRJy5Mn+mdx68k4cwNJSb87ICI1ypsPJKg9d/LaBXGd3TA6RtKHL9i3hvekCFDYGtrixkzZkClUgEAzp49i5CQEAQGBn5zbyQymfG6e/LkyRdKyYfR1M2n9qXya6rcP1RKSsonPd/nlF5p/Rx1a845586di+joaDRs2PCDzn3jxg0AwMyZMzF+/HjY29t/VBo/Z3kbyv+lS5cQHh6OzJkzf7Zrm/K13ru+JFNlYOw+9Cnr8GPud+lRf2wzREQfQ6bzZ5rfWUwf+88nYu2hBIx7N/X02sNkXHuULO2/+jAZ1x4mq6ektnfA74cSsP98osnzenl5oXv37rh79y527NgBAJg2bRrkcjlGjx4NALh//z4aNWoEJycnuLq6on379lpTdTRTbiZPnixtGzBgAGQyGbZv365zzdevX0Mmk2HgwIGYPHkyMmfODEdHR7Rq1Qrx8fHScbGxsfjll1/g4eGBDBkyoHbt2rh//760XwiB2bNnw8/PD7a2tihWrJjO1Lf169cjT548cHJyQv369REZGam3HK5evQqZTIZnz57h2rVrkMlk8PPzk/YfOnQIZcqUgZ2dHbJmzYoxY8ZAqdS/Cu3z588xePBg+Pn5wcbGBj/88AP++OMPrWNWrlyJfPnywdLSEjKZTPqvT58+ANTTpsqVK4ddu3bBz88Pzs7OUKlUJvNsTpl86vw+ffoUjRo1gouLC5ycnNC8eXPcuXNH65jIyEg0bNgQ9vb2yJUrF/bt22d2eWnay8iRIzFhwgS4urqiXr16AIC7d++iXr16yJAhA9zd3dGzZ0/ExcXppLFTp06QyWRaZXH37l3IZDK0bdsWgLq99e3bF97e3nBwcEDVqlW1pivfvHkTMpkMNWrUkLbt2rVLq96MpTWtlStXonDhwrCzs0O+fPmwYMECAOo6nD9/PvLmzQtbW1sULlwY69ev13pt4cKFUbp0aWzbtg3+/v6ws7ND6dKlpf7RpEkTdOnSBQAQGBgImUyGtWvXIj4+HvPmzUPRokVha2sLX19fjBgxQifA0pe2efPmIXfu3ACA+fPnQyaToVOnTjr56tOnDxwdHaWpx9u3b4dMJsO6devQqVMnODs7w8vLC5MmTZJeU6ZMGRw+fBgAkDVrVjRp0gSA6XuP5tx//vknWrduDRsbG8yYMUPrmm3btoWDgwO8vLywatUq3Lp1C5UrV4adnR0CAgK0Zk8Ya4vG8l+sWDHY2dlpjaaa6kN9+vSBXC7HuXPnUK1aNdjZ2en0DXP6lrG+bE5bSs2ce1doaCjatm0Ld3d3uLq6olGjRnj48CEA9cjeiBEjkC1bNjg4OKBMmTI4cuQIANP38xMnTqBUqVKws7ODj48PBg0ahOjoaJP7NMxpn5cuXULx4sV1+ou+OjSn7DUuXryIsmXLwt7eHiVKlNCZQi2EwI4dO1CtWjWpLTdr1gyvXr0CALi5uWHdunUAAHd3d8hkMoSGhpqsD6VSib59+8LHxwe2trYoV64c/vrrL2m/ofujqfs/ERGZphUXpqiESFEJkZyiEskpQvrv6fMI8SWcvZkkOk+PFmFRKdK2DX/Hiz+OxBv8OywqRXSeHi3O304yef6wsDBhZ2cnqlatKh4/fiwsLS1Fy5YthRBCPH78WLi7uwsrKyvRuXNn0aJFCwFA+Pn5iejoaCGEEMHBwQKAmDRpknTO/v37CwBi27ZtOteLiooSAIRMJhMBAQFi6tSpomzZsgKAmDNnjhBCiOTkZFGuXDlha2sr+vbtK8aNGyc8PT2Fn5+fUCqVQgghhg0bJgCI5s2biylTpoiAgAChUCjErVu3hBBCbNu2TQAQTk5OokePHqJu3boCgAAgzp07p5WmyMhIMWvWLAFA+Pj4iODgYLFu3TohhBC7d+8WcrlceHl5iaCgIFGuXDkBQDRt2lRveS5YsEC4uLiIdu3aiUGDBglXV1dhYWEhpWvHjh0CgKhRo4bYvXu3CAwMFABEs2bNxJ9//imEEKJQoULCyclJODk5ib59+4rFixeblWdT+z9HfmvXri0sLS3F2LFjxYQJE0SBAgXE2bNnhRBCBAUFCQDCyspKlC9fXjRs2FAAEJ6eniIpKcms8tK0F09PT+Hj4yPGjBkj9u7dK0JDQ4W7u7vw9fUVY8eOFX369BFWVlaiffv2Omk8d+6cACDatGkjbZs6daoAIPbu3SuUSqUoU6aMACBq164tevXqJTJkyCBsbGzEhQsXhBBC3LhxQwAQ1atXl86xc+dOAUAEBQUZTWtav/76qwAgfH19RVBQkKhWrZoYO3asEEKIwYMHCwCicOHCom/fviJnzpwCgFiwYIH0+kKFCgmZTCa8vb3FmDFjRPv27QUA0ahRIyGEEAcOHBBVqlQRAESXLl1EcHCwuH37trhy5YqwsbER9evXF0OGDBH+/v4CgFi2bJnJtF29elX06NFDABAVKlQQwcHB4siRIzp509T5zp07hRDv+6FMJhONGjUS06dPF5kzZxYAxD///COEEGLVqlUiR44cAoAYMWKE2LFjh1n3Hs25PT09RfHixcWkSZPEtWvXpO1yuVw0bdpUTJw4Udjb2wsLCwvh4uIi+vfvL3r27CkAiDJlykhpN9YWjeW/UKFCAoCIiYkRQpjXhzTlpFAoRO/evcWYMWOElZWVVt8w1rc0jPVlc9pSaqb64tOnT4W3t7cAIBo0aCCCgoKEv7+/eP78uUhOThYVK1YUAETx4sVFv379RKFChcThw4dN3s+TkpKEi4uL8PHxEXPmzBH9+/cXAQEBIjIy0ui+1MypHwcHB9GwYUNRsmRJrf6irw7NKXshhHj48KFwdHQUMplMtGrVSnTo0EHY2toKAGLq1KlCCCHi4+NF1qxZRenSpcWAAQNErVq1tO5HK1euFFmyZBEAxLRp00RwcLCIjY01WR+ae1i7du3ErFmzRIUKFaT3UGP3R2NthoiI9Hv6PEIrDkxOUQlNjAh9geKXDha7zYwWL6PfB4ubjmoHh+sPx4vNx97/Hf46RXSZYV6wKIQQAwcOlD4op34z6tWrlwAgZs+eLR3br18/AUBMnz5dCPHxwaKfn59ISEgQQghx6tQpAUC0aNFCCPH+Q+D8+fOFUqkUSqVSLF++XAAQR48eFWFhYcLKyko0bdpU2n/v3j0BQIwZM0YIIURAQIAAoPWBtnHjxnqDRSGEiImJEQBE/vz5tbYXKFBAABCXL18WQgiRkpIiihUrJgBIgURqycnJ0gcOIYSYN2+eACBmzZolhBCiT58+AoA4f/68EEKIBw8eCABi1KhR0ms0H1xWrFghbTOVZ3PK5HPk18/PT7i4uIjw8HCdfZoPxOPHj5e2aT44a9qYqfLStBcrKyutoFdz7itXrkj5bdeunVAoFCIxMVEnLQEBAcLBwUHExcUJIYQoU6aM8PDwEEqlUmzevFkAEA0bNpSO1wT1devWFUJ8WLCYNq2paepJX5m9ePFCWFpaCh8fH/H27Vtpm52dnXB1dZXypWkfd+/elcrQzs5OeHt7S+fS9MFNmzZpXSMqKkr699WrV6UP/qbSljq/PXv21Js3IQwHi61bt5aOmTRpkgAgFi1aJG0rX768ACCePHkihDDv3qM5d548eUR8/Pv7n2Z76i8HWrVqpRMY+/j4CEtLS5GSkiKVo7G2aCj/aQMNc/qQppyWLl0qnad69epafcNY30pNX182ty2lZir/mjSPGDFC57WaMi9fvrxUnmn3Gbqfh4aGSkGeJlDWMLYvLVP1ExISIoQQIi4uTigUCq3+krYOzS17TT8bPXq0tG3u3LlawaIQ2v0uOTlZeHp6CmdnZ2mb5v0qIiJC6zhj9dGpUycBQBw8eFAnXabuj4bu/0REpJ9usPg+YNRa4EZDfMEpqcXzWKFBWQVGrohFZIz62bWcPha4eEeJRKVAolLg4h0lcvqofxIyIlqFEctj0aicAgG5zFvoZuDAgbC3t8fu3bvRqlUraTrP2bNnAQC1a9eWjq1bt67Wvo/l5OQEhUL925Bubm4AgKioKADAqVOnAAA9e/aElZUVrKys0LFjRwDqVRMvXLgApVKJjRs3Svtz5swp7VepVLh8+TKcnJxQvnx56ZqWlpYflMb4+HhcvXoVmTNnRqFChQAAcrlcKg99ZWBhYYGQkBC0bt0aOXLkQO/evQEAz549AwAEBAQAAHbs2IHk5GT8+eefAAAfHx+dc2mm4wEwmWdT+z9XfkeOHImYmBhkzZoV7dq1w//+9z+dYzTnAgBfX18A7+vaVHlpFCxYUGqXwPs24u/vL+V31apVSExM1JmiBgDdunVDbGwstm/fjoiICJw6dQpNmzaFpaWl3nZes2ZNWFhYfFQ7T5vW1DT1VKNGDbi7u2vtu3jxIpKTk1GpUiXY2toCADw9PVG8eHG8evVKa9qcZh+gLkMXFxepTI15+vQpevfujYIFC6Jo0aIA3pe1sbT9W5q0Arr9XZ8PuffUqVMHNjY2Oufw8PDQuWbqbe7u7khOTkZMTAwA89uiMR/ah4yVizl9y5APbUuA6fxr+lybNm10XqvZ17JlS8jlcr37DN3PM2XKhC5duuDIkSPw9fXFsGHDpHuWsX0fSlMfdnZ2cHV1Ndr+zC37CxcuAADq168vbdP3PqNUKjF+/HiULVsWLi4uCAsLw+vXr7UevUjLVH307NkTHh4eqFatGqpWraq16vSH3h+JiMg0Q/GfXL1DZvLAz6l6MQVaVLLBiOXqgLGwnxWyeVpg8OJYDFwUg1yZLFEopyUiolUYuTwWravYoHoxhdnnd3d3lz7MtG/fXtquyWvqB/Y1/06771OUi+Ycmv9PnjwZ586d0/qvWrVq0v7AwECd/UOHDgWgfqO1sLD4JOlJu2CBsTwPHz4cNWvWxNu3bzFv3jxppVnNc2GtW7dG2bJlMW7cOFhbW6N///5o3749OnToYFZaDOXZnDL5HPlt27Ytrl27hk6dOmHr1q0oXry4FADrk/ZcpsrLVFoPHjyok19XV1ed41u0aAEnJyds2rQJe/fuhUqlQqtWrQzmW/Mc6adu54bK2Ng+c69tav+ePXtQpEgRhISEYPDgwTh58iSA92VtLG2fg7H0mnPv+dTp+Ni2qO9cH1uHqY/50L71b9NhKv8f03ZT7zN0PweARYsW4e+//0bp0qUxefJkFClSRApoje37WKn7tj7mlr0mMDT2XhMaGgp/f3/MnTsXTZo0wbFjx6TF44y1LVP1UbhwYdy4cQMTJ07ErVu3ULduXQwePBjAh98fiYjIPNrvHer3Er0ji+mhnL81SuS1wojlsYiKUaFbXTu0r2GLzrXt0Lm2LSJeqzB8WSxK5bNCOX/rDz6/lZWV1v8BoGTJkgDUHzI1NN9eavY5OzsDeP9tZ0pKygd9A65P8eLFAQCnT59GsWLFtP5zcnJCkSJFYGFhgdOnTyNv3rxa+zNnzgy5XI5cuXIhMjJSWmxACCEtKKCPjY0NLCwspFEGQP0NdIECBRAaGoorV64AUK9MqikPTRmkNn/+fGTJkgVbt25FrVq1dFZ1PHDgAEJCQnDhwgXcvXsXUVFRWLFihVa562Mqz6b2f678RkdHI3fu3JgzZw4uXryIpKQkrFixwmhePqS8DNG0kWvXrum0kbQjGwBgb2+P1q1b48CBA9i+fTty5MiBUqVKaeUrdTvft28fkpOTDbZzAB/1W4Caetq/f7/WyEZycjKKFi0KS0tLHD58GAkJCQCA8PBwnD17Fq6urtJIsTkcHNS/s5q6fhcvXgylUonNmzejVatW8PLyMjtths75uZhz7/nUTLVFc/L/MX3IEHP7lr6+/DFtyVT+NX1uw4YN0jZN29Ds27hxo9aXfikpKSbv55q8VqhQAVu3bsWiRYvw/PlzadE1Y/tS+5Tt09yy1/zES+rFsyIiIrSO2bx5M8LCwjBp0iT06dMHBQsW1FkwTF/aTdVHTEwMXFxcMGTIENy+fRs5cuTAokWLAJi+P+prM0RE9HEs9Y0qfqlv3lO7fC8Zhy8loXYp9ZTUcR0cUDin+lvN8Ncq/LoiFpWLWmP36UQUzGGJomZOQTVm0KBB2LBhA/r374/r168jLi4Oa9asgZ+fn7TSXPHixSGXy7F06VK8fv0aly5d+te/FdWgQQOULFkS27dvR82aNVGlShXcvHkT0dHR2LhxI7y9vREUFIQZM2agZMmSaNu2LaKiorB//36cOHECdnZ2CAoKQpcuXVCrVi0EBgbi4sWL0kiKPpaWlihatCjOnTuHrl27IleuXBgwYAAmT56MunXrokaNGmjZsiXOnz+Ps2fPIjAwUJrGl5qvry9u3LiBfv36QaVSYenSpVr7NVOApk6dKpWds7MzSpQogR9++MFg+kzl2Zwy+dT5ffr0KYoUKYIyZcqgYsWK0ofjYsWKGa/gDygvQzRtc8CAAbh+/Tpy5cqFo0ePomLFiujXr5/e13Tr1g3z58/Htm3bMHz4cGl7/fr1UaZMGWzZsgUNGjRA9uzZsXz5cigUCmlVYA8PD2TLlg1Xr15FvXr1EBcXh2vXrpmdTw1vb2/88ssvmDVrFooXL45GjRrh1q1biI+Px4EDB9C/f39MmTIFZcuWReXKlbF9+3a8ffsWU6dOhbW1+V8ClShRAgAwceJEhIaGokaNGtIU4P79+6NgwYJYuXKl1r3MVNr8/f1ha2uLLVu2IEuWLChYsCACAwM/uAzMYc6951Mz1RbNzf+H3jP0+ZC+Zagvf2hbMpX/gQMHYt26dRg1ahSuX78Ob29vbNmyBWvXrkWDBg1QvHhxHDp0COXLl8ePP/6Iw4cPo379+hg8eLDR+/m+ffvQuHFjtG3bFgULFpRW/AwICDC6L61P1T4/pOx79eqFhQsXYsiQIbh27RpiYmKwZcsWnXIF1Cu2Pnv2DLt378bt27e1jilRogSOHj2KLl26oHTp0ujbt6/R+lCpVKhZsyYSExPRuHFjpKSkIDQ0FOXKlQNg+v5oqM0QEZFhmlkpQohUn59kQOoHGZXJKpGc/GUXuBFCiKFLY0STMVHixiP1SqAHLyRKi95oFrM5dEG9YMGtJ0oROCZKDF8WY+yUOjQLQBw/flxr+507d0T9+vVFhgwZhIuLi2jVqpV4/vy51jGzZs0S3t7ewsnJSfTr10/s37/f5AI3AQEBWtdAmsVD3rx5I3r37i18fHyEnZ2dKFKkiJg3b560X6VSidmzZ4u8efMKGxsbkStXLjFw4EDx+vVraf+YMWOEp6ensLOzE+3atZMW1tC3wI0QQly6dEkUKVJEKBQKkTNnTmlBhf3794uSJUsKGxsb4evrK0aMGKF3gQghhDhz5ozw9/cXCoVCVKhQQZw8eVIAEP3795fy7+HhIRwdHYVcLhcApP9WrVolhNBdbOFD8mxs/6fOb3JysggODhb58+cX1tbWIlOmTGLAgAHSedIudiLE+3Z26tQps8srbXvRuH37tmjYsKFwdnYWLi4uonLlyuLAgQN686qhWUji+vXrWtvfvHkjfvnlF6m9VKxYUZw5c0brmCNHjog8efIIW1tbUadOHfH06VMhl8t1FrjRl9bUUlJSxG+//Sb8/PyEjY2N8Pf3F4sXLxYqlUqqw1y5cgmFQiH8/f3FmjVrtF6vr31kypRJKBQK6W+VSiX69esn3NzchIODg5g/f74IDw8X1atXF7a2tiJv3rxiy5YtolixYlrpNZY2IYT4/fffRbZs2YRCoRCtWrXSyZuhBW409SmEEEuWLBFIsyhW2gVuhDB979F3bkPb9bVFTTlqFh8x1RYN5V9ffZjqQ6b6hqm+lZa+vmxOW0rNnPxfv35d1KlTRzg6Ogp3d3fRrFkzcf/+fSGEuv1369ZNeHp6igwZMojy5ctLC4wZu59HRUWJgQMHCl9fX6FQKESePHnE8uXLTe7Tx9z6SdtfUh/zoWW/detWkSdPHmFtbS1++uknsXXrVq0FblQqlejVq5dwcnISXl5eYvz48VL9a9L06tUrUbduXeHg4CDc3d3FuXPnTNbHwYMHRfny5YWtra1wdXUVTZo0EaGhoVK6TN0fDd3/iYhIl7TATfK7eDBVfChLTlEPJ4o0o4ph4S/h4+X26cNWPQYtjoFcBkzunEHatudMInadTkRyCtConAI1ir9/RrH/whhYWQKTO2XQdzpKR02aNMGNGzfwzz//wNLSEiqVCvv27UPt2rXRpk0brF69Or2T+M0KDw9Hrly54O/vj5CQkPRODhERERH9Bzx78RKeHuq4L21MqLWsmQxffvopAPzWRTfoq1VSAScHOeQy4Md82lNOp3djkPi1Cg8PR2hoKFauXIlChQohMjISCxYsgIWFBVq2bJneyfsmJSQkYNy4cdi3bx9iY2MxYcKE9E4SEREREf0HySCDwPuFbrRGFmWQATL1v8MjXn2xkUX6dty5cweDBg3C+fPnERYWBmdnZ5QqVQqDBg1C2bJl0zt536SLFy+iVKlSyJw5M8aMGaN36X8iIiIiIn2evXgJD3dX9WiiAATeP7coS1b/vrD6j1TLjjNYJCIiIiIi+rZpBYvQnooqrcGfXlNQiYiIiIiI6OuQOi6Up9oK4NP/IDQRERERERF93aQ4MNUYolx/cMhRRiIiIiIiou+DbvwnhFCPLGqGGjmqSERERERE9H2Snld8Fx/K3/1FREREREREJMWHcoN7iIiIiIiI6DuhGwfKOQWViIiIiIiIAO2pqHpGFhk4EhERERERfS8MxX9y7dFGTkElIiIiIiL6Psm0/ql3ZJGIiIiIiIi+bwwWiYiIiIiISIcloD1H9Us/rxgbF/9Fr0dERERERPRf4GBv+8WuJYSATCbT+rflF7u6AV+yAIiIiIiIiMg8qaahyvT+k4iIiIiIiL5hBhY9NfDMIqNFIiIiIiKi74P++I8L3BAREREREZEOrWDxSy9uQ0RERERERF+HtPGgnAEiERERERERpSaE0DMNlY8rEhERERERfV/0xIFy3T2MFomIiIiIiL4vujEhF0irIjoAACAASURBVLghIiIiIiIiHXqDRT7HSERERERE9H0wFP9xZJGIiIiIiIh0MFgkIiIiIiIiHVKwyKmnRERERERE37fUcSFHFomIiIiIiEgHg0UiIiIiIiLSwWCRiIiIiIiIdGgHizIDR6WjYyFnENi6u8H9h4+eRNM2PaBSqb5gqv695y/CUTewI+7ef/jFr50eZda2c1/sP3hU777Y2DiUrtQQ4RGvPih9ptrGf03aNmEqf7PmL8OkafP/1TW/lTKsXKsFBgwbn97J+G7dvHUXpSs1xLqN29M7KWY7dDgEpSs1xLGQMwCAMRNnolnbHohPSDD4GnOOoY+z9c+9qNO4A67duP2vz7X3wN9o0KwTKtVsjkN/h6B52574dfx0AF9/W30V+RqlKzXErPnL0jspRPS9ShMPpvvI4rTZi1G2SmOUrdIYpSs1RNnKjaS/j588a/L1+fLmQtuWjSGXp3tWPoibqwvatWoCHy9PAMD1m3fQqmPQF7n2115mX3v6Ppe0beK/omLNZngd/Sa9k5Hu+gwcjb6Dx6Z3Mj6J8tWbYs36rR+9/78ocyYf5MiWFZaWlgCAK9duonSlhrh2/bbBY74Efen4Frm7uSJH9izI4GAP4OPznZiYhN9mLoRrRheMGt4HhfzzIUf2LMiS2edzJPub8anvX6t+34zy1Zt+svMRUfpJ84735YcWBwR1wYCgLgCAnn1HoFSJomjTopG0/1jIGchkhtPl5emOOjUrf/T1VUJAbuT8n4uVlRWaNKgl/R0TE/uvzvch+fi3ZfbRvvb0pbO0bQKA0bb/qfybayiVSiQmJn3C1Hy8L1FWxryMjIK7m2u6puFTiH4TA6VS+VH7ZV/j9BQDZHLttP7crpnW369eRem8Ju0xX4K+dHyLypUpgXJlSkh/f2y+wyJeIjExCT+WLIryZUsBACaOGfxJ0vglyOXp04c+9f3re2m3RN8mGYD3q6F+ua9H/wUrS0vs3ncYS1eux9v4BLQIrIf2rQMBqIPJuQtXYtPaYADAlu178fsf25CSosIPef0wIKgL3FwzSueKjY1Dg+adMWXcUMyYuxT58vph+KBfcPf+Q0yfvRgPHj6Bj7cnBvTpinx5cyE2Ng51mnRAl44tcfzEOUS9jkaO7FkwtH8PZMjgAAC4fec+Zs1fjlu378HNzQVtWzZB7RqVAAApKSmYOmsRTpw+D2srK5QtXRxBPTri7dt4VKvXGtv/WIpLl69ixrylePs2HvWbdkLRIgUwamgfo+fVlw+VSsDB3g59f+kk5bdLryFoULc6alWvKG1LW2YXL1/FjLlLEB39Bl5eHujdvQP88+fVqoO2nfuiXOkSuHLtJl5Hv4HC2hqD+3eHX45sAICaDdpi1LC+KFWiCABgwZI1ePEiHGNH9pfO8ehxKHr1+xU3bt5B9my+GNK/B/xyZtOp77Tpi4mJxbxFq3D0+GlYWVuhcoUyCOrRUes1u/f9hQ2bd2LN0lnStoVL1+JVZBSGD/pF69gjx09j/cY/cff+Qzg7OaJX13aoWL40AHXQvXb9VmzbsR9v4+NR2D8fhg7oCWdnRxwLOYOlqzbg2fMwZPXNhAF9uuKHPH4G246huhdCmGwTHu7v37RXr9uCjVt2QSYDalavhG4/t9I76vomJhYz5izB6bMXkSGDA9q3DpTaiymGrrF5+x7sP3gUS+ZPAQAkJSlRoUZTrF85D5aWFujWeygAoE2nPrBRKKQ6A4Bde//CxKnzMGPyr1K7mLtwJTZv24PdW1fCRqHAijUbsXPPIcTFvUXhQvnRp+fP8M3sjZSUFJSr2gTVq/yEUcP6AgAGDBuPS5ev4a896/XmQQYZZs1fht17D8Pe3hYD+nRF2R+LAwD2HTyCLdv34s69B3BydETzJnXRoml9PH7yFM3b9UL71oHo0rElAODEqfMYOHwCZk75FSWLF8G+g0ewcs0mvAiPQN7cOTG4fw9kz+qrde3y1ZtCqVTi/oPHKF2pIdq3boIuHVvhwF/HsGrtZjx9/gLZs/qi68+tpbJI7fmLcKxZvxXHT5xBXFw88v2QC8MG9oKPt3qU+f6Dx5i3aCX+uXIDjhkc0KBudbRr1QRvYmKxYPFqHAs5A5VKhR9LFsWQ/j2hUFgbTPfNW3fRsftAtAish0v/u45Hj0OR2y8Hhg3shTdvYtC5l/qDdfCSNQhesgazp45G8YBCAIBr12/r3a8ZDYp+E4MBw8bjwqUryJYlM8aOHADfzN4A1NP/Zs5bhlt37sHLwx3du7SRPsynZihPFhYWBtuLpn3ExyegeEBhbNm+G0nKZAQ2rIVO7VtIbXfOguXYf+gYnJwyoEC+PFrXTd2+1qzfiuAlawBAyu/xg5sxeOQkrTYY9ToacxYsR8jJ87C0tEDlCmXQo0tb2NnZAlBPj65TqzLevk3A4aMnkMHBXqtdbt+5H6t+34KY2FjkyZUDXX9ujYIF3t97DaXjTUys0eumZqjtA4BKpcLvf2zHn7sOICoqGnnz5MSQ/j3hm9kbR0NOY9XazXjw6Al8vL3Qs0tblC4VgKjX0ZgxZwlOnrkAWxsbNKpfEx3aBEImk+GfK9cxY+5SPHnyDJkzeSOwUW3UrVUFES9fYdK0+fjnyg24ODuhfLlS6NapNaxSjdCu27gd8xauwvLgqTh38X968331+i2959d49SoKbX7uAwBYvnoj9uz/G1vXL0blWi1QpHB+TJs4Qqd8NGVkqI+bqiNTZbxu43YsWvo7fh3WB8tWbcCLFxEoUbwwxgzvB4XCGgCwadturF2/DUqlEhV++lFvGjUM1cvN2/cwZ8EK3Lh1BxldnBHYqDaaNa4LmUwm9fn+vbvg72OncPX6TWTP6iv1T0P3L2N91ljb7jt4LM6cuwQAKF2pIQoWyIuFcyYZzRcRfb3+E/P8Hj15isdPnmLt8tkYNbQPlq5Yj4iXr3SOCwt/iTkLliN49gRs/2MJGtatDicnR53j3r6Nx9Yd+7A8eCqGD/oFUa+j0XvAKDSoWwN7t69Gz67tMHz0b9KISVKSEikpKiyYNR7rVs6FUAnMCV4JQP3m9MuAUShfriT27ViDEYN7Y07wChw5dgqA+rmY6zfvYMvvi7B+5TyULhmg80G/etXy6N29A7L4ZsKfG5di1NA+Js+rLx/161TDwcPHkZycIqXtzr0HKF+upNHynTRtPtq1aoKdm1dgUJ9uBr9dfPDoCaaMG4rVS2aicsUyGD76tw967vHCpSvo2+tn7N62Ev7582LoqClmvX7QiEl4/iIcG9cGY/2KuSgRUFhnFKlyxbIIC4vA7Tv3pW1HQ06jaqVyOueLiYlFv96dcXDn7+jWqTUmTp0vPYO0bOUGbN62BzOn/IpdW1agZvWKcHR0wLkL/2Dk2Gno2LYZDuz8HT27toWHm6vRtmOo7s1pExphYRGwtbXBprXBmDllFHbv/Qt7DxzRe+zgEZOQIYM9dm5ZgXkzxmH56j+0ysOQD7lGapl8vLB4njqIXLN0llagCABVKpWFvZ0dDh4+Lm0LOXkWpUsGwMHeDnODV2Dl2k2oVvknBPXsiDt3H6Bn3xGIjY0zeW19Qk6dQ2Tka3Tq0Bxv4xMwffZiad/5i/9DQBF/jBjcG3lz58TchStx8/Y9ZPHNhDy5cmhNeT9+8iycnRxRrGhBHA05jbGTZiOgiD8mjR0CmUyOoSMn6/wu7bwZY6FQWCP/D7kRPHsi6tephiPHT2P0hJnInMkbg/t1h42NAgOGjceVazd10v46+g2ePQ9D5w4tEdSzI27cvIuZ85YCAMLCI9AtaBju3HuInl3aonGDWvD28oBKCPQdNAZ79/+NhvVqoGfXdvD28oRCYW1Wuk+cOo+ObZti/K8D8ODhY4wcNw3ZsmbG0AE9AQAN61ZH8OyJ+CFvLuk12bP5Gt2/ftMOZMviixaB9XDrzn2sWLMRAPAiLAK/9B8FCwsLTBo7BAFF/PHr2Ol49jxMqxyM5cmc9nLpn2u4e+8Bhg/qjR9y58SKNZvw9NkLAMDs+cuwdcc+VK9aHh3bNpO261O9Snk0blATADC4X3cEz54ICwsLnbT2GTQGISfPo0vHlmjWpB527jmEkWOnaR23ZfteuLu5YPyogQAgtcunz17gt5kL8WPJovht/DD8kCcXMjjYmUyHTC4367oahto+AMxftArBS9bAv0BeDOzbFdmzZYGbmwuOnzyLob9OgYWlBQb26YYSAYXg7eWurp/BY3Hl2k0MG9gL7dsEYvmqDVIfHz1hJqytrTBjykjUqlERNjYKAEDwkrW4fuMOJo4ehC4dW8LO1kYrUDS3/A2dX8PR0QH9e3d+d46fMHKI6Uc7jPUVc+rIVBkDgDI5Gat+34yuP7dCo/o1cSzkjFRmh/4Owcy5S5E1SyYE9eho9HlYQ/Xy/EU4fun3K15HR2NAUFcULeyPOQtW4Pc/tJ/LXLpyPapVLoeh/Xvi9t0HUv/Ud/8yp88aatu9u7eHf/68sLK0RPDsiRjYp5vJeiCir5flV7mqTRreXh7o3rkNAKB0qQDY2dniSegznaBGobCGpZUljoWcRb3aVVGyuO43+Bo/t20mfau37+BR5M2dE9Wr/AQACCjiD08PN9y8fRc5s2cFoH7zksnUk6wa1quOkeOmYzh64cBfx+Dp7oZmjesCAPzz50WTBrWwefseVPjpRzg5OSIi4hUuXL6CUsWLGE1TaqbOqy8fBQvkhYuLM06ePo+fypbE0ZDT+LFEUdjb6b65pebs7Igz5y4hoIg/cvllN3hc+TIlYWtrAwBoVK8m5gWvxP2Hj6XRRVMa1auBnDnU5dmpQ3Ns3LoL9x8+hpeHu8HX3LpzH1eu3cSOTcvg+G4kt3SpAJ3jbBQKVK9aHnsO/I3cuXLgwaMnePMmFsWKFtQ5VvNN9JPQ57C0sEDc27d48uQZcvllx6atuzBsYC9ky5oZAFChnPpb1E1bd6N+nWrS30UL+wNQfzg21HYM1f2HtAkPDzcENqwNAPDLmQ01qlVAyMlzOiOGt+7cx917DzF3+lhYWlrA08MN1av8hBOnzyN3rhwGz/8h1/hQNgoFqlUuh/1/HcPgpO549jwMT0Kfo0vHVkhMTML2XQdQolhh9OrWDgBgb2+HkWOn4eDfIaiXarTAXMUDCkkj2XfvPcTufYcRH58AW1sbjBjcG8rkZNy+fR+5c2XH8ZNncfX6LeTNnRPVKv+EuQtX4tnzMHh7eSDk5DlU/OlHWFhYYMOmncjybhRZJpNBYW2NXv1G4sHDJ8iRPYt0bf/8eSGXyeHgYI9C/j8AAEZPmAUHB3uM+3UArK2tUKJYEdQL7IhNW3frjNz/kMcPs34bhfCIV7h1+x68vDxw9dotAMDOPYcQGxuHCaMGSiN8AHDx8hXcuHUX7Vs3QecOLbTOZyzdGvXqVJVGuKpV/gmbt+9B9JsY5Ho32u/l5SHlRcPOztbo/g5tmqJ96yYAgP2HjuHhoydSHt7Gx2PsyH5wc82IYkULYufeQzh55oLW1OvL/1zVmydT7aVh3eoAAFsbG+mDa/SbGJy98A8ePgqFh4cbdu8/jAL58kiPPVhbWUmLnqTl4e4Kby8PAIBfjmzIny+3zjGXLl/FnbsP0L1zGwQ2Uvefly9fYeuOfXj0+CmyZskEAChZvAi6dGwFAChVoih27D6I+Hh1QCCXyfDyZSRcnB2lfJlKx4VLV8y6roahtp89qy+2/LkXBQvkxaih6tG4GlUrAADWb9wBW1sbzJg0Uj2D5t3MlAuXruD2nfsYM6IfKlcoAwD4++hJHDl+GtUq/wSZTIaYmDgolcnSqBagnlqZlKTEq8jXqFyhjPSeZYih8jd0fg0rKysU8s8HAMicyRtFCuU3eh3AeF9RKKxN1pGxMs6bO6d0zNABPfFDHj/ky5sL6zZux4N3fePPXQegUFhj4pjBcLC3Q7GAQgYXgzNUL0tWrEfc27eYNXAU8ufLjdo1KuH6jdtYv/FPtG7eUHp96xaNUK92VQDAstV/SP1T3/1ryYr1JvusobadPVsWZMhgD8hkOvcIIvqvkf03pqGmZW1tjaSkZJ3tzk6OWDp/Cpat+gOrft+MRvVrol2rxjrfCAOAw7tpUwDwIiwcN2/dQ9vOfaVtsbFxiIuL13v9DBkcEBMTi+TkFLwIj0Dmd9OgNHwze+PAX8cAAKVKFMGIwb2xau0mzJq3FF1/bo1K76Y8GmPqvPryAQAN6lTD3gNH3gWLZ9CgTjWT15oxaSSWr96Itp36okSxwgjq2RFOjhmMvsba2grW1taIioo2eX597O3sYKNQICoq2miw+CIsHI4ZHJDRxdnkOevXqYagAaPxS7f2OHr8DCpVKK13xO6vIyewZv1W5MqZDXly54SlpQXiExIRGxuH2Li3Oh+21OmI0BvUGWs7pUsF6K37j20TAOCa0RnXrt/Smw5lshIduw+QtiUmJqJS+TJmndeca3yMenWqYdvO/Th55gJCQ5/B1tYGZX4shleRUVAqlciWJbN0rGba1/MX4R91LSur97czzYhDYlKSetR0624sWbEO7u5uyJzJCwCkEamqlcth/qJVCDl5Dvl/yI3IqNeo8m5E+kVYBF6+ikT1eq0BqEeTACDGjNHPF2ER8PbygLW1FQB1uTpmcNCbv/CIVxg1fgZu37mPokUKICkpSbrGi7AIAND64AkAz1+ot+dJs91UuhXv0pOak5O6v0dFRcPC4uMnnFhbp64DGyQmKaX0CCHQsv37KeEpKSqdUWRDefqY9mL9rj0kJSXhzZtYJCUptQL8f+tFmPq6qdOULdv7NGnuI6njGU0bTUxKQiYfL0ydNALzgleiVccgFA8ohOGDftGagv5vrqthqO1HRr1GUpLSQPsJRyZvL+lRi7TXnjx9AabOXAgASEhMROGC6qBs1tTRmDFnCYIGjkaWzD4YOrAnCvnnQ79fOsPKygpTZgRjzoLl6NKxJRrVr2k0n/oYOv+/Yayv5Miexaw6MnZ/0dA0Aysrdf9LSlLPXIp4GQl3N1c42Bv/UledVkP1ou43WbO+bxNZs2bGg2OnkJT0/vli7bZoJfVP/dcy3WcNtW3Nl8pE9G3QCRbTTq/6r8meLQvGjxqIiJev0GfgGNjZ2aB5k3pGX+Pp4YZcftkxe+ponX36psTdf/AIbq4ZYWlpAS8Pd1z655rW/tCnz+Hp4Sb9XebHYijzYzFcu34bPfqOQGYfL+lZJI20D7Wbc159alargCUr1yMsPAK3bt9D6VLFjB4PqIPfoJ4d0a1Ta0z4bS4m/jYPU8YPNfqaZ8/DkJCYCC9P9be/VlZWWoteCBPTS8PCIxCfkCC93hAPdzdEv4nB69dv4OysO6U4Nb8c2eDj7YlzF/6HkJNn0TvNc42A+sPU2ImzsG7lXGTyUb+pz303pdjewR62tjZ49PgpsmfT/lDp7u6KR49Ddc5nrO0A+us+d64cZrUJfR48DNVbZp7ubrCwsMCyBb9JH0Y+VuprWFtZISlVvaqEdr2aWowhT64cyJs7J44eP4VXka9RrnQJ2CgUcM3oAisrKzx68r5MH74rX28vD8jlclhYqIN4Dc1ozIe6e/8hZs5bis4dWqBDm6a4/+Axjp94P+3UzTUjChcqgDPnLiH6TQzcXDOiUEH1B1AvTzdYWMgxZ9oYrVEMN7eMOtexsJBrTav28nTHvQePkJSkhLW1FSKjXuNNTKw0YpLajLlL8CT0GbasWwRnZ0cMG/2bFAR5uKv7/J17D6QRbQDSveDO3Qc6z/4ZS/e9ew91rn/7zgPIZDJ4ebojMuo1APUHQ300X74Z2q+PJq0zp4xCxozvv/hxdHTQe1zaPJlqL6a4ODvC0tICoU+fm51mKZ8G7mWaPvLocai0MMvDR+anCQB+LFEUP5YoirPnL2PIyMmYNW+pzmIsadPxIdc11vZdXJxgZWmJO3cf6qTL08MNd+49RGzcW60gxvPdF3tdO7bSWoxG8+VMlsw+mPXbKDx6/BTDRv+GISMnY+/21bCzs8Xgft3RrVNrTJu1CNNmL0Yh/3zSTBN99JW/ofP/G6b6uKk6MnV/McXdLSOu37iDhMRE2CgURo81VC9enup6efQ4FPl/yP3u30/h4uwkfVllStr7l7l91vD5LCDEf+snzYhIHQemnbXxn3hm0Vx37j7Azj2HoFQq4ezsBBcXZ7M+0FSr/BNu3r6HrTv2ITk5BUlJSvzvqvZzRXsP/I34hAQ8ePgYy1dvRIN3056qVf4JYeEvsWnrbiQnp+DajdvYvG2PNE3j0OEQXLx8BSoh4O3tAVsbhd4PHx7ubggLj8CbmFgok5NNntcQBwd7lCtdAlNmBKN0qWImp/vEvX2LVb+rF0xQKKyROZMXklNS9B579MQZvHoVheg3MZg+ezGKFvaXFpfI4psJR0NOIyExEafPXsL+Q8d0Xh9y6hxeRao/ME+dtUh6veZDgb4VFvPmzok8uXNi8owFiH4Tg7i3b7Fj90GohICFhYXOaxrUrYYNm3cg6nU0/PPn0TmfJuBISUlBQmIi1m3cjuRk9Si1XCZDg7rVsXDpWjx8FAplcjIO/R2CV5Gv0aheDeza+xdOnbkAlUqFazdu458r1422HUN1b26bANQLaJw8fQHK5GScPH0BBw8fk6YRWVhYSIFc3jx+yJE9C36buRCxcW+hEgL/XLmBlHd1eebcJWzatvuDr5HF1wcPHz7B3XsP8Tr6DabOXKQ1Uu/i7AwrS0vcvvsAymTd0X4AqFe7Kk6cOo//Xb0hPUOqUFijQd1qOHPuMhYsXo0duw9izoLlcHPNiCoVykAmkyFrlkw4d+EfrN2wDb+Om46rH/nTAZoZAo+fPMXhoycxY+5SnWOqVS6HS/9cw5Hjp1G5QhlpZeHARnXw7HkYFi37HQ8ePsH/rt7EhUtX9D5v5ZvZB9dv3MHBw8dx995DNGtSF7GxcRg5bhr2HTyC4aOnQi6XS1MHU3v7Nh5JSiXOXriM1eu24MzZS9K+OjUrw9bGBuMmz8H2nfuxYfMOLFiyBkULF0CO7FmwdsM2rFizEbv2/oXRE2ZCqVSale4/dx3Atp371aOqp86hXJkScHV1gbeXB6wsLXHk+CkcDTmts6qhqf361KlZGba2Npg+dwlu3LqLu/ceYu+BI7Cz1V6QxVCe5HKZ0fZiilwuR8WfSuPi5auYu3Altu7Yh+Cla4y+RvNTC9t27MXfR0/qfJFapHAB5M6VA6vXbcGmbbuxet0W7Nx9ED+WKKp3dkJal/65hj6DxuDw0ZNQKpNhaWmhM1NEXzoKF8pv9nWNtX0bhQJ1a1XB5f9dw8Sp87D/4FGMmTQLj0OfoUnD2nj7Nh4Dh03AvoNHsGDxahz46xiKFi4AvxzZsHrdFpw9fxkPH4diz/6/AajvIz37jsCfuw7g5atIKBTWsLe3g0oIjBw7DSvWbMTdew9hY2MDuUymdzEeY/mOjHqt9/wfSnPdq9dvIzExyWhfMaeOzLm/GFOlYlnEJyTg17HTsWvvXxhlYGo0AIP1UqdmZdjb2WHi1PnYs/9vTJo2Hw8ePpYW2TFH2vuXuX3WkCyZfZCcnIK167fiwqUrAIBtO/dj7Tf2kztE34NvKli0t7fD+Yv/Q73An9GgaSe4ubqgUf0aJl/n5poR86aPxeEjJ1CzQVs0b9cTh4+e0PpwEBsbh5btf0G3oOGoXKEM2rVqDABwdXXB7Kmj8deREFSr2wqjJ8xEz67tpOcK3dxcsHTlH6jZoC06dB2A5oH18EMeP500FClcAKWKF0HjFl0xaPhEk+c1pn6dajh99hKqVtZd3CUtuUyOt2/j0bpjEGo1bIdL/1xDUE/dETkAcLC3Q5/BY9CoeRdYWVth/K/vpzx279Qa/7t6E7UatMOR46f0LjH/Q14/9BsyFg2bd4alpaX0eltbG/XiAnp+YF4mk2HqhOGwsLBAk5bd0LpjEB49eYpkZbI0LW/Zqg3S8ZUrlsX1G7dR+V3AkVaO7FnQuEEtdOw+EG1+7gM7W1vkTvWcZvdObfBT2ZLo1W8k6jXpiMNHTyI5ORllfiyG/kFdMGv+MlSt2wpzFqwAIDPadgzVvbltAlD/5uTJ0+dRr0lHTJ+zGEP690DRwgUAACUCCuH4ibPSG/HUCcORkqJC45ZdUT+wIzZs2oHoNzEAgJOnL2DWvGV4+1Z3arWxaxQumB81qlVA195D0e2Xoahdo5LWFCxrayt0+bkVRo6dhiYtu+kdia9W+SekpKigUCi0pvL27t4B7VsHYu/BI5g1bxly5siG+TPHS1Osgnp0hLOTI1as2YiMGZ3Rse3H/WZXIf8f0KRBLRw7cRYLFq9G7RoVdT7wVSpfGikqFR48fIwqlcpqbR89vC/uPXiEYaOnYMXqPwz+pmTvHh2QMaMTJvw2F3sPHkGFcqUwZkQ/PAl9hknTFiAhIQFTJwzXeV4RAHp0bgN314yYNG0+7tx9oHXf8vH2xJzpY+Dl6Y7ZC5Zj09bdcLC3g1wux+ypY/BTmZJY98efWLBkNaytrZCYmGRWunPmyIYt2/dg6459qFKxLEYM7g1A/YVTr+7tER7xEmMnzcaVNFOSTe3Xx8fbE/NnjIOdrQ3GT56DqbMWITzipc5osbE8mWovpvQP6oIqFcti5+6D+GPzDq2faNKnZImiqFW9Io6fPIepsxch4mWkdlplMsyaMgqlSxXD4mXrsO6P7ahbqwrGpbovGuPq6gIHeztMmjofYybORECRgujRua3JdLx6FWX2dU21/aBeP6Nty8Y4dfYifpu1EFGRr5GSkoLKFcpgxODeeB0djcnTF+D0uUuws7OFXC7HrKmjULxYISxYsgajJ8zE9Zt38OZNLKwsLZE3jx+WrlyPAcPGw8JCrk6TEChSKD/2HzqGfoPH4p8r1zFiSG+To69p8x0dHaP//B8oi28mlP2xOE6cOo+Hj0ON9hVzoxpuvwAAIABJREFU6sic+4sxdWtVQfvWgbhx+y4WLF6NUiWKGiwbQ/Xi7eWBeTPHwckxA36bGYzzF/+H3j06oFWzBmanI+39y9w+a0izJnVRyD8flq7agIVL1wJQf6F//dZds9NERF8HmTJZHREJIQCZTAqQXr58BR8v41MevwexsXGoVq81dmxapvUTHF+zu/ceImjgaOzYtEzv85ofo23nvmjdvCGqVf7pk5zvc1EqlWjUogtm/jbK7IV3vgcqIdC2Ux+sXjrri/+uaHx8Aho274wqFctiQJ+uX/TapEuzjP4v3TugRaDxKfpERET07Xv24iXc3i0cKpPJgFTTUf+TC9ykB5Xq63+WUwiBxKQkzAlegZbNGnyyQFE6/1deBiohsGLNRuTOlZOBYioqITB6/AwENqz9xQPFE6fOY/f+w0hMSkLLD/iWmz4/Pk9EREREpnxT01C/dzv3HELtRu2ROZP3Bz2r8C149PgpqtZuiUv/XMfIIb3TOzlfFblMhk7tm6O+GSvjfkrxCQkYMXYqbt+5j7Ej+5u1gA8RERERfT04DZWIiIiIiOg7ZWwaKkcWiYiIiIiISAeDRSIiIiIiItLBYJGIiIiIiIh0MFgkIiIiIiIiHQwWiYiIiIiISAeDRSIiIiIiItLBYJGIiIiIiIh0MFgkIiIiIiIiHQwWiYiIiIiISAeDRSIiIiIiItLBYJGIiIiIiIh0MFgkIiIiIiIiHQwWiYiIiIiISIdleicgNi4+vZNARERERET01XGwt03X66d7sJjeBUBERERERES6OA2ViIiIiIiIdDBYJCIiIiIiIh0MFomIiIiIiEgHg0UiIiIiIiLSwWCRiIiIiIiIdDBYJCIiIiIiIh0MFomIiIiIiEgHg0UiIiIiIiLSwWCRiIiIiIiIdDBYJCIiIiIiIh0MFomIiIiIiEgHg0UiIiIiIiLSwWCRiIiIiIiIdDBYJCIiIiIiIh0MFomIiIiIiEgHg0UiIiIiIiLSwWCRiIiIiIiIdHwVweLYiXMwaeoCTJ25GJOnBeP3DduhVCr/1TmDF6/F/67+n727jI/iWuMA/N8ku/GEOAR3d7fibsFdC8VaoEgpNUqhtEBxdwoUd3cL3uAeJIQQd9kkm5X3fthkWM9GIKH3fX6Xzp09M2eOz5yZ2c1zAMDZ877Ys/9Ypts/fuqv97k5+34qoWEROHbyAmQyGXbsPgwiAgDExydg0rTfcOnKzTxOYd5JS5Pjp1kLER0TCwB4+Pg5YmLicvUYN2/fw+p12xEaFoFfflsEhUKhFX72wlUcOHQqS3G+DXyPeQvX5GYy85xm3/ucfYw2lJvH0u3vn7L/p6Sk4ta/9w2GBQeH4eXrtzmKf/e+Y7hw6Xqm233sPL9+E4g/FqzKlbh0yyynfd/Uucnc8jNFs2w/5viakpKKRcs24Pd5K/Dg0bNcidNcZy9cxaGjZz5a/NlpP7r9JzvnFV137j3Cn3+txk+zFmLu/JV4/uJ1juLLC3v2H8fRE+e1Pjt99gr2Hzppcr+PcQ13995jrN2wI9PtPtY55P/5Wo/ljXwxWQSAYYN7Ydq3X+G7yaMRERmN+w9z76RRv24NtGrR+JPvm9vOnPNFm5aNceP2PdSpVRUikQgAcOfeY9StXQ137j3K4xTqy5jQfmwSiRgjh/WFq0sBAMCt2/cQHZv1QdpUeqtXrYhUmQxenu7wLuSF5JRU/Y1EWT4k+wiIKMdtL7tt6FMd68TpiybXP6bomFijk0X/1wF49eptjuIXmdmPspPnrLSLYkW9MXhA9ywfwxCDZZaD8cLUucnc8jNFs2xza3w1JCAwCADw4/SvUb1qxVyJ81MwZ4zJTvsx2H9yUJ9+dx/h5JnLGDGkN+bMnIJRI/rl+GZ8XqhRvRIeP3mh9dmjJy9Qo1olk/t9lGs4M+vjY51DPuVYzxgAWOV1AnTJZGlIS5PDzbUAtu86hOJFvdG0cT0AwLmL1yCVJqNb5zbC9gqFAkeOncPTF69gZWmJRg1q44sm9bTivOX3AIkJSejh096s7c9dvIag9yEYNqiX1r5vA9/jyPFz8C7khbi4eERFx2L44F7w8vJAfEIidu87BoVcgYDA9xCJgCYN66CrRlrlCgUOHj4N/1cBAIB6tauhbesvAKifxpQqWQwhYeGIjo5FmdIl4NOlrVa65HI5Tp65DCdHBxw9cQFTJpYCoJ4sDujTFes370JUdAzc3VwBAHHxCdi7/zgio2IgFluhp08HFCvqbTD/L18F4NjJCwAAW1sbDOzbDY6ODrh4+Qb87j6EpaUlypYugS6dWsP/5RscOX4OVlZWsLezxbDBvSAWi4V0nr1wFTJZGkLDImBra4NB/Xxw2fcWbvs9gIWFBYoVLYRe3TtCJBJhxi/zUa92dcTFJyAmNg4N69dCowa1AQAvXwXg0NGzkMvlcHCwR99eneHl6Y7YuHhs23EQKpUKIpEI/Xp1hpeXB5at2oLff52K0+eu4MXLAERExcDNtQDGjByImNg47N57DDFx8bCytETH9i1QtXJ5AMBPsxaiQ9tmuHPvMTq0bYYde47gqxH9UaigJwBgzfp/8EWTepAmp6BOraoICQ2Hq6sznBwd9NpvVFQM1m7YgajoGLgUcMbgAd3h6OgAuUKBA4dOIeh9CACgccM6aFi/lt7+V67egu91PxARShQrjF7dO8LGxhrzFq5B7x4dUapkMdy99xh7D57A3FnTIBKJsH3nQVSqUBa1albRiouI8NsfywzmpVLFskaPdeDQKdjb26Fdmw9ts3GjOqhWpYIQd2KSFIeOnEFEZDQSEhPRrEl9tGzeSC8/xtqKsWNrpv34yQvwfxUAqTQZRYt6Y8iAHrCwsMCbgHc4fvICVER4E/AOdna2GNCnKxwdHXD2vC9cXJzxPjgMY0cNwrugYIPtOjY2Hrv3HYM0OQUWFiJ079oOJYoXEY5/6OgZvTZkrD1qOnvhKqKjYyGXy5GQmAQiYPSX/SEWi422QUPHyqycl67cjNRUGRYu3YAK5Uvh1etArfVO7Vsa7dOr121HyRJFERYeifchYWhUvxaUKhVevwlEXFwChgzsAe9CXjh74SoC3wXD0sICsrQ0qFQqDO7fHckpqdiyfT/i4xOxcOkGtGnZGNXSL/L97j7C+YvXIRKJ8PT5Kwwf0gsAjPa9DGlpcuzZfwyv37xDgQJOICJhHDPWd3TLoFP7lkbHGc0+3rFdcwQEvhfqKSJSXe41a1TGbb8HiIyMRptWTVG3djUEh4Rj975jmD5lDADgh5kL0Kp5I7wLCkFIWAQ6tmuOmtUrA4DRYwNAeESUXpk5OTmCVISDR07j8RN/WFiIMHJYX3h5eWQaH6B9XstO+Zk6nxkqW2Pja83qlfHkqT9GDO0DAAh8F4y9B05g6qRRWnVsqM+nyeU4cOgU4hMSMW/hGkydNAqWlpYAYHScz+ycodvmHRzsjY4lmt4EvMPufccw8evhEIvFRstMc4z5akR/7D90EhGRMQAIrVo01pq8aLYfU+WdwVj/SUqSYv3mXQgOCYO7m6swpphzXjl15hJ69+gEz/SxysPdDR7ubgBg8ryYlXHCnL6UUT/GxlBTfQsAypQqjqQkKaJjYuHm6oKEhETExyegVMliJq+tzLn+MzZWajp34Squ3bgDe3tbODs7CZ8bG6N1x/XRXw4w2g4NXWdlZdxj7KOTK4jkCqI0uYrSFEQyuYpkchUFh0bSpzLr96W0YPFaWrRsA02dMZfWbtxBaXI5vQ8OpT8WrBK2+/Ov1RQWFqG176GjZ2jN+n9IoVCQUqmkuPgEIiJatXYbPXj0jIiIzpz3pf0HT2a6/aMnL+jx0xe0aNkGSpPL9fYNeBtE3/88jyIio4iI6NSZy7Rn/3EiIvpn1yG67HuTiIhevX5L6zft1MvngcOnaPO2vaRSqUgmk9GCxevo1r/3hePvP3SSVCoVpaWl0bQf5lJiYpLW/klJUpImJ1OaXE4xMXFERBQRGUU/zVpIRER79h+jU2cuC9svWLyOzpy7QkRE0uRkSk2VGcx/QkIizVu4hpKTU4iI6M69R7Rn/zFSKBQ0adpvJJPJiIgoISGRiIiWrNhET5+/1PpM05nzvvTrnCUkTU4mIqLHT1/Q5q17SalUEhHR7n1H6e79x0RE9O13s+lNwDsiIkpOTqEZv8yn6JhYio9PoOk//knvg0OJiOjuvcf029ylpFQq6fjJC3Tk2FmhTDLi/fa72UIe5i9aS/6vAoQ0zV+0hnyv3SYiosio6PR6jCYiosnfzaaLl28I2168coP2HjghxP/L7EWkVCopJSWViIhSU2WkUqkM5nvJik1CvvfsP0Y7dh8mIqKDR07Tlau3iIhIoVDQ/EVrKC4+gQLeBtGff60mIqJHj5/T7D+Xa+3/z65DRER05NhZOnH6IhGp29ryVVso8N17IiKaOXuxXlvJLC+mjrX/4EmtdqTZlzIoFAp6FxRMRESJiUk07Ye5JJUm621vqK2YOramNwHvSKVSkUqlor+WrKOHj58TEdGvc5ZQcEgYERGdPHOJLl5R113A2yCaOHUWBb4LFo5nqF0TES1cul5oWzGxcUIdaNJsQ6bao6Yz531p8fKNlJqq7jPLV/9N9x48SY/PeBvUba+ZlXNqqoy+mTxT2E533VTeV63dRgePnCYioojIaPpm8kx6/uI1ERFdvHyDtu08KORl9frtpFAoiIjoxKmLQnt+9OQFLV25WS+9ROq2fuLURY1yNJ7vDAcOn6K1G3eQUqkkhUJBq9Zto/MXrwnxGeo7unk2Nc7o9vGMviqTpZFKpaJfZi+ioyfOExHR+/ehNHP2YiIirf5JpB5jMtr26zeBNHf+ykyPnUG3zALeBtF3P/xBr98EEhHR4aNnhPOJOfFpnpuyU36mzme6ZZuRd0Pjq1wup59nLRT69/6DJ4X6FvJuos8/evKClq/+m3SZGucNnTNMtXljY8mZ87508Mhpio6JpTnzVgjt0lSZaY4xL16+oYVL1wvbZYyBGTTbj6ny1qTbf86c96U//1pNcXHxpFKpaOHS9cKYYiydGWQydT3K069ndJnqm1kZJ8zpS5mNocb6lqade44I4/3V6/8K9Wvq2iqz6z9T7SbDo8fPaeacxZSQfp49eeYSrVn/j1Duxs6FuuO6oXZo7DrL3HGPsdwSHBopzAHT0ueFGXPEfPNkcWA/HxQq6AmFQoGjJ85j156jGDygO+ztbBHwNgi2tjYQi6207sIBwIOHz9CvTxfhbqSzk6PJ45jaPiw8EqfPXsG4rwZBbGW4aAo4Owl35dzdXRAUHAoAcHR0QHKy+rVEaXIK0gy85vHw8XMMGdADIpEIEokEjRrUwoNHz1CvTnUAQJnSJSASiSAWi+Hk6ICExCQ4ONgL+9vb2wn/38XFGYD6TmTlimUBAJUrlsPBo2fQrs0XiItPQHBIGCZ9PRwAYGdrazT//955gMQkKbZs2wcAUCqVcHZ2hKWlJerVqY41G3bgiyb1hCdL9evWwIHDp9G0UQzq1qlmsJyqVC6ndcyw8EjhHf9UmQwFvTyFbQum16mtrQ2KeBdE4LtgKBQKFCvqjcLeBQEANWtUxv7DpxAaGoGqVcpjy7b9gEiERg1qaZWLIbFx8QgLi0TjhnXU9ebmigrlSuPJU380/6IBCEC9utWF7RvWq4m5C1aha6fWuHv/MerUrAoLCwvhyZe1tcTosYoWLiTku3bNqti196i6DB49g0sBZzx+ov5erIoI8fEJWvs+fPwc9epUF/Zv1rQBFi5ZjwF9u6FihTI4fuoiOrRtjvCIKDRtXA/PX7yGra0N7OxstdqJJmN5MXUsc1haWsJaIsGZc1cQGhYJIvVdajs7W63tDLUVc4/t6eGGq9f/RWBQCKTSFERFxwAAnJwckJL+CnCyNAWWGk8ICnp5oFhRbwDAc//XBtt1bFw8gkPCceTYOWE/hVJpMr8vXr4x2h4LFy6otW2xIt5CG3F3c0F8fGKmbTCr5ZwxBhljLO8ZSpUsJqQPAEqV+rD+9NlLYTtPdzdhrKhQvjR27jli8ri6zM33k6f+6NOrs/C0J+N1R8B437Hx1D8XGBtndPs4oO6rEolYOF7pjDJxd0F8QqLRPJUtXSI9L+q6zezYpri6FhDqwtu7IO4/fJqt+LJTfoDx81lWWFlZoWGDWrhx+x5at2iMR09e4Lt2o7W2yc54Y2qcN3bOMNbmjY0lAJCWloZ1G3eibu1q8HB3zbTMNMeYooULgYiwfedBNG5YByVLFDVZVtkt77KlSwhPs7wLeX1od0bSqXsdZOhlWXP6prnjhDl9yZwx1FDf0lSzemWcPe+L5k0b4NGTF2iV/jZLZtdWGbJy/aPp8VN/1KtdHY7p51lPdzcEBgYDMP9cCBhuh8aus8wd9xj7FPLNZDGDlZUV6tetgfWbdgEAmjdriGs378DVxRkN6tXU256IYJXe8c1havvzF6+hbeumOHbiPL4eO1TrlR9DRBAJ31loUK8GNm7Zg4jIKFhZWWFQPx+z02Q4chFIlfl3a+7cewylUol5C9dApVIhMjIawSFhsLO1hYVIpPeqjbH8exf0xNivBul93r9PV4SHR+LC5Ru4ePkGJo4fjgb1aqJypXK4eesu5i9ai69HD4Fb+slESL7OS/21a1VFm5ZNMs1Pqkz2Ic1Gir9oEW98P20s7j94ilVrt6Nb59bCa3DZpZlea2tr1KhaCfcePMG9B0/Rr3eXbMUplyu0yr9rp9ZarzoC6h+50E6HYaVKFkNYeCTeBYXA08MN5cuWxOZtd+Do6IAK5UsbTYOpvBg7lkgkyvS7OBmvE/X0aY/WLZtg7oJVUBlor4baiqljZ0hMkmL5qi1o37YZ+vToiINHzgj9oWH9Wjh5+hIcHO3h5uqi9fqrbp811K5j4+IhEokweuQAvf5hUja+N2ROWZpibjkbYqxP66ZP5wOojKRXq2/mMpFIBGuJ2Gi4ob4jk6XpbWdqnNEdk3SPr7mlWXWmU7fmjnHGWOQgvuyUn/7Yk/222qRRXSxbtQUlihdBieJFYGtro5/GLMZp7jiv2S4NtXlTYwkA3Lh1D506tMS1635oVL+WcOPNWJlpthVbWxtMnjASL1+/xZHj51CieBGtr8mYkt3y1h1TDKUzg0QigYe7K968eYfy5Upl+Viax9T5wOg4YbIvmdsIjIybZcuUwLadBxGfkIjQsAiULlXczAjVsnr9k8HCQiRMhnWZO0abaoeGrrMA88c9xj62fPMDNxmICH53H6FokUIAgCqVyiE4OAwPHz1HrRpV9LavUrkcLl6+AZVKBSJCWHikOkAEwMBgY3R7AD5d2qJNyyawsbHG9Zt3spTuf+88RMtmDTFkYE8M6NsNTgaecFarUgFXrt4GESEtLQ3Xb97N0Rf6g96HIiU5BT9//w2mTxmDGdPGoU7tarhz9xFcXJzh4eGGy763AKgHmJjYOIP5r1CuNN4Gvhd+gU0mkyE5OQVyhQLvgkLg5eWBPj07ITQsAqmpMrwJeAdHB3u0adUUHu6uCA4JM5nO6tUq4ur1f4U7s7Gx8Vongow6eBPwDuERUShbpgTKly2Fd+9ChLjv3X8Ca4kYhQp5qt/hJ0Ld2tXQoF4Ng7+8aGtrg6QkKQDApYAzChb0wLUbfgCAqOgYPPd/jcqVyhlNc7Om9XHpyk0QETw9TD/F0RQdEwulUgmVSoUrV2+hahX19z+qV62IU2cvC7+gGpP+pXeR6MMPblSrUgG3/B4gOSUFAHDZ9yaqV1O3DwsLC5QpVRwXLl1HubKl4OjogLQ0OV68fIMK6RcBge/U38MyJy+mjuXs7IiQ0HAA6l/gfW+gfp8+f4WqVcqjVMliiI6JhVSa/CFQo+8Zaiumjp0hKCgETo4OqFWjClQqQmhYhBB269/7GNCvG4YN6oUuHVsJd4l1GWvXLgWcUdDLHWfPXwWgLv/YuHi9/TXbkKn2aI7M2qDmsTQZK2eJRAxLS0thH911Y3nPqqiYWCgUCiiVSlzxvS20ZztbG+0612BrY4Mkadb6XpnSJXD95l0AQEpqqtaYYqzv6OY5s3HmYzLn2KbKLDvxacpO+ZmiW7a6dNuro4M9ShYvgoOHTxu8qWtOn9dlapw3dM4w1uZNjSWAelLeukVjfNG0Hval/7KmuWUWExOHhIRElCtTEl07tcaz569M5skcmv0nM+aks02rpth36KRwboiOicWpM5ezdV7MiZyOoYD6PFi5YlkcOHQKFcuXEW4SmHttlZXrH01lSpXAnXuPIZOlgYjwOuCdEGbqXKjZT4y1Q2PXWeaOe0SEq9f9eBLJPqp882Rxy7Z9sLKyhEyWhiKFC6Fvr84A1HepqletiMioGK0fwMjQpWMr7Dt4ErP/XA5riQS1a1VFQS8PlCxeFKfP+erdiTS2PfDhNc9e3Tti0bINqJKFQbNkiaL4e9t+XLxyEyKRCE5ODmjbqqnwGgcAdO7YCvsPnsTv81YAAOrUqqb3mkRW3Ln3CHXrVNe621+/bg1s33kQXTq1xpfD+mLX3qO4dvMOrCUSdGrfwmD+27RsgpHD++LQkdNQqQjW1hJ07dQabm4uOH/pGuLiEiASidC5Q0vY2FjjwaNnOHT0DCwtLeHp4ZbpyaVyxXJo1TwWy1f/DRsba9jb22FQ/+7CKx3Xb97B7n3HoFSpMGJIH/WrSrbAiKG98c+uw5ArFHCwt8NXI/rDwsICwSHh2HfwJCwtLSG2ssKAvl31jtm8aX3sO3QSl31vYcK4YfhyqLosLl+9DUsLC/Tv01V45cgQV9cCsLOzFb6Yby5ra2usWLMVsbHxKFe2pPAl+04dWuLg4dOYO38V7O3t4F3IE/37dIW7myuSk1Pw4NEzVK9aEVHRsVi8bCOICMWKeqNPz85C3JUqlsXufcfQvVs7AECZ0sVx7Yaf8BT72MkLsLOzxfDBvTPNS5XK5Y0eq27tarh7/zF+nbME5cuVMtgP6tauhs1b9+Lps5coWsRb6EMAhL5XpXJ5g23F0tLSZD4BoHSp4jh/6Tr+WLAKBb08tOIvVaIolq7YDDs7W1haWsDD3Q0+XbV/DApQvxpuqF2XKlkMI4b2we59x/D7vBWwsbFG/bo10aRRHa39dduQsfZoLlNtUPdYGfEaK2eRSITWLRtj0bKNqFihDHr36Ki3bizvWZGSkoqVa7chJjYO5cuWEtpzieJF4OzsiD8WrELzLxpo/ahGnVpVsXbjDixYvA79+3Qxq+917tASO3Yfxuw/lsPNtYBWfRvrO4bKwNQ48zFlNsYZKrOMH53KbnyaslN+phgqW02G2mv9ujXg/zIA5cqW1IvP1HhjjKlx3uA5AzDY5k2NJQDgkH7eb9akPhYsWYfHT/3NLrP4hEScOH0Rcrn6gr5X9w4m82QO3f5jijnpzJi8r924A6mpMlhbS9CjW3sApsek3Obk5JjjMRRQv4q6at02jBs9WPjM3GurrFz/aI6VNWtUxrv3Ifjzr9VwdLRHubIfntKaOhdq9pPRXw4AAXrtMDk5Re86y87O1uxxr2O75jh15hJKlSwK70JeWSpLxswlkivUtyuJSOvRf1RUNLwLupvc+VOQKxT4a/E6DOznI3xPID/6a8l6fDm0D1xcnEFEOH32CqJjYjEwp6+j/sdNnj4Hv8+aClsb/deW8lJkVDRWrt2GH6aNN/r6SX4TEhqOq9f/1bsI+xzzYoxUmowVa7Zi2rdfwcLCAkqlEms37ECdWlVRr26NvE7ef8rZC1eRmJgkXFgyZsrOPUfg5elu8FeRc1N+PWcwxtjnLCQsCu7p36kWqV97E14rzzdPFg25fvMOrly9jQb1a+briSIA1KtTDdt2HhS+q2FrY631ZzOYCZ/mTTGz7dp7FO+CQjCwb7fPZnIll8tx7MR5vbvKn2NeTLG1tUGxot5YvX47JBIJVEoVihX1Ru1aVfM6af9N+axvsvznfXAotu88hCJFCqFZ0/qf5qDcLhlj7JPJ908WGWOMMcYYY4x9HKaeLOa7H7hhjDHGGGOMMZb3eLLIGGOMMcYYY0wPTxYZY4wxxhhjjOnhySJjjDHGGGOMMT08WWSMMcYYY4wxpocni4wxxhhjjDHG9PBkkTHGGGOMMcaYHp4sMsYYY4wxxhjTw5NFxhhjjDHGGGN6eLLIGGOMMcYYY0wPTxYZY4wxxhhjjOnhySJjjDHGGGOMMT08WWSMMcYYY4wxpocni4wxxhhjjDHG9PBkkTHGGGOMMcaYHp4sMsYYY4wxxhjTw5NFxhhjjDHGGGN6eLLIGGOMMcYYY0yPVV4nICQsKq+TwBhjjDHGGGP5jndB9zw9fp5PFvO6ABhjjDHGGGOM6ePXUBljjDHGGGOM6eHJImOMMcYYY4wxPTxZZIwxxhhjjDGmhyeLjDHGGGOMMcb08GSRMcYYY4wxxpgeniwyxhhjjDHGGNPDk0XGGGOMMcYYY3p4ssgYY4wxxhhjTA9PFhljjDHGGGOM6eHJImOMMcYYY4wxPTxZZIwxxhhjjDGmhyeLjDHGGGOMMcb08GSRMcYYY4wxxpgeniwyxhhjjDHGGNPDk0XGGPuPIyJER8fmdTLYJyRXKBAXn5DXyWCMMfaZ48liLlu8YgNm/bEkr5PBsigpSYpGLbsjIjI6r5PCzBAaFoEuvUfg1Zu3Zm2vVCrxw6/z0bbLQPwyZ+HHTVw2Df1qMg4fO/NR4j57wRd//7Pvo8RtjG4dLVm5EX/8tfKjH/fI8bMYMurbj36c/M7f/w3mzFuW43guXL6OPoPHQaVSGd1myKhvcfrs5WzFf+XqLfQeNDa7yct3/kvXADmpV8bYf0e+mCxO/WEOmrfvg7ZdBqKDzxCMGDvtsx2gWjZrjA5tW+R1Mj57U76fjYuXrxsNb9GhL981z6e27zqIhcvWfdR43N1cMHRgL3gX9DIrrtt3HuD+gydYse+7AAAgAElEQVQ4tHsDZs6YlOO05ZShvA3o44OaNap8lONt3bEfQwb2/ChxG5PVOmK5q3KlcpDLFXju/zpH8VSqUBZDBvSEhYX6ciGn/Tuzsf1zp3sN8Lnk9+nzlxg4YmJeJ4Mxlg9Z5XUCMgwb1BvDBvWGigi+127hx18XoFzZkihZotgnTwsRQSQSZWvf6lUr5nJq/j8lJCUZDZPL5ZDJ0j7KcbNZ7VpURLDIjYhy0adMU2Ki8brLrXjEYjF6+XQ0O67Y2Hi4u7vCzs42W2nJyZhgiKG8tWv9Ra7Fr+nh4+fw9HCDu5vrR4nfmKzWUW7JzXrKqvzW99u1boZjJ86hQrnS2Y6joJcHOndoJawb7Zdm5tvQ2P4x6iyv6kL3GsDUucwcuT32GJPTes1MfusbjDHz5ZvJYgYLkQjNmjSAq0sBvA8Jw9PnL7Fr31Fs2/DhtY41G7YjOiYWP373jfCZXC7H3oPHceT4OURGRaN40cL4+fsJwmTz5asAzFu0GjGxcQiPiAIRQSwW4/LpPViyciPcXF3w5u073L33GEsWzISbqwsWLVuPm7fvwtHRAcMG9Uan9i0BACqVCpu37cGho6dhYWGJVs0bY9xXQ2BlZYklKzciJSUVM6aOB6B+jaNvz8647HsLgUHvYW9nhzkzp8G7kPpu+9kLvtj4925Ik5OF7xTVr1sTi+f9IuRt9p/L4GBvh2+/GSl89tXX38OnSzt0bNcC5y5cxaZtuxEeHoXSpYpj4rgRqFypHADgh1/no0jhQhg3ajAA4Obte5gzbxmO7d+sV/aXfG9i557DePXmLQo4O+Hr0UPRolkjdZ6JsH3nARw8chrJKSmoUbUSZkwdjwIFnHDl6i1s+HsXQkLDUbxoYUydNBoVy5fBqzdvsXDpOgS8DYJ3IS9MnTQalSqUFcqlaaN6ePTkOeLiE2AtkWD6lLEoU6oEho2eglev32LeotVYsnITFvz+A8qVLQUACA4Jw5gJMwAAg0dOgo21NfZuXw2lUonN2/bg8PGzSE2RoV7dGpj89Ui4ublo5VGpVGLBkrW4dtMPErEYTRrVxcRxI4Rw/5cBmPbjXAQFhaB+vZqY9dNkiK2sMm1fQ0Z9i1HD++OfXQeRkJiEHZuXm8x/Rpn2HjgG34wdjuZNGwAAkpNT0LHHUOzcsgKFCnrmqG4NpUlTYmISVqz9G5d9b0IsEaNV88aYOG6E0L6NlaWpNv3X0nU4ceoCRCIRrly9jaEDe6JZ04bY+s8+XLxyA6mpqahVsyp+mj4BDvZ2AICAt++wdOUmPHn2Ei4uzhg2qDeePn+pF0+Pbh2EtCclSdG26yAc2r0Bnh5uuHL1Fg4cPok6tarh8tVbiIiMRveu7TBsUG/c9ruPRcvXIzUlFW27DMTsX6aiTq1qJvNoaEyYOWcRenfvhEtXbuDN2yAU9HLHrJ+mYNPW3Xj4+BmsLK0w+5epKF6ssMn+ZKiMenTrgCGjvsXAPj5o16YZAJis+yUrN0IikSAxMQlPnvpDmpyMqZNGo2G9Wnr9+t8791GnVjWtzy5cvo51m3YgITERVSqWx/dTx8HVpYBQjjWqV8Zl35uIiIzG+NFD4ezkiO27DiAkNAId2jbHmJGDAADRMXFG61a3jowxp2+ZGkNj4+Ixf9Ea/Hv3Abw8PYxOjN4EvMOgLyfi0qk9kEjEAIBR46ejY/uW6N6lndGxwcLCwmhfTkqSwqffKMybPQOLlm9ApQplMHHcCHTt/SVm/TQZO/ceQWhYBCpWKJOlsSQr7czUOFOnVjVs2rpbryxu33mAX+cswvEDWyASieB39yEmTJ2JXVtXolgRb6TKZGjXZRAO7FyHJ8/8sXzNFuzdvtpo2wWAhIRETP/5D9z2u4+SxYtq1VEGQ2M7AIitrHD81AVs2LITySmp6N+7K4YN6g3A9PlW05Wrt3Ds5HnUrF4Z+w+fxOD+PdClY2uT5+rERClSUlIQHhGFlNRUjBjSF61bNAGATM8pd+8/xqLl6xEfn4CCBT0xYexwVK1cQesawNi5LLO+rTn2/DBtPKb9+DsO7d4AV5cC6vrzu4/5i9dg3z9rtMrA/+UbbNm+F3fuP4alpQW6dGiNsennh32HTuD02ctYv3IeACAtTY7m7ftg55YVeP7iFRat2IDk5BR06zMStWpWEd7AMFWvcfEJWLJiI67f9INYLEanDq0wanh/iK2sDPaN76eMM9rHGGP5mFxBJFcQpclVlKYgkslVJJOrKDg0kj6VKTNm0+Zte4iISC5X0PFTF6iDzxCKT0iklNRUatN5AL3wfy1s32/oeLr17z2tOJRKJW3fdZBCwyJIqVLRgsVr6OvJPxMRkUqlop4DRtPhY2eIiOjilRs0YPgESkySEhHR4hUbqE3nAXTb774Q35gJP9BfS9dSmlxOYeGR1KP/V0Ia1m78h0Z/8z3FxsZTaqqMJn8/m3bvOyrENXfBCiGewSMn0fhvf6K4+AQiIvpp1gL6c+EqIiJ6HxxKLdr3pTcBgUREtGj5epq3aDUlp6Ro5e3Bo2fUwWcIyeUKIiKKioqh5u37UJJUSjdu3aVWnfrTnXsPSS5X0OFjZ6hVp/4UEhpOREQzZs6jleu2CnHduHWXOvUYZrAejhw/S8/9X5NSqaQz569Q604DhLSs27SDuvQaQQFvgyhNLqeLV26QUqmk23736Ys2vdTrKhXdufeQoqJiKCY2jjp0H0Knzl4mlUpFfncfkk/fkZSaKhPKZcbMeZScrI5/597D1GfwWFIqlURE1L3fKLpw6ZrBdIaEhlPDFj4UGxcvfLZq3VYaMHwCBYeEUXJKCv0+fzkNHjmJlCqV1r6nzlyiwSMnkUyWRjJZGt28fZeIiBITk6hhCx+aMmM2hUdEUXBIGHXoPoTOnL9CRKbbV0Z++g/7msLCI4iIMs1/hs3b9tJ3P84V1s+e96VR46cLdZWTutVNk64xE36gb6b8QvEJiZSYmETXbviZVZam2jQR0ew/l9JfS9cK66FhEXTwyClKSEik5JQUGvbVZNq0dTcREUXHxFIHnyG0ct1WSpPLKeh9CD1++sJgPJoy6is8IoqIiC773qSmbXrS2fO+RET0JiCQGrfqQRGR6vBjJ8/T4JGThP0zy6OhMWHwyEn09eSfKSEhkeRyBQ0eOYl6Dhgt9N+5C1bQz7/9JWxvqj8ZytvgkZPo1JlLQl2aqvvFKzZQ195f0svXAUREtP/QCeo7eJzBsvrux7la4+Vtv/vUsftQ8n/5hlQqFW3aupum//yHVjmeT+975y5epSate9KKNVtIqVRScEgYNWndk94Gvs+0bnXrSHdszGBO3zLV3kaO/44mTp1JCQmJFB0TSzN++VOrrjO8fhNIDVv4kEyW9mHfcd/RgSOniMj42GCqL2fk8Ydf5wt9O+OzpSs3kUKhoJTUVOreb1SWxhJz25k540wHnyGUmJikVRZpaWnUvH0fevkqgIjU/WHwl5No38ETRER0y+8+DRg+QWgTvQaOEfY11nb7Dh5HT5+/pCSplMZ/+7NWHWnSHdsv+96kxq160Kp1WylJKqVrN/yoccvuQt81db7VdNn3JrVo35c2/r1b+Cyzc3X/YV/T++BQIiJ69vwlfdG2NwWHhAllYmqM6DVwjFCn/i/fUGhYhBCvZjvXza85fVt37JkwdSbt3HtYWJ+3aDWtXr9Nrwxu+d2n6zf9SCZLo3dBIdSyYz+6//AJERHtPXicRo77TthWJkujhi18hL587OR5oc4zZFavI8d/Rz//9hclSaUUHhFFw0dPoYVL1xERGewbxvoYYyzvBYdGCnPAtPR5YcYcMd/cztm28wA69xyOVh37Yc68ZejetT0c7O1gY22Ndm2a4cSZiwCAgMAgJCQk6d0pt7CwwMC+PvBwd8XLVwFwdnbC8xfq72pIpckICQ1Howa1AQCNG9ZBwNt3AJGwf53a1VG3dnUAwIuXb/Dq9VtMHPclxFZW8PJ0R7vWX+DaTT8QEfYdPI5vxg5HgQJOsLaWoF+vLvC9ftto3rp0aA1nJ0cAQLWqFRH4LhgA8PpNIDw8XIU7yo0b1MHjpy9ga2OjtX+1KhXg4lIA12/6AQAuX72JhvVqwd7ODvsPn0Cn9i1Rq0ZVWFlZomunNihbuiROnL6Y5Tro0rE1ypctheCQcFhZWkKanIygoBAQEfYeOIbJ34xEieJFILayQvOmDWBhYYG9B46jW+e26nWRCLVqVIWbmwtOnb2MCuVKo13rLyASiVC7ZlV4ebrjuf8r4XjNGteHra06rz26dkBwcBjevH2X5XQTEfYfPomvRvSHdyEv2NrY4NuvRyLofQgePHyqta2zsxMiI6Nx5/4jiMVWqF+3plb4d9+OhaeHG7wLeaFq5QoIfPcegOn2laFHtw7w8vQAALPyDwBdOrTC7Tv3ERen/v7lJd8baNOqKQDkSt1qpknTi5dv8OjJc/z647dwcnSAg4M9GjWobXZZGmvThhT08oBPl3awsrKC/8s38PLyEMru9LkrcHNzwbhRgyG2skKRwoVQuWI5s/OnycvTA61bqp8KlCxRDA72dgh6H6K3nbl51BwTMnRu3wqOjg6wsrJE5YrlULtmVaH/1qhWCW8D338oIyP9yRzm1H2DejVRplQJAED1qpXwPjjU4I+QxMbFo4Czk7C+98Bx9O/dFWXLlIRIJMKgft1x8/ZdYV8vTw+0TH+joEbVSlAqlejdozMsLCzgXcgLXp7uePsuCIDpujWXOX3LWHvzf/kGz569xC8/TIKjowNcXQqggYGnq+YwNjaY05e/HNIX1tYSrfj69e4KS0tL2Fhbo0K50lkaS8xtZ+akrUABJ73vd4vFYtSsXhl+9x4CAPzuPsSQAT1x+859AMC9+49Rt7b2OTYzwwf3QcXyZWBvZ4emjeuaHBN0FSroibGjBsPezg6NGtSGnZ0tgt6HZPl8a2trg2GDegGAWftWrVwBhb0LAgAqlC+D8mVL4doNP7PGiAIFnHDr33uIiY1D2TIlUdBLf5w1xJy+rTv2+HRuK4RnfFWnTcumenHXq10dDevXRpJUiuCQMLi7ueDZi1d622WFsXp97v8aT5+9xNRJo2FvZwdPDzeMHz0UR06chVwuF/bX7BuZnX8ZY/lTvnkNdXD/Hhg2qDeICMEhYZi3SP3Ky3ffjkG3zm0xceqv+GbMMFz2vYWWzRvpvbagIsLGLbtw7aYfalSrBIlEgpTUVACAg4M9KpQrjTPnr2BAHx+cPe+L4sUKwz79NTgAcHSwF/5/WHgE5Ao5RoydKnwmk8nQslljJCVJkSRNxh9/rRTSoFSq4FLgw8WYKVbpryEBQKWKZREXn4gnT/1RsWJZnLt41eiFsk/ntjh55hK+aFIfl6/egk/ntgCA8PAovQG3aJFCiIiMMis9ms5fuoZtOw+gbOkSKF+uNKysLJGSKhPynPHak6aw8EiDA35YeASev3it9auESUlSSKUpBo8tkYghkUgQGxuf5XQnJUmRnJyCooW9hc9sbW3g5uqCiAjtcmhQryZ+mj4Bf2/fiyUrNmD0l4OEC2Nd1hIJ0uQKAKbbVwZHe+02ZE7+3dxc0KBuLZy94Itundvitt99TJ4wCkDu1K1mmjSFhUfAKf3iWlNWyjKDZps2JD4hEQuXrUNkZDRq1agKCwsLJCVLhXQUK6rfrnKDlZUV0tIUep+bm0fNMcFw/JZIS/swORNbiZGmUQ7G+pM5slr3VlZWUBFBoVBCItEeG4kIFpYfPgsLj8TrgECcueArfObo6ACpNFkvXkudV/0yjiVPL1dTdWsuc/qW3vHTyzkyKgb2DvZ67Tg7jI0N5vRlh0zbilWWxhLtfY23M3PSZmFhAaVS/yZC/bo14Xf3ITq1awm5QoEvmtTH4hUboFQqcff+Ywwd2MtknkyRSCQmxwRz9k9LU2T5fGtnZytsl51ztaOjA2Lj4swaIxb98TM2bd2DISO/Rb06NTBx/AjhhoYp5vRt3bGnaeP6WLhsPV69eYvk5FQ4OTmhdKnienG/fBWAxSs2wtHBHlWrVIBEIkGqmWOOOTTrNTwiEk6ODnBydBDCixQuhLQ0OWLjEmCXfiNYs29k5fzLGMs/8s1kMYNIJEKRwoXQuUNrbE7/rkWZUiXgXcgL/955iKvXb2OCxnfMMpw5dxkXr1zH5jULYW0twZOn/tix+5AQ3qFtC5w8ewnnL15DgQLOWLpgltEvjXt5uMPS0hIbV82HWCzWClMRwc7OFt99OxbVqlTIUV7d3VxRu0YVrN6wHVKpFJUrlsPE8fp5U6e/OdZv2YnwiEi88H+NRg3qqNPq5Y73waFa274PDkPtmlUBABKxGPK0DydtIsM/fx4aFoHf5i7Bji3LhTuty1dvAQDYO9jD1tYGge+C9X5wyMPDTbhjrsnL0x1ly5TE0gW/Zl4QAEJCw5Eqk6GglycAmPwOg4WFdr05ONjDzs4W74NDUaqkOn0pqamIjomFp6e73v6NG9ZB44Z18OSpP8Z9+xOKeBfU+26Nrszal66s5L9b57bY+PcuFClSCBUrlBUufHOrbg3x9HBHfEIi4uISUEDj4imrZWmISKRddyvX/g1riQSrl84FoH6L4N87D4R03Ln3yKx4cktu5DEzpvoTkHneMqv7rHBydEBCwocfr/D0dEOVSo2FJzA5YapuzZXVvqXJw91VPSlIkmY6YcsYy9PkcuE7i7pPYg2NDab6clJS1ibGQM7yq8uccSYhIcngJKZ+nZrY+Pdu3Ln3CDWrV4ZEIkbJEsXw4NEzvHr9FjWrVzYYX077ZVa+n2af3lezc77N6r4qIrwNDEKzJvXNGiMcHR0wcfwIjBk5CL/PX46581dg3pwZevHq5jc7fdvKyhId27fEmfO+AJHBp4oAMGPmPIwY0hcd26l/jVVzbJWItW9mqXTOF7rn1cx4eXogITEJCYlJwoQxOCQUEokYLgWcjP4InaE+lvGbBIyx/CnfvIaqKTQsAoeOnkblSuWFz3y6tMWufUcQGxePqpXL6+2TJE0W7jjHxsVjz4FjWuG79h3Bj9O+xsbVC7Dwj59M/uBChfJlUKpkMcxfvAZJ0mSoiPDg0TMolUpYiETo0a0DlqzciOCQMADAu/ch2fr7fGHhkXj6/CUW/vETNq9diKmTRutNTjM4ONijaaN6mLdoNRo1qCO81tGzW0ccP3kB9x48gVKpxLGT5+H/6o1wsihWtDBu33mAuPgEvA18j03b9hiMPyVFfWdbqVQiVSbDjj2HoFCo74RbiETw6dIOazZsx9vA95ArFDh38SqiY+LQo2t7HDt5Hjdu3YFKpcKTZ/548Ogp2rb6As/9X+PAkVNQKJRIS5Pj4ePnWse8fO0WoqNj1U8nlq5DrRpVUbRIIQCAh7sb/F8FgNKflmhyKVAAYisr+L8KgFyhgEgkQs9uHbB+y06EhkUgVSbD0pWbULSIN6pXq6S177kLV3H3/iOoiFCokCdsbayhNPH3wzJk1r50mZP/DPXq1lDHuf+Y1kVAbtWtIRXKlUb5cqXx56JViE9IhDQ5GUeOnwUBZpelMZ4ebnj95h1UKhXkCgWSpMmwtLSEXKHA6zeBOHfxqkY5NUV4eBS2bN8HuVyO8IhIIVw3ntySlfaSXab6E5B53jKr+6woWaIY3gYGfYjbpyN27T2Mew+egIgQF5+AV6/fZj2TgMm61WVpaal1saoZR1b6lqYypUugeLHCWLH2b6SkpOJdUDCOnjxncFtPDzfYWFvj/MWrQp1ovjZsbGzISl82R07yqyuztCUkJoFIpXVDKEOJ4kVgb2eLw8fPok5N9SundWtXwz+7DqJc2VLCVwR05bRfmhrbdeXkfGvOvo+f+uPlqwDIZGnY9PcupKSkolnTBpmOEdLkZPz9zz4kJCbB2lqCIoULQqE0nBfd/Ga3b3fr1AYXLl2D7/XbaJP+ur2ujLcDlEolrt74F881XkEtVtQbb98G4dXrt4iLT8CCxWthafnhzQFPD3eER0QiITHJrHqtUK40KlUsi0XL1iM5OQWRUdFYuXYrunZsY/Q6xlgfi4tLwM+//YXQsIhMj8sY+/TyzWRx6z/70cFnCNp2GYhxk35EubIlMXXSV0J4qxZN8PSZP1o1b2zwiWCHts3h6lIA3fqMxJQZc9C2lfbP0DduUAejxk9Hq4790brzAPQeNBY79x4xmp4Fv/8IpVKFngNGo1vvEdi19wjiExIBAKNHDEDjBnUwbtJPaN9tMH6ftxyR2Zgsenq6w8nJEZ16DkOrjv3RtusgDBs9Bbf97hvcvlvntrh5+57wnTZA/VrH1EmjMW/RarTpPBCHjp7G4nm/oFBB9RO6Hl3bw9nJET59R2LBkjX4evQwg3GXKlkMPX06YsTYaRj85STY2dqiXJmSQvjYkYPxRZP6+Hryz+jaawQuXL4OhUKBxg3rYMrEr7Bk5Ua06TIQy1ZtBiCCu5srViz8DRcuXUMHnyHoN3Q8Lly+BtL4nqiDvR0mTZ+FHv2+glgixpxfPrz2++XQvjh19hI6+AzBvQePtdIqkYjx1ZcD8fNvf6HXgDFISpLiqxED0KRhXYwaPx1deo5AfHwiFv35s95Pdbu7u2DDlt3o4DMEw0dPRb/eXVGxfJlM6yqz9qXLnPxnsBCJ0LlDa9y990j4VVQg9+rWEJFIhAW//whLS0v0GjAGg0ZMRGBQMBRyhdllaUy3zm3Vv6bYdTC27TiAEYP74NGTF+jgMwTrt+zU+hl+D3c3LFkwE9dv+qG9zxBM+m4WkpNTDMaTm3Kax8xk1p8yy1tmdZ8VtWpUwf1HH76L2bBeLUz7dgz+WroO7boOwrhJP+LFy+z9LT5TdaurXu3q8L12W+9Jclb7liYLCwv8Met7vAsKQeeewzFr7hKjf+fW2lqCCeOGY+3Gf9RjjpUYLZt/eAXO2NiQlb5sjpzkV1dmaXvw8Clq1TD+xKp+3Zr4984D4Sli3drVceP2Xb3v6mrKab80NbYbkpPzbWb7eri5YOXav9Gxx1Bcv3UXi/78WXgKa2qMsBBZIDk5BYNGTETH7kNx78ETo28F6eY3u327sHdBFPYuCHs7O+FtBV3ffjMSq9dvRZdeI3Dv/mPh18wBoEa1ymjftjlGT5iBMd/MQKf2LbVumtesUQUN6tZEz/6j8d2Pc80q3wVzfoRKpYJP35EY+tVk1KheGd+MG250e2N9LCExEQ8ePUNMbJxZx2WMfVoiuUJ9ViEiQCQSTjJRUdHwLpg7r2TlBrlcjh79v8Li+TOFH3UwV+C7YPw4az7Wr5wHWxsbqIhw6997mDZjDi6e2m30LtjHdursJVy74YfZ6ZMkuUKBTX/vxt37j7F2+R962796/RYTp/2KI3s3at0R/BwNGfUtBvXrnqMLpf+SPfuP4f7DJ5g7a3peJ4X9xyiVSvQf9g3+XrfI6NMi9t/0y5yF6Ny+FerVqZHXScl3lqzciNRUGb6fMi6vk2K273/5E7VrVkXv7p3yOimMsf+YkLAouLurbyCJRCJA42+85psni6aoiLB52x6UK1s6yxNFAAiPjIJcLocy/ZUXEdS/RFq6dIk8mygC6kmsyEIkfG9GqVQi8N17rb/FB6gn8qkyGZat3owBfX0++4liBlJl7878fwkRITwiEtt2HcDAft3zOjnsP8jS0hLdu7TL0euO7PMTHBKG0NAIk08J/99l9+nwp0bpN7gfPX5u8uk9Y4x9DPnuB250Bb4LxogxU1GubCn88Vv2nrrUrVUN7Vo3x+hvZkAiEUNFhIrly2DJ/Jm5nNqsGdjXB4uWb8DAEROEP5fRtHE9DBnQU2u7oyfOYemqTWjXuhn69+mWF0llH8mcectx/aYfxo4anO0/GcFYZnp174jHT/3zOhnsE7K2lmDG1PFGf8iNfT56DRyj/urA3B/1/rQWY4x9bJ/Na6iMMcYYY4wxxnLXZ/8aKmOMMcYYY4yxT4sni4wxxhhjjDHG9PBkkTHGGGOMMcaYHp4sMsYYY4wxxhjTw5NFxhhjjDHGGGN6eLLIGGOMMcYYY0wPTxYZY4wxxhhjjOnhySJjjDHGGGOMMT08WWSMMcYYY4wxpocni4wxxhhjjDHG9PBkkTHGGGOMMcaYHp4sMsYYY4wxxhjTw5NFxhhjjDHGGGN6rPI6AZqICEnSFKTK0qBQKECU1ylijDHGGGOMGSISAVZWVrCxlsDB3hYikSjHcf4/zgc+RjnmlnwzWUxNlSEuQQobawmcHe1hZWUJCwsLEBFEIhEveclLXvKSl7zkJS95yct8tFSpVFAolEhOkSE8MhYFnOxhY2OdK/MBJwc7SCRiAMgXef2YSwBIS5MjJTUtV8oxN4nkCnUKiQjQSHBUVDS8C7p/kkSoG0YSCjg7wsZaYnCb9OQZxeEczuEczuEczuEczuEczuF5E54qS0NcfCIKODlka6KjOx8gAJqH/n9Zz2k5ZkdIWBTc3d0AqCfmSJ/IAvngySIRIS5BCmcnB1hLxMJk1fC2mcXF4RzO4RzO4RzO4RzO4RzO4Z863FoihrOTA+ISpPCylgiTDXMYmw/oHvr/YT0n5fgx5PkP3CRJU2BjLdF5oqhbKLzO67zO67zO67zO67zO67yen9czrumTpCnICsPzAVPH+m+HZ7ccP4Y8f7KYKkuDo71d+h0EET7MsXmd13md13md13md13md13n9c1q3sZYgUZoMRwc7mEs9H7BNf0qpGaexY/33w22sxUiUpmSpHD+GPH+yqFAoIJZYQV04MLwUGfmcwzmcwzmcwzmcwzmcwzmcw/NNuFhsBYVCgaxQKBQQi8XG4/4/XBeLxVkux48hz58sEqmLRv2LQBpzasKHddJZ53AO53AO53AO53AO53AO5/D8GU7Ikg/b04e4M+I0dKz/g3Bkoxw/hjx/sigQaS0g0lnncA7ncA7ncA7ncA7ncA7n8Pwfni1G9tU91qbhDrQAABkISURBVP9beF7L8yeLgHrWrL6PoPEZNMtMxOEczuEczuEczuEczuEczuGfTXjWaP8C6oe41XFqr/8/hee1fPNkUaTxX3WRaa5zOIdzOIdzOIdzOIdzOIdz+OcUnhUZ+4p4XWM97+WTJ4sZM2de8pKXvMybpVyhwrMAOUgFiERA+RJiWEtEeZ4uXvKSl7zkJS8/z2XWqKcDeZ3m/LbMe/njyaLuFJqXvOQlLz/RUppK2HgwCb2mRGLyghhMWRiDyX/FoPfUCKzanYikFFW+SGd+WPabHolr92V5no7PfTl6dhSO+ybneTp4yUte8vKjLrMjr9OcS8uEpESUq9YIYREROYsvH8g/TxbzeuLOS17y8v9uKZMRpi+OxfMAOXQlpxIOnJfiob8MC6e6ws5WZFa8P6+Mw4Pnadi1wAN21qJ8kc/cWhKp/yO8DZJP0vW5LXu3tUP5EhKhHDt/HYF//nSHs71FvkgfL3nJS17meJkNOT23+N15gBVrNuHh46ewsrREuzYtMG3yODg5OOYsL9lYfshLLpwz81i+eLIogih9Bi1K/x+v8zqv8/rHX1+8PdHgRFHTqyAFFvydYFZ8CckqBLxXoGENG1y9K8t2+tTPMvO+fHTXRRqf54f05HSdkDfHb1XfFkW8rAARoFAAsjTKdnxE+ac8eZ3XeZ3XhfXs0Igrq0vfa7cxcuxktGjeBOdP7sP+XRthZ2eLwHfBOYo3R0vkRjx5L988WVSfKtVTaNKZUhM4nMM5nMNzN/zczWScv5UCYyxEgLenJd6HK3H1biqOXkpGl2a2JuO/4idD3coS1K1sjSOXk9G2oY0QnihVYvG2RPgHyhGboIJcod5/2XRXxCSocOpaCqqVk+DIRSn6dXBAh8a2+OdEEo5dSYVIBDSvY42RPRxgZak++pU7Kdh8OAlJyYQKJcWYPNgJLk4WWumLiVdi56lk+N6RITWNUL28GN8Nc4K9rQWSkpXoPz0KP4x0xr6zyQiLVqJccTF+GOkEsZUIAOHszRRsOyqFNIXQoJr1h++TkHb+TR2HQHgbosCaveqJubODBQZ2skfbhrZIlKqwfn8irt1Pg9hKhGZ1rDGmtyOIgH9OJAp5b1bHGqN6OMDKUoT7L2RYsSsRCVKCl5sFRvdyRKXSYjw08Hnl0mKt+lm9JxEuThZ4G6LE/RdpmDfJBS5OIqzclQS/JzLY24kwqJMD2ja0AdK3T5QSUmSEyFglUlJVGNzFAc3rqMOVKuCf44k47psKWZoKtSpaY3w/B7g5WwIgHL6Ugj2npVCqgPIlrDBhgCPcnC0xenY0+rS1Q6VSEkxaEAsAGD0rGhIJsHWOuxDvCd9UpOrESyCMnh2NYd0csPu0FIlJKsz+2gVfzozGjj/d4eKkvgfs91SGpdvjsW2uR77sfxzO4Rz+3w/PKiJ1XBlxZmU5589F+Hrslxg6oDcIgIuzM76fOgGi9HjPnb+IjVt34YX/K7gUcMb0KV+jbesWEIHw+/wlsLG2RnxCAu4/fIKkJClm/jgVXzRpCBEISpUKGzb9g517DyE5WYraNavj91+/h4urC06fPY8lK9YjPiER1atWxpyZ0+Hm5gpo/B5LTvKVH+SLJ4tA5pNnDudwDufw3Aw/fyvV6PaWFsAvY5zxw8gCH7a/bXximRH/hdspaF7HBnWrSPAyUIGYeKUQvnZvImysRdg+1x2bf1Nf1G+c5Y7yJcQQAbj/PA2pMsK2uR7o1NQWW48l4c6zNKz92RV/z3bD+3AljlxSp+HuszSs2JWIn0YVwJ4FHihfQowl/yTopUuhBIoXssL6ma7YNc8dkTFKHLzwIR+paYQH/mmYP9kFG2e5wT9Qjqv31N9J/PexDIu2JmJsH0fsXuCOL2pbQ5qsMph/U8eJTVBh6sJYlC0mxt6/PPDHRBcUK6i+TzlzdRzCYlTYPNsNG351Ra2KEohE0Mt7sEbeF25LwICO9tg93x0TBzjBw8UCIiOf69YPAOw6pZ7E75rnjuKFLPHr6jg42gG75rtj4RQXbD2aiFdBCmH7F2/T8FVPB6yY4YrpI5wxf3MCQqPU9brlcBKu3JVh6XRX7JrnAXtb4IdlcVAREBmrxNq9iVg8zQU7/3RHly9s4WSvfcot5GGJZdNdAQBrf3HF1jnuWvEuMRBvhg37E/HDl87YOMsd3h6WqFZOjAu3P7Tpa/dS0aKerV7+DeFwDudwDv9Y4VkhyuYyKCgYbwOD0K1zO6PbxSck4efvJ8Pv6hlMmTAGP8z8AykpKUL44WOnMbBvLxzZuxUjhw3E3PlLhf1XrtmE7bv2YeOaRbh24Sh6dOsAZ2dn3Lj5L36buwiL5/+G6xeOomrlCpg5e4FemWQ3X/nkwWL+mCxS+vu8/I//8T/+96n+BQR/mBA0rWUNT1f1cGhjLcIfEwqgWEEr/LQ8TtjmbbDSZHwRMUqERipRpawYVpZAg2oSXPJLFcJfBSlQp5IYAMHTVYRC7pYIClVAJCIQqY87oIMdiAgqFeHQhRSM7ukAZwcRJGKgRytb3HggAxHh4AUperSyRaki6idYfdrawu9JGpRK7TR5uFigU1Mb/K+9O4+SqyzzOP59b91au6uXpCExgQTBrCAhJigyJIblOINoDgwgQxwBUQER5Qgi44JHIy7MkYgyChoOKGIcZERnGIRxwW0ccPfgcWSiAQIJ2XpLb7Xduu/8UUvXraWTTtLdlfTvc073U+997vLe25WqPPXeeysUgs1bcxw1w2Hz89lyHuDCcxI4xhINw8L5Li/s8LDW8shPR3jDGTFOOzlCyIFXnxShJWGwtvY1e6zt/OiXKWa0O1x5fgtuCF7W5bDoOJfNW3P8aUuOD17ZRjJhaIkbXn1SZJ/73pF0+M2fMvQN5Dn+mBBHdTpjTg/+wPLFYZYvDmOtZfPWHM9u87j64sKIbVeHw9mvjvPU0+ny/CeeEGZ2V2FdC+a5LJjn8tTTaXzf8h8/GeGKtS3MmmGIRuBdb06yfXeeP27OEHbBDcEv/lAYdVyxNIIbonzcK49j5fvgvtZbmn/tmkRgH89bFef7T6aw1pL3Lb/4Q5Y1K6NT/u9MP/rRz/T8mcx6oLunF4AZnR0N57nw/PNYungBL27bTsh1GRoa5rnnXyjmYdXfvIaFC47HWsuK5ct44cXteF4e3/e5f9NDfOTm93H8cfNwXZdzznodjmO4f9NDXPHWS1i88BUAvOOKdfz8f57C8/LlY2DrvGdO9HE81JriNFQRkckWi45+ZrdiSYR3vTnJJzfu5eqLW4m4hhs+20f/4OhIWiQ89md8T/wqxd4hy4U3dAOQ9y1bd+S54KwEAK9aHOHnv8vwupUxtu3Ks21XnhOOHX0JjscMTvHju6ERn+GUz4avD5an5X1oby00dvf6PLc9xY9/nSkv3xp3GE75JCtGrwaGfP7lwUG6+3yWLYzgGMNQtvGbjxuCXLGG7t7rs3xJZMx93p/t7OrxOWZWqGaZ3b15kgmHjmTwM8t97fut727ngUdHuGp9LytPjHDNRa20tToNp1dLJkb/jrt78+Q8uO7TfeVpmaxl9YpYw31tTTj0D1iGRnxG0pa5R4/uWzxqmNHmsKfP5+SFDl+4uZOvPzrMpu+NsHZNnEvPbSG0j49o97XekpZ48Pn42mUR7vzmIM9u80ilLW2thpfP1Vu8iByuCpdD7E97RmfhLKA93b3MOrqr7vyPff8JNt77AIsXvYITlyzCdV1SqfpnGLluCN/38TyPdCbD4OAQx798fk3/Xtqxk81/2cKjj/2wPLUt2cbQ8DDG1Btf3L/9qd+eOk3xTmJLv0ydWDmT8sorr/whyi+Y57J9d+F0ws9vGuSmtxk2vL+Tv7zg8f4N/QxVnXK5cL6LHWP9T/wqw63vbueUJRGwkMtbLrqxm22788w9KsRZr4nxqXv2cuPtfVgfbrm6jaNnOlgKnzxSigYScYdEzHD9uiRLXxEO9NsCXR0hVq2Isu7clpr9q3w93fidIcKu4fYbO8HAg48P87tncoVPOisOja3aH2uhq91hZ7cffH1uMP/GhxtsB+ia4fCH/8vWvM7P7HAYGPbpH/QLhWBxeiJRte8Vy1kLrS0O11zcytvOb2HD/QPcfv8AH3tXR/3p13YEj09V/7s6HUIOfOHmTsJhU3scq+b3fdi6I8fpyyK0FPu5fbfP/JcV8um0pXfAL4z4AfPmuHz4ne309Pl88At9xKOGvz8nEXhaVh/3wHrnFKZXrzewfPFBKGT429Pj/PjXhdHHNadGA/lm+/envPLKT5P8OATfW2zVuhq35807hmOPmcO//+fjvPPKf6zJb39pJx/48Cd49OEHOPbYuQDctuGL5e6XYmn75WkWWltbSCTibHluKyccf1xg+7NnzeKU15/INe+4PHgsgIHBwdH1jnN/Au0m0BSnoZryrzpReeWVV34C8m9YHS/PYy38870DfOyufm7a0FdTKAKce0a84fqf3+GxuzfPSQvD5Ylh17B8UZgf/yoNBr7zRGF06XM3dXLHzZ2cvDDSsH+OA296XYK7Hhpk5548GNi2K0/33kK/1p4Z4zs/TPHHzVmwMDDs8+w2r2Y9wyOWsGvI5Qun3f70t1XfkVi9/YqJq1fG+MFTaZ55Nkc6Z3nkJyn6B/y6yw+nLG697QBnnxpjT1+eTY8Nk8tbdvf6/OS3GRbOD7Ngnssd3xhgcNhnOGV57L8L14+U9n3HnjwG2LY7T3e/z3Da8s3HhhkY8YlGDHOOcsn7puH0sfYPYOH8MMfNdfn8pkGGUz4+8Ke/5shXvEH/+TmPLds8MlnLNx4dJpWBM5ZHMabQz/sfGWJXr086a7nr34aYe3SIExdE2PKix+O/SON5lrakoSMZCqy3pDNpCLuGv77okcvb4Hp7fDJV661WuX/nnhHjZ79N8+TTGc5cGavd/yb696e88sof+flxq152HO0P3nQ9X/rKfWx68GH6evvYsXMXt972OTbe9wAjI4XvtfXyeVLpNPfe/01yuTp3Qq+zfsdxuOSi8/ncnXez5fmt5HI5vvdfP6K7p4d1/3ABX/v6g/z6N7/HWkt/fz/PbP4rAG6oMB6XzWYPyf5NpeYYWbQ2UDwbaotp5ZVXXvlDmT95QZgLz4nz7R+O3vDlyaez1HPeqjinnVy4zq3e+n/0yzSvWlq4to+K17NTXxnh2z9I8ZbzEpz2ygi33TfIvd8dxgCJmGHF0gjvXddKaWixcv2XrU0QduGG2/vI5uDYWSGuuqiFrvYwK5dGuO7SVu781yG6+3xmthsuen2Cl88NBfq37g0JbrtvkDe/v5tli8O8/rUxnny6eN1bxTbL11YUf1trWbMyys7uPOu/spdMDt60OsYrF4QL+1d1HUXldk6p2s6MdsOn3tvO3d8a5luPj9DV6XDhOXHA8vFr2/nSg0NcfksPiZhh9YooXs4v7/uNt/eRy8ExxX2fP8cllbZcs76XnAfHzg5xw1uTGGMZqZr+vrcmq/ar+MgS6P/6a9u4+6FhLvtIL+EQLD0+zHvWJelIFo7kzHbDPQ8P8udnPY6ZHeKT17XR2mKw1nLZ2gSOY3nvZ3rIebBsUYRbr2vHYEnEDb9/JsM9Dw8RcizLl0R546rY6HEvHuewC5evbeGT9wwQDcNXbunksrUJTNV6P1Fcb2lnSstX7t/sLofZXQ4jacrXWTZ6/ldSXnnllZ+o/HgczDV6a1afzhfv+Axf+vJXuf2OuwhHwpy9ZhUXXfBGOtrbufSSC7j4Le9gRmcnV15xKUsWL6h4HQ2+N9iq98f3vecqHMdw+duvI5/3OfXUU1i+7CRWnX4aH/3Qjaz/9AZ27d7D0V0zufKKdSxacALxeIzXnPoqPvKxT/PVjXcexFGZeibnFY6ItRaMKR+g7u4e5szuGnPhQ+Glnd3M7GzDMvokU1RUVJys+N0nUmz89hD5Ojf6dBy4/E0tXPJ3iYPajufD1et7ueWqNo6b42KBPb0+136qjw+9vY3lS8JTfhwUa+PdDw2RzsL1b2ltiv7sT1z/5b0sWxjh/DPjTdEfRUXF6Rl7+gbGVUe8tLObGZ1t5XZpXdO93TvO43igXtrZTVfXzMK2jQFry9ddNsnIIoCl9Jl6MJYOnvLKK6/8oc+ff2ac5YtcHvlZhhd2elhbyM85KsQbV8dYMK84mnYQ28/lfHb1+Pi+Lb/e7ezxsBbmzQ4d9PqVn8C8bw+Lv49vDb/7c4b/3ZLjA5cnR6+DbZL+Ka+88tMvP17WUl7SFn+me7sZNEWxWHhumQZReeWVV35i8/PnhLnu0uCNZA7l+mMRh3+6MslnvzaENeAYmNHm8Jnr25nZ6YyxnuY4PtM2X9ak/avIX/HRHhxj+Pi17cSiTtP1T3nllZ9m+QNgSr+K6zZW7WZQUyyailNRJ4utvjWfoqKi4hEWTz8lwunLIlVvsuj1r4njVRe2gGH0PbFJ+lUvfvUTM8rPq8Ohv4qKikd4PAB67WoQJ1HtV340yd1QA6r7qLbaaqutttpqq6222mofPu0DYRTrxinmFsrWqe1N6RoerGG0P2qrrbbaaqutttpqq6324dceP1vzZcaKU89O/ciiMVD6FszCU0tRUVFRUVFRUVFR8XCMhTtpMi7FG3CWWooUjsd4j+NEmPIb3Liui+flCbkhYLSGVlRUVFRUVFRUVFQ8vGLey+O64ysxXNclX1EPVDMV25gu+QM5jhOhamRxrN2YGLFohGzOa5IaXlFRUVFRUVFRUVHxQGM25xGLRhiPmnrABNdLVXs65A/kOB4awXpwysvV1pY4wyNpsjmPcLj0aYIh8GUraqutttpqq6222mqrrXZTt3M5Dy+fZ2ZLG+NRrgc8j7AbovSdx+XvbrSFbVlT0T6C89lc/oCO40QIjizaye+AMYaOthbSmQw5L1+RKP0yVW3llVdeeeWVV1555ZVXvpnyOc8jncnQ0dZS9ysYxlKuB9KV9YAJRmPqTz/C8jkvTzp9YMfxkKiqB6d8ZBEgFovSAfQPDOOFHMJhl5DjBJ6bwZ7bMaYpr7zyyiuvvPLKK6+88hOetz553xZHFH062lqJxaIciGA9kCccDhXrgSkomCabteR9n1xxRPFgjuOh1hTFIhSeILOiEYaGU6QzWTzPw9p9LyciIiIiIpPPmMLNaWLRCDNb4gc9EjZd64HgcWybmhHFBpqmWITCEHSyNUGyNTHVXRERERERkUmmeqC5lK9ZbKYKVkRERERERCZfZV3ojDGfiIiIiIiITFMqFkVERERERKRG3WJRp6SKiIiIiIhMD43qP40sioiIiIiISI1isdjo+1RERERERETkyFdbE9aOLKpWFBERERERmV7q1IGOrk8UERERERGRSsaY4MiiCkcREREREZHpqboe1A1uREREREREpEaDYlEXLoqIiIiIiEwP9es/p+4MqhVFRERERESmB1u/odNQRUREREREpIYDwQsZdZMbERERERGR6aVeTaiRRREREREREanRsFh0HAff9yezLyIiIiIiIjJJfN/HcRqPHzqNLmYMuyGyOW/ieiYiIiIiIiJTJpvzCLuhiinBm57WLSONMUQiETKZ3AR3T0RERERERKZCJpMjEok0vG+NY4vVY/UM0UiYVDqNtfoeDRERERERkSOJtZZUOk00Eg5ML9WFFltvZLFYPDohotEog0MjE95RERERERERmTyDQyNEo1GMUzoNtXaQ0GkwHWMMLYkWUuks6XR2ArspIiIiIiIikyWdzpJKZ2lJtNQ/BbVYHzqFx/VPRTUG2pKt9PYPqGAUERERERE5zKXTWXr7B2hLtlJdJ1aeggpgvLy11trRRPkaxdG253kMDA4Rj0VItiYaXgApIiIiIiIizcday+DQCKl0lrZkK67rVtR1wcHDUn04WixiSvVhsWAMFo++bxlJj5BJZ4jHYkSjYSJhd8zv5RAREREREZGp4fs+2ZxHJpMr3MwmFiURS+A4hVqvslgsP7aFkcVAsVg5c+XoYvlxMefnPTLZHLlslpyXx/f9ydhPERERERERGQfHcQi7IcKRCNFIGCfkFhKB+q9+LVguFksTS6OL9U5FLTwcLR5NoJAM5sqPTdV8o/2qGMUM7lC5HxXzjHa69vTX4Fd71C5Xz0R8HYjZ10ZFRERERGRS2Hp38DxI+7wUz9Y8aLCMDU63pWDr3kOmcp7KtDGmsJ+2XtFnK5YxVfeoqVyG4HI22I+6xWKpXVx9zehi/YKxcVE43oIx0J+K+Ua33fgPVbd4rHo4EfR9lCIiIiIizWHC77Fi6zfG3u7+F4mFdQXna1Qo1stVjhzW3Mx0jFHF6mLRDXbf1h0hM6VC0NpgT+rsfOWwZWEZsKY6B4FRyjpFY2WHqagPG92Ip2a5yp5ZW/UHrV1uf1MNF9FNf0REREREDl9jjv3UJkf//z92gTg6b22hWBpYC643OE9lUVdqBwvFOqOKDbtT/1swRrsVXLY8slhY9mBHF6vmhTFHGKvzNdMC89UfaazMN0yOk0YJRURERESml0Mz+DNGMba/I4kV89b7aosxRxTHPP2UcY0qAvw/I8gYUuJwP3kAAAAASUVORK5CYII=)"
      ],
      "metadata": {
        "id": "oR6l4HSVKwMf"
      }
    },
    {
      "cell_type": "markdown",
      "metadata": {
        "id": "bee4g9rpLxll"
      },
      "source": [
        "Common Voice has many different splits including `invalidated`, which refers to data that was not rated as \"clean enough\" to be considered useful. In this notebook, we will only make use of the splits `\"train\"`, `\"validation\"` and `\"test\"`.\n",
        "\n",
        "Because the Turkish dataset is so small, we will merge both the validation and training data into a training dataset and only use the test data for validation."
      ]
    },
    {
      "cell_type": "code",
      "metadata": {
        "colab": {
          "base_uri": "https://localhost:8080/"
        },
        "id": "2MMXcWFFgCXU",
        "outputId": "f819c2eb-7bfb-49b5-f572-d6d3d1e38569"
      },
      "source": [
        "from datasets import load_dataset, load_metric, Audio\n",
        "\n",
        "common_voice_train = load_dataset(\"mozilla-foundation/common_voice_6_1\", \"tr\", split=\"train+validation\", use_auth_token=True)\n",
        "common_voice_test = load_dataset(\"mozilla-foundation/common_voice_6_1\", \"tr\", split=\"test\", use_auth_token=True)"
      ],
      "execution_count": null,
      "outputs": [
        {
          "output_type": "stream",
          "name": "stderr",
          "text": [
            "WARNING:datasets.builder:Found cached dataset common_voice_6_1 (/root/.cache/huggingface/datasets/mozilla-foundation___common_voice_6_1/tr/6.1.0/f4d7854c466f5bd4908988dbd39044ec4fc634d89e0515ab0c51715c0127ffe3)\n",
            "WARNING:datasets.builder:Found cached dataset common_voice_6_1 (/root/.cache/huggingface/datasets/mozilla-foundation___common_voice_6_1/tr/6.1.0/f4d7854c466f5bd4908988dbd39044ec4fc634d89e0515ab0c51715c0127ffe3)\n"
          ]
        }
      ]
    },
    {
      "cell_type": "markdown",
      "metadata": {
        "id": "ri5y5N_HMANq"
      },
      "source": [
        "Many ASR datasets only provide the target text, `'sentence'` for each audio array `'audio'` and file `'path'`. Common Voice actually provides much more information about each audio file, such as the `'accent'`, etc. Keeping the notebook as general as possible, we only consider the transcribed text for fine-tuning.\n",
        "\n"
      ]
    },
    {
      "cell_type": "code",
      "metadata": {
        "id": "kbyq6lDgQc2a"
      },
      "source": [
        "common_voice_train = common_voice_train.remove_columns([\"accent\", \"age\", \"client_id\", \"down_votes\", \"gender\", \"locale\", \"segment\", \"up_votes\"])\n",
        "common_voice_test = common_voice_test.remove_columns([\"accent\", \"age\", \"client_id\", \"down_votes\", \"gender\", \"locale\", \"segment\", \"up_votes\"])"
      ],
      "execution_count": null,
      "outputs": []
    },
    {
      "cell_type": "markdown",
      "metadata": {
        "id": "Go9Hq4e4NDT9"
      },
      "source": [
        "Let's write a short function to display some random samples of the dataset and run it a couple of times to get a feeling for the transcriptions."
      ]
    },
    {
      "cell_type": "code",
      "metadata": {
        "id": "72737oog2F6U"
      },
      "source": [
        "from datasets import ClassLabel\n",
        "import random\n",
        "import pandas as pd\n",
        "from IPython.display import display, HTML\n",
        "\n",
        "def show_random_elements(dataset, num_examples=10):\n",
        "    assert num_examples <= len(dataset), \"Can't pick more elements than there are in the dataset.\"\n",
        "    picks = []\n",
        "    for _ in range(num_examples):\n",
        "        pick = random.randint(0, len(dataset)-1)\n",
        "        while pick in picks:\n",
        "            pick = random.randint(0, len(dataset)-1)\n",
        "        picks.append(pick)\n",
        "\n",
        "    df = pd.DataFrame(dataset[picks])\n",
        "    display(HTML(df.to_html()))"
      ],
      "execution_count": null,
      "outputs": []
    },
    {
      "cell_type": "code",
      "metadata": {
        "colab": {
          "base_uri": "https://localhost:8080/",
          "height": 363
        },
        "id": "K_JUmf3G3b9S",
        "outputId": "3865bdc6-1430-4709-f848-ef978d4314bf"
      },
      "source": [
        "show_random_elements(common_voice_train.remove_columns([\"path\", \"audio\"]), num_examples=10)"
      ],
      "execution_count": null,
      "outputs": [
        {
          "output_type": "display_data",
          "data": {
            "text/plain": [
              "<IPython.core.display.HTML object>"
            ],
            "text/html": [
              "<table border=\"1\" class=\"dataframe\">\n",
              "  <thead>\n",
              "    <tr style=\"text-align: right;\">\n",
              "      <th></th>\n",
              "      <th>sentence</th>\n",
              "    </tr>\n",
              "  </thead>\n",
              "  <tbody>\n",
              "    <tr>\n",
              "      <th>0</th>\n",
              "      <td>\"Anlaşma Lefkoşa'da imzalandı.\"</td>\n",
              "    </tr>\n",
              "    <tr>\n",
              "      <th>1</th>\n",
              "      <td>Grup olarak özel ilgi görmeyi hakediyorlar.</td>\n",
              "    </tr>\n",
              "    <tr>\n",
              "      <th>2</th>\n",
              "      <td>Makedonya ile olan ilişkileriniz ne durumda?</td>\n",
              "    </tr>\n",
              "    <tr>\n",
              "      <th>3</th>\n",
              "      <td>Kurbanlar anısına sokaklara çiçekler bırakıldı.</td>\n",
              "    </tr>\n",
              "    <tr>\n",
              "      <th>4</th>\n",
              "      <td>Geçen yılsa bu rakam beş yüz on milyon avro idi.</td>\n",
              "    </tr>\n",
              "    <tr>\n",
              "      <th>5</th>\n",
              "      <td>Proje yaklaşık altı yüz yeni iş yaratacak.</td>\n",
              "    </tr>\n",
              "    <tr>\n",
              "      <th>6</th>\n",
              "      <td>\"\"\"Yaşamak istiyorum!\"\" Rukavina'nın mektubunun ilk satırıydı.\"</td>\n",
              "    </tr>\n",
              "    <tr>\n",
              "      <th>7</th>\n",
              "      <td>\"Kararın Kosova'daki yansımaları ne oldu?\"</td>\n",
              "    </tr>\n",
              "    <tr>\n",
              "      <th>8</th>\n",
              "      <td>Bu bana çok sık olmaz.</td>\n",
              "    </tr>\n",
              "    <tr>\n",
              "      <th>9</th>\n",
              "      <td>Fakat artık bu durum değişti.</td>\n",
              "    </tr>\n",
              "  </tbody>\n",
              "</table>"
            ]
          },
          "metadata": {}
        }
      ]
    },
    {
      "cell_type": "markdown",
      "metadata": {
        "id": "fowcOllGNNju"
      },
      "source": [
        "Alright! The transcriptions look fairly clean. Having translated the transcribed sentences, it seems that the language corresponds more to written-out text than noisy dialogue. This makes sense considering that [Common Voice](https://huggingface.co/datasets/common_voice) is a crowd-sourced read speech corpus."
      ]
    },
    {
      "cell_type": "markdown",
      "metadata": {
        "id": "vq7OR50LN49m"
      },
      "source": [
        "We can see that the transcriptions contain some special characters, such as `,.?!;:`. Without a language model, it is much harder to classify speech chunks to such special characters because they don't really correspond to a characteristic sound unit. *E.g.*, the letter `\"s\"` has a more or less clear sound, whereas the special character `\".\"` does not.\n",
        "Also in order to understand the meaning of a speech signal, it is usually not necessary to include special characters in the transcription.\n",
        "\n",
        "Let's simply remove all characters that don't contribute to the meaning of a word and cannot really be represented by an acoustic sound and normalize the text."
      ]
    },
    {
      "cell_type": "code",
      "metadata": {
        "id": "svKzVJ_hQGK6"
      },
      "source": [
        "import re\n",
        "chars_to_remove_regex = '[\\,\\?\\.\\!\\-\\;\\:\\\"\\“\\%\\‘\\”\\�\\']'\n",
        "\n",
        "def remove_special_characters(batch):\n",
        "    batch[\"sentence\"] = re.sub(chars_to_remove_regex, '', batch[\"sentence\"]).lower()\n",
        "    return batch"
      ],
      "execution_count": null,
      "outputs": []
    },
    {
      "cell_type": "code",
      "metadata": {
        "colab": {
          "base_uri": "https://localhost:8080/"
        },
        "id": "XIHocAuTQbBR",
        "outputId": "9fcc53da-1473-4be4-f2f0-4ff52622af08"
      },
      "source": [
        "common_voice_train = common_voice_train.map(remove_special_characters)\n",
        "common_voice_test = common_voice_test.map(remove_special_characters)"
      ],
      "execution_count": null,
      "outputs": [
        {
          "output_type": "stream",
          "name": "stderr",
          "text": [
            "WARNING:datasets.arrow_dataset:Loading cached processed dataset at /root/.cache/huggingface/datasets/mozilla-foundation___common_voice_6_1/tr/6.1.0/f4d7854c466f5bd4908988dbd39044ec4fc634d89e0515ab0c51715c0127ffe3/cache-bfc6c84ab17df069.arrow\n",
            "WARNING:datasets.arrow_dataset:Loading cached processed dataset at /root/.cache/huggingface/datasets/mozilla-foundation___common_voice_6_1/tr/6.1.0/f4d7854c466f5bd4908988dbd39044ec4fc634d89e0515ab0c51715c0127ffe3/cache-1ed99f80bee30e93.arrow\n"
          ]
        }
      ]
    },
    {
      "cell_type": "markdown",
      "metadata": {
        "id": "TxnVS9gIhIma"
      },
      "source": [
        "Let's look at the processed text labels again."
      ]
    },
    {
      "cell_type": "code",
      "metadata": {
        "colab": {
          "base_uri": "https://localhost:8080/",
          "height": 363
        },
        "id": "RBDRAAYxRE6n",
        "outputId": "75ccbdcf-3ccd-44ee-c4f5-d6ee7dd94ba0"
      },
      "source": [
        "show_random_elements(common_voice_train.remove_columns([\"path\",\"audio\"]))"
      ],
      "execution_count": null,
      "outputs": [
        {
          "output_type": "display_data",
          "data": {
            "text/plain": [
              "<IPython.core.display.HTML object>"
            ],
            "text/html": [
              "<table border=\"1\" class=\"dataframe\">\n",
              "  <thead>\n",
              "    <tr style=\"text-align: right;\">\n",
              "      <th></th>\n",
              "      <th>sentence</th>\n",
              "    </tr>\n",
              "  </thead>\n",
              "  <tbody>\n",
              "    <tr>\n",
              "      <th>0</th>\n",
              "      <td>seçmen katılımı yüzde seksen civarında gerçekleşti</td>\n",
              "    </tr>\n",
              "    <tr>\n",
              "      <th>1</th>\n",
              "      <td>i̇yi vakit geçirdik</td>\n",
              "    </tr>\n",
              "    <tr>\n",
              "      <th>2</th>\n",
              "      <td>fakat belgradda herkes durumu böyle görmüyor</td>\n",
              "    </tr>\n",
              "    <tr>\n",
              "      <th>3</th>\n",
              "      <td>en az altmış kişi hayatını kaybetti</td>\n",
              "    </tr>\n",
              "    <tr>\n",
              "      <th>4</th>\n",
              "      <td>fikir herkes tarafından hoş karşılanmadı</td>\n",
              "    </tr>\n",
              "    <tr>\n",
              "      <th>5</th>\n",
              "      <td>ancak zorluklar da yok değil</td>\n",
              "    </tr>\n",
              "    <tr>\n",
              "      <th>6</th>\n",
              "      <td>polis varlığı barizdi</td>\n",
              "    </tr>\n",
              "    <tr>\n",
              "      <th>7</th>\n",
              "      <td>i̇lk fırın altı aydır atıl durumdaydı</td>\n",
              "    </tr>\n",
              "    <tr>\n",
              "      <th>8</th>\n",
              "      <td>bosnalı sırp polisi de destek verdi</td>\n",
              "    </tr>\n",
              "    <tr>\n",
              "      <th>9</th>\n",
              "      <td>temyiz süreci şu anda devam ediyor</td>\n",
              "    </tr>\n",
              "  </tbody>\n",
              "</table>"
            ]
          },
          "metadata": {}
        }
      ]
    },
    {
      "cell_type": "markdown",
      "metadata": {
        "id": "jwfaptH5RJwA"
      },
      "source": [
        "Good! This looks better. We have removed most special characters from transcriptions and normalized them to lower-case only.\n",
        "\n",
        "Before finalizing the pre-processing, it is always advantageous to consult a native speaker of the target language to see whether the text can be further simplified.\n",
        "For this blog post, [Merve](https://twitter.com/mervenoyann) was kind enough to take a quick look and noted that \"hatted\" characters - like `â` - aren't really used anymore in Turkish and can be replaced by their \"un-hatted\" equivalent, *e.g.* `a`.\n",
        "\n",
        "This means that we should replace a sentence like `\"yargı sistemi hâlâ sağlıksız\"` to `\"yargı sistemi hala sağlıksız\"`.\n",
        "\n",
        "Let's write another short mapping function to further simplify the text labels. Remember - the simler the text labels, the easier it is for the model to learn to predict those labels.\n",
        "\n"
      ]
    },
    {
      "cell_type": "code",
      "metadata": {
        "id": "aZcrz6z7lgGm"
      },
      "source": [
        "def replace_hatted_characters(batch):\n",
        "    batch[\"sentence\"] = re.sub('[â]', 'a', batch[\"sentence\"])\n",
        "    batch[\"sentence\"] = re.sub('[î]', 'i', batch[\"sentence\"])\n",
        "    batch[\"sentence\"] = re.sub('[ô]', 'o', batch[\"sentence\"])\n",
        "    batch[\"sentence\"] = re.sub('[û]', 'u', batch[\"sentence\"])\n",
        "    return batch"
      ],
      "execution_count": null,
      "outputs": []
    },
    {
      "cell_type": "code",
      "metadata": {
        "colab": {
          "base_uri": "https://localhost:8080/"
        },
        "id": "ieGhhND5mSwI",
        "outputId": "401e6078-88b2-4976-fd26-d6dc4d4714e6"
      },
      "source": [
        "common_voice_train = common_voice_train.map(replace_hatted_characters)\n",
        "common_voice_test = common_voice_test.map(replace_hatted_characters)"
      ],
      "execution_count": null,
      "outputs": [
        {
          "output_type": "stream",
          "name": "stderr",
          "text": [
            "WARNING:datasets.arrow_dataset:Loading cached processed dataset at /root/.cache/huggingface/datasets/mozilla-foundation___common_voice_6_1/tr/6.1.0/f4d7854c466f5bd4908988dbd39044ec4fc634d89e0515ab0c51715c0127ffe3/cache-b9fea5150b6c7ed4.arrow\n",
            "WARNING:datasets.arrow_dataset:Loading cached processed dataset at /root/.cache/huggingface/datasets/mozilla-foundation___common_voice_6_1/tr/6.1.0/f4d7854c466f5bd4908988dbd39044ec4fc634d89e0515ab0c51715c0127ffe3/cache-99bbff57d42b7c68.arrow\n"
          ]
        }
      ]
    },
    {
      "cell_type": "markdown",
      "metadata": {
        "id": "3ORHDb2Th2TW"
      },
      "source": [
        "In CTC, it is common to classify speech chunks into letters, so we will do the same here.\n",
        "Let's extract all distinct letters of the training and test data and build our vocabulary from this set of letters.\n",
        "\n",
        "We write a mapping function that concatenates all transcriptions into one long transcription and then transforms the string into a set of chars.\n",
        "It is important to pass the argument `batched=True` to the `map(...)` function so that the mapping function has access to all transcriptions at once."
      ]
    },
    {
      "cell_type": "code",
      "metadata": {
        "id": "LwCshNbbeRZR"
      },
      "source": [
        "def extract_all_chars(batch):\n",
        "  all_text = \" \".join(batch[\"sentence\"])\n",
        "  vocab = list(set(all_text))\n",
        "  return {\"vocab\": [vocab], \"all_text\": [all_text]}"
      ],
      "execution_count": null,
      "outputs": []
    },
    {
      "cell_type": "code",
      "metadata": {
        "colab": {
          "base_uri": "https://localhost:8080/",
          "height": 17,
          "referenced_widgets": [
            "f2437e254bc54bdba99398e39270b585",
            "490f1214fa9f4b0fb2c64beef8d06873",
            "2057b17679074e6d8a323793d541f19b",
            "694d682671614dcc9512eacd16545a88",
            "bf66c808457a4d7e94f8aedfa6f34419",
            "d5a55e695a5145b4a3505641185da31f",
            "238154bf4ce344f99c4c725f6246021e",
            "5929a62f57f44d569df7cfc4f4cf336f",
            "129aed3d7c7145a68522c8fac05e7642",
            "c1041b33745148e2be6876182006e7a9",
            "1cec89b123cf45dd95734b1789e807f3",
            "62a74ea78b6f439f964ee1da7385b8c1",
            "69022d62f63e411d97495c3661c35a97",
            "449a942ee2564cbc812919c110bde334",
            "942bd2ec5de84e868741f063496370a3",
            "afd123eb1bee4bbca7f8fd1501d16319",
            "660548079daf41e69a18a68652b7bec2",
            "af6e3179d038470784b39c52d943665e",
            "f84bab301eb44087817728ff5c4d4935",
            "cdb3e901611c4c559f56cb1845db4a01",
            "397079cb4e7f453b9cd0ed6a036cfc68",
            "5b5c663ada5e42a6a1a4238a4c996a89"
          ]
        },
        "id": "_m6uUjjcfbjH",
        "outputId": "b22437be-0067-449c-b0be-00bbea2216f9"
      },
      "source": [
        "vocab_train = common_voice_train.map(extract_all_chars, batched=True, batch_size=-1, keep_in_memory=True, remove_columns=common_voice_train.column_names)\n",
        "vocab_test = common_voice_test.map(extract_all_chars, batched=True, batch_size=-1, keep_in_memory=True, remove_columns=common_voice_test.column_names)"
      ],
      "execution_count": null,
      "outputs": [
        {
          "output_type": "display_data",
          "data": {
            "text/plain": [
              "Map:   0%|          | 0/3478 [00:00<?, ? examples/s]"
            ],
            "application/vnd.jupyter.widget-view+json": {
              "version_major": 2,
              "version_minor": 0,
              "model_id": "f2437e254bc54bdba99398e39270b585"
            }
          },
          "metadata": {}
        },
        {
          "output_type": "display_data",
          "data": {
            "text/plain": [
              "Map:   0%|          | 0/1647 [00:00<?, ? examples/s]"
            ],
            "application/vnd.jupyter.widget-view+json": {
              "version_major": 2,
              "version_minor": 0,
              "model_id": "62a74ea78b6f439f964ee1da7385b8c1"
            }
          },
          "metadata": {}
        }
      ]
    },
    {
      "cell_type": "markdown",
      "metadata": {
        "id": "7oVgE8RZSJNP"
      },
      "source": [
        "Now, we create the union of all distinct letters in the training dataset and test dataset and convert the resulting list into an enumerated dictionary."
      ]
    },
    {
      "cell_type": "code",
      "metadata": {
        "id": "aQfneNsmlJI0"
      },
      "source": [
        "vocab_list = list(set(vocab_train[\"vocab\"][0]) | set(vocab_test[\"vocab\"][0]))"
      ],
      "execution_count": null,
      "outputs": []
    },
    {
      "cell_type": "code",
      "metadata": {
        "colab": {
          "base_uri": "https://localhost:8080/"
        },
        "id": "_0kRndSvqaKk",
        "outputId": "11355cec-75a7-4d76-a855-34dc402be695"
      },
      "source": [
        "vocab_dict = {v: k for k, v in enumerate(sorted(vocab_list))}\n",
        "vocab_dict"
      ],
      "execution_count": null,
      "outputs": [
        {
          "output_type": "execute_result",
          "data": {
            "text/plain": [
              "{' ': 0,\n",
              " 'a': 1,\n",
              " 'b': 2,\n",
              " 'c': 3,\n",
              " 'd': 4,\n",
              " 'e': 5,\n",
              " 'f': 6,\n",
              " 'g': 7,\n",
              " 'h': 8,\n",
              " 'i': 9,\n",
              " 'j': 10,\n",
              " 'k': 11,\n",
              " 'l': 12,\n",
              " 'm': 13,\n",
              " 'n': 14,\n",
              " 'o': 15,\n",
              " 'p': 16,\n",
              " 'q': 17,\n",
              " 'r': 18,\n",
              " 's': 19,\n",
              " 't': 20,\n",
              " 'u': 21,\n",
              " 'v': 22,\n",
              " 'w': 23,\n",
              " 'x': 24,\n",
              " 'y': 25,\n",
              " 'z': 26,\n",
              " 'ç': 27,\n",
              " 'ë': 28,\n",
              " 'ö': 29,\n",
              " 'ü': 30,\n",
              " 'ğ': 31,\n",
              " 'ı': 32,\n",
              " 'ş': 33,\n",
              " '̇': 34}"
            ]
          },
          "metadata": {},
          "execution_count": 84
        }
      ]
    },
    {
      "cell_type": "markdown",
      "metadata": {
        "id": "JOSzbvs9SXT1"
      },
      "source": [
        "Cool, we see that all letters of the alphabet occur in the dataset (which is not really surprising) and we also extracted the special characters `\"\"` and `'`. Note that we did not exclude those special characters because:\n",
        "\n",
        "The model has to learn to predict when a word is finished or else the model prediction would always be a sequence of chars which would make it impossible to separate words from each other.\n",
        "\n",
        "One should always keep in mind that pre-processing is a very important step before training your model. E.g., we don't want our model to differentiate between `a` and `A` just because we forgot to normalize the data. The difference between `a` and `A` does not depend on the \"sound\" of the letter at all, but more on grammatical rules - *e.g.* use a capitalized letter at the beginning of the sentence. So it is sensible to remove the difference between capitalized and non-capitalized letters so that the model has an easier time learning to transcribe speech."
      ]
    },
    {
      "cell_type": "markdown",
      "metadata": {
        "id": "b1fBRCn-TRaO"
      },
      "source": [
        "To make it clearer that `\" \"` has its own token class, we give it a more visible character `|`. In addition, we also add an \"unknown\" token so that the model can later deal with characters not encountered in Common Voice's training set."
      ]
    },
    {
      "cell_type": "code",
      "metadata": {
        "id": "npbIbBoLgaFX"
      },
      "source": [
        "vocab_dict[\"|\"] = vocab_dict[\" \"]\n",
        "del vocab_dict[\" \"]"
      ],
      "execution_count": null,
      "outputs": []
    },
    {
      "cell_type": "markdown",
      "metadata": {
        "id": "_9yCWg4Sd0cb"
      },
      "source": [
        "Finally, we also add a padding token that corresponds to CTC's \"*blank token*\". The \"blank token\" is a core component of the CTC algorithm. For more information, please take a look at the \"Alignment\" section [here](https://distill.pub/2017/ctc/)."
      ]
    },
    {
      "cell_type": "code",
      "metadata": {
        "colab": {
          "base_uri": "https://localhost:8080/"
        },
        "id": "znF0bNunsjbl",
        "outputId": "7ea2bcb5-b6d6-426e-b76e-35b1c0db6596"
      },
      "source": [
        "vocab_dict[\"[UNK]\"] = len(vocab_dict)\n",
        "vocab_dict[\"[PAD]\"] = len(vocab_dict)\n",
        "len(vocab_dict)"
      ],
      "execution_count": null,
      "outputs": [
        {
          "output_type": "execute_result",
          "data": {
            "text/plain": [
              "37"
            ]
          },
          "metadata": {},
          "execution_count": 86
        }
      ]
    },
    {
      "cell_type": "markdown",
      "metadata": {
        "id": "SFPGfet8U5sL"
      },
      "source": [
        "Cool, now our vocabulary is complete and consists of 37 tokens, which means that the linear layer that we will add on top of the pretrained MMS checkpoint as part of the adapter weights will have an output dimension of 37."
      ]
    },
    {
      "cell_type": "markdown",
      "source": [
        "Since a single MMS checkpoint can provide customized weights for multiple languages, the tokenizer can also consist of multiple vocabularies. Therefore, we need nest our `vocab_dict` to potentially add more languages to the vocabulary in the future. The dictionary should be nested with the name that is used for the adapter weights and that is saved in the tokenizer config under the name [`target_lang`](https://huggingface.co/docs/transformers/model_doc/wav2vec2#transformers.Wav2Vec2CTCTokenizer.target_lang).\n",
        "\n",
        "Let's use the ISO-639-3 language codes as is used for the original [**`mms-1b-all`**](https://huggingface.co/facebook/mms-1b-all) checkpoint."
      ],
      "metadata": {
        "id": "Z1UUBPixLjqK"
      }
    },
    {
      "cell_type": "code",
      "source": [
        "target_lang = \"tur\""
      ],
      "metadata": {
        "id": "T5Tr81luMPfI"
      },
      "execution_count": null,
      "outputs": []
    },
    {
      "cell_type": "markdown",
      "source": [
        "Let's define an empty dictionary to which we can append the just created vocabulary"
      ],
      "metadata": {
        "id": "pNY3xJF1f74n"
      }
    },
    {
      "cell_type": "code",
      "source": [
        "new_vocab_dict = {target_lang: vocab_dict}"
      ],
      "metadata": {
        "id": "S5XNp1T2gENV"
      },
      "execution_count": null,
      "outputs": []
    },
    {
      "cell_type": "markdown",
      "source": [
        "**Note**: In case you want to use this notebook to add a new adapter layer to *an existing model repo* use make sure to **not** create an empty, new vocab dict, but instead re-use one that already exists. To do so you should uncomment the following cells and replace `mms_adapter_repo` with a model repo id to which you want to add your adapter weights."
      ],
      "metadata": {
        "id": "uwEYeB4dfCKk"
      }
    },
    {
      "cell_type": "code",
      "source": [
        "# from transformers import Wav2Vec2CTCTokenizer\n",
        "\n",
        "# mms_adapter_repo = \"patrickvonplaten/wav2vec2-large-mms-1b-turkish-colab\"  # make sure to replace this path with a repo to which you want to add your new adapter weights\n",
        "\n",
        "# tokenizer = Wav2Vec2CTCTokenizer.from_pretrained(mms_adapter_repo)\n",
        "# new_vocab = tokenizer.vocab\n",
        "\n",
        "# new_vocab[target_lang] = vocab_dict"
      ],
      "metadata": {
        "id": "lGgSQMprfWn6"
      },
      "execution_count": null,
      "outputs": []
    },
    {
      "cell_type": "markdown",
      "metadata": {
        "id": "1CujRgBNVRaD"
      },
      "source": [
        "Let's now save the vocabulary as a json file."
      ]
    },
    {
      "cell_type": "code",
      "metadata": {
        "id": "ehyUoh9vk191"
      },
      "source": [
        "import json\n",
        "with open('vocab.json', 'w') as vocab_file:\n",
        "    json.dump(new_vocab_dict, vocab_file)"
      ],
      "execution_count": null,
      "outputs": []
    },
    {
      "cell_type": "markdown",
      "metadata": {
        "id": "SHJDaKlIVVim"
      },
      "source": [
        "In a final step, we use the json file to load the vocabulary into an instance of the `Wav2Vec2CTCTokenizer` class."
      ]
    },
    {
      "cell_type": "code",
      "metadata": {
        "colab": {
          "base_uri": "https://localhost:8080/"
        },
        "id": "xriFGEWQkO4M",
        "outputId": "af95abb7-fa96-4d82-8000-d7eec5741c8f"
      },
      "source": [
        "from transformers import Wav2Vec2CTCTokenizer\n",
        "\n",
        "tokenizer = Wav2Vec2CTCTokenizer.from_pretrained(\"./\", unk_token=\"[UNK]\", pad_token=\"[PAD]\", word_delimiter_token=\"|\", target_lang=target_lang)"
      ],
      "execution_count": null,
      "outputs": [
        {
          "output_type": "stream",
          "name": "stderr",
          "text": [
            "Special tokens have been added in the vocabulary, make sure the associated word embeddings are fine-tuned or trained.\n"
          ]
        }
      ]
    },
    {
      "cell_type": "markdown",
      "metadata": {
        "id": "KvL12DrNV4cx"
      },
      "source": [
        "If one wants to re-use the just created tokenizer with the fine-tuned model of this notebook, it is strongly advised to upload the `tokenizer` to the [🤗 Hub](https://huggingface.co/). Let's call the repo to which we will upload the files\n",
        "`\"wav2vec2-large-xlsr-turkish-demo-colab\"`:"
      ]
    },
    {
      "cell_type": "code",
      "metadata": {
        "id": "A1XApZBAF2zr"
      },
      "source": [
        "repo_name = \"wav2vec2-large-mms-1b-turkish-colab\""
      ],
      "execution_count": null,
      "outputs": []
    },
    {
      "cell_type": "markdown",
      "metadata": {
        "id": "B1BiezWZF16d"
      },
      "source": [
        "and upload the tokenizer to the [🤗 Hub](https://huggingface.co/)."
      ]
    },
    {
      "cell_type": "code",
      "metadata": {
        "colab": {
          "base_uri": "https://localhost:8080/"
        },
        "id": "zytE1175GAKM",
        "outputId": "32315d12-616f-4fc0-c5ea-d5d2e1062084"
      },
      "source": [
        "tokenizer.push_to_hub(repo_name)"
      ],
      "execution_count": null,
      "outputs": [
        {
          "output_type": "execute_result",
          "data": {
            "text/plain": [
              "CommitInfo(commit_url='https://huggingface.co/patrickvonplaten/wav2vec2-large-mms-1b-turkish-colab-test/commit/f642559b3ac455d0ed24c619cccd27916fe24197', commit_message='Upload tokenizer', commit_description='', oid='f642559b3ac455d0ed24c619cccd27916fe24197', pr_url=None, pr_revision=None, pr_num=None)"
            ]
          },
          "metadata": {},
          "execution_count": 93
        }
      ]
    },
    {
      "cell_type": "markdown",
      "metadata": {
        "id": "SwQM8lH_GGuP"
      },
      "source": [
        "Great, you can see the just created repository under `https://huggingface.co/<your-username>/wav2vec2-large-mms-1b-tr-colab`\n"
      ]
    },
    {
      "cell_type": "markdown",
      "metadata": {
        "id": "mYcIiR2FQ96i"
      },
      "source": [
        "### Create `Wav2Vec2FeatureExtractor`"
      ]
    },
    {
      "cell_type": "markdown",
      "metadata": {
        "id": "Y6mDEyW719rx"
      },
      "source": [
        "Speech is a continuous signal and to be treated by computers, it first has to be discretized, which is usually called **sampling**. The sampling rate hereby plays an important role in that it defines how many data points of the speech signal are measured per second. Therefore, sampling with a higher sampling rate results in a better approximation of the *real* speech signal but also necessitates more values per second.\n",
        "\n",
        "A pretrained checkpoint expects its input data to have been sampled more or less from the same distribution as the data it was trained on. The same speech signals sampled at two different rates have a very different distribution, *e.g.*, doubling the sampling rate results in data points being twice as long. Thus,\n",
        "before fine-tuning a pretrained checkpoint of an ASR model, it is crucial to verify that the sampling rate of the data that was used to pretrain the model matches the sampling rate of the dataset used to fine-tune the model.\n",
        "\n",
        "MMS was pre-trained at a sampling rate of 16kHz. Common Voice, in its original form, has a sampling rate of 48kHz, thus we will have to downsample the fine-tuning data to 16kHz in the following.\n",
        "\n"
      ]
    },
    {
      "cell_type": "markdown",
      "metadata": {
        "id": "KuUbPW7oV-B5"
      },
      "source": [
        "A `Wav2Vec2FeatureExtractor` object requires the following parameters to be instantiated:\n",
        "\n",
        "- `feature_size`: Speech models take a sequence of feature vectors as an input. While the length of this sequence obviously varies, the feature size should not. In the case of Wav2Vec2, the feature size is 1 because the model was trained on the raw speech signal ${}^2$.\n",
        "- `sampling_rate`: The sampling rate at which the model is trained on.\n",
        "- `padding_value`: For batched inference, shorter inputs need to be padded with a specific value\n",
        "- `do_normalize`: Whether the input should be *zero-mean-unit-variance* normalized or not. Usually, speech models perform better when normalizing the input\n",
        "- `return_attention_mask`: Whether the model should make use of an `attention_mask` for batched inference. In general, XLS-R models checkpoints should **always** use the `attention_mask`."
      ]
    },
    {
      "cell_type": "code",
      "metadata": {
        "id": "kAR0-2KLkopp"
      },
      "source": [
        "from transformers import Wav2Vec2FeatureExtractor\n",
        "\n",
        "feature_extractor = Wav2Vec2FeatureExtractor(feature_size=1, sampling_rate=16000, padding_value=0.0, do_normalize=True, return_attention_mask=True)"
      ],
      "execution_count": null,
      "outputs": []
    },
    {
      "cell_type": "markdown",
      "metadata": {
        "id": "qUETetgqYC3W"
      },
      "source": [
        "Great, MMS's feature extraction pipeline is thereby fully defined!\n",
        "\n",
        "For improved user-friendliness, the feature extractor and tokenizer are *wrapped* into a single `Wav2Vec2Processor` class so that one only needs a `model` and `processor` object."
      ]
    },
    {
      "cell_type": "code",
      "metadata": {
        "id": "KYZtoW-tlZgl"
      },
      "source": [
        "from transformers import Wav2Vec2Processor\n",
        "\n",
        "processor = Wav2Vec2Processor(feature_extractor=feature_extractor, tokenizer=tokenizer)"
      ],
      "execution_count": null,
      "outputs": []
    },
    {
      "cell_type": "markdown",
      "metadata": {
        "id": "DrKnYuvDIoOO"
      },
      "source": [
        "Next, we can prepare the dataset."
      ]
    },
    {
      "cell_type": "markdown",
      "metadata": {
        "id": "YFmShnl7RE35"
      },
      "source": [
        "### Preprocess Data\n",
        "\n",
        "So far, we have not looked at the actual values of the speech signal but just the transcription. In addition to `sentence`, our datasets include two more column names `path` and `audio`. `path` states the absolute path of the audio file. Let's take a look.\n"
      ]
    },
    {
      "cell_type": "code",
      "metadata": {
        "colab": {
          "base_uri": "https://localhost:8080/",
          "height": 35
        },
        "id": "TTCS7W6XJ9BG",
        "outputId": "03131bfa-4b5e-4563-d59d-217b1340d513"
      },
      "source": [
        "common_voice_train[0][\"path\"]"
      ],
      "execution_count": null,
      "outputs": [
        {
          "output_type": "execute_result",
          "data": {
            "text/plain": [
              "'/root/.cache/huggingface/datasets/downloads/extracted/71ba9bd154da9d8c769b736301417178729d2b87b9e00cda59f6450f742ed778/cv-corpus-6.1-2020-12-11/tr/clips/common_voice_tr_17346025.mp3'"
            ],
            "application/vnd.google.colaboratory.intrinsic+json": {
              "type": "string"
            }
          },
          "metadata": {},
          "execution_count": 96
        }
      ]
    },
    {
      "cell_type": "markdown",
      "metadata": {
        "id": "T6ndIjHGFp0W"
      },
      "source": [
        "MMS expects the input in the format of a 1-dimensional array of 16 kHz. This means that the audio file has to be loaded and resampled.\n",
        "\n",
        " Thankfully, `datasets` does this automatically by calling the other column `audio`. Let try it out."
      ]
    },
    {
      "cell_type": "code",
      "metadata": {
        "colab": {
          "base_uri": "https://localhost:8080/"
        },
        "id": "qj_z5Zc3GAs9",
        "outputId": "0e8d38b8-f199-4788-9461-eb437e444ea9"
      },
      "source": [
        "common_voice_train[0][\"audio\"]"
      ],
      "execution_count": null,
      "outputs": [
        {
          "output_type": "execute_result",
          "data": {
            "text/plain": [
              "{'path': '/root/.cache/huggingface/datasets/downloads/extracted/71ba9bd154da9d8c769b736301417178729d2b87b9e00cda59f6450f742ed778/cv-corpus-6.1-2020-12-11/tr/clips/common_voice_tr_17346025.mp3',\n",
              " 'array': array([ 0.00000000e+00, -2.98378618e-13, -1.59835903e-13, ...,\n",
              "        -2.01663317e-12, -1.87991593e-12, -1.17969588e-12]),\n",
              " 'sampling_rate': 48000}"
            ]
          },
          "metadata": {},
          "execution_count": 97
        }
      ]
    },
    {
      "cell_type": "markdown",
      "metadata": {
        "id": "WUUTgI1bGHW-"
      },
      "source": [
        "In the example above we can see that the audio data is loaded with a sampling rate of 48kHz whereas 16kHz are expected by the model. We can set the audio feature to the correct sampling rate by making use of [`cast_column`](https://huggingface.co/docs/datasets/package_reference/main_classes.html?highlight=cast_column#datasets.DatasetDict.cast_column):"
      ]
    },
    {
      "cell_type": "code",
      "metadata": {
        "id": "rrv65aj7G95i"
      },
      "source": [
        "common_voice_train = common_voice_train.cast_column(\"audio\", Audio(sampling_rate=16_000))\n",
        "common_voice_test = common_voice_test.cast_column(\"audio\", Audio(sampling_rate=16_000))"
      ],
      "execution_count": null,
      "outputs": []
    },
    {
      "cell_type": "markdown",
      "metadata": {
        "id": "PcnO4x-NGBEi"
      },
      "source": [
        "Let's take a look at `\"audio\"` again."
      ]
    },
    {
      "cell_type": "code",
      "metadata": {
        "colab": {
          "base_uri": "https://localhost:8080/"
        },
        "id": "aKtkc1o_HWHC",
        "outputId": "657a2e48-b269-4dbc-b071-78f53f759c2b"
      },
      "source": [
        "common_voice_train[0][\"audio\"]"
      ],
      "execution_count": null,
      "outputs": [
        {
          "output_type": "execute_result",
          "data": {
            "text/plain": [
              "{'path': '/root/.cache/huggingface/datasets/downloads/extracted/71ba9bd154da9d8c769b736301417178729d2b87b9e00cda59f6450f742ed778/cv-corpus-6.1-2020-12-11/tr/clips/common_voice_tr_17346025.mp3',\n",
              " 'array': array([ 9.09494702e-13, -6.13908924e-12, -1.09139364e-11, ...,\n",
              "         1.81898940e-12,  4.54747351e-13,  3.63797881e-12]),\n",
              " 'sampling_rate': 16000}"
            ]
          },
          "metadata": {},
          "execution_count": 99
        }
      ]
    },
    {
      "cell_type": "markdown",
      "metadata": {
        "id": "SOckzFd4Mbzq"
      },
      "source": [
        "This seemed to have worked! Let's listen to a couple of audio files to better understand the dataset and verify that the audio was correctly loaded.\n",
        "\n",
        "**Note**: *You can click the following cell a couple of times to listen to different speech samples.*"
      ]
    },
    {
      "cell_type": "code",
      "metadata": {
        "colab": {
          "base_uri": "https://localhost:8080/",
          "height": 93
        },
        "id": "dueM6U7Ev0OA",
        "outputId": "aab18683-295c-40bf-ae1e-8d7398779bc6"
      },
      "source": [
        "import IPython.display as ipd\n",
        "import numpy as np\n",
        "import random\n",
        "\n",
        "rand_int = random.randint(0, len(common_voice_train)-1)\n",
        "\n",
        "print(common_voice_train[rand_int][\"sentence\"])\n",
        "ipd.Audio(data=common_voice_train[rand_int][\"audio\"][\"array\"], autoplay=True, rate=16000)"
      ],
      "execution_count": null,
      "outputs": [
        {
          "output_type": "stream",
          "name": "stdout",
          "text": [
            "fabrikanın yedi yüz kişiye iş sağlaması bekleniyor\n"
          ]
        },
        {
          "output_type": "execute_result",
          "data": {
            "text/plain": [
              "<IPython.lib.display.Audio object>"
            ],
            "text/html": [
              "\n",
              "                <audio  controls=\"controls\" autoplay=\"autoplay\">\n",
              "                    <source src=\"data:audio/wav;base64,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\" type=\"audio/wav\" />\n",
              "                    Your browser does not support the audio element.\n",
              "                </audio>\n",
              "              "
            ]
          },
          "metadata": {},
          "execution_count": 100
        }
      ]
    },
    {
      "cell_type": "markdown",
      "metadata": {
        "id": "gY8m3vARHYTa"
      },
      "source": [
        "It seems like the data is now correctly loaded and resampled."
      ]
    },
    {
      "cell_type": "markdown",
      "metadata": {
        "id": "1MaL9J2dNVtG"
      },
      "source": [
        "It can be heard, that the speakers change along with their speaking rate, accent, and background environment, etc. Overall, the recordings sound acceptably clear though, which is to be expected from a crowd-sourced read speech corpus.\n",
        "\n",
        "Let's do a final check that the data is correctly prepared, by printing the shape of the speech input, its transcription, and the corresponding sampling rate.\n",
        "\n",
        "**Note**: *You can click the following cell a couple of times to verify multiple samples.*"
      ]
    },
    {
      "cell_type": "code",
      "metadata": {
        "colab": {
          "base_uri": "https://localhost:8080/"
        },
        "id": "1Po2g7YPuRTx",
        "outputId": "05dd189c-1f8c-4b34-c777-8b716452607b"
      },
      "source": [
        "rand_int = random.randint(0, len(common_voice_train)-1)\n",
        "\n",
        "print(\"Target text:\", common_voice_train[rand_int][\"sentence\"])\n",
        "print(\"Input array shape:\", common_voice_train[rand_int][\"audio\"][\"array\"].shape)\n",
        "print(\"Sampling rate:\", common_voice_train[rand_int][\"audio\"][\"sampling_rate\"])"
      ],
      "execution_count": null,
      "outputs": [
        {
          "output_type": "stream",
          "name": "stdout",
          "text": [
            "Target text: bu çok açıktı\n",
            "Input array shape: (30720,)\n",
            "Sampling rate: 16000\n"
          ]
        }
      ]
    },
    {
      "cell_type": "markdown",
      "metadata": {
        "id": "M9teZcSwOBJ4"
      },
      "source": [
        "Good! Everything looks fine - the data is a 1-dimensional array, the sampling rate always corresponds to 16kHz, and the target text is normalized."
      ]
    },
    {
      "cell_type": "markdown",
      "metadata": {
        "id": "k3Pbn5WvOYZF"
      },
      "source": [
        "Finally, we can leverage `Wav2Vec2Processor` to process the data to the format expected by `Wav2Vec2ForCTC` for training. To do so let's make use of Dataset's [`map(...)`](https://huggingface.co/docs/datasets/package_reference/main_classes.html?highlight=map#datasets.DatasetDict.map) function.\n",
        "\n",
        "First, we load and resample the audio data, simply by calling `batch[\"audio\"]`.\n",
        "Second, we extract the `input_values` from the loaded audio file. In our case, the `Wav2Vec2Processor` only normalizes the data. For other speech models, however, this step can include more complex feature extraction, such as [Log-Mel feature extraction](https://en.wikipedia.org/wiki/Mel-frequency_cepstrum).\n",
        "Third, we encode the transcriptions to label ids."
      ]
    },
    {
      "cell_type": "code",
      "metadata": {
        "id": "eJY7I0XAwe9p"
      },
      "source": [
        "def prepare_dataset(batch):\n",
        "    audio = batch[\"audio\"]\n",
        "    batch[\"input_values\"] = processor(audio[\"array\"], sampling_rate=audio[\"sampling_rate\"]).input_values[0]\n",
        "    batch[\"input_length\"] = len(batch[\"input_values\"])\n",
        "\n",
        "    batch[\"labels\"] = processor(text=batch[\"sentence\"]).input_ids\n",
        "    return batch"
      ],
      "execution_count": null,
      "outputs": []
    },
    {
      "cell_type": "markdown",
      "metadata": {
        "id": "q6Pg_WR3OGAP"
      },
      "source": [
        "Let's apply the data preparation function to all examples."
      ]
    },
    {
      "cell_type": "code",
      "metadata": {
        "colab": {
          "base_uri": "https://localhost:8080/"
        },
        "id": "-np9xYK-wl8q",
        "outputId": "8dae5929-659a-446f-98b4-37d6ec14f408"
      },
      "source": [
        "common_voice_train = common_voice_train.map(prepare_dataset, remove_columns=common_voice_train.column_names)\n",
        "common_voice_test = common_voice_test.map(prepare_dataset, remove_columns=common_voice_test.column_names)"
      ],
      "execution_count": null,
      "outputs": [
        {
          "output_type": "stream",
          "name": "stderr",
          "text": [
            "WARNING:datasets.arrow_dataset:Loading cached processed dataset at /root/.cache/huggingface/datasets/mozilla-foundation___common_voice_6_1/tr/6.1.0/f4d7854c466f5bd4908988dbd39044ec4fc634d89e0515ab0c51715c0127ffe3/cache-685475104fc5c53a.arrow\n",
            "WARNING:datasets.arrow_dataset:Loading cached processed dataset at /root/.cache/huggingface/datasets/mozilla-foundation___common_voice_6_1/tr/6.1.0/f4d7854c466f5bd4908988dbd39044ec4fc634d89e0515ab0c51715c0127ffe3/cache-46887d370a180f5a.arrow\n"
          ]
        }
      ]
    },
    {
      "cell_type": "markdown",
      "metadata": {
        "id": "nKcEWHvKI1by"
      },
      "source": [
        "**Note**: `datasets` automatically takes care of audio loading and resampling. If you wish to implement your own costumized data loading/sampling, feel free to just make use of the `\"path\"` column instead and disregard the `\"audio\"` column."
      ]
    },
    {
      "cell_type": "markdown",
      "metadata": {
        "id": "1ZWDCCKqwcfS"
      },
      "source": [
        "Awesome, now we are ready to start training!"
      ]
    },
    {
      "cell_type": "markdown",
      "metadata": {
        "id": "gYlQkKVoRUos"
      },
      "source": [
        "## Training\n",
        "\n",
        "The data is processed so that we are ready to start setting up the training pipeline. We will make use of 🤗's [Trainer](https://huggingface.co/transformers/master/main_classes/trainer.html?highlight=trainer) for which we essentially need to do the following:\n",
        "\n",
        "- Define a data collator. In contrast to most NLP models, MMS has a much larger input length than output length. *E.g.*, a sample of input length 50000 has an output length of no more than 100. Given the large input sizes, it is much more efficient to pad the training batches dynamically meaning that all training samples should only be padded to the longest sample in their batch and not the overall longest sample. Therefore, fine-tuning MMS requires a special padding data collator, which we will define below\n",
        "\n",
        "- Evaluation metric. During training, the model should be evaluated on the word error rate. We should define a `compute_metrics` function accordingly\n",
        "\n",
        "- Load a pretrained checkpoint. We need to load a pretrained checkpoint and configure it correctly for training.\n",
        "\n",
        "- Define the training configuration.\n",
        "\n",
        "After having fine-tuned the model, we will correctly evaluate it on the test data and verify that it has indeed learned to correctly transcribe speech."
      ]
    },
    {
      "cell_type": "markdown",
      "metadata": {
        "id": "Slk403unUS91"
      },
      "source": [
        "### Set-up Trainer\n",
        "\n",
        "Let's start by defining the data collator. The code for the data collator was copied from [this example](https://github.com/huggingface/transformers/blob/7e61d56a45c19284cfda0cee8995fb552f6b1f4e/examples/pytorch/speech-recognition/run_speech_recognition_ctc.py#L219).\n",
        "\n",
        "Without going into too many details, in contrast to the common data collators, this data collator treats the `input_values` and `labels` differently and thus applies to separate padding functions on them (again making use of MMS processor's context manager). This is necessary because in speech input and output are of different modalities meaning that they should not be treated by the same padding function.\n",
        "Analogous to the common data collators, the padding tokens in the labels with `-100` so that those tokens are **not** taken into account when computing the loss."
      ]
    },
    {
      "cell_type": "code",
      "metadata": {
        "id": "tborvC9hx88e"
      },
      "source": [
        "import torch\n",
        "\n",
        "from dataclasses import dataclass, field\n",
        "from typing import Any, Dict, List, Optional, Union\n",
        "\n",
        "@dataclass\n",
        "class DataCollatorCTCWithPadding:\n",
        "    \"\"\"\n",
        "    Data collator that will dynamically pad the inputs received.\n",
        "    Args:\n",
        "        processor (:class:`~transformers.Wav2Vec2Processor`)\n",
        "            The processor used for proccessing the data.\n",
        "        padding (:obj:`bool`, :obj:`str` or :class:`~transformers.tokenization_utils_base.PaddingStrategy`, `optional`, defaults to :obj:`True`):\n",
        "            Select a strategy to pad the returned sequences (according to the model's padding side and padding index)\n",
        "            among:\n",
        "            * :obj:`True` or :obj:`'longest'`: Pad to the longest sequence in the batch (or no padding if only a single\n",
        "              sequence if provided).\n",
        "            * :obj:`'max_length'`: Pad to a maximum length specified with the argument :obj:`max_length` or to the\n",
        "              maximum acceptable input length for the model if that argument is not provided.\n",
        "            * :obj:`False` or :obj:`'do_not_pad'` (default): No padding (i.e., can output a batch with sequences of\n",
        "              different lengths).\n",
        "    \"\"\"\n",
        "\n",
        "    processor: Wav2Vec2Processor\n",
        "    padding: Union[bool, str] = True\n",
        "\n",
        "    def __call__(self, features: List[Dict[str, Union[List[int], torch.Tensor]]]) -> Dict[str, torch.Tensor]:\n",
        "        # split inputs and labels since they have to be of different lenghts and need\n",
        "        # different padding methods\n",
        "        input_features = [{\"input_values\": feature[\"input_values\"]} for feature in features]\n",
        "        label_features = [{\"input_ids\": feature[\"labels\"]} for feature in features]\n",
        "\n",
        "        batch = self.processor.pad(\n",
        "            input_features,\n",
        "            padding=self.padding,\n",
        "            return_tensors=\"pt\",\n",
        "        )\n",
        "        labels_batch = self.processor.pad(\n",
        "            labels=label_features,\n",
        "            padding=self.padding,\n",
        "            return_tensors=\"pt\",\n",
        "        )\n",
        "\n",
        "        # replace padding with -100 to ignore loss correctly\n",
        "        labels = labels_batch[\"input_ids\"].masked_fill(labels_batch.attention_mask.ne(1), -100)\n",
        "\n",
        "        batch[\"labels\"] = labels\n",
        "\n",
        "        return batch"
      ],
      "execution_count": null,
      "outputs": []
    },
    {
      "cell_type": "code",
      "metadata": {
        "id": "lbQf5GuZyQ4_"
      },
      "source": [
        "data_collator = DataCollatorCTCWithPadding(processor=processor, padding=True)"
      ],
      "execution_count": null,
      "outputs": []
    },
    {
      "cell_type": "markdown",
      "metadata": {
        "id": "xO-Zdj-5cxXp"
      },
      "source": [
        "Next, the evaluation metric is defined. As mentioned earlier, the\n",
        "predominant metric in ASR is the word error rate (WER), hence we will use it in this notebook as well."
      ]
    },
    {
      "cell_type": "code",
      "metadata": {
        "id": "9Xsux2gmyXso"
      },
      "source": [
        "from evaluate import load\n",
        "\n",
        "wer_metric = load(\"wer\")"
      ],
      "execution_count": null,
      "outputs": []
    },
    {
      "cell_type": "markdown",
      "metadata": {
        "id": "E1qZU5p-deqB"
      },
      "source": [
        "The model will return a sequence of logit vectors:\n",
        "$\\mathbf{y}_1, \\ldots, \\mathbf{y}_m$ with $\\mathbf{y}_1 = f_{\\theta}(x_1, \\ldots, x_n)[0]$ and $n >> m$.\n",
        "\n",
        "A logit vector $\\mathbf{y}_1$ contains the log-odds for each word in the vocabulary we defined earlier, thus $\\text{len}(\\mathbf{y}_i) =$ `config.vocab_size`. We are interested in the most likely prediction of the model and thus take the `argmax(...)` of the logits. Also, we transform the encoded labels back to the original string by replacing `-100` with the `pad_token_id` and decoding the ids while making sure that consecutive tokens are **not** grouped to the same token in CTC style ${}^1$."
      ]
    },
    {
      "cell_type": "code",
      "metadata": {
        "id": "1XZ-kjweyTy_"
      },
      "source": [
        "def compute_metrics(pred):\n",
        "    pred_logits = pred.predictions\n",
        "    pred_ids = np.argmax(pred_logits, axis=-1)\n",
        "\n",
        "    pred.label_ids[pred.label_ids == -100] = processor.tokenizer.pad_token_id\n",
        "\n",
        "    pred_str = processor.batch_decode(pred_ids)\n",
        "    # we do not want to group tokens when computing the metrics\n",
        "    label_str = processor.batch_decode(pred.label_ids, group_tokens=False)\n",
        "\n",
        "    wer = wer_metric.compute(predictions=pred_str, references=label_str)\n",
        "\n",
        "    return {\"wer\": wer}"
      ],
      "execution_count": null,
      "outputs": []
    },
    {
      "cell_type": "markdown",
      "metadata": {
        "id": "Xmgrx4bRwLIH"
      },
      "source": [
        "Now, we can load the pretrained checkpoint of [**`mms-all-1b`**](https://huggingface.co/facebook/mms-1b-all). The tokenizer's `pad_token_id` must be to define the model's `pad_token_id` or in the case of `Wav2Vec2ForCTC` also CTC's *blank token* ${}^2$.\n",
        "\n",
        "Since, we're only training a small subset of weights, the model is not prone to overfitting. Therefore, we make sure to disable all dropout layers.\n",
        "\n",
        "**Note**: When using this notebook to train MMS on another language of Common Voice those hyper-parameter settings might not work very well. Feel free to adapt those depending on your use case."
      ]
    },
    {
      "cell_type": "code",
      "metadata": {
        "colab": {
          "base_uri": "https://localhost:8080/"
        },
        "id": "e7cqAWIayn6w",
        "outputId": "560c5566-7411-4d0a-ea58-f394c39e1f59"
      },
      "source": [
        "from transformers import Wav2Vec2ForCTC\n",
        "\n",
        "model = Wav2Vec2ForCTC.from_pretrained(\n",
        "    \"facebook/mms-1b-all\",\n",
        "    attention_dropout=0.0,\n",
        "    hidden_dropout=0.0,\n",
        "    feat_proj_dropout=0.0,\n",
        "    layerdrop=0.0,\n",
        "    ctc_loss_reduction=\"mean\",\n",
        "    pad_token_id=processor.tokenizer.pad_token_id,\n",
        "    vocab_size=len(processor.tokenizer),\n",
        "    ignore_mismatched_sizes=True,\n",
        ")"
      ],
      "execution_count": null,
      "outputs": [
        {
          "output_type": "stream",
          "name": "stderr",
          "text": [
            "Some weights of Wav2Vec2ForCTC were not initialized from the model checkpoint at facebook/mms-1b-all and are newly initialized because the shapes did not match:\n",
            "- lm_head.bias: found shape torch.Size([154]) in the checkpoint and torch.Size([39]) in the model instantiated\n",
            "- lm_head.weight: found shape torch.Size([154, 1280]) in the checkpoint and torch.Size([39, 1280]) in the model instantiated\n",
            "You should probably TRAIN this model on a down-stream task to be able to use it for predictions and inference.\n"
          ]
        }
      ]
    },
    {
      "cell_type": "markdown",
      "metadata": {
        "id": "1DwR3XLSzGDD"
      },
      "source": [
        "**Note**: It is expected that some weights are newly initialized. Those weights correspond to the newly initilaized vocabulary output layer.\n",
        "\n",
        "We now want to make sure that only the adapter weights will be trained and that the rest of the model stays frozen.\n",
        "\n",
        "First, we re-initialize all the adapter weights which can be done with the handy `init_adapter_layers` method. It is also possible to not re-initilize the adapter weights and continue fine-tuning, but in this case one should make sure to load fitting adapter weights via the [`load_adapter(...)` method](https://huggingface.co/docs/transformers/main/en/model_doc/wav2vec2#transformers.Wav2Vec2ForCTC.load_adapter) before training. Often the vocabulary still will not match the custom training data very well though, so it's usually easier to just re-initialize all adapter layers so that they can be easily fine-tuned."
      ]
    },
    {
      "cell_type": "code",
      "source": [
        "model.init_adapter_layers()"
      ],
      "metadata": {
        "id": "3LcbD4PGP6CG"
      },
      "execution_count": null,
      "outputs": []
    },
    {
      "cell_type": "markdown",
      "source": [
        "Next, we freeze all weights, **but** the adapter layers."
      ],
      "metadata": {
        "id": "xl8Y-njRQgrs"
      }
    },
    {
      "cell_type": "code",
      "metadata": {
        "id": "oGI8zObtZ3V0"
      },
      "source": [
        "model.freeze_base_model()\n",
        "\n",
        "adapter_weights = model._get_adapters()\n",
        "for param in adapter_weights.values():\n",
        "    param.requires_grad = True"
      ],
      "execution_count": null,
      "outputs": []
    },
    {
      "cell_type": "markdown",
      "metadata": {
        "id": "lD4aGhQM0K-D"
      },
      "source": [
        "In a final step, we define all parameters related to training.\n",
        "To give more explanation on some of the parameters:\n",
        "- `group_by_length` makes training more efficient by grouping training samples of similar input length into one batch. This can significantly speed up training time by heavily reducing the overall number of useless padding tokens that are passed through the model\n",
        "- `learning_rate` was chosen to be 1e-3 which is a common default value for training with Adam. Other learning rates might work equally well.\n",
        "\n",
        "For more explanations on other parameters, one can take a look at the [docs](https://huggingface.co/transformers/master/main_classes/trainer.html?highlight=trainer#trainingarguments).\n",
        "\n",
        " To save GPU memory, we enable PyTorch's [gradient checkpointing](https://pytorch.org/docs/stable/checkpoint.html) and also set the loss reduction to \"*mean*\".\n",
        "\n",
        " MMS adapter fine-tuning converges extremely fast to very good performance, so even for a dataset as small as 4h we will only train for 4 epochs.\n",
        "\n",
        "During training, a checkpoint will be uploaded asynchronously to the hub every 200 training steps. It allows you to also play around with the demo widget even while your model is still training.\n",
        "\n",
        "**Note**: If one does not want to upload the model checkpoints to the hub, simply set `push_to_hub=False`."
      ]
    },
    {
      "cell_type": "code",
      "source": [
        "from transformers import TrainingArguments\n",
        "\n",
        "training_args = TrainingArguments(\n",
        "  output_dir=repo_name,\n",
        "  group_by_length=True,\n",
        "  per_device_train_batch_size=32,\n",
        "  evaluation_strategy=\"steps\",\n",
        "  num_train_epochs=4,\n",
        "  gradient_checkpointing=True,\n",
        "  fp16=True,\n",
        "  save_steps=200,\n",
        "  eval_steps=100,\n",
        "  logging_steps=100,\n",
        "  learning_rate=1e-3,\n",
        "  warmup_steps=100,\n",
        "  save_total_limit=2,\n",
        "  push_to_hub=True,\n",
        ")"
      ],
      "metadata": {
        "id": "Yg0mnd1lR7SC"
      },
      "execution_count": null,
      "outputs": []
    },
    {
      "cell_type": "markdown",
      "metadata": {
        "id": "OsW-WZcL1ZtN"
      },
      "source": [
        "Now, all instances can be passed to Trainer and we are ready to start training!"
      ]
    },
    {
      "cell_type": "code",
      "metadata": {
        "colab": {
          "base_uri": "https://localhost:8080/"
        },
        "id": "rY7vBmFCPFgC",
        "outputId": "4881d763-b89a-4331-dceb-8f5e1f03e818"
      },
      "source": [
        "from transformers import Trainer\n",
        "\n",
        "trainer = Trainer(\n",
        "    model=model,\n",
        "    data_collator=data_collator,\n",
        "    args=training_args,\n",
        "    compute_metrics=compute_metrics,\n",
        "    train_dataset=common_voice_train,\n",
        "    eval_dataset=common_voice_test,\n",
        "    tokenizer=processor.feature_extractor,\n",
        ")"
      ],
      "execution_count": null,
      "outputs": [
        {
          "output_type": "stream",
          "name": "stderr",
          "text": [
            "/content/wav2vec2-large-mms-1b-turkish-colab-test is already a clone of https://huggingface.co/patrickvonplaten/wav2vec2-large-mms-1b-turkish-colab-test. Make sure you pull the latest changes with `repo.git_pull()`.\n",
            "WARNING:huggingface_hub.repository:/content/wav2vec2-large-mms-1b-turkish-colab-test is already a clone of https://huggingface.co/patrickvonplaten/wav2vec2-large-mms-1b-turkish-colab-test. Make sure you pull the latest changes with `repo.git_pull()`.\n"
          ]
        }
      ]
    },
    {
      "cell_type": "markdown",
      "metadata": {
        "id": "UoXBx1JAA0DX"
      },
      "source": [
        "\n",
        "\n",
        "---\n",
        "\n",
        "${}^1$ To allow models to become independent of the speaker rate, in CTC, consecutive tokens that are identical are simply grouped as a single token. However, the encoded labels should not be grouped when decoding since they don't correspond to the predicted tokens of the model, which is why the `group_tokens=False` parameter has to be passed. If we wouldn't pass this parameter a word like `\"hello\"` would incorrectly be encoded, and decoded as `\"helo\"`.\n",
        "\n",
        "${}^2$ The blank token allows the model to predict a word, such as `\"hello\"` by forcing it to insert the blank token between the two l's. A CTC-conform prediction of `\"hello\"` of our model would be `[PAD] [PAD] \"h\" \"e\" \"e\" \"l\" \"l\" [PAD] \"l\" \"o\" \"o\" [PAD]`."
      ]
    },
    {
      "cell_type": "markdown",
      "metadata": {
        "id": "rpvZHM1xReIW"
      },
      "source": [
        "### Training"
      ]
    },
    {
      "cell_type": "markdown",
      "metadata": {
        "id": "j-3oKSzZ1hGq"
      },
      "source": [
        "Training should take less than 30 minutes depending on the GPU allocated to this notebook.\n",
        "\n",
        "In case you want to use this google colab to fine-tune your model, you should make sure that your training doesn't stop due to inactivity. A simple hack to prevent this is to paste the following code into the console of this tab (*right mouse click -> inspect -> Console tab and insert code*)."
      ]
    },
    {
      "cell_type": "markdown",
      "metadata": {
        "id": "VYYAvgkW4P0m"
      },
      "source": [
        "```javascript\n",
        "function ConnectButton(){\n",
        "    console.log(\"Connect pushed\");\n",
        "    document.querySelector(\"#top-toolbar > colab-connect-button\").shadowRoot.querySelector(\"#connect\").click()\n",
        "}\n",
        "setInterval(ConnectButton,60000);\n",
        "```"
      ]
    },
    {
      "cell_type": "markdown",
      "metadata": {
        "id": "7bGgLV2r0yvZ"
      },
      "source": [
        "Cool, let's start training!"
      ]
    },
    {
      "cell_type": "code",
      "metadata": {
        "colab": {
          "base_uri": "https://localhost:8080/",
          "height": 325
        },
        "id": "9fRr9TG5pGBl",
        "outputId": "a11a4423-8a9b-4b67-e696-6bfc12ec562a"
      },
      "source": [
        "trainer.train()"
      ],
      "execution_count": null,
      "outputs": [
        {
          "output_type": "stream",
          "name": "stderr",
          "text": [
            "/usr/local/lib/python3.10/dist-packages/transformers/optimization.py:411: FutureWarning: This implementation of AdamW is deprecated and will be removed in a future version. Use the PyTorch implementation torch.optim.AdamW instead, or set `no_deprecation_warning=True` to disable this warning\n",
            "  warnings.warn(\n"
          ]
        },
        {
          "output_type": "display_data",
          "data": {
            "text/plain": [
              "<IPython.core.display.HTML object>"
            ],
            "text/html": [
              "\n",
              "    <div>\n",
              "      \n",
              "      <progress value='436' max='436' style='width:300px; height:20px; vertical-align: middle;'></progress>\n",
              "      [436/436 23:43, Epoch 4/4]\n",
              "    </div>\n",
              "    <table border=\"1\" class=\"dataframe\">\n",
              "  <thead>\n",
              " <tr style=\"text-align: left;\">\n",
              "      <th>Step</th>\n",
              "      <th>Training Loss</th>\n",
              "      <th>Validation Loss</th>\n",
              "      <th>Wer</th>\n",
              "    </tr>\n",
              "  </thead>\n",
              "  <tbody>\n",
              "    <tr>\n",
              "      <td>100</td>\n",
              "      <td>4.598500</td>\n",
              "      <td>0.180543</td>\n",
              "      <td>0.249004</td>\n",
              "    </tr>\n",
              "    <tr>\n",
              "      <td>200</td>\n",
              "      <td>0.283900</td>\n",
              "      <td>0.165726</td>\n",
              "      <td>0.235012</td>\n",
              "    </tr>\n",
              "    <tr>\n",
              "      <td>300</td>\n",
              "      <td>0.266200</td>\n",
              "      <td>0.157942</td>\n",
              "      <td>0.227352</td>\n",
              "    </tr>\n",
              "    <tr>\n",
              "      <td>400</td>\n",
              "      <td>0.241300</td>\n",
              "      <td>0.153401</td>\n",
              "      <td>0.220406</td>\n",
              "    </tr>\n",
              "  </tbody>\n",
              "</table><p>"
            ]
          },
          "metadata": {}
        },
        {
          "output_type": "stream",
          "name": "stderr",
          "text": [
            "Several commits (2) will be pushed upstream.\n",
            "WARNING:huggingface_hub.repository:Several commits (2) will be pushed upstream.\n"
          ]
        },
        {
          "output_type": "execute_result",
          "data": {
            "text/plain": [
              "TrainOutput(global_step=436, training_loss=1.2575483672115781, metrics={'train_runtime': 1428.6751, 'train_samples_per_second': 9.738, 'train_steps_per_second': 0.305, 'total_flos': 5.380615123975965e+18, 'train_loss': 1.2575483672115781, 'epoch': 4.0})"
            ]
          },
          "metadata": {},
          "execution_count": 113
        }
      ]
    },
    {
      "cell_type": "markdown",
      "metadata": {
        "id": "a9q4mgMZplr_"
      },
      "source": [
        "The training loss and validation WER go down nicely.\n",
        "\n",
        "We see that fine-tuning adapter layers of `mms-1b-all` for just 100 steps outperforms fine-tuning the whole `xls-r-300m` checkpoint as shown [here](https://huggingface.co/blog/fine-tune-xlsr-wav2vec2#training-1) already by a large margin.\n",
        "\n",
        "From the [official paper](https://scontent-cdg4-3.xx.fbcdn.net/v/t39.8562-6/348827959_6967534189927933_6819186233244071998_n.pdf?_nc_cat=104&ccb=1-7&_nc_sid=ad8a9d&_nc_ohc=fSo3qQ7uxr0AX8EWnWl&_nc_ht=scontent-cdg4-3.xx&oh=00_AfBL34K0MAAPb0CgnthjbHfiB6pSnnwbn5esj9DZVPvyoA&oe=6495E802) and this quick comparison it becomes clear that `mms-1b-all` has a much higher capability of transfering knowledge to a low-resource language and should be preferred over `xls-r-300m`. In addition, training is also more memory-efficient as only a small subset of layers are trained."
      ]
    },
    {
      "cell_type": "markdown",
      "metadata": {
        "id": "4Ya7WEy0pd13"
      },
      "source": [
        "The adapter weights will be uploaded as part of the model checkpoint, but we also want to make sure to save them seperately so that they can easily be off- and onloaded.\n",
        "\n",
        "Let's save all the adapter layers into the training output dir so that it can be correctly uploaded to the Hub."
      ]
    },
    {
      "cell_type": "code",
      "source": [
        "from safetensors.torch import save_file as safe_save_file\n",
        "from transformers.models.wav2vec2.modeling_wav2vec2 import WAV2VEC2_ADAPTER_SAFE_FILE\n",
        "import os\n",
        "\n",
        "adapter_file = WAV2VEC2_ADAPTER_SAFE_FILE.format(target_lang)\n",
        "adapter_file = os.path.join(training_args.output_dir, adapter_file)\n",
        "\n",
        "safe_save_file(model._get_adapters(), adapter_file, metadata={\"format\": \"pt\"})"
      ],
      "metadata": {
        "id": "cMI_Q7DGdIgY"
      },
      "execution_count": null,
      "outputs": []
    },
    {
      "cell_type": "markdown",
      "source": [
        "Finally, you can upload the result of the training to the 🤗 Hub."
      ],
      "metadata": {
        "id": "uRgIquiPdkKv"
      }
    },
    {
      "cell_type": "code",
      "metadata": {
        "colab": {
          "referenced_widgets": [
            "a63c6bdb005b4ecda20f865e0eacfdf9",
            "04506028109c4adb8d4aea1d4acc77dd",
            "ad11c6489fcb4677aa434298a36dbd8d",
            "d2968a0d879240a99fa5490a23436a88",
            "79cb3df85e764311895076f9c5e454c6",
            "981e78eb6acc47a6b90a4ae7d15654ce",
            "0e2d47edeb8d4d66b037be888ee0ad4b",
            "4b6d078c2e6a45bcbca61c9d0234f384",
            "eb29399bee424f509e6f7513ab397e1b",
            "d200af835bef4af49994548af692b541",
            "8fe5fe7705e64e65b8a3a8d9e49da032",
            "82662fc18f304e48bbdc1021712c3965",
            "67399a1143e9438cbacfebc1b32e68b6",
            "e7cd61fd768349bea17e8d039b439e4f",
            "b79567f2aab84840993fbde44b754b95",
            "5cdeb21099064c57b884f1d7d0ffedce",
            "905bdcfaebe94073a976f1a82f130887",
            "b73f10eb52364707ac2bd0bc429d4b5c",
            "b69a7d01a42c4df0b57544342a1e3a60",
            "15ea67ff9ee94888b48ed96c225a3f0d",
            "9548b725391e458ba4020bed9bdc2510",
            "a7a978cb024049d8adf20810ee68c21f",
            "fc7007fc48dd456aa2442cba95c7712c",
            "4da6336005e64defae4f6a03c397f5f6",
            "26eb2429d1ae4cbba60323432acbfeb3",
            "adba957b802148ff813c13edf72bccda",
            "a51f6d57477a488597e86bc3f72c5dc9",
            "df659fc73a3e45c581c59cdfccb7ed0e",
            "10a00c6579914a4da467cec1ba99897b",
            "1854f015adeb40458270ca43f1e212d6",
            "b8ecbfbfdc74475cb9f68b317314c49d",
            "5fb1c87079394be18f84fa2b3e76170f",
            "0b85e8ad1bfe41c888d604336e5c87e7"
          ],
          "base_uri": "https://localhost:8080/",
          "height": 409
        },
        "id": "ArG1Thf6NBWm",
        "outputId": "7c2d3d24-cb02-4c2d-9440-40aba9976168"
      },
      "source": [
        "trainer.push_to_hub()"
      ],
      "execution_count": null,
      "outputs": [
        {
          "output_type": "stream",
          "name": "stderr",
          "text": [
            "Several commits (2) will be pushed upstream.\n",
            "WARNING:huggingface_hub.repository:Several commits (2) will be pushed upstream.\n",
            "The progress bars may be unreliable.\n",
            "WARNING:huggingface_hub.repository:The progress bars may be unreliable.\n"
          ]
        },
        {
          "output_type": "display_data",
          "data": {
            "text/plain": [
              "Upload file pytorch_model.bin:   0%|          | 1.00/3.59G [00:00<?, ?B/s]"
            ],
            "application/vnd.jupyter.widget-view+json": {
              "version_major": 2,
              "version_minor": 0,
              "model_id": "a63c6bdb005b4ecda20f865e0eacfdf9"
            }
          },
          "metadata": {}
        },
        {
          "output_type": "display_data",
          "data": {
            "text/plain": [
              "Upload file runs/Jun20_10-37-59_b48479e2e05c/events.out.tfevents.1687257574.b48479e2e05c.4202.3:   0%|        …"
            ],
            "application/vnd.jupyter.widget-view+json": {
              "version_major": 2,
              "version_minor": 0,
              "model_id": "82662fc18f304e48bbdc1021712c3965"
            }
          },
          "metadata": {}
        },
        {
          "output_type": "display_data",
          "data": {
            "text/plain": [
              "Upload file adapter.tur.safetensors:   0%|          | 1.00/8.43M [00:00<?, ?B/s]"
            ],
            "application/vnd.jupyter.widget-view+json": {
              "version_major": 2,
              "version_minor": 0,
              "model_id": "fc7007fc48dd456aa2442cba95c7712c"
            }
          },
          "metadata": {}
        },
        {
          "output_type": "stream",
          "name": "stderr",
          "text": [
            "To https://huggingface.co/patrickvonplaten/wav2vec2-large-mms-1b-turkish-colab-test\n",
            "   3208dbd..c8740b6  main -> main\n",
            "\n",
            "WARNING:huggingface_hub.repository:To https://huggingface.co/patrickvonplaten/wav2vec2-large-mms-1b-turkish-colab-test\n",
            "   3208dbd..c8740b6  main -> main\n",
            "\n",
            "To https://huggingface.co/patrickvonplaten/wav2vec2-large-mms-1b-turkish-colab-test\n",
            "   c8740b6..ad298a9  main -> main\n",
            "\n",
            "WARNING:huggingface_hub.repository:To https://huggingface.co/patrickvonplaten/wav2vec2-large-mms-1b-turkish-colab-test\n",
            "   c8740b6..ad298a9  main -> main\n",
            "\n"
          ]
        },
        {
          "output_type": "execute_result",
          "data": {
            "text/plain": [
              "'https://huggingface.co/patrickvonplaten/wav2vec2-large-mms-1b-turkish-colab-test/commit/c8740b6541e54660b7bafac0631d7eb4aac42bea'"
            ],
            "application/vnd.google.colaboratory.intrinsic+json": {
              "type": "string"
            }
          },
          "metadata": {},
          "execution_count": 115
        }
      ]
    },
    {
      "cell_type": "markdown",
      "source": [
        "One of the main advantage of adapter weights training is that the \"base\" model which makes up roughly 99% of the model weights is kept unchanged and only a small [2.5M adapter checkpoint](https://huggingface.co/patrickvonplaten/wav2vec2-large-mms-1b-turkish-colab/blob/main/adapter.tur.safetensors) has to be shared in order to use the trained checkpoint.\n",
        "\n",
        "This makes it extremely simply to train additional adapter layers and add them to your repository.\n",
        "\n",
        "You can do some very easily by simply re-running this script and changing the language you would like to train on to a different one, *e.g.* `swe` for Swedish. In addition, you should make sure that the vocabulary does not get completely overwritten but that the new language vocabulary is **appended** to the existing one as stated above in the commented out cells.\n",
        "\n",
        "To demonstrate how different adapter layers can be loaded, I have trained and uploaded also an adapter layer for Swedish under the iso language code `swe` as you can see [here](https://huggingface.co/patrickvonplaten/wav2vec2-large-mms-1b-turkish-colab/blob/main/adapter.swe.safetensors)"
      ],
      "metadata": {
        "id": "zh1j3PdQeEN2"
      }
    },
    {
      "cell_type": "markdown",
      "source": [
        "You can load the fine-tuned checkpoint as usual by using `from_pretrained(...)`, but you should make sure to also add a `target_lang=\"<your-lang-code>\"` to the method so that the correct adapter is loaded. Also should you set the target language correctly for your tokenizer.\n",
        "\n",
        "Let's see how we can load the Turkish checkpoint first."
      ],
      "metadata": {
        "id": "K397I_Xsd594"
      }
    },
    {
      "cell_type": "code",
      "metadata": {
        "colab": {
          "base_uri": "https://localhost:8080/",
          "height": 273,
          "referenced_widgets": [
            "d38842686eef43c5a80a63e19e4f6b53",
            "2a2e8024b2b148b1af0a0c391f329c7b",
            "3e37daa37b024011882591d40072862e",
            "f93f079a10054058993a0b2c1fd1d5c1",
            "998b14776c8743679925f0c730f0a3fe",
            "0c07e3f2b997461c885ae8450aa7f5af",
            "06e0374fc57e42c2bf0f527fa08d5222",
            "60ee3e3de33b41baae523b65331ec141",
            "8983fd0d3faf4947a45e3547a37cb5fe",
            "85d05224871e4678bcadff8a0db72a14",
            "c235c474db1d4200a29dfd6a41a19c6b",
            "acf6b1de3eac409bbeae38841ec2d243",
            "c3eb6c0dc7f9450db28ea841c6e51c2b",
            "41fce02b63614fed98ee6b71c5b274ff",
            "8e3944ece7944eb59d06ebeeae9b56ee",
            "028dc099b86d42cb83e0f8f9683a6c4e",
            "a038781f661343ec9aed0f61706e4955",
            "9dd5fcc275da489f80a50ec0dbf1fdae",
            "80920707ff4047dd9a215cd4b862e16c",
            "e6b10dcb9aeb485989570470041bdd82",
            "90015c877f954389998441b54bd20e58",
            "99ba230e28c34ebf9f0f7a3f4f1d089e",
            "1cfd672b91b849f6bd1426287a7cb319",
            "7ab60aa001d14e12a89f5f9c122fb88d",
            "ba89b77ea8f24dd1ae408e9a9e2e1a8d",
            "044b79115ea341b0af88f12501ec6138",
            "f78a920a2ce74ee184bb1b441cf4b3b6",
            "6bbfa21e7144456ba898279688736fde",
            "8e04cce84f7447ec8d8caf9b2552427c",
            "bef8bb793bd34b588df850243cfdc95a",
            "0eadce6d4c914aa18ab5e043ff94da34",
            "9b69ee2632af45eba4f200ca06159601",
            "c157f607adfb4f25907d211fc11200d4",
            "bc00e1e8309443b193ffd95079d0ea6e",
            "d699efb6dddb4ee4aeb349c0c4aa237f",
            "ae2ac08d635e4e2782165d5f7b32f183",
            "003af1b2b04544459f1951fd0488370b",
            "7e2a4e01fcd641cea9b9d93470ec8282",
            "00d2b3836e7949b4ad3b050c32eb0738",
            "8e6807a19d6446f2828ebc662629eb21",
            "177bb65e35044b4582cc2fcdf3bca19d",
            "e0ec81e0aa134c85a40c2232792dc617",
            "0ce87145e3524feeacd3de83c66eb38f",
            "e33a9da1b85b47bb9be4d25ad65e6ab9",
            "db4d2ddf4489467394d3b131be703b5d",
            "a3d2f6838cef457d94854bb1e18ab571",
            "a606ed39f8584ad381a584cb65f9f8f9",
            "858ac62413584449a9ff35cbc3f3d8b4",
            "dff7935debc14087a740e0833558c8c2",
            "2853b574bbeb40a39e74aeb56d8f9f27",
            "30c880fc4ab7455a9384203cecab0fb6",
            "6cab7ade3d0548ffa03c36c6fe4a2d5f",
            "01d896fc1d244aafb129e68e014e7762",
            "059a69eb08924256a42cc372f4497213",
            "cd5724a6ad584baba16b94679156fbd1",
            "c3b3756e14e447a18dbb0528374ebc96",
            "48e4fb0952ec43bd9337a6057805767e",
            "46465720f427494889eebd413f8f4fc7",
            "2fb38ddfc0b24b0a98391c21efa9036e",
            "e81854bdbb0f4d8998285b218cccd87f",
            "0d57ad2ae83a40a9a1ddac461b2775ee",
            "67d809cfc2454d0e9309bf7e5ac10a81",
            "f4edaa65746c40a194163185efa466c7",
            "940f163cf1e04e6a974aaa4c6ed43603",
            "8ea872d0b08e467ebe80086b5cb2c8de",
            "067c06ceb69a4bc8b72bc7a0b2395053",
            "186dadf9246c4dc3aa452d5db33bef41",
            "2551934919ba4db78604b3685254eb54",
            "37944cb373524bda98bb8cc263d26309",
            "b1305a9a78204f88b151c5ea2ace1abb",
            "3dca929e8c7b4a71b1402ad854d2c1ff",
            "f167790ce2834c0db5d3ee8b39172f42",
            "0d9b8d5711674635a5327f432c75aefe",
            "f3be09e9ac5646828c5a9dff827546f4",
            "f4e002cfce574fea83e73e4d8f88605f",
            "79e1afd0f7e54a8c89850714f3f13983",
            "9a5b0f01442048f4b18eb69246db3016",
            "994831202c704932bf4acf8694735fa1",
            "1600987291d54e4889ff88d28475868e",
            "d0404bcc64614ba19944fac983dd508e",
            "3312bec6dec34542b9a0ba1c535328a8",
            "af7c658e987d498f84f9f5c95dcccbe9",
            "0a613ebc2bdb42d9a0df3ff1911923cd",
            "51b2d45c1b34454dbbaf03cda807cd2f",
            "19c845278b0d40d4b843a872dcbef351",
            "09436b852a324e8887c33d749e053bef",
            "2975db4983b64361922693b9a79db800",
            "134cbeb172d2436a97509466ba2f5dfc"
          ]
        },
        "id": "R351I9IQp_9D",
        "outputId": "97e9ec64-b9a4-44cd-8227-23e21de32afc"
      },
      "source": [
        "model_id = \"patrickvonplaten/wav2vec2-large-mms-1b-turkish-colab\"\n",
        "\n",
        "model = Wav2Vec2ForCTC.from_pretrained(model_id, target_lang=\"tur\").to(\"cuda\")\n",
        "processor = Wav2Vec2Processor.from_pretrained(model_id)\n",
        "\n",
        "processor.tokenizer.set_target_lang(\"tur\")"
      ],
      "execution_count": null,
      "outputs": [
        {
          "output_type": "display_data",
          "data": {
            "text/plain": [
              "Downloading (…)lve/main/config.json:   0%|          | 0.00/2.05k [00:00<?, ?B/s]"
            ],
            "application/vnd.jupyter.widget-view+json": {
              "version_major": 2,
              "version_minor": 0,
              "model_id": "d38842686eef43c5a80a63e19e4f6b53"
            }
          },
          "metadata": {}
        },
        {
          "output_type": "display_data",
          "data": {
            "text/plain": [
              "Downloading pytorch_model.bin:   0%|          | 0.00/3.86G [00:00<?, ?B/s]"
            ],
            "application/vnd.jupyter.widget-view+json": {
              "version_major": 2,
              "version_minor": 0,
              "model_id": "acf6b1de3eac409bbeae38841ec2d243"
            }
          },
          "metadata": {}
        },
        {
          "output_type": "display_data",
          "data": {
            "text/plain": [
              "Downloading (…)pter.tur.safetensors:   0%|          | 0.00/8.84M [00:00<?, ?B/s]"
            ],
            "application/vnd.jupyter.widget-view+json": {
              "version_major": 2,
              "version_minor": 0,
              "model_id": "1cfd672b91b849f6bd1426287a7cb319"
            }
          },
          "metadata": {}
        },
        {
          "output_type": "display_data",
          "data": {
            "text/plain": [
              "Downloading (…)rocessor_config.json:   0%|          | 0.00/214 [00:00<?, ?B/s]"
            ],
            "application/vnd.jupyter.widget-view+json": {
              "version_major": 2,
              "version_minor": 0,
              "model_id": "bc00e1e8309443b193ffd95079d0ea6e"
            }
          },
          "metadata": {}
        },
        {
          "output_type": "display_data",
          "data": {
            "text/plain": [
              "Downloading (…)okenizer_config.json:   0%|          | 0.00/355 [00:00<?, ?B/s]"
            ],
            "application/vnd.jupyter.widget-view+json": {
              "version_major": 2,
              "version_minor": 0,
              "model_id": "db4d2ddf4489467394d3b131be703b5d"
            }
          },
          "metadata": {}
        },
        {
          "output_type": "display_data",
          "data": {
            "text/plain": [
              "Downloading (…)olve/main/vocab.json:   0%|          | 0.00/1.57k [00:00<?, ?B/s]"
            ],
            "application/vnd.jupyter.widget-view+json": {
              "version_major": 2,
              "version_minor": 0,
              "model_id": "c3b3756e14e447a18dbb0528374ebc96"
            }
          },
          "metadata": {}
        },
        {
          "output_type": "display_data",
          "data": {
            "text/plain": [
              "Downloading (…)in/added_tokens.json:   0%|          | 0.00/30.0 [00:00<?, ?B/s]"
            ],
            "application/vnd.jupyter.widget-view+json": {
              "version_major": 2,
              "version_minor": 0,
              "model_id": "186dadf9246c4dc3aa452d5db33bef41"
            }
          },
          "metadata": {}
        },
        {
          "output_type": "display_data",
          "data": {
            "text/plain": [
              "Downloading (…)cial_tokens_map.json:   0%|          | 0.00/406 [00:00<?, ?B/s]"
            ],
            "application/vnd.jupyter.widget-view+json": {
              "version_major": 2,
              "version_minor": 0,
              "model_id": "994831202c704932bf4acf8694735fa1"
            }
          },
          "metadata": {}
        }
      ]
    },
    {
      "cell_type": "markdown",
      "source": [
        "Let's check that the model can correctly transcribe Turkish"
      ],
      "metadata": {
        "id": "s_CQHW82kWHA"
      }
    },
    {
      "cell_type": "code",
      "metadata": {
        "colab": {
          "base_uri": "https://localhost:8080/",
          "height": 72,
          "referenced_widgets": [
            "5699a5c1f6ff4858a41c53f0bf260718",
            "dfe92054ad23415eaf47626908384d05",
            "5d1db3778a344a859ba48c43c8c2d45a",
            "3e5e9e5964a3485384254c9f84017124",
            "a2e4dbb71a814765963131415057eecf",
            "4bceeafcbc3d4ac58ce7f5587071a70f",
            "31d57934cd2d41d0953c1a3c5b312e13",
            "7a7777a5eb024222aa20bc4885ff339a",
            "e4dea0b8d9a04dd0b9869fd8c9561dca",
            "49d0530e8d9f4638bbbb776fa9299567",
            "ac19246e4b4f447a8cd3569c0ec237ff",
            "210e8e6370184c8ba73944d968852877",
            "49c59a943d38432ead4fd69753f7a0dd",
            "dfb8d347e92a463f904d67a5af13fe99",
            "6a599fcaaad44fc0a58b6ee6663b6aac",
            "7407f9294aee41dba0e8afbbb30d0e44",
            "b837913267ad437b9e145a07b27b090d",
            "45cd495c90294468b945795f7804c934",
            "2fdda7edde5a4bae8b054170a7582f9f",
            "e7b889a153174c76b07a26a576d7f6b1",
            "4d4a8f8eacc64dc4add0ba23c90340fa",
            "edce0154202640d392a84523bd80ef80",
            "bfd8d8f08dfa4422bcdd6adae630392c",
            "91998e8f11b7495693797c8f9ae658a1",
            "c64d9318eee94520b98e7db004a4f7cd",
            "003129971d85429fa5ee11bf3e91b448",
            "a063e6c235c14a08993f42db5db62325",
            "69a78929a4734daeb8494e455da99730",
            "cde2109d9abe4f22a6a4fa932d6948d5",
            "d140f840dec04d59bb32aa9bab2b8741",
            "24f8543be6ee4af9b9ab519d1bdb8d37",
            "01d0ff04abf14ca59316a54ebf1e6873",
            "30009bf550524ec68ba1aa0c76a02216",
            "b9ae154d85fe4f92a9820753f890dd9a",
            "6170add118684e869599d0ca9fd0c9e4",
            "66a9fdd118c74d289b7a572bc2312aff",
            "71ca15c68a684023894f8b2e2eefd9b4",
            "504a6ce7bdc64d0ca7fafb3d22ec31b1",
            "c74bd5ed3e7647ddb132dc3fd66692af",
            "6c14e0248fbe41f29be934fe60d1774e",
            "e40cb5103ea845cfae2c77c6e70b0748",
            "20edfa913d1d4ca59b9aa31ee12348ef",
            "1274b9712e5840bba5189b5ba9c06911",
            "5af693144e9e4a709e7c18ddddc48268",
            "7da0f949d1fa43ceba5bf1fb8ecbccc1",
            "bf0abd569e0a4ffbb6f81b0d857a7332",
            "ead501cbe78042e8ba1c72c02868c87b",
            "066e4a1dc5e34108b553fb54b5027b36",
            "265510d1ed16421195e5baf7f2f07bc5",
            "5ceccb059a3d45c2a0db7ad52d2bd2c2",
            "343bef4dc50f48b7ab84384483baaa8c",
            "2c3e436a6b6341c4b69bbb456a9a92a8",
            "1afa346ace4d44199b22d64fe11b83e7",
            "cd59557b486c4baeaf705a182fd13c35",
            "806a66b8a24e4ff5974f52f03f70ed52"
          ]
        },
        "id": "fe2AE-2xqKHx",
        "outputId": "902396e1-a1f2-4e13-89c7-098201f37db7"
      },
      "source": [
        "from datasets import Audio\n",
        "\n",
        "common_voice_test_tr = load_dataset(\"mozilla-foundation/common_voice_6_1\", \"tr\", data_dir=\"./cv-corpus-6.1-2020-12-11\", split=\"test\", use_auth_token=True)\n",
        "common_voice_test_tr = common_voice_test_tr.cast_column(\"audio\", Audio(sampling_rate=16_000))"
      ],
      "execution_count": null,
      "outputs": [
        {
          "output_type": "stream",
          "name": "stdout",
          "text": [
            "Downloading and preparing dataset common_voice_6_1/tr to /root/.cache/huggingface/datasets/mozilla-foundation___common_voice_6_1/tr-6d41d172407fbb8e/6.1.0/f4d7854c466f5bd4908988dbd39044ec4fc634d89e0515ab0c51715c0127ffe3...\n"
          ]
        },
        {
          "output_type": "display_data",
          "data": {
            "text/plain": [
              "Generating train split: 0 examples [00:00, ? examples/s]"
            ],
            "application/vnd.jupyter.widget-view+json": {
              "version_major": 2,
              "version_minor": 0,
              "model_id": "5699a5c1f6ff4858a41c53f0bf260718"
            }
          },
          "metadata": {}
        },
        {
          "output_type": "display_data",
          "data": {
            "text/plain": [
              "Generating test split: 0 examples [00:00, ? examples/s]"
            ],
            "application/vnd.jupyter.widget-view+json": {
              "version_major": 2,
              "version_minor": 0,
              "model_id": "210e8e6370184c8ba73944d968852877"
            }
          },
          "metadata": {}
        },
        {
          "output_type": "display_data",
          "data": {
            "text/plain": [
              "Generating validation split: 0 examples [00:00, ? examples/s]"
            ],
            "application/vnd.jupyter.widget-view+json": {
              "version_major": 2,
              "version_minor": 0,
              "model_id": "bfd8d8f08dfa4422bcdd6adae630392c"
            }
          },
          "metadata": {}
        },
        {
          "output_type": "display_data",
          "data": {
            "text/plain": [
              "Generating other split: 0 examples [00:00, ? examples/s]"
            ],
            "application/vnd.jupyter.widget-view+json": {
              "version_major": 2,
              "version_minor": 0,
              "model_id": "b9ae154d85fe4f92a9820753f890dd9a"
            }
          },
          "metadata": {}
        },
        {
          "output_type": "display_data",
          "data": {
            "text/plain": [
              "Generating invalidated split: 0 examples [00:00, ? examples/s]"
            ],
            "application/vnd.jupyter.widget-view+json": {
              "version_major": 2,
              "version_minor": 0,
              "model_id": "7da0f949d1fa43ceba5bf1fb8ecbccc1"
            }
          },
          "metadata": {}
        },
        {
          "output_type": "stream",
          "name": "stdout",
          "text": [
            "Dataset common_voice_6_1 downloaded and prepared to /root/.cache/huggingface/datasets/mozilla-foundation___common_voice_6_1/tr-6d41d172407fbb8e/6.1.0/f4d7854c466f5bd4908988dbd39044ec4fc634d89e0515ab0c51715c0127ffe3. Subsequent calls will reuse this data.\n"
          ]
        }
      ]
    },
    {
      "cell_type": "markdown",
      "source": [
        "Let's process the audio, run a forward pass and predict the ids"
      ],
      "metadata": {
        "id": "qD2v7KT6kurE"
      }
    },
    {
      "cell_type": "code",
      "metadata": {
        "id": "pax07TnL3WZn"
      },
      "source": [
        "input_dict = processor(common_voice_test_tr[0][\"audio\"][\"array\"], sampling_rate=16_000, return_tensors=\"pt\", padding=True)\n",
        "\n",
        "logits = model(input_dict.input_values.to(\"cuda\")).logits\n",
        "\n",
        "pred_ids = torch.argmax(logits, dim=-1)[0]"
      ],
      "execution_count": null,
      "outputs": []
    },
    {
      "cell_type": "markdown",
      "metadata": {
        "id": "epu8kCQZ3h70"
      },
      "source": [
        "\n",
        "Finally, we can decode the example."
      ]
    },
    {
      "cell_type": "code",
      "metadata": {
        "colab": {
          "base_uri": "https://localhost:8080/"
        },
        "id": "K4xWqmk_qMn0",
        "outputId": "376d5e8c-7ee1-43df-d65b-37c5936bbbcd"
      },
      "source": [
        "print(\"Prediction:\")\n",
        "print(processor.decode(pred_ids))\n",
        "\n",
        "print(\"\\nReference:\")\n",
        "print(common_voice_test_tr[0][\"sentence\"].lower())"
      ],
      "execution_count": null,
      "outputs": [
        {
          "output_type": "stream",
          "name": "stdout",
          "text": [
            "Prediction:\n",
            "pekçoğuda roman toplumundan geliyor\n",
            "\n",
            "Reference:\n",
            "pek çoğu da roman toplumundan geliyor.\n"
          ]
        }
      ]
    },
    {
      "cell_type": "markdown",
      "metadata": {
        "id": "HwhyoMml3oOT"
      },
      "source": [
        "This looks like it's almost exactly right, just two empty spaces should have been added in the first word."
      ]
    },
    {
      "cell_type": "markdown",
      "source": [
        "Now it is very simple to change the adapter to Swedish by calling [`model.load_adapter(...)`](mozilla-foundation/common_voice_6_1) and by changing the tokenizer to Swedish as well."
      ],
      "metadata": {
        "id": "2RhVgZEZlATe"
      }
    },
    {
      "cell_type": "code",
      "source": [
        "model.load_adapter(\"swe\")\n",
        "\n",
        "processor.tokenizer.set_target_lang(\"swe\")"
      ],
      "metadata": {
        "colab": {
          "base_uri": "https://localhost:8080/",
          "height": 49,
          "referenced_widgets": [
            "1b225e8ecd2e4228b29136664b1e528b",
            "4a20b1b8aa3d4040bc5a38a7ea4e9b33",
            "5f479c390a9c49f3b273fbdc58249253",
            "5cabee2642124939a5d944760fff5dd3",
            "2c625b3899c248418ed89e40931d5e1f",
            "e3248eac9bf248ebb0dd6f6742fa5cc3",
            "581cfd26e44843ee8764de1fe4758567",
            "09e2a96b05274ccc8a68bd50052c6b06",
            "70ba5e69e77c42df8b63d2a244c6ef6b",
            "b112527cd9564cc5983982e3df8b7bdc",
            "336a3bfe1e4c4b87a2d099314c7ad240"
          ]
        },
        "id": "gbSXNIKNmkVX",
        "outputId": "52c087a6-6155-45eb-ba41-80696728d00b"
      },
      "execution_count": null,
      "outputs": [
        {
          "output_type": "display_data",
          "data": {
            "text/plain": [
              "Downloading (…)pter.swe.safetensors:   0%|          | 0.00/9.02M [00:00<?, ?B/s]"
            ],
            "application/vnd.jupyter.widget-view+json": {
              "version_major": 2,
              "version_minor": 0,
              "model_id": "1b225e8ecd2e4228b29136664b1e528b"
            }
          },
          "metadata": {}
        }
      ]
    },
    {
      "cell_type": "markdown",
      "source": [
        "We again load the Swedish test set from common voice"
      ],
      "metadata": {
        "id": "4_ysA-3tllPA"
      }
    },
    {
      "cell_type": "code",
      "source": [
        "common_voice_test_swe = load_dataset(\"mozilla-foundation/common_voice_6_1\", \"sv-SE\", data_dir=\"./cv-corpus-6.1-2020-12-11\", split=\"test\", use_auth_token=True)\n",
        "common_voice_test_swe = common_voice_test_swe.cast_column(\"audio\", Audio(sampling_rate=16_000))"
      ],
      "metadata": {
        "colab": {
          "base_uri": "https://localhost:8080/",
          "height": 104,
          "referenced_widgets": [
            "2fc1765686e9479e94cf2fdab4f70181",
            "e1d369bc3dc54733b07fd84200a692ee",
            "a580b848d0704138aa90c8c88ec5c7fb",
            "6b2da9a2dd4847a98ae6eb2d8f464193",
            "00400c97b20e468ca7b9da6eb7bfbdd2",
            "da5c6e1f2be44c2c9cb1cf649f213bb4",
            "3add61f2638e4a88aa798e67078e9481",
            "2ca440f8a9354d769aea432f95fcb9ee",
            "e52b2f3ec2794083a091bf6ca6f590c9",
            "610f86e1c8a648678f577b1061e6aeb0",
            "4d593175e4da4de6a39015a81a9ccc8d",
            "281e186e09684bc8baff78ba6972ad9a",
            "b6ee312ebb4245d4abd202a8adce0402",
            "d99fb98a602847a797e6a4d1bc457a6d",
            "ac3475e5e1ff4a65a20624f1403df463",
            "02dc8e863be1483fb94fb519414e9b5d",
            "0b01911c699e46e3a92f8db8ffaa3b31",
            "21e20cd816034799b78855dca0a27864",
            "6285c4897ca340b88e70a41ca35f84c5",
            "8c06785f7b784e888bd0648599169502",
            "bad214ad527a48798da608d5fbe60264",
            "2e9af1bb9eae48f0a28c282e62935c70",
            "24710d6bd97f4713aa0b2284fad4b103",
            "e371af8f465a42a59dc023ab9243d1f5",
            "18d6a4f68ab647deb910666fdc1eed94",
            "8a067b68f240415aa8a3ca362cf1e562",
            "c7b805bb6b9d4e8f9a98e58fe72d0db1",
            "0454b74b43a8403690b9c087ead3eacf",
            "64734369305542b393f4d001bf3d2d26",
            "fecd57e617c34521913212504e8f494b",
            "e6cda61bc8f944ed8367d931de03a8d8",
            "d1a210756c0d4511835a231678600d5b",
            "5c29759c357e4db38455666b7ba5630c",
            "e9679459c00b41b6b6991ace3a4d2e2e",
            "af74c9a1f366455e97809880e3f96979",
            "4ff9864f2b204044951fd50ffc0b6958",
            "05ea159a223942b39c5b390ea13a62fd",
            "e2426d63a7b44e0ea8baf33380948744",
            "dd370faae70346d8ad5e9049748245cb",
            "38dd305e058c49a2b3fca6be1d377c66",
            "c41431044041427b873e6f4414cb06ef",
            "ed407db1c59a4ec7a5a1eed10f296dd9",
            "5315c26606ec4580804e4a409d222946",
            "688438362589493bb04dcd625d58a515",
            "e741c2bc9d544730b6c56fbb9d02447c",
            "3ca85c8abf144130812e54982e412d74",
            "356a731bd1504b338d39a6f32cf2f554",
            "76a6132b14db474bb5b8dffa376c2ed6",
            "2bd74a0b8e71420cabb54311a2549da4",
            "b62e5ecf84e843abaf00cceaf63b3c71",
            "0e08bdf41f054e3e993646bd4acda296",
            "58579550519f4f3cb5b6f64b5f72e868",
            "33653ab1305349279ebb60a3b40e5591",
            "5b14bc0283bf4e9f91af6337950ccf5e",
            "4275ade6ad154725a5060100febbd7fd",
            "e768161dee5f438f8d1d4f2f9a94e740",
            "28bd9c6e3ee94255831404ea8f61b064",
            "cbbb3d9545f84a8caafa076c3ed6a4d9",
            "ab8dc4758af54e3cbdc8e064109250be",
            "a5b398454d414bf59922a5870f3897b7",
            "461a76cb4c25450f94c3afa90388e9c4",
            "60dd7f6074794bda97b8e47e826fc4f2",
            "7948d1d23fc449b19220e9230ecb5902",
            "d05ff7381228445d868b4c54356ce5a3",
            "38d43a9a4f654b59a6f572972381d136",
            "41972c2358c742259f98a97f99a7e98a"
          ]
        },
        "id": "2cthF_RQobAh",
        "outputId": "230920ba-624b-44e6-b72a-a6dc9830d1ce"
      },
      "execution_count": null,
      "outputs": [
        {
          "output_type": "stream",
          "name": "stdout",
          "text": [
            "Downloading and preparing dataset common_voice_6_1/sv-SE to /root/.cache/huggingface/datasets/mozilla-foundation___common_voice_6_1/sv-SE-6d41d172407fbb8e/6.1.0/f4d7854c466f5bd4908988dbd39044ec4fc634d89e0515ab0c51715c0127ffe3...\n"
          ]
        },
        {
          "output_type": "display_data",
          "data": {
            "text/plain": [
              "Downloading data:   0%|          | 0.00/421M [00:00<?, ?B/s]"
            ],
            "application/vnd.jupyter.widget-view+json": {
              "version_major": 2,
              "version_minor": 0,
              "model_id": "2fc1765686e9479e94cf2fdab4f70181"
            }
          },
          "metadata": {}
        },
        {
          "output_type": "display_data",
          "data": {
            "text/plain": [
              "Generating train split: 0 examples [00:00, ? examples/s]"
            ],
            "application/vnd.jupyter.widget-view+json": {
              "version_major": 2,
              "version_minor": 0,
              "model_id": "281e186e09684bc8baff78ba6972ad9a"
            }
          },
          "metadata": {}
        },
        {
          "output_type": "display_data",
          "data": {
            "text/plain": [
              "Generating test split: 0 examples [00:00, ? examples/s]"
            ],
            "application/vnd.jupyter.widget-view+json": {
              "version_major": 2,
              "version_minor": 0,
              "model_id": "24710d6bd97f4713aa0b2284fad4b103"
            }
          },
          "metadata": {}
        },
        {
          "output_type": "display_data",
          "data": {
            "text/plain": [
              "Generating validation split: 0 examples [00:00, ? examples/s]"
            ],
            "application/vnd.jupyter.widget-view+json": {
              "version_major": 2,
              "version_minor": 0,
              "model_id": "e9679459c00b41b6b6991ace3a4d2e2e"
            }
          },
          "metadata": {}
        },
        {
          "output_type": "display_data",
          "data": {
            "text/plain": [
              "Generating other split: 0 examples [00:00, ? examples/s]"
            ],
            "application/vnd.jupyter.widget-view+json": {
              "version_major": 2,
              "version_minor": 0,
              "model_id": "e741c2bc9d544730b6c56fbb9d02447c"
            }
          },
          "metadata": {}
        },
        {
          "output_type": "display_data",
          "data": {
            "text/plain": [
              "Generating invalidated split: 0 examples [00:00, ? examples/s]"
            ],
            "application/vnd.jupyter.widget-view+json": {
              "version_major": 2,
              "version_minor": 0,
              "model_id": "e768161dee5f438f8d1d4f2f9a94e740"
            }
          },
          "metadata": {}
        },
        {
          "output_type": "stream",
          "name": "stdout",
          "text": [
            "Dataset common_voice_6_1 downloaded and prepared to /root/.cache/huggingface/datasets/mozilla-foundation___common_voice_6_1/sv-SE-6d41d172407fbb8e/6.1.0/f4d7854c466f5bd4908988dbd39044ec4fc634d89e0515ab0c51715c0127ffe3. Subsequent calls will reuse this data.\n"
          ]
        }
      ]
    },
    {
      "cell_type": "markdown",
      "source": [
        " and transcribe a sample:"
      ],
      "metadata": {
        "id": "mRfCgOy6o6V_"
      }
    },
    {
      "cell_type": "code",
      "source": [
        "input_dict = processor(common_voice_test_swe[0][\"audio\"][\"array\"], sampling_rate=16_000, return_tensors=\"pt\", padding=True)\n",
        "\n",
        "logits = model(input_dict.input_values.to(\"cuda\")).logits\n",
        "\n",
        "pred_ids = torch.argmax(logits, dim=-1)[0]\n",
        "\n",
        "print(\"Prediction:\")\n",
        "print(processor.decode(pred_ids))\n",
        "\n",
        "print(\"\\nReference:\")\n",
        "print(common_voice_test_swe[0][\"sentence\"].lower())"
      ],
      "metadata": {
        "colab": {
          "base_uri": "https://localhost:8080/"
        },
        "id": "5-bhaW_jotLh",
        "outputId": "1a782b38-df0c-4339-b9e2-6f8b2355206c"
      },
      "execution_count": null,
      "outputs": [
        {
          "output_type": "stream",
          "name": "stdout",
          "text": [
            "Prediction:\n",
            "jag lämnade grovjobbet åt honom\n",
            "\n",
            "Reference:\n",
            "jag lämnade grovjobbet åt honom.\n"
          ]
        }
      ]
    },
    {
      "cell_type": "markdown",
      "source": [
        "Great, this looks like a perfect transcription!\n",
        "\n",
        "We've shown in this blog post how MMS Adapter Weights fine-tuning not only gives state-of-the-art performance on low-resource languages, but also significantly speeds up training time and allows to easily build a collection of customized adapter weights.\n",
        "\n",
        "*Related posts and additional links are listed here:*\n",
        "- [**Official paper**](https://huggingface.co/papers/2305.13516)\n",
        "- [**Original cobebase**](https://github.com/facebookresearch/fairseq/tree/main/examples/mms/asr)\n",
        "- [**Official demo**](https://huggingface.co/spaces/facebook/MMS)\n",
        "- [**Transformers Docs**](https://huggingface.co/docs/transformers/index)\n",
        "- [**Related XLS-R blog post**](https://huggingface.co/blog/fine-tune-xlsr-wav2vec2)\n",
        "- [**Models on the Hub**](https://huggingface.co/models?other=mms)"
      ],
      "metadata": {
        "id": "HABoBg95sfYa"
      }
    }
  ]
}